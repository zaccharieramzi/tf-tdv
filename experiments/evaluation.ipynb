{
 "cells": [
  {
   "cell_type": "code",
   "execution_count": 1,
   "metadata": {},
   "outputs": [],
   "source": [
    "%load_ext autoreload\n",
    "%autoreload 2"
   ]
  },
  {
   "cell_type": "code",
   "execution_count": 2,
   "metadata": {},
   "outputs": [
    {
     "name": "stdout",
     "output_type": "stream",
     "text": [
      "env: BSD500_DATA_DIR=/media/Zaccharie/UHRes/\n"
     ]
    }
   ],
   "source": [
    "%env BSD500_DATA_DIR=/media/Zaccharie/UHRes/\n",
    "# %env CUDA_VISIBLE_DEVICES=-1"
   ]
  },
  {
   "cell_type": "code",
   "execution_count": 3,
   "metadata": {},
   "outputs": [
    {
     "name": "stdout",
     "output_type": "stream",
     "text": [
      "/volatile/home/Zaccharie/workspace/tf-tdv\n",
      "/volatile/home/Zaccharie/workspace/tf-tdv/experiments\n"
     ]
    }
   ],
   "source": [
    "%cd ..\n",
    "from tdv import TDV, TV\n",
    "%cd experiments\n",
    "from data import im_dataset_bsd500\n",
    "from unrolled_fb import UnrolledFB"
   ]
  },
  {
   "cell_type": "code",
   "execution_count": 4,
   "metadata": {},
   "outputs": [
    {
     "name": "stdout",
     "output_type": "stream",
     "text": [
      "Requirement already satisfied: tensorflow-addons in /volatile/home/Zaccharie/workspace/tf-tdv/venv/lib/python3.6/site-packages (0.11.2)\r\n",
      "Requirement already satisfied: typeguard>=2.7 in /volatile/home/Zaccharie/workspace/tf-tdv/venv/lib/python3.6/site-packages (from tensorflow-addons) (2.10.0)\r\n"
     ]
    }
   ],
   "source": [
    "!pip install tensorflow-addons"
   ]
  },
  {
   "cell_type": "code",
   "execution_count": 5,
   "metadata": {},
   "outputs": [],
   "source": [
    "%matplotlib nbagg\n",
    "import matplotlib.pyplot as plt\n",
    "import numpy as np\n",
    "import tensorflow as tf\n",
    "import tensorflow_addons as tfa\n",
    "from tensorflow_addons.callbacks import TQDMProgressBar"
   ]
  },
  {
   "cell_type": "code",
   "execution_count": 6,
   "metadata": {},
   "outputs": [],
   "source": [
    "batch_size = 1\n",
    "val_ds = im_dataset_bsd500(mode='validation', batch_size=batch_size, noise_std=(25, 25))"
   ]
  },
  {
   "cell_type": "code",
   "execution_count": 7,
   "metadata": {},
   "outputs": [],
   "source": [
    "train_ds = im_dataset_bsd500(mode='training', batch_size=batch_size, noise_std=(25, 25))"
   ]
  },
  {
   "cell_type": "code",
   "execution_count": 8,
   "metadata": {},
   "outputs": [],
   "source": [
    "model = UnrolledFB(TDV, {'n_macro': 3, 'n_filters': 32, 'activation_str': 'relu'}, init_step_size=0.0001, n_iter=10)\n",
    "model(tf.ones([1, 32, 32, 1]))\n",
    "model.load_weights('denoising_unrolled_fb_tdv_relu.h5')\n",
    "model.compile(loss='mse')"
   ]
  },
  {
   "cell_type": "code",
   "execution_count": 9,
   "metadata": {
    "scrolled": true
   },
   "outputs": [
    {
     "name": "stdout",
     "output_type": "stream",
     "text": [
      "100/100 [==============================] - 11s 106ms/step - loss: 0.0024\n"
     ]
    },
    {
     "data": {
      "text/plain": [
       "0.002367957727983594"
      ]
     },
     "execution_count": 9,
     "metadata": {},
     "output_type": "execute_result"
    }
   ],
   "source": [
    "model.evaluate(val_ds.take(100))"
   ]
  },
  {
   "cell_type": "code",
   "execution_count": 10,
   "metadata": {
    "scrolled": true
   },
   "outputs": [
    {
     "name": "stdout",
     "output_type": "stream",
     "text": [
      "50/50 [==============================] - 5s 106ms/step - loss: 0.0020\n"
     ]
    },
    {
     "data": {
      "text/plain": [
       "0.0020186614710837603"
      ]
     },
     "execution_count": 10,
     "metadata": {},
     "output_type": "execute_result"
    }
   ],
   "source": [
    "model.evaluate(train_ds.take(50))"
   ]
  },
  {
   "cell_type": "code",
   "execution_count": 11,
   "metadata": {},
   "outputs": [],
   "source": [
    "def pad_for_pool(inputs, n_pools):\n",
    "    problematic_dims = tf.shape(inputs)[1:3]\n",
    "    k = tf.math.floordiv(problematic_dims, 2 ** n_pools)\n",
    "    n_pad = tf.where(\n",
    "        tf.math.mod(problematic_dims, 2 ** n_pools) == 0,\n",
    "        0,\n",
    "        (k + 1) * 2 ** n_pools - problematic_dims,\n",
    "    )\n",
    "    left_padding = tf.where(\n",
    "        tf.logical_or(tf.math.mod(problematic_dims, 2) == 0, n_pad == 0),\n",
    "        n_pad//2,\n",
    "        n_pad//2 + 1,\n",
    "    )\n",
    "    right_padding = n_pad//2\n",
    "    paddings = [\n",
    "        (0, 0),\n",
    "        (left_padding[0], right_padding[0]),\n",
    "        (left_padding[1], right_padding[1]),\n",
    "        (0, 0),\n",
    "    ]\n",
    "    inputs_padded = tf.pad(inputs, paddings)\n",
    "    return inputs_padded, paddings\n",
    "\n",
    "class MultiScaleModel(tf.keras.models.Model):\n",
    "    def __init__(self, model, n_scales=0, **kwargs):\n",
    "        super().__init__(**kwargs)\n",
    "        self.model = model\n",
    "        self.n_scales = n_scales\n",
    "        \n",
    "    def call(self, inputs):\n",
    "        if self.n_scales > 0:\n",
    "            outputs, paddings = pad_for_pool(inputs, n_pools=self.n_scales)\n",
    "        else:\n",
    "            outputs = inputs\n",
    "        outputs = self.model(outputs)\n",
    "        if self.n_scales > 0:\n",
    "            problematic_dims = tf.shape(outputs)[1:3]\n",
    "            outputs = outputs[\n",
    "                :,\n",
    "                paddings[1][0]: problematic_dims[0] - paddings[1][1],\n",
    "                paddings[2][0]: problematic_dims[1] - paddings[2][1],\n",
    "                :,\n",
    "            ]\n",
    "        return outputs\n",
    "    \n",
    "def tf_psnr(y_true, y_pred):\n",
    "    max_pixel = tf.math.reduce_max(y_true)\n",
    "    min_pixel = tf.math.reduce_min(y_true)\n",
    "    return tf.image.psnr(y_true, y_pred, max_pixel - min_pixel)"
   ]
  },
  {
   "cell_type": "code",
   "execution_count": 12,
   "metadata": {},
   "outputs": [],
   "source": [
    "val_ds_full_size = im_dataset_bsd500(mode='validation', batch_size=batch_size, noise_std=(25, 25), patch_size=None)"
   ]
  },
  {
   "cell_type": "code",
   "execution_count": 13,
   "metadata": {},
   "outputs": [],
   "source": [
    "full_model = MultiScaleModel(model, n_scales=4)\n",
    "full_model.compile(loss='mse', metrics=[tf_psnr])"
   ]
  },
  {
   "cell_type": "code",
   "execution_count": 14,
   "metadata": {
    "scrolled": true
   },
   "outputs": [
    {
     "name": "stdout",
     "output_type": "stream",
     "text": [
      "100/100 [==============================] - 72s 716ms/step - loss: 0.0022 - tf_psnr: 26.5773\n"
     ]
    },
    {
     "data": {
      "text/plain": [
       "[0.0021508880890905857, 26.5772705078125]"
      ]
     },
     "execution_count": 14,
     "metadata": {},
     "output_type": "execute_result"
    }
   ],
   "source": [
    "full_model.evaluate(val_ds_full_size.take(100))"
   ]
  },
  {
   "cell_type": "code",
   "execution_count": null,
   "metadata": {},
   "outputs": [],
   "source": []
  }
 ],
 "metadata": {
  "kernelspec": {
   "display_name": "Python 3",
   "language": "python",
   "name": "python3"
  },
  "language_info": {
   "codemirror_mode": {
    "name": "ipython",
    "version": 3
   },
   "file_extension": ".py",
   "mimetype": "text/x-python",
   "name": "python",
   "nbconvert_exporter": "python",
   "pygments_lexer": "ipython3",
   "version": "3.6.10"
  }
 },
 "nbformat": 4,
 "nbformat_minor": 4
}
