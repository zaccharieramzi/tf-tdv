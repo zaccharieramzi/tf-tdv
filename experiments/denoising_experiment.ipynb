{
 "cells": [
  {
   "cell_type": "code",
   "execution_count": 1,
   "metadata": {},
   "outputs": [],
   "source": [
    "%load_ext autoreload\n",
    "%autoreload 2"
   ]
  },
  {
   "cell_type": "code",
   "execution_count": 2,
   "metadata": {},
   "outputs": [
    {
     "name": "stdout",
     "output_type": "stream",
     "text": [
      "env: BSD500_DATA_DIR=/home/zaccharie/workspace/understanding-unets/\n",
      "env: BSD68_DATA_DIR=/home/zaccharie/workspace/understanding-unets/\n"
     ]
    }
   ],
   "source": [
    "%env BSD500_DATA_DIR=/home/zaccharie/workspace/understanding-unets/\n",
    "%env BSD68_DATA_DIR=/home/zaccharie/workspace/understanding-unets/"
   ]
  },
  {
   "cell_type": "code",
   "execution_count": 3,
   "metadata": {},
   "outputs": [
    {
     "name": "stdout",
     "output_type": "stream",
     "text": [
      "/home/zaccharie/workspace/tf-tdv\n",
      "/home/zaccharie/workspace/tf-tdv/experiments\n"
     ]
    }
   ],
   "source": [
    "%cd ..\n",
    "from tdv import TDV, TV\n",
    "%cd experiments\n",
    "from data import im_dataset_bsd500\n",
    "from unrolled_fb import UnrolledFB"
   ]
  },
  {
   "cell_type": "code",
   "execution_count": 4,
   "metadata": {},
   "outputs": [
    {
     "name": "stdout",
     "output_type": "stream",
     "text": [
      "Requirement already satisfied: tensorflow-addons in /home/zaccharie/workspace/tf-tdv/venv/lib/python3.6/site-packages (0.11.2)\r\n",
      "Requirement already satisfied: typeguard>=2.7 in /home/zaccharie/workspace/tf-tdv/venv/lib/python3.6/site-packages (from tensorflow-addons) (2.10.0)\r\n"
     ]
    }
   ],
   "source": [
    "!pip install tensorflow-addons"
   ]
  },
  {
   "cell_type": "code",
   "execution_count": 5,
   "metadata": {},
   "outputs": [],
   "source": [
    "%matplotlib nbagg\n",
    "import matplotlib.pyplot as plt\n",
    "import numpy as np\n",
    "import tensorflow as tf\n",
    "import tensorflow_addons as tfa\n",
    "from tensorflow_addons.callbacks import TQDMProgressBar"
   ]
  },
  {
   "cell_type": "code",
   "execution_count": 6,
   "metadata": {},
   "outputs": [],
   "source": [
    "train_ds = im_dataset_bsd500(batch_size=4, noise_std=40)"
   ]
  },
  {
   "cell_type": "code",
   "execution_count": 15,
   "metadata": {},
   "outputs": [],
   "source": [
    "model = UnrolledFB(TDV, {'n_macro': 2, 'n_filters': 8, 'activation_str': 'relu'}, init_step_size=0.0001, n_iter=10)\n",
    "# model = UnrolledFB(TV, {}, init_step_size=0.0001, n_iter=20)"
   ]
  },
  {
   "cell_type": "code",
   "execution_count": 16,
   "metadata": {},
   "outputs": [],
   "source": [
    "model.compile(loss='mse', optimizer='adam')"
   ]
  },
  {
   "cell_type": "code",
   "execution_count": 17,
   "metadata": {},
   "outputs": [
    {
     "name": "stdout",
     "output_type": "stream",
     "text": [
      "CPU times: user 160 ms, sys: 6.89 ms, total: 167 ms\n",
      "Wall time: 60.6 ms\n"
     ]
    }
   ],
   "source": [
    "%%time\n",
    "data = next(iter(train_ds))"
   ]
  },
  {
   "cell_type": "code",
   "execution_count": 18,
   "metadata": {
    "scrolled": true
   },
   "outputs": [
    {
     "data": {
      "application/vnd.jupyter.widget-view+json": {
       "model_id": "e59cee1a66db47e482e842beb6281a22",
       "version_major": 2,
       "version_minor": 0
      },
      "text/plain": [
       "HBox(children=(HTML(value='Training'), FloatProgress(value=0.0, layout=Layout(flex='2'), max=3000.0), HTML(val…"
      ]
     },
     "metadata": {},
     "output_type": "display_data"
    },
    {
     "name": "stdout",
     "output_type": "stream",
     "text": [
      "Epoch 1/3000\n"
     ]
    },
    {
     "data": {
      "application/vnd.jupyter.widget-view+json": {
       "model_id": "78cf6cd4b30e466693b9bff055596545",
       "version_major": 2,
       "version_minor": 0
      },
      "text/plain": [
       "HBox(children=(HTML(value=''), FloatProgress(value=0.0, layout=Layout(flex='2'), max=1.0), HTML(value='')), la…"
      ]
     },
     "metadata": {},
     "output_type": "display_data"
    },
    {
     "name": "stdout",
     "output_type": "stream",
     "text": [
      "\n",
      "Epoch 2/3000\n"
     ]
    },
    {
     "data": {
      "application/vnd.jupyter.widget-view+json": {
       "model_id": "65ca201f285249a5a2335cbdc278e7b3",
       "version_major": 2,
       "version_minor": 0
      },
      "text/plain": [
       "HBox(children=(HTML(value=''), FloatProgress(value=0.0, layout=Layout(flex='2'), max=1.0), HTML(value='')), la…"
      ]
     },
     "metadata": {},
     "output_type": "display_data"
    },
    {
     "name": "stdout",
     "output_type": "stream",
     "text": [
      "\n",
      "Epoch 3/3000\n"
     ]
    },
    {
     "data": {
      "application/vnd.jupyter.widget-view+json": {
       "model_id": "1d091c696b844500ad558cf6575d79df",
       "version_major": 2,
       "version_minor": 0
      },
      "text/plain": [
       "HBox(children=(HTML(value=''), FloatProgress(value=0.0, layout=Layout(flex='2'), max=1.0), HTML(value='')), la…"
      ]
     },
     "metadata": {},
     "output_type": "display_data"
    },
    {
     "name": "stdout",
     "output_type": "stream",
     "text": [
      "\n",
      "Epoch 4/3000\n"
     ]
    },
    {
     "data": {
      "application/vnd.jupyter.widget-view+json": {
       "model_id": "5b6cdb7cd7cd4b1cbf53d564341610d9",
       "version_major": 2,
       "version_minor": 0
      },
      "text/plain": [
       "HBox(children=(HTML(value=''), FloatProgress(value=0.0, layout=Layout(flex='2'), max=1.0), HTML(value='')), la…"
      ]
     },
     "metadata": {},
     "output_type": "display_data"
    },
    {
     "name": "stdout",
     "output_type": "stream",
     "text": [
      "\n",
      "Epoch 5/3000\n"
     ]
    },
    {
     "data": {
      "application/vnd.jupyter.widget-view+json": {
       "model_id": "b8ee145838e640a98f5027a8fe86ae2c",
       "version_major": 2,
       "version_minor": 0
      },
      "text/plain": [
       "HBox(children=(HTML(value=''), FloatProgress(value=0.0, layout=Layout(flex='2'), max=1.0), HTML(value='')), la…"
      ]
     },
     "metadata": {},
     "output_type": "display_data"
    },
    {
     "name": "stdout",
     "output_type": "stream",
     "text": [
      "\n",
      "Epoch 6/3000\n"
     ]
    },
    {
     "data": {
      "application/vnd.jupyter.widget-view+json": {
       "model_id": "8b7f26d054cc4addaab352cbe0df4197",
       "version_major": 2,
       "version_minor": 0
      },
      "text/plain": [
       "HBox(children=(HTML(value=''), FloatProgress(value=0.0, layout=Layout(flex='2'), max=1.0), HTML(value='')), la…"
      ]
     },
     "metadata": {},
     "output_type": "display_data"
    },
    {
     "name": "stdout",
     "output_type": "stream",
     "text": [
      "\n",
      "Epoch 7/3000\n"
     ]
    },
    {
     "data": {
      "application/vnd.jupyter.widget-view+json": {
       "model_id": "cd6ae31a7678435499d486380906c3af",
       "version_major": 2,
       "version_minor": 0
      },
      "text/plain": [
       "HBox(children=(HTML(value=''), FloatProgress(value=0.0, layout=Layout(flex='2'), max=1.0), HTML(value='')), la…"
      ]
     },
     "metadata": {},
     "output_type": "display_data"
    },
    {
     "name": "stdout",
     "output_type": "stream",
     "text": [
      "\n",
      "Epoch 8/3000\n"
     ]
    },
    {
     "data": {
      "application/vnd.jupyter.widget-view+json": {
       "model_id": "526ee0382aeb4a0a91d5df5df9764e07",
       "version_major": 2,
       "version_minor": 0
      },
      "text/plain": [
       "HBox(children=(HTML(value=''), FloatProgress(value=0.0, layout=Layout(flex='2'), max=1.0), HTML(value='')), la…"
      ]
     },
     "metadata": {},
     "output_type": "display_data"
    },
    {
     "name": "stdout",
     "output_type": "stream",
     "text": [
      "\n",
      "Epoch 9/3000\n"
     ]
    },
    {
     "data": {
      "application/vnd.jupyter.widget-view+json": {
       "model_id": "5b914549bb4f4b2ab31e91fd5c0461ca",
       "version_major": 2,
       "version_minor": 0
      },
      "text/plain": [
       "HBox(children=(HTML(value=''), FloatProgress(value=0.0, layout=Layout(flex='2'), max=1.0), HTML(value='')), la…"
      ]
     },
     "metadata": {},
     "output_type": "display_data"
    },
    {
     "name": "stdout",
     "output_type": "stream",
     "text": [
      "\n",
      "Epoch 10/3000\n"
     ]
    },
    {
     "data": {
      "application/vnd.jupyter.widget-view+json": {
       "model_id": "305e1300eae34612a58cfed8ae06816f",
       "version_major": 2,
       "version_minor": 0
      },
      "text/plain": [
       "HBox(children=(HTML(value=''), FloatProgress(value=0.0, layout=Layout(flex='2'), max=1.0), HTML(value='')), la…"
      ]
     },
     "metadata": {},
     "output_type": "display_data"
    },
    {
     "name": "stdout",
     "output_type": "stream",
     "text": [
      "\n",
      "Epoch 11/3000\n"
     ]
    },
    {
     "data": {
      "application/vnd.jupyter.widget-view+json": {
       "model_id": "3ce7cbea8b564d0a9285e45561480caa",
       "version_major": 2,
       "version_minor": 0
      },
      "text/plain": [
       "HBox(children=(HTML(value=''), FloatProgress(value=0.0, layout=Layout(flex='2'), max=1.0), HTML(value='')), la…"
      ]
     },
     "metadata": {},
     "output_type": "display_data"
    },
    {
     "name": "stdout",
     "output_type": "stream",
     "text": [
      "\n",
      "Epoch 12/3000\n"
     ]
    },
    {
     "data": {
      "application/vnd.jupyter.widget-view+json": {
       "model_id": "d38d3468de9542869207e614a941da03",
       "version_major": 2,
       "version_minor": 0
      },
      "text/plain": [
       "HBox(children=(HTML(value=''), FloatProgress(value=0.0, layout=Layout(flex='2'), max=1.0), HTML(value='')), la…"
      ]
     },
     "metadata": {},
     "output_type": "display_data"
    },
    {
     "name": "stdout",
     "output_type": "stream",
     "text": [
      "\n",
      "Epoch 13/3000\n"
     ]
    },
    {
     "data": {
      "application/vnd.jupyter.widget-view+json": {
       "model_id": "7dda0517c441407698370131e4e6e174",
       "version_major": 2,
       "version_minor": 0
      },
      "text/plain": [
       "HBox(children=(HTML(value=''), FloatProgress(value=0.0, layout=Layout(flex='2'), max=1.0), HTML(value='')), la…"
      ]
     },
     "metadata": {},
     "output_type": "display_data"
    },
    {
     "name": "stdout",
     "output_type": "stream",
     "text": [
      "\n",
      "Epoch 14/3000\n"
     ]
    },
    {
     "data": {
      "application/vnd.jupyter.widget-view+json": {
       "model_id": "4b87d54d7ce5414db5381e947dee9cf9",
       "version_major": 2,
       "version_minor": 0
      },
      "text/plain": [
       "HBox(children=(HTML(value=''), FloatProgress(value=0.0, layout=Layout(flex='2'), max=1.0), HTML(value='')), la…"
      ]
     },
     "metadata": {},
     "output_type": "display_data"
    },
    {
     "name": "stdout",
     "output_type": "stream",
     "text": [
      "\n",
      "Epoch 15/3000\n"
     ]
    },
    {
     "data": {
      "application/vnd.jupyter.widget-view+json": {
       "model_id": "64c8b1cd877f4bf4a5dc5ff8e0792019",
       "version_major": 2,
       "version_minor": 0
      },
      "text/plain": [
       "HBox(children=(HTML(value=''), FloatProgress(value=0.0, layout=Layout(flex='2'), max=1.0), HTML(value='')), la…"
      ]
     },
     "metadata": {},
     "output_type": "display_data"
    },
    {
     "name": "stdout",
     "output_type": "stream",
     "text": [
      "\n",
      "Epoch 16/3000\n"
     ]
    },
    {
     "data": {
      "application/vnd.jupyter.widget-view+json": {
       "model_id": "864f1eb5465f4706a41e334be5fcb647",
       "version_major": 2,
       "version_minor": 0
      },
      "text/plain": [
       "HBox(children=(HTML(value=''), FloatProgress(value=0.0, layout=Layout(flex='2'), max=1.0), HTML(value='')), la…"
      ]
     },
     "metadata": {},
     "output_type": "display_data"
    },
    {
     "name": "stdout",
     "output_type": "stream",
     "text": [
      "\n",
      "Epoch 17/3000\n"
     ]
    },
    {
     "data": {
      "application/vnd.jupyter.widget-view+json": {
       "model_id": "b155f8555bea47d09b7c673a96bdf0af",
       "version_major": 2,
       "version_minor": 0
      },
      "text/plain": [
       "HBox(children=(HTML(value=''), FloatProgress(value=0.0, layout=Layout(flex='2'), max=1.0), HTML(value='')), la…"
      ]
     },
     "metadata": {},
     "output_type": "display_data"
    },
    {
     "name": "stdout",
     "output_type": "stream",
     "text": [
      "\n",
      "Epoch 18/3000\n"
     ]
    },
    {
     "data": {
      "application/vnd.jupyter.widget-view+json": {
       "model_id": "9651fed169344c8c8cb16ed8f8ce861c",
       "version_major": 2,
       "version_minor": 0
      },
      "text/plain": [
       "HBox(children=(HTML(value=''), FloatProgress(value=0.0, layout=Layout(flex='2'), max=1.0), HTML(value='')), la…"
      ]
     },
     "metadata": {},
     "output_type": "display_data"
    },
    {
     "name": "stdout",
     "output_type": "stream",
     "text": [
      "\n",
      "Epoch 19/3000\n"
     ]
    },
    {
     "data": {
      "application/vnd.jupyter.widget-view+json": {
       "model_id": "4e3a0f98164748b6b0f3f9009206e809",
       "version_major": 2,
       "version_minor": 0
      },
      "text/plain": [
       "HBox(children=(HTML(value=''), FloatProgress(value=0.0, layout=Layout(flex='2'), max=1.0), HTML(value='')), la…"
      ]
     },
     "metadata": {},
     "output_type": "display_data"
    },
    {
     "name": "stdout",
     "output_type": "stream",
     "text": [
      "\n",
      "Epoch 20/3000\n"
     ]
    },
    {
     "data": {
      "application/vnd.jupyter.widget-view+json": {
       "model_id": "6ced3203fdec44b083c44f005cf0acb9",
       "version_major": 2,
       "version_minor": 0
      },
      "text/plain": [
       "HBox(children=(HTML(value=''), FloatProgress(value=0.0, layout=Layout(flex='2'), max=1.0), HTML(value='')), la…"
      ]
     },
     "metadata": {},
     "output_type": "display_data"
    },
    {
     "name": "stdout",
     "output_type": "stream",
     "text": [
      "\n",
      "Epoch 21/3000\n"
     ]
    },
    {
     "data": {
      "application/vnd.jupyter.widget-view+json": {
       "model_id": "570b298fc75a47a2b08906055eee5b25",
       "version_major": 2,
       "version_minor": 0
      },
      "text/plain": [
       "HBox(children=(HTML(value=''), FloatProgress(value=0.0, layout=Layout(flex='2'), max=1.0), HTML(value='')), la…"
      ]
     },
     "metadata": {},
     "output_type": "display_data"
    },
    {
     "name": "stdout",
     "output_type": "stream",
     "text": [
      "\n",
      "Epoch 22/3000\n"
     ]
    },
    {
     "data": {
      "application/vnd.jupyter.widget-view+json": {
       "model_id": "873bfe6419fe4a23a06fb4a30736ace3",
       "version_major": 2,
       "version_minor": 0
      },
      "text/plain": [
       "HBox(children=(HTML(value=''), FloatProgress(value=0.0, layout=Layout(flex='2'), max=1.0), HTML(value='')), la…"
      ]
     },
     "metadata": {},
     "output_type": "display_data"
    },
    {
     "name": "stdout",
     "output_type": "stream",
     "text": [
      "\n",
      "Epoch 23/3000\n"
     ]
    },
    {
     "data": {
      "application/vnd.jupyter.widget-view+json": {
       "model_id": "30bc522879a94f878d3f5b5a609b9e3a",
       "version_major": 2,
       "version_minor": 0
      },
      "text/plain": [
       "HBox(children=(HTML(value=''), FloatProgress(value=0.0, layout=Layout(flex='2'), max=1.0), HTML(value='')), la…"
      ]
     },
     "metadata": {},
     "output_type": "display_data"
    },
    {
     "name": "stdout",
     "output_type": "stream",
     "text": [
      "\n",
      "Epoch 24/3000\n"
     ]
    },
    {
     "data": {
      "application/vnd.jupyter.widget-view+json": {
       "model_id": "d4031c83df7d4ed7a75bc674596b0f8a",
       "version_major": 2,
       "version_minor": 0
      },
      "text/plain": [
       "HBox(children=(HTML(value=''), FloatProgress(value=0.0, layout=Layout(flex='2'), max=1.0), HTML(value='')), la…"
      ]
     },
     "metadata": {},
     "output_type": "display_data"
    },
    {
     "name": "stdout",
     "output_type": "stream",
     "text": [
      "\n",
      "Epoch 25/3000\n"
     ]
    },
    {
     "data": {
      "application/vnd.jupyter.widget-view+json": {
       "model_id": "1e17868724bd45739c45920510f1ae45",
       "version_major": 2,
       "version_minor": 0
      },
      "text/plain": [
       "HBox(children=(HTML(value=''), FloatProgress(value=0.0, layout=Layout(flex='2'), max=1.0), HTML(value='')), la…"
      ]
     },
     "metadata": {},
     "output_type": "display_data"
    },
    {
     "name": "stdout",
     "output_type": "stream",
     "text": [
      "\n",
      "Epoch 26/3000\n"
     ]
    },
    {
     "data": {
      "application/vnd.jupyter.widget-view+json": {
       "model_id": "3c8ac079c7cb4dd796ba88127e55bc3f",
       "version_major": 2,
       "version_minor": 0
      },
      "text/plain": [
       "HBox(children=(HTML(value=''), FloatProgress(value=0.0, layout=Layout(flex='2'), max=1.0), HTML(value='')), la…"
      ]
     },
     "metadata": {},
     "output_type": "display_data"
    },
    {
     "name": "stdout",
     "output_type": "stream",
     "text": [
      "\n",
      "Epoch 27/3000\n"
     ]
    },
    {
     "data": {
      "application/vnd.jupyter.widget-view+json": {
       "model_id": "f1e81aa63c694a22b357e6dc7cc34978",
       "version_major": 2,
       "version_minor": 0
      },
      "text/plain": [
       "HBox(children=(HTML(value=''), FloatProgress(value=0.0, layout=Layout(flex='2'), max=1.0), HTML(value='')), la…"
      ]
     },
     "metadata": {},
     "output_type": "display_data"
    },
    {
     "name": "stdout",
     "output_type": "stream",
     "text": [
      "\n",
      "Epoch 28/3000\n"
     ]
    },
    {
     "data": {
      "application/vnd.jupyter.widget-view+json": {
       "model_id": "0c408d66f5ec4f6abc32a4abf027c777",
       "version_major": 2,
       "version_minor": 0
      },
      "text/plain": [
       "HBox(children=(HTML(value=''), FloatProgress(value=0.0, layout=Layout(flex='2'), max=1.0), HTML(value='')), la…"
      ]
     },
     "metadata": {},
     "output_type": "display_data"
    },
    {
     "name": "stdout",
     "output_type": "stream",
     "text": [
      "\n",
      "Epoch 29/3000\n"
     ]
    },
    {
     "data": {
      "application/vnd.jupyter.widget-view+json": {
       "model_id": "ec635649284a4588aa6b38d4d36fb7ba",
       "version_major": 2,
       "version_minor": 0
      },
      "text/plain": [
       "HBox(children=(HTML(value=''), FloatProgress(value=0.0, layout=Layout(flex='2'), max=1.0), HTML(value='')), la…"
      ]
     },
     "metadata": {},
     "output_type": "display_data"
    },
    {
     "name": "stdout",
     "output_type": "stream",
     "text": [
      "\n",
      "Epoch 30/3000\n"
     ]
    },
    {
     "data": {
      "application/vnd.jupyter.widget-view+json": {
       "model_id": "34838add34dc409bac51669639cc981f",
       "version_major": 2,
       "version_minor": 0
      },
      "text/plain": [
       "HBox(children=(HTML(value=''), FloatProgress(value=0.0, layout=Layout(flex='2'), max=1.0), HTML(value='')), la…"
      ]
     },
     "metadata": {},
     "output_type": "display_data"
    },
    {
     "name": "stdout",
     "output_type": "stream",
     "text": [
      "\n",
      "Epoch 31/3000\n"
     ]
    },
    {
     "data": {
      "application/vnd.jupyter.widget-view+json": {
       "model_id": "389fa877017d45b28e0dd4b65343289d",
       "version_major": 2,
       "version_minor": 0
      },
      "text/plain": [
       "HBox(children=(HTML(value=''), FloatProgress(value=0.0, layout=Layout(flex='2'), max=1.0), HTML(value='')), la…"
      ]
     },
     "metadata": {},
     "output_type": "display_data"
    },
    {
     "name": "stdout",
     "output_type": "stream",
     "text": [
      "\n",
      "Epoch 32/3000\n"
     ]
    },
    {
     "data": {
      "application/vnd.jupyter.widget-view+json": {
       "model_id": "86e9bab5d3a846ec8145f759b6c7431e",
       "version_major": 2,
       "version_minor": 0
      },
      "text/plain": [
       "HBox(children=(HTML(value=''), FloatProgress(value=0.0, layout=Layout(flex='2'), max=1.0), HTML(value='')), la…"
      ]
     },
     "metadata": {},
     "output_type": "display_data"
    },
    {
     "name": "stdout",
     "output_type": "stream",
     "text": [
      "\n",
      "Epoch 33/3000\n"
     ]
    },
    {
     "data": {
      "application/vnd.jupyter.widget-view+json": {
       "model_id": "0e07c4c9aede4a38ae684efcf679e52f",
       "version_major": 2,
       "version_minor": 0
      },
      "text/plain": [
       "HBox(children=(HTML(value=''), FloatProgress(value=0.0, layout=Layout(flex='2'), max=1.0), HTML(value='')), la…"
      ]
     },
     "metadata": {},
     "output_type": "display_data"
    },
    {
     "name": "stdout",
     "output_type": "stream",
     "text": [
      "\n",
      "Epoch 34/3000\n"
     ]
    },
    {
     "data": {
      "application/vnd.jupyter.widget-view+json": {
       "model_id": "221c2e40e4de446dbacc0ca6e1ae4f71",
       "version_major": 2,
       "version_minor": 0
      },
      "text/plain": [
       "HBox(children=(HTML(value=''), FloatProgress(value=0.0, layout=Layout(flex='2'), max=1.0), HTML(value='')), la…"
      ]
     },
     "metadata": {},
     "output_type": "display_data"
    },
    {
     "name": "stdout",
     "output_type": "stream",
     "text": [
      "\n",
      "Epoch 35/3000\n"
     ]
    },
    {
     "data": {
      "application/vnd.jupyter.widget-view+json": {
       "model_id": "e55cb48b13394056bc4c6c390d0a21a6",
       "version_major": 2,
       "version_minor": 0
      },
      "text/plain": [
       "HBox(children=(HTML(value=''), FloatProgress(value=0.0, layout=Layout(flex='2'), max=1.0), HTML(value='')), la…"
      ]
     },
     "metadata": {},
     "output_type": "display_data"
    },
    {
     "name": "stdout",
     "output_type": "stream",
     "text": [
      "\n",
      "Epoch 36/3000\n"
     ]
    },
    {
     "data": {
      "application/vnd.jupyter.widget-view+json": {
       "model_id": "c375021f68154ca8b6cad27e5bbb1835",
       "version_major": 2,
       "version_minor": 0
      },
      "text/plain": [
       "HBox(children=(HTML(value=''), FloatProgress(value=0.0, layout=Layout(flex='2'), max=1.0), HTML(value='')), la…"
      ]
     },
     "metadata": {},
     "output_type": "display_data"
    },
    {
     "name": "stdout",
     "output_type": "stream",
     "text": [
      "\n",
      "Epoch 37/3000\n"
     ]
    },
    {
     "data": {
      "application/vnd.jupyter.widget-view+json": {
       "model_id": "64634adfe89349f0a3cefb004786170b",
       "version_major": 2,
       "version_minor": 0
      },
      "text/plain": [
       "HBox(children=(HTML(value=''), FloatProgress(value=0.0, layout=Layout(flex='2'), max=1.0), HTML(value='')), la…"
      ]
     },
     "metadata": {},
     "output_type": "display_data"
    },
    {
     "name": "stdout",
     "output_type": "stream",
     "text": [
      "\n",
      "Epoch 38/3000\n"
     ]
    },
    {
     "data": {
      "application/vnd.jupyter.widget-view+json": {
       "model_id": "c92adb68afeb47bcb7f39418f5f88c15",
       "version_major": 2,
       "version_minor": 0
      },
      "text/plain": [
       "HBox(children=(HTML(value=''), FloatProgress(value=0.0, layout=Layout(flex='2'), max=1.0), HTML(value='')), la…"
      ]
     },
     "metadata": {},
     "output_type": "display_data"
    },
    {
     "name": "stdout",
     "output_type": "stream",
     "text": [
      "\n",
      "Epoch 39/3000\n"
     ]
    },
    {
     "data": {
      "application/vnd.jupyter.widget-view+json": {
       "model_id": "98c32b6be68f46899b60fd4c83c78824",
       "version_major": 2,
       "version_minor": 0
      },
      "text/plain": [
       "HBox(children=(HTML(value=''), FloatProgress(value=0.0, layout=Layout(flex='2'), max=1.0), HTML(value='')), la…"
      ]
     },
     "metadata": {},
     "output_type": "display_data"
    },
    {
     "name": "stdout",
     "output_type": "stream",
     "text": [
      "\n",
      "Epoch 40/3000\n"
     ]
    },
    {
     "data": {
      "application/vnd.jupyter.widget-view+json": {
       "model_id": "ec289d8ff58e4ca88d2d0e450d4ec6c3",
       "version_major": 2,
       "version_minor": 0
      },
      "text/plain": [
       "HBox(children=(HTML(value=''), FloatProgress(value=0.0, layout=Layout(flex='2'), max=1.0), HTML(value='')), la…"
      ]
     },
     "metadata": {},
     "output_type": "display_data"
    },
    {
     "name": "stdout",
     "output_type": "stream",
     "text": [
      "\n",
      "Epoch 41/3000\n"
     ]
    },
    {
     "data": {
      "application/vnd.jupyter.widget-view+json": {
       "model_id": "07c2b8dafd114ad9bafdf1a055ffbd53",
       "version_major": 2,
       "version_minor": 0
      },
      "text/plain": [
       "HBox(children=(HTML(value=''), FloatProgress(value=0.0, layout=Layout(flex='2'), max=1.0), HTML(value='')), la…"
      ]
     },
     "metadata": {},
     "output_type": "display_data"
    },
    {
     "name": "stdout",
     "output_type": "stream",
     "text": [
      "\n",
      "Epoch 42/3000\n"
     ]
    },
    {
     "data": {
      "application/vnd.jupyter.widget-view+json": {
       "model_id": "f3d18d8d7fc24e7a992cb15afa3ad2f4",
       "version_major": 2,
       "version_minor": 0
      },
      "text/plain": [
       "HBox(children=(HTML(value=''), FloatProgress(value=0.0, layout=Layout(flex='2'), max=1.0), HTML(value='')), la…"
      ]
     },
     "metadata": {},
     "output_type": "display_data"
    },
    {
     "name": "stdout",
     "output_type": "stream",
     "text": [
      "\n",
      "Epoch 43/3000\n"
     ]
    },
    {
     "data": {
      "application/vnd.jupyter.widget-view+json": {
       "model_id": "d9ff6234d9f04292b251832f127507e8",
       "version_major": 2,
       "version_minor": 0
      },
      "text/plain": [
       "HBox(children=(HTML(value=''), FloatProgress(value=0.0, layout=Layout(flex='2'), max=1.0), HTML(value='')), la…"
      ]
     },
     "metadata": {},
     "output_type": "display_data"
    },
    {
     "name": "stdout",
     "output_type": "stream",
     "text": [
      "\n",
      "Epoch 44/3000\n"
     ]
    },
    {
     "data": {
      "application/vnd.jupyter.widget-view+json": {
       "model_id": "7509621598584942b3bd010c2829b4be",
       "version_major": 2,
       "version_minor": 0
      },
      "text/plain": [
       "HBox(children=(HTML(value=''), FloatProgress(value=0.0, layout=Layout(flex='2'), max=1.0), HTML(value='')), la…"
      ]
     },
     "metadata": {},
     "output_type": "display_data"
    },
    {
     "name": "stdout",
     "output_type": "stream",
     "text": [
      "\n",
      "Epoch 45/3000\n"
     ]
    },
    {
     "data": {
      "application/vnd.jupyter.widget-view+json": {
       "model_id": "d12fa3fff89d4f63bbea7111d1dc3007",
       "version_major": 2,
       "version_minor": 0
      },
      "text/plain": [
       "HBox(children=(HTML(value=''), FloatProgress(value=0.0, layout=Layout(flex='2'), max=1.0), HTML(value='')), la…"
      ]
     },
     "metadata": {},
     "output_type": "display_data"
    },
    {
     "name": "stdout",
     "output_type": "stream",
     "text": [
      "\n",
      "Epoch 46/3000\n"
     ]
    },
    {
     "data": {
      "application/vnd.jupyter.widget-view+json": {
       "model_id": "33e7bb118d8f47dcb14aa555b78dc612",
       "version_major": 2,
       "version_minor": 0
      },
      "text/plain": [
       "HBox(children=(HTML(value=''), FloatProgress(value=0.0, layout=Layout(flex='2'), max=1.0), HTML(value='')), la…"
      ]
     },
     "metadata": {},
     "output_type": "display_data"
    },
    {
     "name": "stdout",
     "output_type": "stream",
     "text": [
      "\n",
      "Epoch 47/3000\n"
     ]
    },
    {
     "data": {
      "application/vnd.jupyter.widget-view+json": {
       "model_id": "56d9fc1544d64b0c963940a27882a64a",
       "version_major": 2,
       "version_minor": 0
      },
      "text/plain": [
       "HBox(children=(HTML(value=''), FloatProgress(value=0.0, layout=Layout(flex='2'), max=1.0), HTML(value='')), la…"
      ]
     },
     "metadata": {},
     "output_type": "display_data"
    },
    {
     "name": "stdout",
     "output_type": "stream",
     "text": [
      "\n",
      "Epoch 48/3000\n"
     ]
    },
    {
     "data": {
      "application/vnd.jupyter.widget-view+json": {
       "model_id": "962c8a049adf41fea50388b9c93f50ec",
       "version_major": 2,
       "version_minor": 0
      },
      "text/plain": [
       "HBox(children=(HTML(value=''), FloatProgress(value=0.0, layout=Layout(flex='2'), max=1.0), HTML(value='')), la…"
      ]
     },
     "metadata": {},
     "output_type": "display_data"
    },
    {
     "name": "stdout",
     "output_type": "stream",
     "text": [
      "\n",
      "Epoch 49/3000\n"
     ]
    },
    {
     "data": {
      "application/vnd.jupyter.widget-view+json": {
       "model_id": "dfb7c4440f884833a81a3e11c1d9fc7f",
       "version_major": 2,
       "version_minor": 0
      },
      "text/plain": [
       "HBox(children=(HTML(value=''), FloatProgress(value=0.0, layout=Layout(flex='2'), max=1.0), HTML(value='')), la…"
      ]
     },
     "metadata": {},
     "output_type": "display_data"
    },
    {
     "name": "stdout",
     "output_type": "stream",
     "text": [
      "\n",
      "Epoch 50/3000\n"
     ]
    },
    {
     "data": {
      "application/vnd.jupyter.widget-view+json": {
       "model_id": "517c80510ecc476291478a6874f4b460",
       "version_major": 2,
       "version_minor": 0
      },
      "text/plain": [
       "HBox(children=(HTML(value=''), FloatProgress(value=0.0, layout=Layout(flex='2'), max=1.0), HTML(value='')), la…"
      ]
     },
     "metadata": {},
     "output_type": "display_data"
    },
    {
     "name": "stdout",
     "output_type": "stream",
     "text": [
      "\n",
      "Epoch 51/3000\n"
     ]
    },
    {
     "data": {
      "application/vnd.jupyter.widget-view+json": {
       "model_id": "e04a66704f5d45ed9c431c6c2e4db234",
       "version_major": 2,
       "version_minor": 0
      },
      "text/plain": [
       "HBox(children=(HTML(value=''), FloatProgress(value=0.0, layout=Layout(flex='2'), max=1.0), HTML(value='')), la…"
      ]
     },
     "metadata": {},
     "output_type": "display_data"
    },
    {
     "name": "stdout",
     "output_type": "stream",
     "text": [
      "\n",
      "Epoch 52/3000\n"
     ]
    },
    {
     "data": {
      "application/vnd.jupyter.widget-view+json": {
       "model_id": "ac2ae4baba3245f0a1ae5571f3d35f7f",
       "version_major": 2,
       "version_minor": 0
      },
      "text/plain": [
       "HBox(children=(HTML(value=''), FloatProgress(value=0.0, layout=Layout(flex='2'), max=1.0), HTML(value='')), la…"
      ]
     },
     "metadata": {},
     "output_type": "display_data"
    },
    {
     "name": "stdout",
     "output_type": "stream",
     "text": [
      "\n",
      "Epoch 53/3000\n"
     ]
    },
    {
     "data": {
      "application/vnd.jupyter.widget-view+json": {
       "model_id": "9773622d3b2c4d9c890eda71fe52d492",
       "version_major": 2,
       "version_minor": 0
      },
      "text/plain": [
       "HBox(children=(HTML(value=''), FloatProgress(value=0.0, layout=Layout(flex='2'), max=1.0), HTML(value='')), la…"
      ]
     },
     "metadata": {},
     "output_type": "display_data"
    },
    {
     "name": "stdout",
     "output_type": "stream",
     "text": [
      "\n",
      "Epoch 54/3000\n"
     ]
    },
    {
     "data": {
      "application/vnd.jupyter.widget-view+json": {
       "model_id": "93849c5aac694ffd9823226b7be34cb0",
       "version_major": 2,
       "version_minor": 0
      },
      "text/plain": [
       "HBox(children=(HTML(value=''), FloatProgress(value=0.0, layout=Layout(flex='2'), max=1.0), HTML(value='')), la…"
      ]
     },
     "metadata": {},
     "output_type": "display_data"
    },
    {
     "name": "stdout",
     "output_type": "stream",
     "text": [
      "\n",
      "Epoch 55/3000\n"
     ]
    },
    {
     "data": {
      "application/vnd.jupyter.widget-view+json": {
       "model_id": "0acbd29de58b419087aafcbec9fac59a",
       "version_major": 2,
       "version_minor": 0
      },
      "text/plain": [
       "HBox(children=(HTML(value=''), FloatProgress(value=0.0, layout=Layout(flex='2'), max=1.0), HTML(value='')), la…"
      ]
     },
     "metadata": {},
     "output_type": "display_data"
    },
    {
     "name": "stdout",
     "output_type": "stream",
     "text": [
      "\n",
      "Epoch 56/3000\n"
     ]
    },
    {
     "data": {
      "application/vnd.jupyter.widget-view+json": {
       "model_id": "10e8880cafc846fe947025688bb74218",
       "version_major": 2,
       "version_minor": 0
      },
      "text/plain": [
       "HBox(children=(HTML(value=''), FloatProgress(value=0.0, layout=Layout(flex='2'), max=1.0), HTML(value='')), la…"
      ]
     },
     "metadata": {},
     "output_type": "display_data"
    },
    {
     "name": "stdout",
     "output_type": "stream",
     "text": [
      "\n",
      "Epoch 57/3000\n"
     ]
    },
    {
     "data": {
      "application/vnd.jupyter.widget-view+json": {
       "model_id": "4aa3b71a41824b849aa174f8952d51a3",
       "version_major": 2,
       "version_minor": 0
      },
      "text/plain": [
       "HBox(children=(HTML(value=''), FloatProgress(value=0.0, layout=Layout(flex='2'), max=1.0), HTML(value='')), la…"
      ]
     },
     "metadata": {},
     "output_type": "display_data"
    },
    {
     "name": "stdout",
     "output_type": "stream",
     "text": [
      "\n",
      "Epoch 58/3000\n"
     ]
    },
    {
     "data": {
      "application/vnd.jupyter.widget-view+json": {
       "model_id": "c2636cb3bba74fe1a5a8c17d36d99e8e",
       "version_major": 2,
       "version_minor": 0
      },
      "text/plain": [
       "HBox(children=(HTML(value=''), FloatProgress(value=0.0, layout=Layout(flex='2'), max=1.0), HTML(value='')), la…"
      ]
     },
     "metadata": {},
     "output_type": "display_data"
    },
    {
     "name": "stdout",
     "output_type": "stream",
     "text": [
      "\n",
      "Epoch 59/3000\n"
     ]
    },
    {
     "data": {
      "application/vnd.jupyter.widget-view+json": {
       "model_id": "3c3a5b305277439789b924ea6c630c00",
       "version_major": 2,
       "version_minor": 0
      },
      "text/plain": [
       "HBox(children=(HTML(value=''), FloatProgress(value=0.0, layout=Layout(flex='2'), max=1.0), HTML(value='')), la…"
      ]
     },
     "metadata": {},
     "output_type": "display_data"
    },
    {
     "name": "stdout",
     "output_type": "stream",
     "text": [
      "\n",
      "Epoch 60/3000\n"
     ]
    },
    {
     "data": {
      "application/vnd.jupyter.widget-view+json": {
       "model_id": "c71d66281b424da8bde6ea947ceaf8d5",
       "version_major": 2,
       "version_minor": 0
      },
      "text/plain": [
       "HBox(children=(HTML(value=''), FloatProgress(value=0.0, layout=Layout(flex='2'), max=1.0), HTML(value='')), la…"
      ]
     },
     "metadata": {},
     "output_type": "display_data"
    },
    {
     "name": "stdout",
     "output_type": "stream",
     "text": [
      "\n",
      "Epoch 61/3000\n"
     ]
    },
    {
     "data": {
      "application/vnd.jupyter.widget-view+json": {
       "model_id": "2aec51f87bee464fa4005a399aeed3e4",
       "version_major": 2,
       "version_minor": 0
      },
      "text/plain": [
       "HBox(children=(HTML(value=''), FloatProgress(value=0.0, layout=Layout(flex='2'), max=1.0), HTML(value='')), la…"
      ]
     },
     "metadata": {},
     "output_type": "display_data"
    },
    {
     "name": "stdout",
     "output_type": "stream",
     "text": [
      "\n",
      "Epoch 62/3000\n"
     ]
    },
    {
     "data": {
      "application/vnd.jupyter.widget-view+json": {
       "model_id": "c7f42657551e45b28a1a90f380580d91",
       "version_major": 2,
       "version_minor": 0
      },
      "text/plain": [
       "HBox(children=(HTML(value=''), FloatProgress(value=0.0, layout=Layout(flex='2'), max=1.0), HTML(value='')), la…"
      ]
     },
     "metadata": {},
     "output_type": "display_data"
    },
    {
     "name": "stdout",
     "output_type": "stream",
     "text": [
      "\n",
      "Epoch 63/3000\n"
     ]
    },
    {
     "data": {
      "application/vnd.jupyter.widget-view+json": {
       "model_id": "1f5a86364ffa4eeaadd04401b071dcb8",
       "version_major": 2,
       "version_minor": 0
      },
      "text/plain": [
       "HBox(children=(HTML(value=''), FloatProgress(value=0.0, layout=Layout(flex='2'), max=1.0), HTML(value='')), la…"
      ]
     },
     "metadata": {},
     "output_type": "display_data"
    },
    {
     "name": "stdout",
     "output_type": "stream",
     "text": [
      "\n",
      "Epoch 64/3000\n"
     ]
    },
    {
     "data": {
      "application/vnd.jupyter.widget-view+json": {
       "model_id": "6cf7224358e34951b8543ca8d3d5f821",
       "version_major": 2,
       "version_minor": 0
      },
      "text/plain": [
       "HBox(children=(HTML(value=''), FloatProgress(value=0.0, layout=Layout(flex='2'), max=1.0), HTML(value='')), la…"
      ]
     },
     "metadata": {},
     "output_type": "display_data"
    },
    {
     "name": "stdout",
     "output_type": "stream",
     "text": [
      "\n",
      "Epoch 65/3000\n"
     ]
    },
    {
     "data": {
      "application/vnd.jupyter.widget-view+json": {
       "model_id": "e72caa6a664e44c192a36469c8270fb9",
       "version_major": 2,
       "version_minor": 0
      },
      "text/plain": [
       "HBox(children=(HTML(value=''), FloatProgress(value=0.0, layout=Layout(flex='2'), max=1.0), HTML(value='')), la…"
      ]
     },
     "metadata": {},
     "output_type": "display_data"
    },
    {
     "name": "stdout",
     "output_type": "stream",
     "text": [
      "\n",
      "Epoch 66/3000\n"
     ]
    },
    {
     "data": {
      "application/vnd.jupyter.widget-view+json": {
       "model_id": "a94218efbb1741198dd260a83c2da8ac",
       "version_major": 2,
       "version_minor": 0
      },
      "text/plain": [
       "HBox(children=(HTML(value=''), FloatProgress(value=0.0, layout=Layout(flex='2'), max=1.0), HTML(value='')), la…"
      ]
     },
     "metadata": {},
     "output_type": "display_data"
    },
    {
     "name": "stdout",
     "output_type": "stream",
     "text": [
      "\n",
      "Epoch 67/3000\n"
     ]
    },
    {
     "data": {
      "application/vnd.jupyter.widget-view+json": {
       "model_id": "cd8acf31dd794bcba38a1f4db60deaa5",
       "version_major": 2,
       "version_minor": 0
      },
      "text/plain": [
       "HBox(children=(HTML(value=''), FloatProgress(value=0.0, layout=Layout(flex='2'), max=1.0), HTML(value='')), la…"
      ]
     },
     "metadata": {},
     "output_type": "display_data"
    },
    {
     "name": "stdout",
     "output_type": "stream",
     "text": [
      "\n",
      "Epoch 68/3000\n"
     ]
    },
    {
     "data": {
      "application/vnd.jupyter.widget-view+json": {
       "model_id": "ec965608df2741c497983fdc0044a9ea",
       "version_major": 2,
       "version_minor": 0
      },
      "text/plain": [
       "HBox(children=(HTML(value=''), FloatProgress(value=0.0, layout=Layout(flex='2'), max=1.0), HTML(value='')), la…"
      ]
     },
     "metadata": {},
     "output_type": "display_data"
    },
    {
     "name": "stdout",
     "output_type": "stream",
     "text": [
      "\n",
      "Epoch 69/3000\n"
     ]
    },
    {
     "data": {
      "application/vnd.jupyter.widget-view+json": {
       "model_id": "b67ac07609db4fdb9829c3fbc9c0e94a",
       "version_major": 2,
       "version_minor": 0
      },
      "text/plain": [
       "HBox(children=(HTML(value=''), FloatProgress(value=0.0, layout=Layout(flex='2'), max=1.0), HTML(value='')), la…"
      ]
     },
     "metadata": {},
     "output_type": "display_data"
    },
    {
     "name": "stdout",
     "output_type": "stream",
     "text": [
      "\n",
      "Epoch 70/3000\n"
     ]
    },
    {
     "data": {
      "application/vnd.jupyter.widget-view+json": {
       "model_id": "6adbed77885b43afb504114b18de810c",
       "version_major": 2,
       "version_minor": 0
      },
      "text/plain": [
       "HBox(children=(HTML(value=''), FloatProgress(value=0.0, layout=Layout(flex='2'), max=1.0), HTML(value='')), la…"
      ]
     },
     "metadata": {},
     "output_type": "display_data"
    },
    {
     "name": "stdout",
     "output_type": "stream",
     "text": [
      "\n",
      "Epoch 71/3000\n"
     ]
    },
    {
     "data": {
      "application/vnd.jupyter.widget-view+json": {
       "model_id": "f9664b85d3c44c149d24423ed1274afe",
       "version_major": 2,
       "version_minor": 0
      },
      "text/plain": [
       "HBox(children=(HTML(value=''), FloatProgress(value=0.0, layout=Layout(flex='2'), max=1.0), HTML(value='')), la…"
      ]
     },
     "metadata": {},
     "output_type": "display_data"
    },
    {
     "name": "stdout",
     "output_type": "stream",
     "text": [
      "\n",
      "Epoch 72/3000\n"
     ]
    },
    {
     "data": {
      "application/vnd.jupyter.widget-view+json": {
       "model_id": "17f2b7cf80b14a1b9e07d11de0a23d61",
       "version_major": 2,
       "version_minor": 0
      },
      "text/plain": [
       "HBox(children=(HTML(value=''), FloatProgress(value=0.0, layout=Layout(flex='2'), max=1.0), HTML(value='')), la…"
      ]
     },
     "metadata": {},
     "output_type": "display_data"
    },
    {
     "name": "stdout",
     "output_type": "stream",
     "text": [
      "\n",
      "Epoch 73/3000\n"
     ]
    },
    {
     "data": {
      "application/vnd.jupyter.widget-view+json": {
       "model_id": "db5dd0f931c44137b32e16215b62dda3",
       "version_major": 2,
       "version_minor": 0
      },
      "text/plain": [
       "HBox(children=(HTML(value=''), FloatProgress(value=0.0, layout=Layout(flex='2'), max=1.0), HTML(value='')), la…"
      ]
     },
     "metadata": {},
     "output_type": "display_data"
    },
    {
     "name": "stdout",
     "output_type": "stream",
     "text": [
      "\n",
      "Epoch 74/3000\n"
     ]
    },
    {
     "data": {
      "application/vnd.jupyter.widget-view+json": {
       "model_id": "9c48a581fd7f420a8624cc474775582e",
       "version_major": 2,
       "version_minor": 0
      },
      "text/plain": [
       "HBox(children=(HTML(value=''), FloatProgress(value=0.0, layout=Layout(flex='2'), max=1.0), HTML(value='')), la…"
      ]
     },
     "metadata": {},
     "output_type": "display_data"
    },
    {
     "name": "stdout",
     "output_type": "stream",
     "text": [
      "\n",
      "Epoch 75/3000\n"
     ]
    },
    {
     "data": {
      "application/vnd.jupyter.widget-view+json": {
       "model_id": "a844eea241434056b6f44819aec10c79",
       "version_major": 2,
       "version_minor": 0
      },
      "text/plain": [
       "HBox(children=(HTML(value=''), FloatProgress(value=0.0, layout=Layout(flex='2'), max=1.0), HTML(value='')), la…"
      ]
     },
     "metadata": {},
     "output_type": "display_data"
    },
    {
     "name": "stdout",
     "output_type": "stream",
     "text": [
      "\n",
      "Epoch 76/3000\n"
     ]
    },
    {
     "data": {
      "application/vnd.jupyter.widget-view+json": {
       "model_id": "9c2d9046ae214e0db2a1b70662c3a78e",
       "version_major": 2,
       "version_minor": 0
      },
      "text/plain": [
       "HBox(children=(HTML(value=''), FloatProgress(value=0.0, layout=Layout(flex='2'), max=1.0), HTML(value='')), la…"
      ]
     },
     "metadata": {},
     "output_type": "display_data"
    },
    {
     "name": "stdout",
     "output_type": "stream",
     "text": [
      "\n",
      "Epoch 77/3000\n"
     ]
    },
    {
     "data": {
      "application/vnd.jupyter.widget-view+json": {
       "model_id": "cf7c79f5acb04e838c4f65e34a3928e1",
       "version_major": 2,
       "version_minor": 0
      },
      "text/plain": [
       "HBox(children=(HTML(value=''), FloatProgress(value=0.0, layout=Layout(flex='2'), max=1.0), HTML(value='')), la…"
      ]
     },
     "metadata": {},
     "output_type": "display_data"
    },
    {
     "name": "stdout",
     "output_type": "stream",
     "text": [
      "\n",
      "Epoch 78/3000\n"
     ]
    },
    {
     "data": {
      "application/vnd.jupyter.widget-view+json": {
       "model_id": "b9057e4dbd984a0895e95ef621dd8b60",
       "version_major": 2,
       "version_minor": 0
      },
      "text/plain": [
       "HBox(children=(HTML(value=''), FloatProgress(value=0.0, layout=Layout(flex='2'), max=1.0), HTML(value='')), la…"
      ]
     },
     "metadata": {},
     "output_type": "display_data"
    },
    {
     "name": "stdout",
     "output_type": "stream",
     "text": [
      "\n",
      "Epoch 79/3000\n"
     ]
    },
    {
     "data": {
      "application/vnd.jupyter.widget-view+json": {
       "model_id": "3ac89d6a829a43ddb47d21aa820094d2",
       "version_major": 2,
       "version_minor": 0
      },
      "text/plain": [
       "HBox(children=(HTML(value=''), FloatProgress(value=0.0, layout=Layout(flex='2'), max=1.0), HTML(value='')), la…"
      ]
     },
     "metadata": {},
     "output_type": "display_data"
    },
    {
     "name": "stdout",
     "output_type": "stream",
     "text": [
      "\n",
      "Epoch 80/3000\n"
     ]
    },
    {
     "data": {
      "application/vnd.jupyter.widget-view+json": {
       "model_id": "b69e4093dded485f86f39bc266497773",
       "version_major": 2,
       "version_minor": 0
      },
      "text/plain": [
       "HBox(children=(HTML(value=''), FloatProgress(value=0.0, layout=Layout(flex='2'), max=1.0), HTML(value='')), la…"
      ]
     },
     "metadata": {},
     "output_type": "display_data"
    },
    {
     "name": "stdout",
     "output_type": "stream",
     "text": [
      "\n",
      "Epoch 81/3000\n"
     ]
    },
    {
     "data": {
      "application/vnd.jupyter.widget-view+json": {
       "model_id": "7bdb669ca2f14008853050c5534d5ae9",
       "version_major": 2,
       "version_minor": 0
      },
      "text/plain": [
       "HBox(children=(HTML(value=''), FloatProgress(value=0.0, layout=Layout(flex='2'), max=1.0), HTML(value='')), la…"
      ]
     },
     "metadata": {},
     "output_type": "display_data"
    },
    {
     "name": "stdout",
     "output_type": "stream",
     "text": [
      "\n",
      "Epoch 82/3000\n"
     ]
    },
    {
     "data": {
      "application/vnd.jupyter.widget-view+json": {
       "model_id": "856d8cc3c94a4352b16b69d52048aa17",
       "version_major": 2,
       "version_minor": 0
      },
      "text/plain": [
       "HBox(children=(HTML(value=''), FloatProgress(value=0.0, layout=Layout(flex='2'), max=1.0), HTML(value='')), la…"
      ]
     },
     "metadata": {},
     "output_type": "display_data"
    },
    {
     "name": "stdout",
     "output_type": "stream",
     "text": [
      "\n",
      "Epoch 83/3000\n"
     ]
    },
    {
     "data": {
      "application/vnd.jupyter.widget-view+json": {
       "model_id": "e6061c981b384aa6a42a86a1303ba7a4",
       "version_major": 2,
       "version_minor": 0
      },
      "text/plain": [
       "HBox(children=(HTML(value=''), FloatProgress(value=0.0, layout=Layout(flex='2'), max=1.0), HTML(value='')), la…"
      ]
     },
     "metadata": {},
     "output_type": "display_data"
    },
    {
     "name": "stdout",
     "output_type": "stream",
     "text": [
      "\n",
      "Epoch 84/3000\n"
     ]
    },
    {
     "data": {
      "application/vnd.jupyter.widget-view+json": {
       "model_id": "105ea26d6a714f4aae9dc83e0f56f63d",
       "version_major": 2,
       "version_minor": 0
      },
      "text/plain": [
       "HBox(children=(HTML(value=''), FloatProgress(value=0.0, layout=Layout(flex='2'), max=1.0), HTML(value='')), la…"
      ]
     },
     "metadata": {},
     "output_type": "display_data"
    },
    {
     "name": "stdout",
     "output_type": "stream",
     "text": [
      "\n",
      "Epoch 85/3000\n"
     ]
    },
    {
     "data": {
      "application/vnd.jupyter.widget-view+json": {
       "model_id": "70c16f0c99564af49adcceafba0906ad",
       "version_major": 2,
       "version_minor": 0
      },
      "text/plain": [
       "HBox(children=(HTML(value=''), FloatProgress(value=0.0, layout=Layout(flex='2'), max=1.0), HTML(value='')), la…"
      ]
     },
     "metadata": {},
     "output_type": "display_data"
    },
    {
     "name": "stdout",
     "output_type": "stream",
     "text": [
      "\n",
      "Epoch 86/3000\n"
     ]
    },
    {
     "data": {
      "application/vnd.jupyter.widget-view+json": {
       "model_id": "ff66766ab7eb4092b5e9a5cd9e29525d",
       "version_major": 2,
       "version_minor": 0
      },
      "text/plain": [
       "HBox(children=(HTML(value=''), FloatProgress(value=0.0, layout=Layout(flex='2'), max=1.0), HTML(value='')), la…"
      ]
     },
     "metadata": {},
     "output_type": "display_data"
    },
    {
     "name": "stdout",
     "output_type": "stream",
     "text": [
      "\n",
      "Epoch 87/3000\n"
     ]
    },
    {
     "data": {
      "application/vnd.jupyter.widget-view+json": {
       "model_id": "e426eef4bab641cab9bd0d2a31fd92ff",
       "version_major": 2,
       "version_minor": 0
      },
      "text/plain": [
       "HBox(children=(HTML(value=''), FloatProgress(value=0.0, layout=Layout(flex='2'), max=1.0), HTML(value='')), la…"
      ]
     },
     "metadata": {},
     "output_type": "display_data"
    },
    {
     "name": "stdout",
     "output_type": "stream",
     "text": [
      "\n",
      "Epoch 88/3000\n"
     ]
    },
    {
     "data": {
      "application/vnd.jupyter.widget-view+json": {
       "model_id": "1fbb617b16ae414c9c5b4dd641e11c24",
       "version_major": 2,
       "version_minor": 0
      },
      "text/plain": [
       "HBox(children=(HTML(value=''), FloatProgress(value=0.0, layout=Layout(flex='2'), max=1.0), HTML(value='')), la…"
      ]
     },
     "metadata": {},
     "output_type": "display_data"
    },
    {
     "name": "stdout",
     "output_type": "stream",
     "text": [
      "\n",
      "Epoch 89/3000\n"
     ]
    },
    {
     "data": {
      "application/vnd.jupyter.widget-view+json": {
       "model_id": "d9dc10787d2b4609a893436e5a3154f0",
       "version_major": 2,
       "version_minor": 0
      },
      "text/plain": [
       "HBox(children=(HTML(value=''), FloatProgress(value=0.0, layout=Layout(flex='2'), max=1.0), HTML(value='')), la…"
      ]
     },
     "metadata": {},
     "output_type": "display_data"
    },
    {
     "name": "stdout",
     "output_type": "stream",
     "text": [
      "\n",
      "Epoch 90/3000\n"
     ]
    },
    {
     "data": {
      "application/vnd.jupyter.widget-view+json": {
       "model_id": "b6598db36a9c4f219af0f5af0576142f",
       "version_major": 2,
       "version_minor": 0
      },
      "text/plain": [
       "HBox(children=(HTML(value=''), FloatProgress(value=0.0, layout=Layout(flex='2'), max=1.0), HTML(value='')), la…"
      ]
     },
     "metadata": {},
     "output_type": "display_data"
    },
    {
     "name": "stdout",
     "output_type": "stream",
     "text": [
      "\n",
      "Epoch 91/3000\n"
     ]
    },
    {
     "data": {
      "application/vnd.jupyter.widget-view+json": {
       "model_id": "c19615c58bc0457092784452385f8f3a",
       "version_major": 2,
       "version_minor": 0
      },
      "text/plain": [
       "HBox(children=(HTML(value=''), FloatProgress(value=0.0, layout=Layout(flex='2'), max=1.0), HTML(value='')), la…"
      ]
     },
     "metadata": {},
     "output_type": "display_data"
    },
    {
     "name": "stdout",
     "output_type": "stream",
     "text": [
      "\n",
      "Epoch 92/3000\n"
     ]
    },
    {
     "data": {
      "application/vnd.jupyter.widget-view+json": {
       "model_id": "1b6c1a02208a4b51a1b0d69eceb1b534",
       "version_major": 2,
       "version_minor": 0
      },
      "text/plain": [
       "HBox(children=(HTML(value=''), FloatProgress(value=0.0, layout=Layout(flex='2'), max=1.0), HTML(value='')), la…"
      ]
     },
     "metadata": {},
     "output_type": "display_data"
    },
    {
     "name": "stdout",
     "output_type": "stream",
     "text": [
      "\n",
      "Epoch 93/3000\n"
     ]
    },
    {
     "data": {
      "application/vnd.jupyter.widget-view+json": {
       "model_id": "9d326cd96ddb4c2984875292b4bbd8d3",
       "version_major": 2,
       "version_minor": 0
      },
      "text/plain": [
       "HBox(children=(HTML(value=''), FloatProgress(value=0.0, layout=Layout(flex='2'), max=1.0), HTML(value='')), la…"
      ]
     },
     "metadata": {},
     "output_type": "display_data"
    },
    {
     "name": "stdout",
     "output_type": "stream",
     "text": [
      "\n",
      "Epoch 94/3000\n"
     ]
    },
    {
     "data": {
      "application/vnd.jupyter.widget-view+json": {
       "model_id": "965c50400e7a4419a076ba482720c872",
       "version_major": 2,
       "version_minor": 0
      },
      "text/plain": [
       "HBox(children=(HTML(value=''), FloatProgress(value=0.0, layout=Layout(flex='2'), max=1.0), HTML(value='')), la…"
      ]
     },
     "metadata": {},
     "output_type": "display_data"
    },
    {
     "name": "stdout",
     "output_type": "stream",
     "text": [
      "\n",
      "Epoch 95/3000\n"
     ]
    },
    {
     "data": {
      "application/vnd.jupyter.widget-view+json": {
       "model_id": "b276f08d075a49f9af391ea86fcabaef",
       "version_major": 2,
       "version_minor": 0
      },
      "text/plain": [
       "HBox(children=(HTML(value=''), FloatProgress(value=0.0, layout=Layout(flex='2'), max=1.0), HTML(value='')), la…"
      ]
     },
     "metadata": {},
     "output_type": "display_data"
    },
    {
     "name": "stdout",
     "output_type": "stream",
     "text": [
      "\n",
      "Epoch 96/3000\n"
     ]
    },
    {
     "data": {
      "application/vnd.jupyter.widget-view+json": {
       "model_id": "85c8ccfa0114414ba811ef7c76035f99",
       "version_major": 2,
       "version_minor": 0
      },
      "text/plain": [
       "HBox(children=(HTML(value=''), FloatProgress(value=0.0, layout=Layout(flex='2'), max=1.0), HTML(value='')), la…"
      ]
     },
     "metadata": {},
     "output_type": "display_data"
    },
    {
     "name": "stdout",
     "output_type": "stream",
     "text": [
      "\n",
      "Epoch 97/3000\n"
     ]
    },
    {
     "data": {
      "application/vnd.jupyter.widget-view+json": {
       "model_id": "683a7c0ee9c543dbabea3990744d0e9d",
       "version_major": 2,
       "version_minor": 0
      },
      "text/plain": [
       "HBox(children=(HTML(value=''), FloatProgress(value=0.0, layout=Layout(flex='2'), max=1.0), HTML(value='')), la…"
      ]
     },
     "metadata": {},
     "output_type": "display_data"
    },
    {
     "name": "stdout",
     "output_type": "stream",
     "text": [
      "\n",
      "Epoch 98/3000\n"
     ]
    },
    {
     "data": {
      "application/vnd.jupyter.widget-view+json": {
       "model_id": "9288dc0b0dde4842a5961ba8315dcead",
       "version_major": 2,
       "version_minor": 0
      },
      "text/plain": [
       "HBox(children=(HTML(value=''), FloatProgress(value=0.0, layout=Layout(flex='2'), max=1.0), HTML(value='')), la…"
      ]
     },
     "metadata": {},
     "output_type": "display_data"
    },
    {
     "name": "stdout",
     "output_type": "stream",
     "text": [
      "\n",
      "Epoch 99/3000\n"
     ]
    },
    {
     "data": {
      "application/vnd.jupyter.widget-view+json": {
       "model_id": "1afcb8e5b66d45248c57064144b33ea7",
       "version_major": 2,
       "version_minor": 0
      },
      "text/plain": [
       "HBox(children=(HTML(value=''), FloatProgress(value=0.0, layout=Layout(flex='2'), max=1.0), HTML(value='')), la…"
      ]
     },
     "metadata": {},
     "output_type": "display_data"
    },
    {
     "name": "stdout",
     "output_type": "stream",
     "text": [
      "\n",
      "Epoch 100/3000\n"
     ]
    },
    {
     "data": {
      "application/vnd.jupyter.widget-view+json": {
       "model_id": "be0c31fdd2cc42fa9a53cd728e365495",
       "version_major": 2,
       "version_minor": 0
      },
      "text/plain": [
       "HBox(children=(HTML(value=''), FloatProgress(value=0.0, layout=Layout(flex='2'), max=1.0), HTML(value='')), la…"
      ]
     },
     "metadata": {},
     "output_type": "display_data"
    },
    {
     "name": "stdout",
     "output_type": "stream",
     "text": [
      "\n",
      "Epoch 101/3000\n"
     ]
    },
    {
     "data": {
      "application/vnd.jupyter.widget-view+json": {
       "model_id": "b9ed66ef27654802805d569450321329",
       "version_major": 2,
       "version_minor": 0
      },
      "text/plain": [
       "HBox(children=(HTML(value=''), FloatProgress(value=0.0, layout=Layout(flex='2'), max=1.0), HTML(value='')), la…"
      ]
     },
     "metadata": {},
     "output_type": "display_data"
    },
    {
     "name": "stdout",
     "output_type": "stream",
     "text": [
      "\n",
      "Epoch 102/3000\n"
     ]
    },
    {
     "data": {
      "application/vnd.jupyter.widget-view+json": {
       "model_id": "c62a0340793b4410a13b00d241d80077",
       "version_major": 2,
       "version_minor": 0
      },
      "text/plain": [
       "HBox(children=(HTML(value=''), FloatProgress(value=0.0, layout=Layout(flex='2'), max=1.0), HTML(value='')), la…"
      ]
     },
     "metadata": {},
     "output_type": "display_data"
    },
    {
     "name": "stdout",
     "output_type": "stream",
     "text": [
      "\n",
      "Epoch 103/3000\n"
     ]
    },
    {
     "data": {
      "application/vnd.jupyter.widget-view+json": {
       "model_id": "a3f46f4f85e34d0398898ed444421ab9",
       "version_major": 2,
       "version_minor": 0
      },
      "text/plain": [
       "HBox(children=(HTML(value=''), FloatProgress(value=0.0, layout=Layout(flex='2'), max=1.0), HTML(value='')), la…"
      ]
     },
     "metadata": {},
     "output_type": "display_data"
    },
    {
     "name": "stdout",
     "output_type": "stream",
     "text": [
      "\n",
      "Epoch 104/3000\n"
     ]
    },
    {
     "data": {
      "application/vnd.jupyter.widget-view+json": {
       "model_id": "6154c34faaf5499997bcd7298007fa0c",
       "version_major": 2,
       "version_minor": 0
      },
      "text/plain": [
       "HBox(children=(HTML(value=''), FloatProgress(value=0.0, layout=Layout(flex='2'), max=1.0), HTML(value='')), la…"
      ]
     },
     "metadata": {},
     "output_type": "display_data"
    },
    {
     "name": "stdout",
     "output_type": "stream",
     "text": [
      "\n",
      "Epoch 105/3000\n"
     ]
    },
    {
     "data": {
      "application/vnd.jupyter.widget-view+json": {
       "model_id": "4716b5476e684f4a84caf9b5c3033c27",
       "version_major": 2,
       "version_minor": 0
      },
      "text/plain": [
       "HBox(children=(HTML(value=''), FloatProgress(value=0.0, layout=Layout(flex='2'), max=1.0), HTML(value='')), la…"
      ]
     },
     "metadata": {},
     "output_type": "display_data"
    },
    {
     "name": "stdout",
     "output_type": "stream",
     "text": [
      "\n",
      "Epoch 106/3000\n"
     ]
    },
    {
     "data": {
      "application/vnd.jupyter.widget-view+json": {
       "model_id": "24d7480fcf6244938bf83838373a48b6",
       "version_major": 2,
       "version_minor": 0
      },
      "text/plain": [
       "HBox(children=(HTML(value=''), FloatProgress(value=0.0, layout=Layout(flex='2'), max=1.0), HTML(value='')), la…"
      ]
     },
     "metadata": {},
     "output_type": "display_data"
    },
    {
     "name": "stdout",
     "output_type": "stream",
     "text": [
      "\n",
      "Epoch 107/3000\n"
     ]
    },
    {
     "data": {
      "application/vnd.jupyter.widget-view+json": {
       "model_id": "2ed9f5184b9741e3aa2e34f6bda47e1d",
       "version_major": 2,
       "version_minor": 0
      },
      "text/plain": [
       "HBox(children=(HTML(value=''), FloatProgress(value=0.0, layout=Layout(flex='2'), max=1.0), HTML(value='')), la…"
      ]
     },
     "metadata": {},
     "output_type": "display_data"
    },
    {
     "name": "stdout",
     "output_type": "stream",
     "text": [
      "\n",
      "Epoch 108/3000\n"
     ]
    },
    {
     "data": {
      "application/vnd.jupyter.widget-view+json": {
       "model_id": "c07508ba6007463e850e0272e7eeecf6",
       "version_major": 2,
       "version_minor": 0
      },
      "text/plain": [
       "HBox(children=(HTML(value=''), FloatProgress(value=0.0, layout=Layout(flex='2'), max=1.0), HTML(value='')), la…"
      ]
     },
     "metadata": {},
     "output_type": "display_data"
    },
    {
     "name": "stdout",
     "output_type": "stream",
     "text": [
      "\n",
      "Epoch 109/3000\n"
     ]
    },
    {
     "data": {
      "application/vnd.jupyter.widget-view+json": {
       "model_id": "86d483bff001483d9eb230fc87c11ab5",
       "version_major": 2,
       "version_minor": 0
      },
      "text/plain": [
       "HBox(children=(HTML(value=''), FloatProgress(value=0.0, layout=Layout(flex='2'), max=1.0), HTML(value='')), la…"
      ]
     },
     "metadata": {},
     "output_type": "display_data"
    },
    {
     "name": "stdout",
     "output_type": "stream",
     "text": [
      "\n",
      "Epoch 110/3000\n"
     ]
    },
    {
     "data": {
      "application/vnd.jupyter.widget-view+json": {
       "model_id": "7148b79133d14227a6bf6f5e826ce6f8",
       "version_major": 2,
       "version_minor": 0
      },
      "text/plain": [
       "HBox(children=(HTML(value=''), FloatProgress(value=0.0, layout=Layout(flex='2'), max=1.0), HTML(value='')), la…"
      ]
     },
     "metadata": {},
     "output_type": "display_data"
    },
    {
     "name": "stdout",
     "output_type": "stream",
     "text": [
      "\n",
      "Epoch 111/3000\n"
     ]
    },
    {
     "data": {
      "application/vnd.jupyter.widget-view+json": {
       "model_id": "1ebc4d9a681d4992a2048149fbacd354",
       "version_major": 2,
       "version_minor": 0
      },
      "text/plain": [
       "HBox(children=(HTML(value=''), FloatProgress(value=0.0, layout=Layout(flex='2'), max=1.0), HTML(value='')), la…"
      ]
     },
     "metadata": {},
     "output_type": "display_data"
    },
    {
     "name": "stdout",
     "output_type": "stream",
     "text": [
      "\n",
      "Epoch 112/3000\n"
     ]
    },
    {
     "data": {
      "application/vnd.jupyter.widget-view+json": {
       "model_id": "267f9cc2c9d04fa39e90f30c64f6b522",
       "version_major": 2,
       "version_minor": 0
      },
      "text/plain": [
       "HBox(children=(HTML(value=''), FloatProgress(value=0.0, layout=Layout(flex='2'), max=1.0), HTML(value='')), la…"
      ]
     },
     "metadata": {},
     "output_type": "display_data"
    },
    {
     "name": "stdout",
     "output_type": "stream",
     "text": [
      "\n",
      "Epoch 113/3000\n"
     ]
    },
    {
     "data": {
      "application/vnd.jupyter.widget-view+json": {
       "model_id": "1add1fac229b4a879b5c29cf113ca7a6",
       "version_major": 2,
       "version_minor": 0
      },
      "text/plain": [
       "HBox(children=(HTML(value=''), FloatProgress(value=0.0, layout=Layout(flex='2'), max=1.0), HTML(value='')), la…"
      ]
     },
     "metadata": {},
     "output_type": "display_data"
    },
    {
     "name": "stdout",
     "output_type": "stream",
     "text": [
      "\n",
      "Epoch 114/3000\n"
     ]
    },
    {
     "data": {
      "application/vnd.jupyter.widget-view+json": {
       "model_id": "2a4b577141f140bc93175b9c48821d83",
       "version_major": 2,
       "version_minor": 0
      },
      "text/plain": [
       "HBox(children=(HTML(value=''), FloatProgress(value=0.0, layout=Layout(flex='2'), max=1.0), HTML(value='')), la…"
      ]
     },
     "metadata": {},
     "output_type": "display_data"
    },
    {
     "name": "stdout",
     "output_type": "stream",
     "text": [
      "\n",
      "Epoch 115/3000\n"
     ]
    },
    {
     "data": {
      "application/vnd.jupyter.widget-view+json": {
       "model_id": "ac47aeebe6594e9480eb4eedd49ee6f3",
       "version_major": 2,
       "version_minor": 0
      },
      "text/plain": [
       "HBox(children=(HTML(value=''), FloatProgress(value=0.0, layout=Layout(flex='2'), max=1.0), HTML(value='')), la…"
      ]
     },
     "metadata": {},
     "output_type": "display_data"
    },
    {
     "name": "stdout",
     "output_type": "stream",
     "text": [
      "\n",
      "Epoch 116/3000\n"
     ]
    },
    {
     "data": {
      "application/vnd.jupyter.widget-view+json": {
       "model_id": "bac80e3079c84220bde152d9e47b02fc",
       "version_major": 2,
       "version_minor": 0
      },
      "text/plain": [
       "HBox(children=(HTML(value=''), FloatProgress(value=0.0, layout=Layout(flex='2'), max=1.0), HTML(value='')), la…"
      ]
     },
     "metadata": {},
     "output_type": "display_data"
    },
    {
     "name": "stdout",
     "output_type": "stream",
     "text": [
      "\n",
      "Epoch 117/3000\n"
     ]
    },
    {
     "data": {
      "application/vnd.jupyter.widget-view+json": {
       "model_id": "3e86d4d306fd4dac80c99a841ddf8f36",
       "version_major": 2,
       "version_minor": 0
      },
      "text/plain": [
       "HBox(children=(HTML(value=''), FloatProgress(value=0.0, layout=Layout(flex='2'), max=1.0), HTML(value='')), la…"
      ]
     },
     "metadata": {},
     "output_type": "display_data"
    },
    {
     "name": "stdout",
     "output_type": "stream",
     "text": [
      "\n",
      "Epoch 118/3000\n"
     ]
    },
    {
     "data": {
      "application/vnd.jupyter.widget-view+json": {
       "model_id": "3f18169cff8448a7a97422a064d3535d",
       "version_major": 2,
       "version_minor": 0
      },
      "text/plain": [
       "HBox(children=(HTML(value=''), FloatProgress(value=0.0, layout=Layout(flex='2'), max=1.0), HTML(value='')), la…"
      ]
     },
     "metadata": {},
     "output_type": "display_data"
    },
    {
     "name": "stdout",
     "output_type": "stream",
     "text": [
      "\n",
      "Epoch 119/3000\n"
     ]
    },
    {
     "data": {
      "application/vnd.jupyter.widget-view+json": {
       "model_id": "d5e3e5d9da944d50b0d8f0fe20462aee",
       "version_major": 2,
       "version_minor": 0
      },
      "text/plain": [
       "HBox(children=(HTML(value=''), FloatProgress(value=0.0, layout=Layout(flex='2'), max=1.0), HTML(value='')), la…"
      ]
     },
     "metadata": {},
     "output_type": "display_data"
    },
    {
     "name": "stdout",
     "output_type": "stream",
     "text": [
      "\n",
      "Epoch 120/3000\n"
     ]
    },
    {
     "data": {
      "application/vnd.jupyter.widget-view+json": {
       "model_id": "2b2d835179c94c98932b84057c6772e7",
       "version_major": 2,
       "version_minor": 0
      },
      "text/plain": [
       "HBox(children=(HTML(value=''), FloatProgress(value=0.0, layout=Layout(flex='2'), max=1.0), HTML(value='')), la…"
      ]
     },
     "metadata": {},
     "output_type": "display_data"
    },
    {
     "name": "stdout",
     "output_type": "stream",
     "text": [
      "\n",
      "Epoch 121/3000\n"
     ]
    },
    {
     "data": {
      "application/vnd.jupyter.widget-view+json": {
       "model_id": "1deac1e30622443b8d15484916a59d73",
       "version_major": 2,
       "version_minor": 0
      },
      "text/plain": [
       "HBox(children=(HTML(value=''), FloatProgress(value=0.0, layout=Layout(flex='2'), max=1.0), HTML(value='')), la…"
      ]
     },
     "metadata": {},
     "output_type": "display_data"
    },
    {
     "name": "stdout",
     "output_type": "stream",
     "text": [
      "\n",
      "Epoch 122/3000\n"
     ]
    },
    {
     "data": {
      "application/vnd.jupyter.widget-view+json": {
       "model_id": "e869a4fa085642c2ba5bbce416538326",
       "version_major": 2,
       "version_minor": 0
      },
      "text/plain": [
       "HBox(children=(HTML(value=''), FloatProgress(value=0.0, layout=Layout(flex='2'), max=1.0), HTML(value='')), la…"
      ]
     },
     "metadata": {},
     "output_type": "display_data"
    },
    {
     "name": "stdout",
     "output_type": "stream",
     "text": [
      "\n",
      "Epoch 123/3000\n"
     ]
    },
    {
     "data": {
      "application/vnd.jupyter.widget-view+json": {
       "model_id": "dbd1927e84c64e8c8d1726cc3a87e4b0",
       "version_major": 2,
       "version_minor": 0
      },
      "text/plain": [
       "HBox(children=(HTML(value=''), FloatProgress(value=0.0, layout=Layout(flex='2'), max=1.0), HTML(value='')), la…"
      ]
     },
     "metadata": {},
     "output_type": "display_data"
    },
    {
     "name": "stdout",
     "output_type": "stream",
     "text": [
      "\n",
      "Epoch 124/3000\n"
     ]
    },
    {
     "data": {
      "application/vnd.jupyter.widget-view+json": {
       "model_id": "7276122ff91745a0852a5d06bf0e4b09",
       "version_major": 2,
       "version_minor": 0
      },
      "text/plain": [
       "HBox(children=(HTML(value=''), FloatProgress(value=0.0, layout=Layout(flex='2'), max=1.0), HTML(value='')), la…"
      ]
     },
     "metadata": {},
     "output_type": "display_data"
    },
    {
     "name": "stdout",
     "output_type": "stream",
     "text": [
      "\n",
      "Epoch 125/3000\n"
     ]
    },
    {
     "data": {
      "application/vnd.jupyter.widget-view+json": {
       "model_id": "cb5c9e5f1d97460493797c6a785f1c09",
       "version_major": 2,
       "version_minor": 0
      },
      "text/plain": [
       "HBox(children=(HTML(value=''), FloatProgress(value=0.0, layout=Layout(flex='2'), max=1.0), HTML(value='')), la…"
      ]
     },
     "metadata": {},
     "output_type": "display_data"
    },
    {
     "name": "stdout",
     "output_type": "stream",
     "text": [
      "\n",
      "Epoch 126/3000\n"
     ]
    },
    {
     "data": {
      "application/vnd.jupyter.widget-view+json": {
       "model_id": "6f2c81e6024d42798fde73bd051937af",
       "version_major": 2,
       "version_minor": 0
      },
      "text/plain": [
       "HBox(children=(HTML(value=''), FloatProgress(value=0.0, layout=Layout(flex='2'), max=1.0), HTML(value='')), la…"
      ]
     },
     "metadata": {},
     "output_type": "display_data"
    },
    {
     "name": "stdout",
     "output_type": "stream",
     "text": [
      "\n",
      "Epoch 127/3000\n"
     ]
    },
    {
     "data": {
      "application/vnd.jupyter.widget-view+json": {
       "model_id": "738a1036e70a40889cb30d3eb1246814",
       "version_major": 2,
       "version_minor": 0
      },
      "text/plain": [
       "HBox(children=(HTML(value=''), FloatProgress(value=0.0, layout=Layout(flex='2'), max=1.0), HTML(value='')), la…"
      ]
     },
     "metadata": {},
     "output_type": "display_data"
    },
    {
     "name": "stdout",
     "output_type": "stream",
     "text": [
      "\n",
      "Epoch 128/3000\n"
     ]
    },
    {
     "data": {
      "application/vnd.jupyter.widget-view+json": {
       "model_id": "cdd9658fd2844d5c95ae2a33d14e7ea3",
       "version_major": 2,
       "version_minor": 0
      },
      "text/plain": [
       "HBox(children=(HTML(value=''), FloatProgress(value=0.0, layout=Layout(flex='2'), max=1.0), HTML(value='')), la…"
      ]
     },
     "metadata": {},
     "output_type": "display_data"
    },
    {
     "name": "stdout",
     "output_type": "stream",
     "text": [
      "\n",
      "Epoch 129/3000\n"
     ]
    },
    {
     "data": {
      "application/vnd.jupyter.widget-view+json": {
       "model_id": "a301b7dbc9d54de4a21a04848101b029",
       "version_major": 2,
       "version_minor": 0
      },
      "text/plain": [
       "HBox(children=(HTML(value=''), FloatProgress(value=0.0, layout=Layout(flex='2'), max=1.0), HTML(value='')), la…"
      ]
     },
     "metadata": {},
     "output_type": "display_data"
    },
    {
     "name": "stdout",
     "output_type": "stream",
     "text": [
      "\n",
      "Epoch 130/3000\n"
     ]
    },
    {
     "data": {
      "application/vnd.jupyter.widget-view+json": {
       "model_id": "469da1e202ee4d598130eba2625f9d7b",
       "version_major": 2,
       "version_minor": 0
      },
      "text/plain": [
       "HBox(children=(HTML(value=''), FloatProgress(value=0.0, layout=Layout(flex='2'), max=1.0), HTML(value='')), la…"
      ]
     },
     "metadata": {},
     "output_type": "display_data"
    },
    {
     "name": "stdout",
     "output_type": "stream",
     "text": [
      "\n",
      "Epoch 131/3000\n"
     ]
    },
    {
     "data": {
      "application/vnd.jupyter.widget-view+json": {
       "model_id": "b315c32046b64f069df96eaf6e437ca5",
       "version_major": 2,
       "version_minor": 0
      },
      "text/plain": [
       "HBox(children=(HTML(value=''), FloatProgress(value=0.0, layout=Layout(flex='2'), max=1.0), HTML(value='')), la…"
      ]
     },
     "metadata": {},
     "output_type": "display_data"
    },
    {
     "name": "stdout",
     "output_type": "stream",
     "text": [
      "\n",
      "Epoch 132/3000\n"
     ]
    },
    {
     "data": {
      "application/vnd.jupyter.widget-view+json": {
       "model_id": "c05205e38e2d48da9a0add3dc4c9ca54",
       "version_major": 2,
       "version_minor": 0
      },
      "text/plain": [
       "HBox(children=(HTML(value=''), FloatProgress(value=0.0, layout=Layout(flex='2'), max=1.0), HTML(value='')), la…"
      ]
     },
     "metadata": {},
     "output_type": "display_data"
    },
    {
     "name": "stdout",
     "output_type": "stream",
     "text": [
      "\n",
      "Epoch 133/3000\n"
     ]
    },
    {
     "data": {
      "application/vnd.jupyter.widget-view+json": {
       "model_id": "189108b44fc94664b2d5e12ffc33bcec",
       "version_major": 2,
       "version_minor": 0
      },
      "text/plain": [
       "HBox(children=(HTML(value=''), FloatProgress(value=0.0, layout=Layout(flex='2'), max=1.0), HTML(value='')), la…"
      ]
     },
     "metadata": {},
     "output_type": "display_data"
    },
    {
     "name": "stdout",
     "output_type": "stream",
     "text": [
      "\n",
      "Epoch 134/3000\n"
     ]
    },
    {
     "data": {
      "application/vnd.jupyter.widget-view+json": {
       "model_id": "67e23d3d78784d78aeaa2814a7e73bc6",
       "version_major": 2,
       "version_minor": 0
      },
      "text/plain": [
       "HBox(children=(HTML(value=''), FloatProgress(value=0.0, layout=Layout(flex='2'), max=1.0), HTML(value='')), la…"
      ]
     },
     "metadata": {},
     "output_type": "display_data"
    },
    {
     "name": "stdout",
     "output_type": "stream",
     "text": [
      "\n",
      "Epoch 135/3000\n"
     ]
    },
    {
     "data": {
      "application/vnd.jupyter.widget-view+json": {
       "model_id": "dff9103d7e2240918a7e0b6883555ece",
       "version_major": 2,
       "version_minor": 0
      },
      "text/plain": [
       "HBox(children=(HTML(value=''), FloatProgress(value=0.0, layout=Layout(flex='2'), max=1.0), HTML(value='')), la…"
      ]
     },
     "metadata": {},
     "output_type": "display_data"
    },
    {
     "name": "stdout",
     "output_type": "stream",
     "text": [
      "\n",
      "Epoch 136/3000\n"
     ]
    },
    {
     "data": {
      "application/vnd.jupyter.widget-view+json": {
       "model_id": "97d91f50ee534a0ba20642922ee3ae65",
       "version_major": 2,
       "version_minor": 0
      },
      "text/plain": [
       "HBox(children=(HTML(value=''), FloatProgress(value=0.0, layout=Layout(flex='2'), max=1.0), HTML(value='')), la…"
      ]
     },
     "metadata": {},
     "output_type": "display_data"
    },
    {
     "name": "stdout",
     "output_type": "stream",
     "text": [
      "\n",
      "Epoch 137/3000\n"
     ]
    },
    {
     "data": {
      "application/vnd.jupyter.widget-view+json": {
       "model_id": "2346a0bf57e04eb398f6088df9175456",
       "version_major": 2,
       "version_minor": 0
      },
      "text/plain": [
       "HBox(children=(HTML(value=''), FloatProgress(value=0.0, layout=Layout(flex='2'), max=1.0), HTML(value='')), la…"
      ]
     },
     "metadata": {},
     "output_type": "display_data"
    },
    {
     "name": "stdout",
     "output_type": "stream",
     "text": [
      "\n",
      "Epoch 138/3000\n"
     ]
    },
    {
     "data": {
      "application/vnd.jupyter.widget-view+json": {
       "model_id": "7b4fbb88360441dba69315c51b9dc9b7",
       "version_major": 2,
       "version_minor": 0
      },
      "text/plain": [
       "HBox(children=(HTML(value=''), FloatProgress(value=0.0, layout=Layout(flex='2'), max=1.0), HTML(value='')), la…"
      ]
     },
     "metadata": {},
     "output_type": "display_data"
    },
    {
     "name": "stdout",
     "output_type": "stream",
     "text": [
      "\n",
      "Epoch 139/3000\n"
     ]
    },
    {
     "data": {
      "application/vnd.jupyter.widget-view+json": {
       "model_id": "318303610270469ebb15424e6b68b887",
       "version_major": 2,
       "version_minor": 0
      },
      "text/plain": [
       "HBox(children=(HTML(value=''), FloatProgress(value=0.0, layout=Layout(flex='2'), max=1.0), HTML(value='')), la…"
      ]
     },
     "metadata": {},
     "output_type": "display_data"
    },
    {
     "name": "stdout",
     "output_type": "stream",
     "text": [
      "\n",
      "Epoch 140/3000\n"
     ]
    },
    {
     "data": {
      "application/vnd.jupyter.widget-view+json": {
       "model_id": "6a72be5c64eb43799fb4958bf4a000f9",
       "version_major": 2,
       "version_minor": 0
      },
      "text/plain": [
       "HBox(children=(HTML(value=''), FloatProgress(value=0.0, layout=Layout(flex='2'), max=1.0), HTML(value='')), la…"
      ]
     },
     "metadata": {},
     "output_type": "display_data"
    },
    {
     "name": "stdout",
     "output_type": "stream",
     "text": [
      "\n",
      "Epoch 141/3000\n"
     ]
    },
    {
     "data": {
      "application/vnd.jupyter.widget-view+json": {
       "model_id": "9736bc589bd24cddba03e4b8655965d8",
       "version_major": 2,
       "version_minor": 0
      },
      "text/plain": [
       "HBox(children=(HTML(value=''), FloatProgress(value=0.0, layout=Layout(flex='2'), max=1.0), HTML(value='')), la…"
      ]
     },
     "metadata": {},
     "output_type": "display_data"
    },
    {
     "name": "stdout",
     "output_type": "stream",
     "text": [
      "\n",
      "Epoch 142/3000\n"
     ]
    },
    {
     "data": {
      "application/vnd.jupyter.widget-view+json": {
       "model_id": "4d758bad5aaf4714ae5fdf8e27646c8f",
       "version_major": 2,
       "version_minor": 0
      },
      "text/plain": [
       "HBox(children=(HTML(value=''), FloatProgress(value=0.0, layout=Layout(flex='2'), max=1.0), HTML(value='')), la…"
      ]
     },
     "metadata": {},
     "output_type": "display_data"
    },
    {
     "name": "stdout",
     "output_type": "stream",
     "text": [
      "\n",
      "Epoch 143/3000\n"
     ]
    },
    {
     "data": {
      "application/vnd.jupyter.widget-view+json": {
       "model_id": "e328a301f0234567a29023837004d059",
       "version_major": 2,
       "version_minor": 0
      },
      "text/plain": [
       "HBox(children=(HTML(value=''), FloatProgress(value=0.0, layout=Layout(flex='2'), max=1.0), HTML(value='')), la…"
      ]
     },
     "metadata": {},
     "output_type": "display_data"
    },
    {
     "name": "stdout",
     "output_type": "stream",
     "text": [
      "\n",
      "Epoch 144/3000\n"
     ]
    },
    {
     "data": {
      "application/vnd.jupyter.widget-view+json": {
       "model_id": "e96840445a9d4ec486ea47eb4dfafa50",
       "version_major": 2,
       "version_minor": 0
      },
      "text/plain": [
       "HBox(children=(HTML(value=''), FloatProgress(value=0.0, layout=Layout(flex='2'), max=1.0), HTML(value='')), la…"
      ]
     },
     "metadata": {},
     "output_type": "display_data"
    },
    {
     "name": "stdout",
     "output_type": "stream",
     "text": [
      "\n",
      "Epoch 145/3000\n"
     ]
    },
    {
     "data": {
      "application/vnd.jupyter.widget-view+json": {
       "model_id": "31075ca73bca436d8db655d299afdf2a",
       "version_major": 2,
       "version_minor": 0
      },
      "text/plain": [
       "HBox(children=(HTML(value=''), FloatProgress(value=0.0, layout=Layout(flex='2'), max=1.0), HTML(value='')), la…"
      ]
     },
     "metadata": {},
     "output_type": "display_data"
    },
    {
     "name": "stdout",
     "output_type": "stream",
     "text": [
      "\n",
      "Epoch 146/3000\n"
     ]
    },
    {
     "data": {
      "application/vnd.jupyter.widget-view+json": {
       "model_id": "e84d864c60274c6687156a5ade8d66df",
       "version_major": 2,
       "version_minor": 0
      },
      "text/plain": [
       "HBox(children=(HTML(value=''), FloatProgress(value=0.0, layout=Layout(flex='2'), max=1.0), HTML(value='')), la…"
      ]
     },
     "metadata": {},
     "output_type": "display_data"
    },
    {
     "name": "stdout",
     "output_type": "stream",
     "text": [
      "\n",
      "Epoch 147/3000\n"
     ]
    },
    {
     "data": {
      "application/vnd.jupyter.widget-view+json": {
       "model_id": "2dadff8b2ab640a293806e5a7f2dacd0",
       "version_major": 2,
       "version_minor": 0
      },
      "text/plain": [
       "HBox(children=(HTML(value=''), FloatProgress(value=0.0, layout=Layout(flex='2'), max=1.0), HTML(value='')), la…"
      ]
     },
     "metadata": {},
     "output_type": "display_data"
    },
    {
     "name": "stdout",
     "output_type": "stream",
     "text": [
      "\n",
      "Epoch 148/3000\n"
     ]
    },
    {
     "data": {
      "application/vnd.jupyter.widget-view+json": {
       "model_id": "c760b4767cc9423799d10e1fbb39fee4",
       "version_major": 2,
       "version_minor": 0
      },
      "text/plain": [
       "HBox(children=(HTML(value=''), FloatProgress(value=0.0, layout=Layout(flex='2'), max=1.0), HTML(value='')), la…"
      ]
     },
     "metadata": {},
     "output_type": "display_data"
    },
    {
     "name": "stdout",
     "output_type": "stream",
     "text": [
      "\n",
      "Epoch 149/3000\n"
     ]
    },
    {
     "data": {
      "application/vnd.jupyter.widget-view+json": {
       "model_id": "8401f7909a344cc289c34194b0998413",
       "version_major": 2,
       "version_minor": 0
      },
      "text/plain": [
       "HBox(children=(HTML(value=''), FloatProgress(value=0.0, layout=Layout(flex='2'), max=1.0), HTML(value='')), la…"
      ]
     },
     "metadata": {},
     "output_type": "display_data"
    },
    {
     "name": "stdout",
     "output_type": "stream",
     "text": [
      "\n",
      "Epoch 150/3000\n"
     ]
    },
    {
     "data": {
      "application/vnd.jupyter.widget-view+json": {
       "model_id": "eaa363828f084e1fb9b9025994b3b7b1",
       "version_major": 2,
       "version_minor": 0
      },
      "text/plain": [
       "HBox(children=(HTML(value=''), FloatProgress(value=0.0, layout=Layout(flex='2'), max=1.0), HTML(value='')), la…"
      ]
     },
     "metadata": {},
     "output_type": "display_data"
    },
    {
     "name": "stdout",
     "output_type": "stream",
     "text": [
      "\n",
      "Epoch 151/3000\n"
     ]
    },
    {
     "data": {
      "application/vnd.jupyter.widget-view+json": {
       "model_id": "b2b4401d660d42d3be4c9d6b3fcf6f19",
       "version_major": 2,
       "version_minor": 0
      },
      "text/plain": [
       "HBox(children=(HTML(value=''), FloatProgress(value=0.0, layout=Layout(flex='2'), max=1.0), HTML(value='')), la…"
      ]
     },
     "metadata": {},
     "output_type": "display_data"
    },
    {
     "name": "stdout",
     "output_type": "stream",
     "text": [
      "\n",
      "Epoch 152/3000\n"
     ]
    },
    {
     "data": {
      "application/vnd.jupyter.widget-view+json": {
       "model_id": "93dc31a1df7b48359d74315ff6b1c172",
       "version_major": 2,
       "version_minor": 0
      },
      "text/plain": [
       "HBox(children=(HTML(value=''), FloatProgress(value=0.0, layout=Layout(flex='2'), max=1.0), HTML(value='')), la…"
      ]
     },
     "metadata": {},
     "output_type": "display_data"
    },
    {
     "name": "stdout",
     "output_type": "stream",
     "text": [
      "\n",
      "Epoch 153/3000\n"
     ]
    },
    {
     "data": {
      "application/vnd.jupyter.widget-view+json": {
       "model_id": "de8d5f9c0fc0422e9f2f3ee4ff04f03c",
       "version_major": 2,
       "version_minor": 0
      },
      "text/plain": [
       "HBox(children=(HTML(value=''), FloatProgress(value=0.0, layout=Layout(flex='2'), max=1.0), HTML(value='')), la…"
      ]
     },
     "metadata": {},
     "output_type": "display_data"
    },
    {
     "name": "stdout",
     "output_type": "stream",
     "text": [
      "\n",
      "Epoch 154/3000\n"
     ]
    },
    {
     "data": {
      "application/vnd.jupyter.widget-view+json": {
       "model_id": "f9a2737d490e46b09178a3a5a3ce3996",
       "version_major": 2,
       "version_minor": 0
      },
      "text/plain": [
       "HBox(children=(HTML(value=''), FloatProgress(value=0.0, layout=Layout(flex='2'), max=1.0), HTML(value='')), la…"
      ]
     },
     "metadata": {},
     "output_type": "display_data"
    },
    {
     "name": "stdout",
     "output_type": "stream",
     "text": [
      "\n",
      "Epoch 155/3000\n"
     ]
    },
    {
     "data": {
      "application/vnd.jupyter.widget-view+json": {
       "model_id": "bb00c76d0ef14596a7b7360668dfd0dd",
       "version_major": 2,
       "version_minor": 0
      },
      "text/plain": [
       "HBox(children=(HTML(value=''), FloatProgress(value=0.0, layout=Layout(flex='2'), max=1.0), HTML(value='')), la…"
      ]
     },
     "metadata": {},
     "output_type": "display_data"
    },
    {
     "name": "stdout",
     "output_type": "stream",
     "text": [
      "\n",
      "Epoch 156/3000\n"
     ]
    },
    {
     "data": {
      "application/vnd.jupyter.widget-view+json": {
       "model_id": "987783f953ff43208ec4496c668834a7",
       "version_major": 2,
       "version_minor": 0
      },
      "text/plain": [
       "HBox(children=(HTML(value=''), FloatProgress(value=0.0, layout=Layout(flex='2'), max=1.0), HTML(value='')), la…"
      ]
     },
     "metadata": {},
     "output_type": "display_data"
    },
    {
     "name": "stdout",
     "output_type": "stream",
     "text": [
      "\n",
      "Epoch 157/3000\n"
     ]
    },
    {
     "data": {
      "application/vnd.jupyter.widget-view+json": {
       "model_id": "00249144ff944b35a855d5031bc5b888",
       "version_major": 2,
       "version_minor": 0
      },
      "text/plain": [
       "HBox(children=(HTML(value=''), FloatProgress(value=0.0, layout=Layout(flex='2'), max=1.0), HTML(value='')), la…"
      ]
     },
     "metadata": {},
     "output_type": "display_data"
    },
    {
     "name": "stdout",
     "output_type": "stream",
     "text": [
      "\n",
      "Epoch 158/3000\n"
     ]
    },
    {
     "data": {
      "application/vnd.jupyter.widget-view+json": {
       "model_id": "1a629ab4d4114da48211e56f86f3889f",
       "version_major": 2,
       "version_minor": 0
      },
      "text/plain": [
       "HBox(children=(HTML(value=''), FloatProgress(value=0.0, layout=Layout(flex='2'), max=1.0), HTML(value='')), la…"
      ]
     },
     "metadata": {},
     "output_type": "display_data"
    },
    {
     "name": "stdout",
     "output_type": "stream",
     "text": [
      "\n",
      "Epoch 159/3000\n"
     ]
    },
    {
     "data": {
      "application/vnd.jupyter.widget-view+json": {
       "model_id": "d09ab9eed4ea419a99d98a665e2c78ff",
       "version_major": 2,
       "version_minor": 0
      },
      "text/plain": [
       "HBox(children=(HTML(value=''), FloatProgress(value=0.0, layout=Layout(flex='2'), max=1.0), HTML(value='')), la…"
      ]
     },
     "metadata": {},
     "output_type": "display_data"
    },
    {
     "name": "stdout",
     "output_type": "stream",
     "text": [
      "\n",
      "Epoch 160/3000\n"
     ]
    },
    {
     "data": {
      "application/vnd.jupyter.widget-view+json": {
       "model_id": "78664199c357445c941b1db23c3fc8f4",
       "version_major": 2,
       "version_minor": 0
      },
      "text/plain": [
       "HBox(children=(HTML(value=''), FloatProgress(value=0.0, layout=Layout(flex='2'), max=1.0), HTML(value='')), la…"
      ]
     },
     "metadata": {},
     "output_type": "display_data"
    },
    {
     "name": "stdout",
     "output_type": "stream",
     "text": [
      "\n",
      "Epoch 161/3000\n"
     ]
    },
    {
     "data": {
      "application/vnd.jupyter.widget-view+json": {
       "model_id": "4adbba5de6954a5ab052f200208f2379",
       "version_major": 2,
       "version_minor": 0
      },
      "text/plain": [
       "HBox(children=(HTML(value=''), FloatProgress(value=0.0, layout=Layout(flex='2'), max=1.0), HTML(value='')), la…"
      ]
     },
     "metadata": {},
     "output_type": "display_data"
    },
    {
     "name": "stdout",
     "output_type": "stream",
     "text": [
      "\n",
      "Epoch 162/3000\n"
     ]
    },
    {
     "data": {
      "application/vnd.jupyter.widget-view+json": {
       "model_id": "889df24b8bd942348fbc08a862356360",
       "version_major": 2,
       "version_minor": 0
      },
      "text/plain": [
       "HBox(children=(HTML(value=''), FloatProgress(value=0.0, layout=Layout(flex='2'), max=1.0), HTML(value='')), la…"
      ]
     },
     "metadata": {},
     "output_type": "display_data"
    },
    {
     "name": "stdout",
     "output_type": "stream",
     "text": [
      "\n",
      "Epoch 163/3000\n"
     ]
    },
    {
     "data": {
      "application/vnd.jupyter.widget-view+json": {
       "model_id": "a4e4328e87b34509b51eb49c7187c89a",
       "version_major": 2,
       "version_minor": 0
      },
      "text/plain": [
       "HBox(children=(HTML(value=''), FloatProgress(value=0.0, layout=Layout(flex='2'), max=1.0), HTML(value='')), la…"
      ]
     },
     "metadata": {},
     "output_type": "display_data"
    },
    {
     "name": "stdout",
     "output_type": "stream",
     "text": [
      "\n",
      "Epoch 164/3000\n"
     ]
    },
    {
     "data": {
      "application/vnd.jupyter.widget-view+json": {
       "model_id": "9db1495f6784497db371bef121e2ad5b",
       "version_major": 2,
       "version_minor": 0
      },
      "text/plain": [
       "HBox(children=(HTML(value=''), FloatProgress(value=0.0, layout=Layout(flex='2'), max=1.0), HTML(value='')), la…"
      ]
     },
     "metadata": {},
     "output_type": "display_data"
    },
    {
     "name": "stdout",
     "output_type": "stream",
     "text": [
      "\n",
      "Epoch 165/3000\n"
     ]
    },
    {
     "data": {
      "application/vnd.jupyter.widget-view+json": {
       "model_id": "8a66f762f5074cc3ab98dd594c9dcbac",
       "version_major": 2,
       "version_minor": 0
      },
      "text/plain": [
       "HBox(children=(HTML(value=''), FloatProgress(value=0.0, layout=Layout(flex='2'), max=1.0), HTML(value='')), la…"
      ]
     },
     "metadata": {},
     "output_type": "display_data"
    },
    {
     "name": "stdout",
     "output_type": "stream",
     "text": [
      "\n",
      "Epoch 166/3000\n"
     ]
    },
    {
     "data": {
      "application/vnd.jupyter.widget-view+json": {
       "model_id": "7d6276ae42cd437bb05890ecd33868a8",
       "version_major": 2,
       "version_minor": 0
      },
      "text/plain": [
       "HBox(children=(HTML(value=''), FloatProgress(value=0.0, layout=Layout(flex='2'), max=1.0), HTML(value='')), la…"
      ]
     },
     "metadata": {},
     "output_type": "display_data"
    },
    {
     "name": "stdout",
     "output_type": "stream",
     "text": [
      "\n",
      "Epoch 167/3000\n"
     ]
    },
    {
     "data": {
      "application/vnd.jupyter.widget-view+json": {
       "model_id": "e5b601cf22d845568074ea500607d5f6",
       "version_major": 2,
       "version_minor": 0
      },
      "text/plain": [
       "HBox(children=(HTML(value=''), FloatProgress(value=0.0, layout=Layout(flex='2'), max=1.0), HTML(value='')), la…"
      ]
     },
     "metadata": {},
     "output_type": "display_data"
    },
    {
     "name": "stdout",
     "output_type": "stream",
     "text": [
      "\n",
      "Epoch 168/3000\n"
     ]
    },
    {
     "data": {
      "application/vnd.jupyter.widget-view+json": {
       "model_id": "dd7eb0606e6f4ee0aeec7eb266ccaf46",
       "version_major": 2,
       "version_minor": 0
      },
      "text/plain": [
       "HBox(children=(HTML(value=''), FloatProgress(value=0.0, layout=Layout(flex='2'), max=1.0), HTML(value='')), la…"
      ]
     },
     "metadata": {},
     "output_type": "display_data"
    },
    {
     "name": "stdout",
     "output_type": "stream",
     "text": [
      "\n",
      "Epoch 169/3000\n"
     ]
    },
    {
     "data": {
      "application/vnd.jupyter.widget-view+json": {
       "model_id": "e61801dfa4d8423d94987b0ae835f43f",
       "version_major": 2,
       "version_minor": 0
      },
      "text/plain": [
       "HBox(children=(HTML(value=''), FloatProgress(value=0.0, layout=Layout(flex='2'), max=1.0), HTML(value='')), la…"
      ]
     },
     "metadata": {},
     "output_type": "display_data"
    },
    {
     "name": "stdout",
     "output_type": "stream",
     "text": [
      "\n",
      "Epoch 170/3000\n"
     ]
    },
    {
     "data": {
      "application/vnd.jupyter.widget-view+json": {
       "model_id": "556586e17b594b0992271280c982526e",
       "version_major": 2,
       "version_minor": 0
      },
      "text/plain": [
       "HBox(children=(HTML(value=''), FloatProgress(value=0.0, layout=Layout(flex='2'), max=1.0), HTML(value='')), la…"
      ]
     },
     "metadata": {},
     "output_type": "display_data"
    },
    {
     "name": "stdout",
     "output_type": "stream",
     "text": [
      "\n",
      "Epoch 171/3000\n"
     ]
    },
    {
     "data": {
      "application/vnd.jupyter.widget-view+json": {
       "model_id": "e41921757cd84c1ebd51d778e197735b",
       "version_major": 2,
       "version_minor": 0
      },
      "text/plain": [
       "HBox(children=(HTML(value=''), FloatProgress(value=0.0, layout=Layout(flex='2'), max=1.0), HTML(value='')), la…"
      ]
     },
     "metadata": {},
     "output_type": "display_data"
    },
    {
     "name": "stdout",
     "output_type": "stream",
     "text": [
      "\n",
      "Epoch 172/3000\n"
     ]
    },
    {
     "data": {
      "application/vnd.jupyter.widget-view+json": {
       "model_id": "e8e1bfc00a5c4548a46bc2de09bfb052",
       "version_major": 2,
       "version_minor": 0
      },
      "text/plain": [
       "HBox(children=(HTML(value=''), FloatProgress(value=0.0, layout=Layout(flex='2'), max=1.0), HTML(value='')), la…"
      ]
     },
     "metadata": {},
     "output_type": "display_data"
    },
    {
     "name": "stdout",
     "output_type": "stream",
     "text": [
      "\n",
      "Epoch 173/3000\n"
     ]
    },
    {
     "data": {
      "application/vnd.jupyter.widget-view+json": {
       "model_id": "70ac12ea946d4596bd0537bbeff0a67c",
       "version_major": 2,
       "version_minor": 0
      },
      "text/plain": [
       "HBox(children=(HTML(value=''), FloatProgress(value=0.0, layout=Layout(flex='2'), max=1.0), HTML(value='')), la…"
      ]
     },
     "metadata": {},
     "output_type": "display_data"
    },
    {
     "name": "stdout",
     "output_type": "stream",
     "text": [
      "\n",
      "Epoch 174/3000\n"
     ]
    },
    {
     "data": {
      "application/vnd.jupyter.widget-view+json": {
       "model_id": "8d04704fd6684ecba61d970e0f3df3e7",
       "version_major": 2,
       "version_minor": 0
      },
      "text/plain": [
       "HBox(children=(HTML(value=''), FloatProgress(value=0.0, layout=Layout(flex='2'), max=1.0), HTML(value='')), la…"
      ]
     },
     "metadata": {},
     "output_type": "display_data"
    },
    {
     "name": "stdout",
     "output_type": "stream",
     "text": [
      "\n",
      "Epoch 175/3000\n"
     ]
    },
    {
     "data": {
      "application/vnd.jupyter.widget-view+json": {
       "model_id": "20935a6fc9a04643858d035cfa286e41",
       "version_major": 2,
       "version_minor": 0
      },
      "text/plain": [
       "HBox(children=(HTML(value=''), FloatProgress(value=0.0, layout=Layout(flex='2'), max=1.0), HTML(value='')), la…"
      ]
     },
     "metadata": {},
     "output_type": "display_data"
    },
    {
     "name": "stdout",
     "output_type": "stream",
     "text": [
      "\n",
      "Epoch 176/3000\n"
     ]
    },
    {
     "data": {
      "application/vnd.jupyter.widget-view+json": {
       "model_id": "e7a7f5d46da14e4d8a68ad7881ed2135",
       "version_major": 2,
       "version_minor": 0
      },
      "text/plain": [
       "HBox(children=(HTML(value=''), FloatProgress(value=0.0, layout=Layout(flex='2'), max=1.0), HTML(value='')), la…"
      ]
     },
     "metadata": {},
     "output_type": "display_data"
    },
    {
     "name": "stdout",
     "output_type": "stream",
     "text": [
      "\n",
      "Epoch 177/3000\n"
     ]
    },
    {
     "data": {
      "application/vnd.jupyter.widget-view+json": {
       "model_id": "085422fd5e9041e1af3312432980e06b",
       "version_major": 2,
       "version_minor": 0
      },
      "text/plain": [
       "HBox(children=(HTML(value=''), FloatProgress(value=0.0, layout=Layout(flex='2'), max=1.0), HTML(value='')), la…"
      ]
     },
     "metadata": {},
     "output_type": "display_data"
    },
    {
     "name": "stdout",
     "output_type": "stream",
     "text": [
      "\n",
      "Epoch 178/3000\n"
     ]
    },
    {
     "data": {
      "application/vnd.jupyter.widget-view+json": {
       "model_id": "b0650e3f9ad64ac19acf2f125b7d1ef6",
       "version_major": 2,
       "version_minor": 0
      },
      "text/plain": [
       "HBox(children=(HTML(value=''), FloatProgress(value=0.0, layout=Layout(flex='2'), max=1.0), HTML(value='')), la…"
      ]
     },
     "metadata": {},
     "output_type": "display_data"
    },
    {
     "name": "stdout",
     "output_type": "stream",
     "text": [
      "\n",
      "Epoch 179/3000\n"
     ]
    },
    {
     "data": {
      "application/vnd.jupyter.widget-view+json": {
       "model_id": "9acbaa7e39764c639ed13ef7e8840c31",
       "version_major": 2,
       "version_minor": 0
      },
      "text/plain": [
       "HBox(children=(HTML(value=''), FloatProgress(value=0.0, layout=Layout(flex='2'), max=1.0), HTML(value='')), la…"
      ]
     },
     "metadata": {},
     "output_type": "display_data"
    },
    {
     "name": "stdout",
     "output_type": "stream",
     "text": [
      "\n",
      "Epoch 180/3000\n"
     ]
    },
    {
     "data": {
      "application/vnd.jupyter.widget-view+json": {
       "model_id": "ae58a267f57c408fbbb222e23e0393b4",
       "version_major": 2,
       "version_minor": 0
      },
      "text/plain": [
       "HBox(children=(HTML(value=''), FloatProgress(value=0.0, layout=Layout(flex='2'), max=1.0), HTML(value='')), la…"
      ]
     },
     "metadata": {},
     "output_type": "display_data"
    },
    {
     "name": "stdout",
     "output_type": "stream",
     "text": [
      "\n",
      "Epoch 181/3000\n"
     ]
    },
    {
     "data": {
      "application/vnd.jupyter.widget-view+json": {
       "model_id": "8d69410640874deeb4836b6b86738200",
       "version_major": 2,
       "version_minor": 0
      },
      "text/plain": [
       "HBox(children=(HTML(value=''), FloatProgress(value=0.0, layout=Layout(flex='2'), max=1.0), HTML(value='')), la…"
      ]
     },
     "metadata": {},
     "output_type": "display_data"
    },
    {
     "name": "stdout",
     "output_type": "stream",
     "text": [
      "\n",
      "Epoch 182/3000\n"
     ]
    },
    {
     "data": {
      "application/vnd.jupyter.widget-view+json": {
       "model_id": "35b61509e1c34c5ab7ed2f1bbc685381",
       "version_major": 2,
       "version_minor": 0
      },
      "text/plain": [
       "HBox(children=(HTML(value=''), FloatProgress(value=0.0, layout=Layout(flex='2'), max=1.0), HTML(value='')), la…"
      ]
     },
     "metadata": {},
     "output_type": "display_data"
    },
    {
     "name": "stdout",
     "output_type": "stream",
     "text": [
      "\n",
      "Epoch 183/3000\n"
     ]
    },
    {
     "data": {
      "application/vnd.jupyter.widget-view+json": {
       "model_id": "ec48518267c2432b809de727ac8c90b3",
       "version_major": 2,
       "version_minor": 0
      },
      "text/plain": [
       "HBox(children=(HTML(value=''), FloatProgress(value=0.0, layout=Layout(flex='2'), max=1.0), HTML(value='')), la…"
      ]
     },
     "metadata": {},
     "output_type": "display_data"
    },
    {
     "name": "stdout",
     "output_type": "stream",
     "text": [
      "\n",
      "Epoch 184/3000\n"
     ]
    },
    {
     "data": {
      "application/vnd.jupyter.widget-view+json": {
       "model_id": "915861f0bbc14f40aee992272989ebea",
       "version_major": 2,
       "version_minor": 0
      },
      "text/plain": [
       "HBox(children=(HTML(value=''), FloatProgress(value=0.0, layout=Layout(flex='2'), max=1.0), HTML(value='')), la…"
      ]
     },
     "metadata": {},
     "output_type": "display_data"
    },
    {
     "name": "stdout",
     "output_type": "stream",
     "text": [
      "\n",
      "Epoch 185/3000\n"
     ]
    },
    {
     "data": {
      "application/vnd.jupyter.widget-view+json": {
       "model_id": "b4eb2c4949af4f168238456bf173fe8a",
       "version_major": 2,
       "version_minor": 0
      },
      "text/plain": [
       "HBox(children=(HTML(value=''), FloatProgress(value=0.0, layout=Layout(flex='2'), max=1.0), HTML(value='')), la…"
      ]
     },
     "metadata": {},
     "output_type": "display_data"
    },
    {
     "name": "stdout",
     "output_type": "stream",
     "text": [
      "\n",
      "Epoch 186/3000\n"
     ]
    },
    {
     "data": {
      "application/vnd.jupyter.widget-view+json": {
       "model_id": "49a84af7e35a4b9cbb9cd20f5182381d",
       "version_major": 2,
       "version_minor": 0
      },
      "text/plain": [
       "HBox(children=(HTML(value=''), FloatProgress(value=0.0, layout=Layout(flex='2'), max=1.0), HTML(value='')), la…"
      ]
     },
     "metadata": {},
     "output_type": "display_data"
    },
    {
     "name": "stdout",
     "output_type": "stream",
     "text": [
      "\n",
      "Epoch 187/3000\n"
     ]
    },
    {
     "data": {
      "application/vnd.jupyter.widget-view+json": {
       "model_id": "44c6ae6c6d5c4912bb828845ad5cd30f",
       "version_major": 2,
       "version_minor": 0
      },
      "text/plain": [
       "HBox(children=(HTML(value=''), FloatProgress(value=0.0, layout=Layout(flex='2'), max=1.0), HTML(value='')), la…"
      ]
     },
     "metadata": {},
     "output_type": "display_data"
    },
    {
     "name": "stdout",
     "output_type": "stream",
     "text": [
      "\n",
      "Epoch 188/3000\n"
     ]
    },
    {
     "data": {
      "application/vnd.jupyter.widget-view+json": {
       "model_id": "fbcc87ed2dd545b09d254abeb0e9970c",
       "version_major": 2,
       "version_minor": 0
      },
      "text/plain": [
       "HBox(children=(HTML(value=''), FloatProgress(value=0.0, layout=Layout(flex='2'), max=1.0), HTML(value='')), la…"
      ]
     },
     "metadata": {},
     "output_type": "display_data"
    },
    {
     "name": "stdout",
     "output_type": "stream",
     "text": [
      "\n",
      "Epoch 189/3000\n"
     ]
    },
    {
     "data": {
      "application/vnd.jupyter.widget-view+json": {
       "model_id": "2ce00ec1059541568600a487e54033dc",
       "version_major": 2,
       "version_minor": 0
      },
      "text/plain": [
       "HBox(children=(HTML(value=''), FloatProgress(value=0.0, layout=Layout(flex='2'), max=1.0), HTML(value='')), la…"
      ]
     },
     "metadata": {},
     "output_type": "display_data"
    },
    {
     "name": "stdout",
     "output_type": "stream",
     "text": [
      "\n",
      "Epoch 190/3000\n"
     ]
    },
    {
     "data": {
      "application/vnd.jupyter.widget-view+json": {
       "model_id": "c242666c1b7a4775a3a8494c410955d8",
       "version_major": 2,
       "version_minor": 0
      },
      "text/plain": [
       "HBox(children=(HTML(value=''), FloatProgress(value=0.0, layout=Layout(flex='2'), max=1.0), HTML(value='')), la…"
      ]
     },
     "metadata": {},
     "output_type": "display_data"
    },
    {
     "name": "stdout",
     "output_type": "stream",
     "text": [
      "\n",
      "Epoch 191/3000\n"
     ]
    },
    {
     "data": {
      "application/vnd.jupyter.widget-view+json": {
       "model_id": "03b1a5dc23564953a5fd6a961dcccb02",
       "version_major": 2,
       "version_minor": 0
      },
      "text/plain": [
       "HBox(children=(HTML(value=''), FloatProgress(value=0.0, layout=Layout(flex='2'), max=1.0), HTML(value='')), la…"
      ]
     },
     "metadata": {},
     "output_type": "display_data"
    },
    {
     "name": "stdout",
     "output_type": "stream",
     "text": [
      "\n",
      "Epoch 192/3000\n"
     ]
    },
    {
     "data": {
      "application/vnd.jupyter.widget-view+json": {
       "model_id": "48025d5adbe74d4ca35cb6459609bca7",
       "version_major": 2,
       "version_minor": 0
      },
      "text/plain": [
       "HBox(children=(HTML(value=''), FloatProgress(value=0.0, layout=Layout(flex='2'), max=1.0), HTML(value='')), la…"
      ]
     },
     "metadata": {},
     "output_type": "display_data"
    },
    {
     "name": "stdout",
     "output_type": "stream",
     "text": [
      "\n",
      "Epoch 193/3000\n"
     ]
    },
    {
     "data": {
      "application/vnd.jupyter.widget-view+json": {
       "model_id": "c7c763c577d440e18322d75723455238",
       "version_major": 2,
       "version_minor": 0
      },
      "text/plain": [
       "HBox(children=(HTML(value=''), FloatProgress(value=0.0, layout=Layout(flex='2'), max=1.0), HTML(value='')), la…"
      ]
     },
     "metadata": {},
     "output_type": "display_data"
    },
    {
     "name": "stdout",
     "output_type": "stream",
     "text": [
      "\n",
      "Epoch 194/3000\n"
     ]
    },
    {
     "data": {
      "application/vnd.jupyter.widget-view+json": {
       "model_id": "4ca92e0dd4fd4f0782028c56f00c81d6",
       "version_major": 2,
       "version_minor": 0
      },
      "text/plain": [
       "HBox(children=(HTML(value=''), FloatProgress(value=0.0, layout=Layout(flex='2'), max=1.0), HTML(value='')), la…"
      ]
     },
     "metadata": {},
     "output_type": "display_data"
    },
    {
     "name": "stdout",
     "output_type": "stream",
     "text": [
      "\n",
      "Epoch 195/3000\n"
     ]
    },
    {
     "data": {
      "application/vnd.jupyter.widget-view+json": {
       "model_id": "b1443f042c2646ecbda92a547fc35a54",
       "version_major": 2,
       "version_minor": 0
      },
      "text/plain": [
       "HBox(children=(HTML(value=''), FloatProgress(value=0.0, layout=Layout(flex='2'), max=1.0), HTML(value='')), la…"
      ]
     },
     "metadata": {},
     "output_type": "display_data"
    },
    {
     "name": "stdout",
     "output_type": "stream",
     "text": [
      "\n",
      "Epoch 196/3000\n"
     ]
    },
    {
     "data": {
      "application/vnd.jupyter.widget-view+json": {
       "model_id": "1e22f58e3fec483cb2cebd086433ef69",
       "version_major": 2,
       "version_minor": 0
      },
      "text/plain": [
       "HBox(children=(HTML(value=''), FloatProgress(value=0.0, layout=Layout(flex='2'), max=1.0), HTML(value='')), la…"
      ]
     },
     "metadata": {},
     "output_type": "display_data"
    },
    {
     "name": "stdout",
     "output_type": "stream",
     "text": [
      "\n",
      "Epoch 197/3000\n"
     ]
    },
    {
     "data": {
      "application/vnd.jupyter.widget-view+json": {
       "model_id": "a006ca527e4e4af89f9812644e739339",
       "version_major": 2,
       "version_minor": 0
      },
      "text/plain": [
       "HBox(children=(HTML(value=''), FloatProgress(value=0.0, layout=Layout(flex='2'), max=1.0), HTML(value='')), la…"
      ]
     },
     "metadata": {},
     "output_type": "display_data"
    },
    {
     "name": "stdout",
     "output_type": "stream",
     "text": [
      "\n",
      "Epoch 198/3000\n"
     ]
    },
    {
     "data": {
      "application/vnd.jupyter.widget-view+json": {
       "model_id": "efeb72030a1f44268c1274a50bcb7ce3",
       "version_major": 2,
       "version_minor": 0
      },
      "text/plain": [
       "HBox(children=(HTML(value=''), FloatProgress(value=0.0, layout=Layout(flex='2'), max=1.0), HTML(value='')), la…"
      ]
     },
     "metadata": {},
     "output_type": "display_data"
    },
    {
     "name": "stdout",
     "output_type": "stream",
     "text": [
      "\n",
      "Epoch 199/3000\n"
     ]
    },
    {
     "data": {
      "application/vnd.jupyter.widget-view+json": {
       "model_id": "54f46ee234cd4d938ff3caf1a6b68c06",
       "version_major": 2,
       "version_minor": 0
      },
      "text/plain": [
       "HBox(children=(HTML(value=''), FloatProgress(value=0.0, layout=Layout(flex='2'), max=1.0), HTML(value='')), la…"
      ]
     },
     "metadata": {},
     "output_type": "display_data"
    },
    {
     "name": "stdout",
     "output_type": "stream",
     "text": [
      "\n",
      "Epoch 200/3000\n"
     ]
    },
    {
     "data": {
      "application/vnd.jupyter.widget-view+json": {
       "model_id": "3ba9448547244e9daed6ebdcfc801f43",
       "version_major": 2,
       "version_minor": 0
      },
      "text/plain": [
       "HBox(children=(HTML(value=''), FloatProgress(value=0.0, layout=Layout(flex='2'), max=1.0), HTML(value='')), la…"
      ]
     },
     "metadata": {},
     "output_type": "display_data"
    },
    {
     "name": "stdout",
     "output_type": "stream",
     "text": [
      "\n",
      "Epoch 201/3000\n"
     ]
    },
    {
     "data": {
      "application/vnd.jupyter.widget-view+json": {
       "model_id": "a47d58ddd68e4c2396d46b2d8b4006ac",
       "version_major": 2,
       "version_minor": 0
      },
      "text/plain": [
       "HBox(children=(HTML(value=''), FloatProgress(value=0.0, layout=Layout(flex='2'), max=1.0), HTML(value='')), la…"
      ]
     },
     "metadata": {},
     "output_type": "display_data"
    },
    {
     "name": "stdout",
     "output_type": "stream",
     "text": [
      "\n",
      "Epoch 202/3000\n"
     ]
    },
    {
     "data": {
      "application/vnd.jupyter.widget-view+json": {
       "model_id": "f999858d52f54ad7b16a242f92342138",
       "version_major": 2,
       "version_minor": 0
      },
      "text/plain": [
       "HBox(children=(HTML(value=''), FloatProgress(value=0.0, layout=Layout(flex='2'), max=1.0), HTML(value='')), la…"
      ]
     },
     "metadata": {},
     "output_type": "display_data"
    },
    {
     "name": "stdout",
     "output_type": "stream",
     "text": [
      "\n",
      "Epoch 203/3000\n"
     ]
    },
    {
     "data": {
      "application/vnd.jupyter.widget-view+json": {
       "model_id": "4ea4d18ecedf4958b131d203c930ea35",
       "version_major": 2,
       "version_minor": 0
      },
      "text/plain": [
       "HBox(children=(HTML(value=''), FloatProgress(value=0.0, layout=Layout(flex='2'), max=1.0), HTML(value='')), la…"
      ]
     },
     "metadata": {},
     "output_type": "display_data"
    },
    {
     "name": "stdout",
     "output_type": "stream",
     "text": [
      "\n",
      "Epoch 204/3000\n"
     ]
    },
    {
     "data": {
      "application/vnd.jupyter.widget-view+json": {
       "model_id": "1ed0ca385e4a437fafc56407abf7d3d8",
       "version_major": 2,
       "version_minor": 0
      },
      "text/plain": [
       "HBox(children=(HTML(value=''), FloatProgress(value=0.0, layout=Layout(flex='2'), max=1.0), HTML(value='')), la…"
      ]
     },
     "metadata": {},
     "output_type": "display_data"
    },
    {
     "name": "stdout",
     "output_type": "stream",
     "text": [
      "\n",
      "Epoch 205/3000\n"
     ]
    },
    {
     "data": {
      "application/vnd.jupyter.widget-view+json": {
       "model_id": "1c667d48f75a4dafbf89e5603567e3a9",
       "version_major": 2,
       "version_minor": 0
      },
      "text/plain": [
       "HBox(children=(HTML(value=''), FloatProgress(value=0.0, layout=Layout(flex='2'), max=1.0), HTML(value='')), la…"
      ]
     },
     "metadata": {},
     "output_type": "display_data"
    },
    {
     "name": "stdout",
     "output_type": "stream",
     "text": [
      "\n",
      "Epoch 206/3000\n"
     ]
    },
    {
     "data": {
      "application/vnd.jupyter.widget-view+json": {
       "model_id": "b60859e95bc544389f9026389b85153b",
       "version_major": 2,
       "version_minor": 0
      },
      "text/plain": [
       "HBox(children=(HTML(value=''), FloatProgress(value=0.0, layout=Layout(flex='2'), max=1.0), HTML(value='')), la…"
      ]
     },
     "metadata": {},
     "output_type": "display_data"
    },
    {
     "name": "stdout",
     "output_type": "stream",
     "text": [
      "\n",
      "Epoch 207/3000\n"
     ]
    },
    {
     "data": {
      "application/vnd.jupyter.widget-view+json": {
       "model_id": "ef5b635ab1364f8db3474e39c65aff91",
       "version_major": 2,
       "version_minor": 0
      },
      "text/plain": [
       "HBox(children=(HTML(value=''), FloatProgress(value=0.0, layout=Layout(flex='2'), max=1.0), HTML(value='')), la…"
      ]
     },
     "metadata": {},
     "output_type": "display_data"
    },
    {
     "name": "stdout",
     "output_type": "stream",
     "text": [
      "\n",
      "Epoch 208/3000\n"
     ]
    },
    {
     "data": {
      "application/vnd.jupyter.widget-view+json": {
       "model_id": "9af166e543ac42cd9380acb4fb98c80f",
       "version_major": 2,
       "version_minor": 0
      },
      "text/plain": [
       "HBox(children=(HTML(value=''), FloatProgress(value=0.0, layout=Layout(flex='2'), max=1.0), HTML(value='')), la…"
      ]
     },
     "metadata": {},
     "output_type": "display_data"
    },
    {
     "name": "stdout",
     "output_type": "stream",
     "text": [
      "\n",
      "Epoch 209/3000\n"
     ]
    },
    {
     "data": {
      "application/vnd.jupyter.widget-view+json": {
       "model_id": "bd5a2ed49d784b8c9ef78d820b8a5a46",
       "version_major": 2,
       "version_minor": 0
      },
      "text/plain": [
       "HBox(children=(HTML(value=''), FloatProgress(value=0.0, layout=Layout(flex='2'), max=1.0), HTML(value='')), la…"
      ]
     },
     "metadata": {},
     "output_type": "display_data"
    },
    {
     "name": "stdout",
     "output_type": "stream",
     "text": [
      "\n",
      "Epoch 210/3000\n"
     ]
    },
    {
     "data": {
      "application/vnd.jupyter.widget-view+json": {
       "model_id": "6f198fd5805d4e7695c317696720075e",
       "version_major": 2,
       "version_minor": 0
      },
      "text/plain": [
       "HBox(children=(HTML(value=''), FloatProgress(value=0.0, layout=Layout(flex='2'), max=1.0), HTML(value='')), la…"
      ]
     },
     "metadata": {},
     "output_type": "display_data"
    },
    {
     "name": "stdout",
     "output_type": "stream",
     "text": [
      "\n",
      "Epoch 211/3000\n"
     ]
    },
    {
     "data": {
      "application/vnd.jupyter.widget-view+json": {
       "model_id": "d264176c0c3f49d8a416dea68a921f4b",
       "version_major": 2,
       "version_minor": 0
      },
      "text/plain": [
       "HBox(children=(HTML(value=''), FloatProgress(value=0.0, layout=Layout(flex='2'), max=1.0), HTML(value='')), la…"
      ]
     },
     "metadata": {},
     "output_type": "display_data"
    },
    {
     "name": "stdout",
     "output_type": "stream",
     "text": [
      "\n",
      "Epoch 212/3000\n"
     ]
    },
    {
     "data": {
      "application/vnd.jupyter.widget-view+json": {
       "model_id": "2d6fd1f2de304659943b7f15ed065cf3",
       "version_major": 2,
       "version_minor": 0
      },
      "text/plain": [
       "HBox(children=(HTML(value=''), FloatProgress(value=0.0, layout=Layout(flex='2'), max=1.0), HTML(value='')), la…"
      ]
     },
     "metadata": {},
     "output_type": "display_data"
    },
    {
     "name": "stdout",
     "output_type": "stream",
     "text": [
      "\n",
      "Epoch 213/3000\n"
     ]
    },
    {
     "data": {
      "application/vnd.jupyter.widget-view+json": {
       "model_id": "1e6e3274f7b343e1a8f4eb3f521562f3",
       "version_major": 2,
       "version_minor": 0
      },
      "text/plain": [
       "HBox(children=(HTML(value=''), FloatProgress(value=0.0, layout=Layout(flex='2'), max=1.0), HTML(value='')), la…"
      ]
     },
     "metadata": {},
     "output_type": "display_data"
    },
    {
     "name": "stdout",
     "output_type": "stream",
     "text": [
      "\n",
      "Epoch 214/3000\n"
     ]
    },
    {
     "data": {
      "application/vnd.jupyter.widget-view+json": {
       "model_id": "e06d129785b24682bdee9bab25c42e78",
       "version_major": 2,
       "version_minor": 0
      },
      "text/plain": [
       "HBox(children=(HTML(value=''), FloatProgress(value=0.0, layout=Layout(flex='2'), max=1.0), HTML(value='')), la…"
      ]
     },
     "metadata": {},
     "output_type": "display_data"
    },
    {
     "name": "stdout",
     "output_type": "stream",
     "text": [
      "\n",
      "Epoch 215/3000\n"
     ]
    },
    {
     "data": {
      "application/vnd.jupyter.widget-view+json": {
       "model_id": "c394b07aca15478c8dbe23eadee2cdc0",
       "version_major": 2,
       "version_minor": 0
      },
      "text/plain": [
       "HBox(children=(HTML(value=''), FloatProgress(value=0.0, layout=Layout(flex='2'), max=1.0), HTML(value='')), la…"
      ]
     },
     "metadata": {},
     "output_type": "display_data"
    },
    {
     "name": "stdout",
     "output_type": "stream",
     "text": [
      "\n",
      "Epoch 216/3000\n"
     ]
    },
    {
     "data": {
      "application/vnd.jupyter.widget-view+json": {
       "model_id": "0c7554dbc23741acbaaeb77bc58da50d",
       "version_major": 2,
       "version_minor": 0
      },
      "text/plain": [
       "HBox(children=(HTML(value=''), FloatProgress(value=0.0, layout=Layout(flex='2'), max=1.0), HTML(value='')), la…"
      ]
     },
     "metadata": {},
     "output_type": "display_data"
    },
    {
     "name": "stdout",
     "output_type": "stream",
     "text": [
      "\n",
      "Epoch 217/3000\n"
     ]
    },
    {
     "data": {
      "application/vnd.jupyter.widget-view+json": {
       "model_id": "fe1e5d46c380425d9d11be752daef9a6",
       "version_major": 2,
       "version_minor": 0
      },
      "text/plain": [
       "HBox(children=(HTML(value=''), FloatProgress(value=0.0, layout=Layout(flex='2'), max=1.0), HTML(value='')), la…"
      ]
     },
     "metadata": {},
     "output_type": "display_data"
    },
    {
     "name": "stdout",
     "output_type": "stream",
     "text": [
      "\n",
      "Epoch 218/3000\n"
     ]
    },
    {
     "data": {
      "application/vnd.jupyter.widget-view+json": {
       "model_id": "9dce56a6ed2c41689a0a9ea8254f96d0",
       "version_major": 2,
       "version_minor": 0
      },
      "text/plain": [
       "HBox(children=(HTML(value=''), FloatProgress(value=0.0, layout=Layout(flex='2'), max=1.0), HTML(value='')), la…"
      ]
     },
     "metadata": {},
     "output_type": "display_data"
    },
    {
     "name": "stdout",
     "output_type": "stream",
     "text": [
      "\n",
      "Epoch 219/3000\n"
     ]
    },
    {
     "data": {
      "application/vnd.jupyter.widget-view+json": {
       "model_id": "d942a545218f4f8f85e5e14fb5c91aa3",
       "version_major": 2,
       "version_minor": 0
      },
      "text/plain": [
       "HBox(children=(HTML(value=''), FloatProgress(value=0.0, layout=Layout(flex='2'), max=1.0), HTML(value='')), la…"
      ]
     },
     "metadata": {},
     "output_type": "display_data"
    },
    {
     "name": "stdout",
     "output_type": "stream",
     "text": [
      "\n",
      "Epoch 220/3000\n"
     ]
    },
    {
     "data": {
      "application/vnd.jupyter.widget-view+json": {
       "model_id": "f60534cd43cd404fa6cbc8dcdd4f362e",
       "version_major": 2,
       "version_minor": 0
      },
      "text/plain": [
       "HBox(children=(HTML(value=''), FloatProgress(value=0.0, layout=Layout(flex='2'), max=1.0), HTML(value='')), la…"
      ]
     },
     "metadata": {},
     "output_type": "display_data"
    },
    {
     "name": "stdout",
     "output_type": "stream",
     "text": [
      "\n",
      "Epoch 221/3000\n"
     ]
    },
    {
     "data": {
      "application/vnd.jupyter.widget-view+json": {
       "model_id": "2ba91f079c9b4dc78082f295f3f08a13",
       "version_major": 2,
       "version_minor": 0
      },
      "text/plain": [
       "HBox(children=(HTML(value=''), FloatProgress(value=0.0, layout=Layout(flex='2'), max=1.0), HTML(value='')), la…"
      ]
     },
     "metadata": {},
     "output_type": "display_data"
    },
    {
     "name": "stdout",
     "output_type": "stream",
     "text": [
      "\n",
      "Epoch 222/3000\n"
     ]
    },
    {
     "data": {
      "application/vnd.jupyter.widget-view+json": {
       "model_id": "fa62e5367cf54da3b351bc87fa549435",
       "version_major": 2,
       "version_minor": 0
      },
      "text/plain": [
       "HBox(children=(HTML(value=''), FloatProgress(value=0.0, layout=Layout(flex='2'), max=1.0), HTML(value='')), la…"
      ]
     },
     "metadata": {},
     "output_type": "display_data"
    },
    {
     "name": "stdout",
     "output_type": "stream",
     "text": [
      "\n",
      "Epoch 223/3000\n"
     ]
    },
    {
     "data": {
      "application/vnd.jupyter.widget-view+json": {
       "model_id": "95134b887b1d48a8b79f77763bea44d3",
       "version_major": 2,
       "version_minor": 0
      },
      "text/plain": [
       "HBox(children=(HTML(value=''), FloatProgress(value=0.0, layout=Layout(flex='2'), max=1.0), HTML(value='')), la…"
      ]
     },
     "metadata": {},
     "output_type": "display_data"
    },
    {
     "name": "stdout",
     "output_type": "stream",
     "text": [
      "\n",
      "Epoch 224/3000\n"
     ]
    },
    {
     "data": {
      "application/vnd.jupyter.widget-view+json": {
       "model_id": "da0e942a911c44629da69bd5051bc2a9",
       "version_major": 2,
       "version_minor": 0
      },
      "text/plain": [
       "HBox(children=(HTML(value=''), FloatProgress(value=0.0, layout=Layout(flex='2'), max=1.0), HTML(value='')), la…"
      ]
     },
     "metadata": {},
     "output_type": "display_data"
    },
    {
     "name": "stdout",
     "output_type": "stream",
     "text": [
      "\n",
      "Epoch 225/3000\n"
     ]
    },
    {
     "data": {
      "application/vnd.jupyter.widget-view+json": {
       "model_id": "d660a4ffb08f4f6d8065d73872487045",
       "version_major": 2,
       "version_minor": 0
      },
      "text/plain": [
       "HBox(children=(HTML(value=''), FloatProgress(value=0.0, layout=Layout(flex='2'), max=1.0), HTML(value='')), la…"
      ]
     },
     "metadata": {},
     "output_type": "display_data"
    },
    {
     "name": "stdout",
     "output_type": "stream",
     "text": [
      "\n",
      "Epoch 226/3000\n"
     ]
    },
    {
     "data": {
      "application/vnd.jupyter.widget-view+json": {
       "model_id": "58d1e857bdb74b809b1d46400c3ce1bf",
       "version_major": 2,
       "version_minor": 0
      },
      "text/plain": [
       "HBox(children=(HTML(value=''), FloatProgress(value=0.0, layout=Layout(flex='2'), max=1.0), HTML(value='')), la…"
      ]
     },
     "metadata": {},
     "output_type": "display_data"
    },
    {
     "name": "stdout",
     "output_type": "stream",
     "text": [
      "\n",
      "Epoch 227/3000\n"
     ]
    },
    {
     "data": {
      "application/vnd.jupyter.widget-view+json": {
       "model_id": "ad4af920bad3446196cdbb0798e6b2ad",
       "version_major": 2,
       "version_minor": 0
      },
      "text/plain": [
       "HBox(children=(HTML(value=''), FloatProgress(value=0.0, layout=Layout(flex='2'), max=1.0), HTML(value='')), la…"
      ]
     },
     "metadata": {},
     "output_type": "display_data"
    },
    {
     "name": "stdout",
     "output_type": "stream",
     "text": [
      "\n",
      "Epoch 228/3000\n"
     ]
    },
    {
     "data": {
      "application/vnd.jupyter.widget-view+json": {
       "model_id": "2559b5fcabe2426c8c62ef6bfada9244",
       "version_major": 2,
       "version_minor": 0
      },
      "text/plain": [
       "HBox(children=(HTML(value=''), FloatProgress(value=0.0, layout=Layout(flex='2'), max=1.0), HTML(value='')), la…"
      ]
     },
     "metadata": {},
     "output_type": "display_data"
    },
    {
     "name": "stdout",
     "output_type": "stream",
     "text": [
      "\n",
      "Epoch 229/3000\n"
     ]
    },
    {
     "data": {
      "application/vnd.jupyter.widget-view+json": {
       "model_id": "76ea8a3397564f3e9e23046b7a4186e4",
       "version_major": 2,
       "version_minor": 0
      },
      "text/plain": [
       "HBox(children=(HTML(value=''), FloatProgress(value=0.0, layout=Layout(flex='2'), max=1.0), HTML(value='')), la…"
      ]
     },
     "metadata": {},
     "output_type": "display_data"
    },
    {
     "name": "stdout",
     "output_type": "stream",
     "text": [
      "\n",
      "Epoch 230/3000\n"
     ]
    },
    {
     "data": {
      "application/vnd.jupyter.widget-view+json": {
       "model_id": "2a6892995f27429886af29c4696d262d",
       "version_major": 2,
       "version_minor": 0
      },
      "text/plain": [
       "HBox(children=(HTML(value=''), FloatProgress(value=0.0, layout=Layout(flex='2'), max=1.0), HTML(value='')), la…"
      ]
     },
     "metadata": {},
     "output_type": "display_data"
    },
    {
     "name": "stdout",
     "output_type": "stream",
     "text": [
      "\n",
      "Epoch 231/3000\n"
     ]
    },
    {
     "data": {
      "application/vnd.jupyter.widget-view+json": {
       "model_id": "b957cb43149e4e0ca6941eb33620743d",
       "version_major": 2,
       "version_minor": 0
      },
      "text/plain": [
       "HBox(children=(HTML(value=''), FloatProgress(value=0.0, layout=Layout(flex='2'), max=1.0), HTML(value='')), la…"
      ]
     },
     "metadata": {},
     "output_type": "display_data"
    },
    {
     "name": "stdout",
     "output_type": "stream",
     "text": [
      "\n",
      "Epoch 232/3000\n"
     ]
    },
    {
     "data": {
      "application/vnd.jupyter.widget-view+json": {
       "model_id": "bd173ab683404a5c9f52c1f9e67dbbfc",
       "version_major": 2,
       "version_minor": 0
      },
      "text/plain": [
       "HBox(children=(HTML(value=''), FloatProgress(value=0.0, layout=Layout(flex='2'), max=1.0), HTML(value='')), la…"
      ]
     },
     "metadata": {},
     "output_type": "display_data"
    },
    {
     "name": "stdout",
     "output_type": "stream",
     "text": [
      "\n",
      "Epoch 233/3000\n"
     ]
    },
    {
     "data": {
      "application/vnd.jupyter.widget-view+json": {
       "model_id": "d910cf3e5e064cec931e7cdc83ca0555",
       "version_major": 2,
       "version_minor": 0
      },
      "text/plain": [
       "HBox(children=(HTML(value=''), FloatProgress(value=0.0, layout=Layout(flex='2'), max=1.0), HTML(value='')), la…"
      ]
     },
     "metadata": {},
     "output_type": "display_data"
    },
    {
     "name": "stdout",
     "output_type": "stream",
     "text": [
      "\n",
      "Epoch 234/3000\n"
     ]
    },
    {
     "data": {
      "application/vnd.jupyter.widget-view+json": {
       "model_id": "2c0d7fa759b14733b4edbff20057177a",
       "version_major": 2,
       "version_minor": 0
      },
      "text/plain": [
       "HBox(children=(HTML(value=''), FloatProgress(value=0.0, layout=Layout(flex='2'), max=1.0), HTML(value='')), la…"
      ]
     },
     "metadata": {},
     "output_type": "display_data"
    },
    {
     "name": "stdout",
     "output_type": "stream",
     "text": [
      "\n",
      "Epoch 235/3000\n"
     ]
    },
    {
     "data": {
      "application/vnd.jupyter.widget-view+json": {
       "model_id": "2277aedeaa57403089eb09e9a17c4e33",
       "version_major": 2,
       "version_minor": 0
      },
      "text/plain": [
       "HBox(children=(HTML(value=''), FloatProgress(value=0.0, layout=Layout(flex='2'), max=1.0), HTML(value='')), la…"
      ]
     },
     "metadata": {},
     "output_type": "display_data"
    },
    {
     "name": "stdout",
     "output_type": "stream",
     "text": [
      "\n",
      "Epoch 236/3000\n"
     ]
    },
    {
     "data": {
      "application/vnd.jupyter.widget-view+json": {
       "model_id": "c43930e149ca4a2180231485d4889d87",
       "version_major": 2,
       "version_minor": 0
      },
      "text/plain": [
       "HBox(children=(HTML(value=''), FloatProgress(value=0.0, layout=Layout(flex='2'), max=1.0), HTML(value='')), la…"
      ]
     },
     "metadata": {},
     "output_type": "display_data"
    },
    {
     "name": "stdout",
     "output_type": "stream",
     "text": [
      "\n",
      "Epoch 237/3000\n"
     ]
    },
    {
     "data": {
      "application/vnd.jupyter.widget-view+json": {
       "model_id": "d1e94828609e48718029059814cd52fc",
       "version_major": 2,
       "version_minor": 0
      },
      "text/plain": [
       "HBox(children=(HTML(value=''), FloatProgress(value=0.0, layout=Layout(flex='2'), max=1.0), HTML(value='')), la…"
      ]
     },
     "metadata": {},
     "output_type": "display_data"
    },
    {
     "name": "stdout",
     "output_type": "stream",
     "text": [
      "\n",
      "Epoch 238/3000\n"
     ]
    },
    {
     "data": {
      "application/vnd.jupyter.widget-view+json": {
       "model_id": "8c68bcb0e3bc41fa95ad637bc3012f90",
       "version_major": 2,
       "version_minor": 0
      },
      "text/plain": [
       "HBox(children=(HTML(value=''), FloatProgress(value=0.0, layout=Layout(flex='2'), max=1.0), HTML(value='')), la…"
      ]
     },
     "metadata": {},
     "output_type": "display_data"
    },
    {
     "name": "stdout",
     "output_type": "stream",
     "text": [
      "\n",
      "Epoch 239/3000\n"
     ]
    },
    {
     "data": {
      "application/vnd.jupyter.widget-view+json": {
       "model_id": "f8359fd42bb247a9b3a3330e98317fa4",
       "version_major": 2,
       "version_minor": 0
      },
      "text/plain": [
       "HBox(children=(HTML(value=''), FloatProgress(value=0.0, layout=Layout(flex='2'), max=1.0), HTML(value='')), la…"
      ]
     },
     "metadata": {},
     "output_type": "display_data"
    },
    {
     "name": "stdout",
     "output_type": "stream",
     "text": [
      "\n",
      "Epoch 240/3000\n"
     ]
    },
    {
     "data": {
      "application/vnd.jupyter.widget-view+json": {
       "model_id": "38425f7837564a8b98a29c685c25c3b0",
       "version_major": 2,
       "version_minor": 0
      },
      "text/plain": [
       "HBox(children=(HTML(value=''), FloatProgress(value=0.0, layout=Layout(flex='2'), max=1.0), HTML(value='')), la…"
      ]
     },
     "metadata": {},
     "output_type": "display_data"
    },
    {
     "name": "stdout",
     "output_type": "stream",
     "text": [
      "\n",
      "Epoch 241/3000\n"
     ]
    },
    {
     "data": {
      "application/vnd.jupyter.widget-view+json": {
       "model_id": "58f0eed30f3b4405983d5fb944d4bbd6",
       "version_major": 2,
       "version_minor": 0
      },
      "text/plain": [
       "HBox(children=(HTML(value=''), FloatProgress(value=0.0, layout=Layout(flex='2'), max=1.0), HTML(value='')), la…"
      ]
     },
     "metadata": {},
     "output_type": "display_data"
    },
    {
     "name": "stdout",
     "output_type": "stream",
     "text": [
      "\n",
      "Epoch 242/3000\n"
     ]
    },
    {
     "data": {
      "application/vnd.jupyter.widget-view+json": {
       "model_id": "2e0fd03d85cf4cbdbd7ae0dd6589dae6",
       "version_major": 2,
       "version_minor": 0
      },
      "text/plain": [
       "HBox(children=(HTML(value=''), FloatProgress(value=0.0, layout=Layout(flex='2'), max=1.0), HTML(value='')), la…"
      ]
     },
     "metadata": {},
     "output_type": "display_data"
    },
    {
     "name": "stdout",
     "output_type": "stream",
     "text": [
      "\n",
      "Epoch 243/3000\n"
     ]
    },
    {
     "data": {
      "application/vnd.jupyter.widget-view+json": {
       "model_id": "3da153610c884ed1a664bd9c38e06f6d",
       "version_major": 2,
       "version_minor": 0
      },
      "text/plain": [
       "HBox(children=(HTML(value=''), FloatProgress(value=0.0, layout=Layout(flex='2'), max=1.0), HTML(value='')), la…"
      ]
     },
     "metadata": {},
     "output_type": "display_data"
    },
    {
     "name": "stdout",
     "output_type": "stream",
     "text": [
      "\n",
      "Epoch 244/3000\n"
     ]
    },
    {
     "data": {
      "application/vnd.jupyter.widget-view+json": {
       "model_id": "2f5f6835ee0c47ba92dd86f1b7f4043e",
       "version_major": 2,
       "version_minor": 0
      },
      "text/plain": [
       "HBox(children=(HTML(value=''), FloatProgress(value=0.0, layout=Layout(flex='2'), max=1.0), HTML(value='')), la…"
      ]
     },
     "metadata": {},
     "output_type": "display_data"
    },
    {
     "name": "stdout",
     "output_type": "stream",
     "text": [
      "\n",
      "Epoch 245/3000\n"
     ]
    },
    {
     "data": {
      "application/vnd.jupyter.widget-view+json": {
       "model_id": "a10614da144d4afabd3ebad4dc7bc493",
       "version_major": 2,
       "version_minor": 0
      },
      "text/plain": [
       "HBox(children=(HTML(value=''), FloatProgress(value=0.0, layout=Layout(flex='2'), max=1.0), HTML(value='')), la…"
      ]
     },
     "metadata": {},
     "output_type": "display_data"
    },
    {
     "name": "stdout",
     "output_type": "stream",
     "text": [
      "\n",
      "Epoch 246/3000\n"
     ]
    },
    {
     "data": {
      "application/vnd.jupyter.widget-view+json": {
       "model_id": "0f18c6056c2e4da3b78f3b611032240d",
       "version_major": 2,
       "version_minor": 0
      },
      "text/plain": [
       "HBox(children=(HTML(value=''), FloatProgress(value=0.0, layout=Layout(flex='2'), max=1.0), HTML(value='')), la…"
      ]
     },
     "metadata": {},
     "output_type": "display_data"
    },
    {
     "name": "stdout",
     "output_type": "stream",
     "text": [
      "\n",
      "Epoch 247/3000\n"
     ]
    },
    {
     "data": {
      "application/vnd.jupyter.widget-view+json": {
       "model_id": "462eb9dffaf341d5ba16d8862dae6c24",
       "version_major": 2,
       "version_minor": 0
      },
      "text/plain": [
       "HBox(children=(HTML(value=''), FloatProgress(value=0.0, layout=Layout(flex='2'), max=1.0), HTML(value='')), la…"
      ]
     },
     "metadata": {},
     "output_type": "display_data"
    },
    {
     "name": "stdout",
     "output_type": "stream",
     "text": [
      "\n",
      "Epoch 248/3000\n"
     ]
    },
    {
     "data": {
      "application/vnd.jupyter.widget-view+json": {
       "model_id": "5bc2c729a4c24fffb6e794cfe1ea30bb",
       "version_major": 2,
       "version_minor": 0
      },
      "text/plain": [
       "HBox(children=(HTML(value=''), FloatProgress(value=0.0, layout=Layout(flex='2'), max=1.0), HTML(value='')), la…"
      ]
     },
     "metadata": {},
     "output_type": "display_data"
    },
    {
     "name": "stdout",
     "output_type": "stream",
     "text": [
      "\n",
      "Epoch 249/3000\n"
     ]
    },
    {
     "data": {
      "application/vnd.jupyter.widget-view+json": {
       "model_id": "b21eb524f6b240338ffbb8314a83f746",
       "version_major": 2,
       "version_minor": 0
      },
      "text/plain": [
       "HBox(children=(HTML(value=''), FloatProgress(value=0.0, layout=Layout(flex='2'), max=1.0), HTML(value='')), la…"
      ]
     },
     "metadata": {},
     "output_type": "display_data"
    },
    {
     "name": "stdout",
     "output_type": "stream",
     "text": [
      "\n",
      "Epoch 250/3000\n"
     ]
    },
    {
     "data": {
      "application/vnd.jupyter.widget-view+json": {
       "model_id": "7e4b877888eb4b44a41062772a76b98f",
       "version_major": 2,
       "version_minor": 0
      },
      "text/plain": [
       "HBox(children=(HTML(value=''), FloatProgress(value=0.0, layout=Layout(flex='2'), max=1.0), HTML(value='')), la…"
      ]
     },
     "metadata": {},
     "output_type": "display_data"
    },
    {
     "name": "stdout",
     "output_type": "stream",
     "text": [
      "\n",
      "Epoch 251/3000\n"
     ]
    },
    {
     "data": {
      "application/vnd.jupyter.widget-view+json": {
       "model_id": "8edeeccb778f42548c4215dc58ff2225",
       "version_major": 2,
       "version_minor": 0
      },
      "text/plain": [
       "HBox(children=(HTML(value=''), FloatProgress(value=0.0, layout=Layout(flex='2'), max=1.0), HTML(value='')), la…"
      ]
     },
     "metadata": {},
     "output_type": "display_data"
    },
    {
     "name": "stdout",
     "output_type": "stream",
     "text": [
      "\n",
      "Epoch 252/3000\n"
     ]
    },
    {
     "data": {
      "application/vnd.jupyter.widget-view+json": {
       "model_id": "ef61f6cf49c84eceb00a45b1f4fb11f8",
       "version_major": 2,
       "version_minor": 0
      },
      "text/plain": [
       "HBox(children=(HTML(value=''), FloatProgress(value=0.0, layout=Layout(flex='2'), max=1.0), HTML(value='')), la…"
      ]
     },
     "metadata": {},
     "output_type": "display_data"
    },
    {
     "name": "stdout",
     "output_type": "stream",
     "text": [
      "\n",
      "Epoch 253/3000\n"
     ]
    },
    {
     "data": {
      "application/vnd.jupyter.widget-view+json": {
       "model_id": "d5773f12abe44739a06e516c8958ab29",
       "version_major": 2,
       "version_minor": 0
      },
      "text/plain": [
       "HBox(children=(HTML(value=''), FloatProgress(value=0.0, layout=Layout(flex='2'), max=1.0), HTML(value='')), la…"
      ]
     },
     "metadata": {},
     "output_type": "display_data"
    },
    {
     "name": "stdout",
     "output_type": "stream",
     "text": [
      "\n",
      "Epoch 254/3000\n"
     ]
    },
    {
     "data": {
      "application/vnd.jupyter.widget-view+json": {
       "model_id": "450b945382a849f6aecb75040bf3f280",
       "version_major": 2,
       "version_minor": 0
      },
      "text/plain": [
       "HBox(children=(HTML(value=''), FloatProgress(value=0.0, layout=Layout(flex='2'), max=1.0), HTML(value='')), la…"
      ]
     },
     "metadata": {},
     "output_type": "display_data"
    },
    {
     "name": "stdout",
     "output_type": "stream",
     "text": [
      "\n",
      "Epoch 255/3000\n"
     ]
    },
    {
     "data": {
      "application/vnd.jupyter.widget-view+json": {
       "model_id": "8cacf763a2f54017b10fd72768d22b9c",
       "version_major": 2,
       "version_minor": 0
      },
      "text/plain": [
       "HBox(children=(HTML(value=''), FloatProgress(value=0.0, layout=Layout(flex='2'), max=1.0), HTML(value='')), la…"
      ]
     },
     "metadata": {},
     "output_type": "display_data"
    },
    {
     "name": "stdout",
     "output_type": "stream",
     "text": [
      "\n",
      "Epoch 256/3000\n"
     ]
    },
    {
     "data": {
      "application/vnd.jupyter.widget-view+json": {
       "model_id": "f2a35fd6a73b4d19ac2e0ef8bce8a87c",
       "version_major": 2,
       "version_minor": 0
      },
      "text/plain": [
       "HBox(children=(HTML(value=''), FloatProgress(value=0.0, layout=Layout(flex='2'), max=1.0), HTML(value='')), la…"
      ]
     },
     "metadata": {},
     "output_type": "display_data"
    },
    {
     "name": "stdout",
     "output_type": "stream",
     "text": [
      "\n",
      "Epoch 257/3000\n"
     ]
    },
    {
     "data": {
      "application/vnd.jupyter.widget-view+json": {
       "model_id": "d57491a2b00845df9811b387541edb61",
       "version_major": 2,
       "version_minor": 0
      },
      "text/plain": [
       "HBox(children=(HTML(value=''), FloatProgress(value=0.0, layout=Layout(flex='2'), max=1.0), HTML(value='')), la…"
      ]
     },
     "metadata": {},
     "output_type": "display_data"
    },
    {
     "name": "stdout",
     "output_type": "stream",
     "text": [
      "\n",
      "Epoch 258/3000\n"
     ]
    },
    {
     "data": {
      "application/vnd.jupyter.widget-view+json": {
       "model_id": "2cc900e1573f4847b9eba920d7f19720",
       "version_major": 2,
       "version_minor": 0
      },
      "text/plain": [
       "HBox(children=(HTML(value=''), FloatProgress(value=0.0, layout=Layout(flex='2'), max=1.0), HTML(value='')), la…"
      ]
     },
     "metadata": {},
     "output_type": "display_data"
    },
    {
     "name": "stdout",
     "output_type": "stream",
     "text": [
      "\n",
      "Epoch 259/3000\n"
     ]
    },
    {
     "data": {
      "application/vnd.jupyter.widget-view+json": {
       "model_id": "d8d274ac42d04b1b9cfc19e0c2e98fe7",
       "version_major": 2,
       "version_minor": 0
      },
      "text/plain": [
       "HBox(children=(HTML(value=''), FloatProgress(value=0.0, layout=Layout(flex='2'), max=1.0), HTML(value='')), la…"
      ]
     },
     "metadata": {},
     "output_type": "display_data"
    },
    {
     "name": "stdout",
     "output_type": "stream",
     "text": [
      "\n",
      "Epoch 260/3000\n"
     ]
    },
    {
     "data": {
      "application/vnd.jupyter.widget-view+json": {
       "model_id": "332d5644e29c4f70a216b0c0299fcd3a",
       "version_major": 2,
       "version_minor": 0
      },
      "text/plain": [
       "HBox(children=(HTML(value=''), FloatProgress(value=0.0, layout=Layout(flex='2'), max=1.0), HTML(value='')), la…"
      ]
     },
     "metadata": {},
     "output_type": "display_data"
    },
    {
     "name": "stdout",
     "output_type": "stream",
     "text": [
      "\n",
      "Epoch 261/3000\n"
     ]
    },
    {
     "data": {
      "application/vnd.jupyter.widget-view+json": {
       "model_id": "20c2d8d58fe64ac39c16adbdd4144bca",
       "version_major": 2,
       "version_minor": 0
      },
      "text/plain": [
       "HBox(children=(HTML(value=''), FloatProgress(value=0.0, layout=Layout(flex='2'), max=1.0), HTML(value='')), la…"
      ]
     },
     "metadata": {},
     "output_type": "display_data"
    },
    {
     "name": "stdout",
     "output_type": "stream",
     "text": [
      "\n",
      "Epoch 262/3000\n"
     ]
    },
    {
     "data": {
      "application/vnd.jupyter.widget-view+json": {
       "model_id": "e773dc9fab5a4cf1baa5b0bd40865eea",
       "version_major": 2,
       "version_minor": 0
      },
      "text/plain": [
       "HBox(children=(HTML(value=''), FloatProgress(value=0.0, layout=Layout(flex='2'), max=1.0), HTML(value='')), la…"
      ]
     },
     "metadata": {},
     "output_type": "display_data"
    },
    {
     "name": "stdout",
     "output_type": "stream",
     "text": [
      "\n",
      "Epoch 263/3000\n"
     ]
    },
    {
     "data": {
      "application/vnd.jupyter.widget-view+json": {
       "model_id": "49cb4fbf908b4b10a5d5147c40fcc35a",
       "version_major": 2,
       "version_minor": 0
      },
      "text/plain": [
       "HBox(children=(HTML(value=''), FloatProgress(value=0.0, layout=Layout(flex='2'), max=1.0), HTML(value='')), la…"
      ]
     },
     "metadata": {},
     "output_type": "display_data"
    },
    {
     "name": "stdout",
     "output_type": "stream",
     "text": [
      "\n",
      "Epoch 264/3000\n"
     ]
    },
    {
     "data": {
      "application/vnd.jupyter.widget-view+json": {
       "model_id": "416caddb6a6c4cd38990cbc6b9725086",
       "version_major": 2,
       "version_minor": 0
      },
      "text/plain": [
       "HBox(children=(HTML(value=''), FloatProgress(value=0.0, layout=Layout(flex='2'), max=1.0), HTML(value='')), la…"
      ]
     },
     "metadata": {},
     "output_type": "display_data"
    },
    {
     "name": "stdout",
     "output_type": "stream",
     "text": [
      "\n",
      "Epoch 265/3000\n"
     ]
    },
    {
     "data": {
      "application/vnd.jupyter.widget-view+json": {
       "model_id": "be16fc64e4c244c1b5cdec595d3522c8",
       "version_major": 2,
       "version_minor": 0
      },
      "text/plain": [
       "HBox(children=(HTML(value=''), FloatProgress(value=0.0, layout=Layout(flex='2'), max=1.0), HTML(value='')), la…"
      ]
     },
     "metadata": {},
     "output_type": "display_data"
    },
    {
     "name": "stdout",
     "output_type": "stream",
     "text": [
      "\n",
      "Epoch 266/3000\n"
     ]
    },
    {
     "data": {
      "application/vnd.jupyter.widget-view+json": {
       "model_id": "a17521675fd24a908465d6f200ccfd0b",
       "version_major": 2,
       "version_minor": 0
      },
      "text/plain": [
       "HBox(children=(HTML(value=''), FloatProgress(value=0.0, layout=Layout(flex='2'), max=1.0), HTML(value='')), la…"
      ]
     },
     "metadata": {},
     "output_type": "display_data"
    },
    {
     "name": "stdout",
     "output_type": "stream",
     "text": [
      "\n",
      "Epoch 267/3000\n"
     ]
    },
    {
     "data": {
      "application/vnd.jupyter.widget-view+json": {
       "model_id": "d7300e1a4c31468eb81d3ce6730c8a4d",
       "version_major": 2,
       "version_minor": 0
      },
      "text/plain": [
       "HBox(children=(HTML(value=''), FloatProgress(value=0.0, layout=Layout(flex='2'), max=1.0), HTML(value='')), la…"
      ]
     },
     "metadata": {},
     "output_type": "display_data"
    },
    {
     "name": "stdout",
     "output_type": "stream",
     "text": [
      "\n",
      "Epoch 268/3000\n"
     ]
    },
    {
     "data": {
      "application/vnd.jupyter.widget-view+json": {
       "model_id": "8a166782ca674eaebbcc21253be0d6cb",
       "version_major": 2,
       "version_minor": 0
      },
      "text/plain": [
       "HBox(children=(HTML(value=''), FloatProgress(value=0.0, layout=Layout(flex='2'), max=1.0), HTML(value='')), la…"
      ]
     },
     "metadata": {},
     "output_type": "display_data"
    },
    {
     "name": "stdout",
     "output_type": "stream",
     "text": [
      "\n",
      "Epoch 269/3000\n"
     ]
    },
    {
     "data": {
      "application/vnd.jupyter.widget-view+json": {
       "model_id": "2cd136d0aa96448198c9bec3028fbb77",
       "version_major": 2,
       "version_minor": 0
      },
      "text/plain": [
       "HBox(children=(HTML(value=''), FloatProgress(value=0.0, layout=Layout(flex='2'), max=1.0), HTML(value='')), la…"
      ]
     },
     "metadata": {},
     "output_type": "display_data"
    },
    {
     "name": "stdout",
     "output_type": "stream",
     "text": [
      "\n",
      "Epoch 270/3000\n"
     ]
    },
    {
     "data": {
      "application/vnd.jupyter.widget-view+json": {
       "model_id": "65b7326b3971430ea29be4fefd3dc2e7",
       "version_major": 2,
       "version_minor": 0
      },
      "text/plain": [
       "HBox(children=(HTML(value=''), FloatProgress(value=0.0, layout=Layout(flex='2'), max=1.0), HTML(value='')), la…"
      ]
     },
     "metadata": {},
     "output_type": "display_data"
    },
    {
     "name": "stdout",
     "output_type": "stream",
     "text": [
      "\n",
      "Epoch 271/3000\n"
     ]
    },
    {
     "data": {
      "application/vnd.jupyter.widget-view+json": {
       "model_id": "91f145bf884e464d80f23712a28d5caf",
       "version_major": 2,
       "version_minor": 0
      },
      "text/plain": [
       "HBox(children=(HTML(value=''), FloatProgress(value=0.0, layout=Layout(flex='2'), max=1.0), HTML(value='')), la…"
      ]
     },
     "metadata": {},
     "output_type": "display_data"
    },
    {
     "name": "stdout",
     "output_type": "stream",
     "text": [
      "\n",
      "Epoch 272/3000\n"
     ]
    },
    {
     "data": {
      "application/vnd.jupyter.widget-view+json": {
       "model_id": "b21f248685f743c5bfdfa9b94034a872",
       "version_major": 2,
       "version_minor": 0
      },
      "text/plain": [
       "HBox(children=(HTML(value=''), FloatProgress(value=0.0, layout=Layout(flex='2'), max=1.0), HTML(value='')), la…"
      ]
     },
     "metadata": {},
     "output_type": "display_data"
    },
    {
     "name": "stdout",
     "output_type": "stream",
     "text": [
      "\n",
      "Epoch 273/3000\n"
     ]
    },
    {
     "data": {
      "application/vnd.jupyter.widget-view+json": {
       "model_id": "1a62072e05fc4b92a37fd4c6ad0f3237",
       "version_major": 2,
       "version_minor": 0
      },
      "text/plain": [
       "HBox(children=(HTML(value=''), FloatProgress(value=0.0, layout=Layout(flex='2'), max=1.0), HTML(value='')), la…"
      ]
     },
     "metadata": {},
     "output_type": "display_data"
    },
    {
     "name": "stdout",
     "output_type": "stream",
     "text": [
      "\n",
      "Epoch 274/3000\n"
     ]
    },
    {
     "data": {
      "application/vnd.jupyter.widget-view+json": {
       "model_id": "39e0e3045c03447ba3dcb6c015fc7a81",
       "version_major": 2,
       "version_minor": 0
      },
      "text/plain": [
       "HBox(children=(HTML(value=''), FloatProgress(value=0.0, layout=Layout(flex='2'), max=1.0), HTML(value='')), la…"
      ]
     },
     "metadata": {},
     "output_type": "display_data"
    },
    {
     "name": "stdout",
     "output_type": "stream",
     "text": [
      "\n",
      "Epoch 275/3000\n"
     ]
    },
    {
     "data": {
      "application/vnd.jupyter.widget-view+json": {
       "model_id": "9b52e2c7c3424992932325a3b418e951",
       "version_major": 2,
       "version_minor": 0
      },
      "text/plain": [
       "HBox(children=(HTML(value=''), FloatProgress(value=0.0, layout=Layout(flex='2'), max=1.0), HTML(value='')), la…"
      ]
     },
     "metadata": {},
     "output_type": "display_data"
    },
    {
     "name": "stdout",
     "output_type": "stream",
     "text": [
      "\n",
      "Epoch 276/3000\n"
     ]
    },
    {
     "data": {
      "application/vnd.jupyter.widget-view+json": {
       "model_id": "ac8ec5679b3440b491d0a777a2c207ca",
       "version_major": 2,
       "version_minor": 0
      },
      "text/plain": [
       "HBox(children=(HTML(value=''), FloatProgress(value=0.0, layout=Layout(flex='2'), max=1.0), HTML(value='')), la…"
      ]
     },
     "metadata": {},
     "output_type": "display_data"
    },
    {
     "name": "stdout",
     "output_type": "stream",
     "text": [
      "\n",
      "Epoch 277/3000\n"
     ]
    },
    {
     "data": {
      "application/vnd.jupyter.widget-view+json": {
       "model_id": "7244b13cb2114338ba94e9160d3adae7",
       "version_major": 2,
       "version_minor": 0
      },
      "text/plain": [
       "HBox(children=(HTML(value=''), FloatProgress(value=0.0, layout=Layout(flex='2'), max=1.0), HTML(value='')), la…"
      ]
     },
     "metadata": {},
     "output_type": "display_data"
    },
    {
     "name": "stdout",
     "output_type": "stream",
     "text": [
      "\n",
      "Epoch 278/3000\n"
     ]
    },
    {
     "data": {
      "application/vnd.jupyter.widget-view+json": {
       "model_id": "2dcac740b3d34cfc8b4346261b0498f4",
       "version_major": 2,
       "version_minor": 0
      },
      "text/plain": [
       "HBox(children=(HTML(value=''), FloatProgress(value=0.0, layout=Layout(flex='2'), max=1.0), HTML(value='')), la…"
      ]
     },
     "metadata": {},
     "output_type": "display_data"
    },
    {
     "name": "stdout",
     "output_type": "stream",
     "text": [
      "\n",
      "Epoch 279/3000\n"
     ]
    },
    {
     "data": {
      "application/vnd.jupyter.widget-view+json": {
       "model_id": "49082e100d354f7f80016576f8bfb623",
       "version_major": 2,
       "version_minor": 0
      },
      "text/plain": [
       "HBox(children=(HTML(value=''), FloatProgress(value=0.0, layout=Layout(flex='2'), max=1.0), HTML(value='')), la…"
      ]
     },
     "metadata": {},
     "output_type": "display_data"
    },
    {
     "name": "stdout",
     "output_type": "stream",
     "text": [
      "\n",
      "Epoch 280/3000\n"
     ]
    },
    {
     "data": {
      "application/vnd.jupyter.widget-view+json": {
       "model_id": "9f8d79d935da4a7eaebc22e7062c02c9",
       "version_major": 2,
       "version_minor": 0
      },
      "text/plain": [
       "HBox(children=(HTML(value=''), FloatProgress(value=0.0, layout=Layout(flex='2'), max=1.0), HTML(value='')), la…"
      ]
     },
     "metadata": {},
     "output_type": "display_data"
    },
    {
     "name": "stdout",
     "output_type": "stream",
     "text": [
      "\n",
      "Epoch 281/3000\n"
     ]
    },
    {
     "data": {
      "application/vnd.jupyter.widget-view+json": {
       "model_id": "fd9d033ccc304f399a0f36b59eff92a2",
       "version_major": 2,
       "version_minor": 0
      },
      "text/plain": [
       "HBox(children=(HTML(value=''), FloatProgress(value=0.0, layout=Layout(flex='2'), max=1.0), HTML(value='')), la…"
      ]
     },
     "metadata": {},
     "output_type": "display_data"
    },
    {
     "name": "stdout",
     "output_type": "stream",
     "text": [
      "\n",
      "Epoch 282/3000\n"
     ]
    },
    {
     "data": {
      "application/vnd.jupyter.widget-view+json": {
       "model_id": "93ff723fd52144e388c7d5e6ffc11f5b",
       "version_major": 2,
       "version_minor": 0
      },
      "text/plain": [
       "HBox(children=(HTML(value=''), FloatProgress(value=0.0, layout=Layout(flex='2'), max=1.0), HTML(value='')), la…"
      ]
     },
     "metadata": {},
     "output_type": "display_data"
    },
    {
     "name": "stdout",
     "output_type": "stream",
     "text": [
      "\n",
      "Epoch 283/3000\n"
     ]
    },
    {
     "data": {
      "application/vnd.jupyter.widget-view+json": {
       "model_id": "66103ec1cd1a42b5b5d2d593002175a6",
       "version_major": 2,
       "version_minor": 0
      },
      "text/plain": [
       "HBox(children=(HTML(value=''), FloatProgress(value=0.0, layout=Layout(flex='2'), max=1.0), HTML(value='')), la…"
      ]
     },
     "metadata": {},
     "output_type": "display_data"
    },
    {
     "name": "stdout",
     "output_type": "stream",
     "text": [
      "\n",
      "Epoch 284/3000\n"
     ]
    },
    {
     "data": {
      "application/vnd.jupyter.widget-view+json": {
       "model_id": "7d70ad5ff3234f3ba5b54fbd24c782eb",
       "version_major": 2,
       "version_minor": 0
      },
      "text/plain": [
       "HBox(children=(HTML(value=''), FloatProgress(value=0.0, layout=Layout(flex='2'), max=1.0), HTML(value='')), la…"
      ]
     },
     "metadata": {},
     "output_type": "display_data"
    },
    {
     "name": "stdout",
     "output_type": "stream",
     "text": [
      "\n",
      "Epoch 285/3000\n"
     ]
    },
    {
     "data": {
      "application/vnd.jupyter.widget-view+json": {
       "model_id": "56d1a38fc61947d1a9596d4ebf6763e8",
       "version_major": 2,
       "version_minor": 0
      },
      "text/plain": [
       "HBox(children=(HTML(value=''), FloatProgress(value=0.0, layout=Layout(flex='2'), max=1.0), HTML(value='')), la…"
      ]
     },
     "metadata": {},
     "output_type": "display_data"
    },
    {
     "name": "stdout",
     "output_type": "stream",
     "text": [
      "\n",
      "Epoch 286/3000\n"
     ]
    },
    {
     "data": {
      "application/vnd.jupyter.widget-view+json": {
       "model_id": "ec90f6c76d154601886a4ca45c15fdf4",
       "version_major": 2,
       "version_minor": 0
      },
      "text/plain": [
       "HBox(children=(HTML(value=''), FloatProgress(value=0.0, layout=Layout(flex='2'), max=1.0), HTML(value='')), la…"
      ]
     },
     "metadata": {},
     "output_type": "display_data"
    },
    {
     "name": "stdout",
     "output_type": "stream",
     "text": [
      "\n",
      "Epoch 287/3000\n"
     ]
    },
    {
     "data": {
      "application/vnd.jupyter.widget-view+json": {
       "model_id": "4c287598b47f4ed880ecb4f5ea092b26",
       "version_major": 2,
       "version_minor": 0
      },
      "text/plain": [
       "HBox(children=(HTML(value=''), FloatProgress(value=0.0, layout=Layout(flex='2'), max=1.0), HTML(value='')), la…"
      ]
     },
     "metadata": {},
     "output_type": "display_data"
    },
    {
     "name": "stdout",
     "output_type": "stream",
     "text": [
      "\n",
      "Epoch 288/3000\n"
     ]
    },
    {
     "data": {
      "application/vnd.jupyter.widget-view+json": {
       "model_id": "001887c60528475f956e4d9628a1ec74",
       "version_major": 2,
       "version_minor": 0
      },
      "text/plain": [
       "HBox(children=(HTML(value=''), FloatProgress(value=0.0, layout=Layout(flex='2'), max=1.0), HTML(value='')), la…"
      ]
     },
     "metadata": {},
     "output_type": "display_data"
    },
    {
     "name": "stdout",
     "output_type": "stream",
     "text": [
      "\n",
      "Epoch 289/3000\n"
     ]
    },
    {
     "data": {
      "application/vnd.jupyter.widget-view+json": {
       "model_id": "2aa291a8b9b94f3d82b7323e15b90abf",
       "version_major": 2,
       "version_minor": 0
      },
      "text/plain": [
       "HBox(children=(HTML(value=''), FloatProgress(value=0.0, layout=Layout(flex='2'), max=1.0), HTML(value='')), la…"
      ]
     },
     "metadata": {},
     "output_type": "display_data"
    },
    {
     "name": "stdout",
     "output_type": "stream",
     "text": [
      "\n",
      "Epoch 290/3000\n"
     ]
    },
    {
     "data": {
      "application/vnd.jupyter.widget-view+json": {
       "model_id": "7a52ec0130c2430b85a41d8255866a93",
       "version_major": 2,
       "version_minor": 0
      },
      "text/plain": [
       "HBox(children=(HTML(value=''), FloatProgress(value=0.0, layout=Layout(flex='2'), max=1.0), HTML(value='')), la…"
      ]
     },
     "metadata": {},
     "output_type": "display_data"
    },
    {
     "name": "stdout",
     "output_type": "stream",
     "text": [
      "\n",
      "Epoch 291/3000\n"
     ]
    },
    {
     "data": {
      "application/vnd.jupyter.widget-view+json": {
       "model_id": "eb952921726947e5aa092f490bf8ba80",
       "version_major": 2,
       "version_minor": 0
      },
      "text/plain": [
       "HBox(children=(HTML(value=''), FloatProgress(value=0.0, layout=Layout(flex='2'), max=1.0), HTML(value='')), la…"
      ]
     },
     "metadata": {},
     "output_type": "display_data"
    },
    {
     "name": "stdout",
     "output_type": "stream",
     "text": [
      "\n",
      "Epoch 292/3000\n"
     ]
    },
    {
     "data": {
      "application/vnd.jupyter.widget-view+json": {
       "model_id": "f6dd113697c44c52b112d4a23ce06f93",
       "version_major": 2,
       "version_minor": 0
      },
      "text/plain": [
       "HBox(children=(HTML(value=''), FloatProgress(value=0.0, layout=Layout(flex='2'), max=1.0), HTML(value='')), la…"
      ]
     },
     "metadata": {},
     "output_type": "display_data"
    },
    {
     "name": "stdout",
     "output_type": "stream",
     "text": [
      "\n",
      "Epoch 293/3000\n"
     ]
    },
    {
     "data": {
      "application/vnd.jupyter.widget-view+json": {
       "model_id": "af46d5e22d344702bd9f834bbb7fbe7d",
       "version_major": 2,
       "version_minor": 0
      },
      "text/plain": [
       "HBox(children=(HTML(value=''), FloatProgress(value=0.0, layout=Layout(flex='2'), max=1.0), HTML(value='')), la…"
      ]
     },
     "metadata": {},
     "output_type": "display_data"
    },
    {
     "name": "stdout",
     "output_type": "stream",
     "text": [
      "\n",
      "Epoch 294/3000\n"
     ]
    },
    {
     "data": {
      "application/vnd.jupyter.widget-view+json": {
       "model_id": "12bce8c2059a4feda3b4efe9491cc782",
       "version_major": 2,
       "version_minor": 0
      },
      "text/plain": [
       "HBox(children=(HTML(value=''), FloatProgress(value=0.0, layout=Layout(flex='2'), max=1.0), HTML(value='')), la…"
      ]
     },
     "metadata": {},
     "output_type": "display_data"
    },
    {
     "name": "stdout",
     "output_type": "stream",
     "text": [
      "\n",
      "Epoch 295/3000\n"
     ]
    },
    {
     "data": {
      "application/vnd.jupyter.widget-view+json": {
       "model_id": "1e34e3563beb4108a180a49283ae703b",
       "version_major": 2,
       "version_minor": 0
      },
      "text/plain": [
       "HBox(children=(HTML(value=''), FloatProgress(value=0.0, layout=Layout(flex='2'), max=1.0), HTML(value='')), la…"
      ]
     },
     "metadata": {},
     "output_type": "display_data"
    },
    {
     "name": "stdout",
     "output_type": "stream",
     "text": [
      "\n",
      "Epoch 296/3000\n"
     ]
    },
    {
     "data": {
      "application/vnd.jupyter.widget-view+json": {
       "model_id": "c4094409bd25473898152936f08bb69e",
       "version_major": 2,
       "version_minor": 0
      },
      "text/plain": [
       "HBox(children=(HTML(value=''), FloatProgress(value=0.0, layout=Layout(flex='2'), max=1.0), HTML(value='')), la…"
      ]
     },
     "metadata": {},
     "output_type": "display_data"
    },
    {
     "name": "stdout",
     "output_type": "stream",
     "text": [
      "\n",
      "Epoch 297/3000\n"
     ]
    },
    {
     "data": {
      "application/vnd.jupyter.widget-view+json": {
       "model_id": "00957414274c4c72bf4c3eb724553233",
       "version_major": 2,
       "version_minor": 0
      },
      "text/plain": [
       "HBox(children=(HTML(value=''), FloatProgress(value=0.0, layout=Layout(flex='2'), max=1.0), HTML(value='')), la…"
      ]
     },
     "metadata": {},
     "output_type": "display_data"
    },
    {
     "name": "stdout",
     "output_type": "stream",
     "text": [
      "\n",
      "Epoch 298/3000\n"
     ]
    },
    {
     "data": {
      "application/vnd.jupyter.widget-view+json": {
       "model_id": "78a7bff0445e4e81a59168e52dbc48a5",
       "version_major": 2,
       "version_minor": 0
      },
      "text/plain": [
       "HBox(children=(HTML(value=''), FloatProgress(value=0.0, layout=Layout(flex='2'), max=1.0), HTML(value='')), la…"
      ]
     },
     "metadata": {},
     "output_type": "display_data"
    },
    {
     "name": "stdout",
     "output_type": "stream",
     "text": [
      "\n",
      "Epoch 299/3000\n"
     ]
    },
    {
     "data": {
      "application/vnd.jupyter.widget-view+json": {
       "model_id": "22c091af70bf4e05b3470eeb1de42734",
       "version_major": 2,
       "version_minor": 0
      },
      "text/plain": [
       "HBox(children=(HTML(value=''), FloatProgress(value=0.0, layout=Layout(flex='2'), max=1.0), HTML(value='')), la…"
      ]
     },
     "metadata": {},
     "output_type": "display_data"
    },
    {
     "name": "stdout",
     "output_type": "stream",
     "text": [
      "\n",
      "Epoch 300/3000\n"
     ]
    },
    {
     "data": {
      "application/vnd.jupyter.widget-view+json": {
       "model_id": "6b4e098b34194831946420fb0d73604b",
       "version_major": 2,
       "version_minor": 0
      },
      "text/plain": [
       "HBox(children=(HTML(value=''), FloatProgress(value=0.0, layout=Layout(flex='2'), max=1.0), HTML(value='')), la…"
      ]
     },
     "metadata": {},
     "output_type": "display_data"
    },
    {
     "name": "stdout",
     "output_type": "stream",
     "text": [
      "\n",
      "Epoch 301/3000\n"
     ]
    },
    {
     "data": {
      "application/vnd.jupyter.widget-view+json": {
       "model_id": "1978d1eee2a0432db3dda1755cda274e",
       "version_major": 2,
       "version_minor": 0
      },
      "text/plain": [
       "HBox(children=(HTML(value=''), FloatProgress(value=0.0, layout=Layout(flex='2'), max=1.0), HTML(value='')), la…"
      ]
     },
     "metadata": {},
     "output_type": "display_data"
    },
    {
     "name": "stdout",
     "output_type": "stream",
     "text": [
      "\n",
      "Epoch 302/3000\n"
     ]
    },
    {
     "data": {
      "application/vnd.jupyter.widget-view+json": {
       "model_id": "0f0f1361b88f4d15af8a482b619301a5",
       "version_major": 2,
       "version_minor": 0
      },
      "text/plain": [
       "HBox(children=(HTML(value=''), FloatProgress(value=0.0, layout=Layout(flex='2'), max=1.0), HTML(value='')), la…"
      ]
     },
     "metadata": {},
     "output_type": "display_data"
    },
    {
     "name": "stdout",
     "output_type": "stream",
     "text": [
      "\n",
      "Epoch 303/3000\n"
     ]
    },
    {
     "data": {
      "application/vnd.jupyter.widget-view+json": {
       "model_id": "6606b667393e495aa6ec8d82e1b891c3",
       "version_major": 2,
       "version_minor": 0
      },
      "text/plain": [
       "HBox(children=(HTML(value=''), FloatProgress(value=0.0, layout=Layout(flex='2'), max=1.0), HTML(value='')), la…"
      ]
     },
     "metadata": {},
     "output_type": "display_data"
    },
    {
     "name": "stdout",
     "output_type": "stream",
     "text": [
      "\n",
      "Epoch 304/3000\n"
     ]
    },
    {
     "data": {
      "application/vnd.jupyter.widget-view+json": {
       "model_id": "20250fcb5910449eafc94b4c4cd5157a",
       "version_major": 2,
       "version_minor": 0
      },
      "text/plain": [
       "HBox(children=(HTML(value=''), FloatProgress(value=0.0, layout=Layout(flex='2'), max=1.0), HTML(value='')), la…"
      ]
     },
     "metadata": {},
     "output_type": "display_data"
    },
    {
     "name": "stdout",
     "output_type": "stream",
     "text": [
      "\n",
      "Epoch 305/3000\n"
     ]
    },
    {
     "data": {
      "application/vnd.jupyter.widget-view+json": {
       "model_id": "8548f171fbbc403d866fb3d57685067b",
       "version_major": 2,
       "version_minor": 0
      },
      "text/plain": [
       "HBox(children=(HTML(value=''), FloatProgress(value=0.0, layout=Layout(flex='2'), max=1.0), HTML(value='')), la…"
      ]
     },
     "metadata": {},
     "output_type": "display_data"
    },
    {
     "name": "stdout",
     "output_type": "stream",
     "text": [
      "\n",
      "Epoch 306/3000\n"
     ]
    },
    {
     "data": {
      "application/vnd.jupyter.widget-view+json": {
       "model_id": "824ad195a0a7498aa08096c15d47a77e",
       "version_major": 2,
       "version_minor": 0
      },
      "text/plain": [
       "HBox(children=(HTML(value=''), FloatProgress(value=0.0, layout=Layout(flex='2'), max=1.0), HTML(value='')), la…"
      ]
     },
     "metadata": {},
     "output_type": "display_data"
    },
    {
     "name": "stdout",
     "output_type": "stream",
     "text": [
      "\n",
      "Epoch 307/3000\n"
     ]
    },
    {
     "data": {
      "application/vnd.jupyter.widget-view+json": {
       "model_id": "16a70454c0924199a7b88727ef811d0a",
       "version_major": 2,
       "version_minor": 0
      },
      "text/plain": [
       "HBox(children=(HTML(value=''), FloatProgress(value=0.0, layout=Layout(flex='2'), max=1.0), HTML(value='')), la…"
      ]
     },
     "metadata": {},
     "output_type": "display_data"
    },
    {
     "name": "stdout",
     "output_type": "stream",
     "text": [
      "\n",
      "Epoch 308/3000\n"
     ]
    },
    {
     "data": {
      "application/vnd.jupyter.widget-view+json": {
       "model_id": "d26c5d18c3c14e56be151e98a666cacb",
       "version_major": 2,
       "version_minor": 0
      },
      "text/plain": [
       "HBox(children=(HTML(value=''), FloatProgress(value=0.0, layout=Layout(flex='2'), max=1.0), HTML(value='')), la…"
      ]
     },
     "metadata": {},
     "output_type": "display_data"
    },
    {
     "name": "stdout",
     "output_type": "stream",
     "text": [
      "\n",
      "Epoch 309/3000\n"
     ]
    },
    {
     "data": {
      "application/vnd.jupyter.widget-view+json": {
       "model_id": "29b82c965fc043a7b88f8bc3452541f3",
       "version_major": 2,
       "version_minor": 0
      },
      "text/plain": [
       "HBox(children=(HTML(value=''), FloatProgress(value=0.0, layout=Layout(flex='2'), max=1.0), HTML(value='')), la…"
      ]
     },
     "metadata": {},
     "output_type": "display_data"
    },
    {
     "name": "stdout",
     "output_type": "stream",
     "text": [
      "\n",
      "Epoch 310/3000\n"
     ]
    },
    {
     "data": {
      "application/vnd.jupyter.widget-view+json": {
       "model_id": "7a913e3b51704bc09bbe03c550304733",
       "version_major": 2,
       "version_minor": 0
      },
      "text/plain": [
       "HBox(children=(HTML(value=''), FloatProgress(value=0.0, layout=Layout(flex='2'), max=1.0), HTML(value='')), la…"
      ]
     },
     "metadata": {},
     "output_type": "display_data"
    },
    {
     "name": "stdout",
     "output_type": "stream",
     "text": [
      "\n",
      "Epoch 311/3000\n"
     ]
    },
    {
     "data": {
      "application/vnd.jupyter.widget-view+json": {
       "model_id": "a7f3211ed229415a98dab06101cb721f",
       "version_major": 2,
       "version_minor": 0
      },
      "text/plain": [
       "HBox(children=(HTML(value=''), FloatProgress(value=0.0, layout=Layout(flex='2'), max=1.0), HTML(value='')), la…"
      ]
     },
     "metadata": {},
     "output_type": "display_data"
    },
    {
     "name": "stdout",
     "output_type": "stream",
     "text": [
      "\n",
      "Epoch 312/3000\n"
     ]
    },
    {
     "data": {
      "application/vnd.jupyter.widget-view+json": {
       "model_id": "244b8ee5e6cb4ed283fa31790ab1da6a",
       "version_major": 2,
       "version_minor": 0
      },
      "text/plain": [
       "HBox(children=(HTML(value=''), FloatProgress(value=0.0, layout=Layout(flex='2'), max=1.0), HTML(value='')), la…"
      ]
     },
     "metadata": {},
     "output_type": "display_data"
    },
    {
     "name": "stdout",
     "output_type": "stream",
     "text": [
      "\n",
      "Epoch 313/3000\n"
     ]
    },
    {
     "data": {
      "application/vnd.jupyter.widget-view+json": {
       "model_id": "113370d6198944cc8eb92ea367abbe96",
       "version_major": 2,
       "version_minor": 0
      },
      "text/plain": [
       "HBox(children=(HTML(value=''), FloatProgress(value=0.0, layout=Layout(flex='2'), max=1.0), HTML(value='')), la…"
      ]
     },
     "metadata": {},
     "output_type": "display_data"
    },
    {
     "name": "stdout",
     "output_type": "stream",
     "text": [
      "\n",
      "Epoch 314/3000\n"
     ]
    },
    {
     "data": {
      "application/vnd.jupyter.widget-view+json": {
       "model_id": "9bb749f7a7964192b548cd681ef4d455",
       "version_major": 2,
       "version_minor": 0
      },
      "text/plain": [
       "HBox(children=(HTML(value=''), FloatProgress(value=0.0, layout=Layout(flex='2'), max=1.0), HTML(value='')), la…"
      ]
     },
     "metadata": {},
     "output_type": "display_data"
    },
    {
     "name": "stdout",
     "output_type": "stream",
     "text": [
      "\n",
      "Epoch 315/3000\n"
     ]
    },
    {
     "data": {
      "application/vnd.jupyter.widget-view+json": {
       "model_id": "b1fa4261a1e34184b21106b032361a99",
       "version_major": 2,
       "version_minor": 0
      },
      "text/plain": [
       "HBox(children=(HTML(value=''), FloatProgress(value=0.0, layout=Layout(flex='2'), max=1.0), HTML(value='')), la…"
      ]
     },
     "metadata": {},
     "output_type": "display_data"
    },
    {
     "name": "stdout",
     "output_type": "stream",
     "text": [
      "\n",
      "Epoch 316/3000\n"
     ]
    },
    {
     "data": {
      "application/vnd.jupyter.widget-view+json": {
       "model_id": "02a34d5bd4524ba8924c457c991d77dd",
       "version_major": 2,
       "version_minor": 0
      },
      "text/plain": [
       "HBox(children=(HTML(value=''), FloatProgress(value=0.0, layout=Layout(flex='2'), max=1.0), HTML(value='')), la…"
      ]
     },
     "metadata": {},
     "output_type": "display_data"
    },
    {
     "name": "stdout",
     "output_type": "stream",
     "text": [
      "\n",
      "Epoch 317/3000\n"
     ]
    },
    {
     "data": {
      "application/vnd.jupyter.widget-view+json": {
       "model_id": "a3e0e034059d4de9ac04240bdf925c0d",
       "version_major": 2,
       "version_minor": 0
      },
      "text/plain": [
       "HBox(children=(HTML(value=''), FloatProgress(value=0.0, layout=Layout(flex='2'), max=1.0), HTML(value='')), la…"
      ]
     },
     "metadata": {},
     "output_type": "display_data"
    },
    {
     "name": "stdout",
     "output_type": "stream",
     "text": [
      "\n",
      "Epoch 318/3000\n"
     ]
    },
    {
     "data": {
      "application/vnd.jupyter.widget-view+json": {
       "model_id": "425921e2aaad431ab6cc7edfc1622a7d",
       "version_major": 2,
       "version_minor": 0
      },
      "text/plain": [
       "HBox(children=(HTML(value=''), FloatProgress(value=0.0, layout=Layout(flex='2'), max=1.0), HTML(value='')), la…"
      ]
     },
     "metadata": {},
     "output_type": "display_data"
    },
    {
     "name": "stdout",
     "output_type": "stream",
     "text": [
      "\n",
      "Epoch 319/3000\n"
     ]
    },
    {
     "data": {
      "application/vnd.jupyter.widget-view+json": {
       "model_id": "a5ba9840d65e4db2ac7ce6e0b8a5a23a",
       "version_major": 2,
       "version_minor": 0
      },
      "text/plain": [
       "HBox(children=(HTML(value=''), FloatProgress(value=0.0, layout=Layout(flex='2'), max=1.0), HTML(value='')), la…"
      ]
     },
     "metadata": {},
     "output_type": "display_data"
    },
    {
     "name": "stdout",
     "output_type": "stream",
     "text": [
      "\n",
      "Epoch 320/3000\n"
     ]
    },
    {
     "data": {
      "application/vnd.jupyter.widget-view+json": {
       "model_id": "7641a093c88d413087ce376e80e69efb",
       "version_major": 2,
       "version_minor": 0
      },
      "text/plain": [
       "HBox(children=(HTML(value=''), FloatProgress(value=0.0, layout=Layout(flex='2'), max=1.0), HTML(value='')), la…"
      ]
     },
     "metadata": {},
     "output_type": "display_data"
    },
    {
     "name": "stdout",
     "output_type": "stream",
     "text": [
      "\n",
      "Epoch 321/3000\n"
     ]
    },
    {
     "data": {
      "application/vnd.jupyter.widget-view+json": {
       "model_id": "2efb6ea46195411cb7b4a88d4d92e224",
       "version_major": 2,
       "version_minor": 0
      },
      "text/plain": [
       "HBox(children=(HTML(value=''), FloatProgress(value=0.0, layout=Layout(flex='2'), max=1.0), HTML(value='')), la…"
      ]
     },
     "metadata": {},
     "output_type": "display_data"
    },
    {
     "name": "stdout",
     "output_type": "stream",
     "text": [
      "\n",
      "Epoch 322/3000\n"
     ]
    },
    {
     "data": {
      "application/vnd.jupyter.widget-view+json": {
       "model_id": "1b495875089049999aaf44cb4afb8016",
       "version_major": 2,
       "version_minor": 0
      },
      "text/plain": [
       "HBox(children=(HTML(value=''), FloatProgress(value=0.0, layout=Layout(flex='2'), max=1.0), HTML(value='')), la…"
      ]
     },
     "metadata": {},
     "output_type": "display_data"
    },
    {
     "name": "stdout",
     "output_type": "stream",
     "text": [
      "\n",
      "Epoch 323/3000\n"
     ]
    },
    {
     "data": {
      "application/vnd.jupyter.widget-view+json": {
       "model_id": "abdebdec800945798d65bbfaf670272f",
       "version_major": 2,
       "version_minor": 0
      },
      "text/plain": [
       "HBox(children=(HTML(value=''), FloatProgress(value=0.0, layout=Layout(flex='2'), max=1.0), HTML(value='')), la…"
      ]
     },
     "metadata": {},
     "output_type": "display_data"
    },
    {
     "name": "stdout",
     "output_type": "stream",
     "text": [
      "\n",
      "Epoch 324/3000\n"
     ]
    },
    {
     "data": {
      "application/vnd.jupyter.widget-view+json": {
       "model_id": "1d9c076735874418aeaff6692bce5ee8",
       "version_major": 2,
       "version_minor": 0
      },
      "text/plain": [
       "HBox(children=(HTML(value=''), FloatProgress(value=0.0, layout=Layout(flex='2'), max=1.0), HTML(value='')), la…"
      ]
     },
     "metadata": {},
     "output_type": "display_data"
    },
    {
     "name": "stdout",
     "output_type": "stream",
     "text": [
      "\n",
      "Epoch 325/3000\n"
     ]
    },
    {
     "data": {
      "application/vnd.jupyter.widget-view+json": {
       "model_id": "5b587d5976c04db5ba950b00ad7f17b7",
       "version_major": 2,
       "version_minor": 0
      },
      "text/plain": [
       "HBox(children=(HTML(value=''), FloatProgress(value=0.0, layout=Layout(flex='2'), max=1.0), HTML(value='')), la…"
      ]
     },
     "metadata": {},
     "output_type": "display_data"
    },
    {
     "name": "stdout",
     "output_type": "stream",
     "text": [
      "\n",
      "Epoch 326/3000\n"
     ]
    },
    {
     "data": {
      "application/vnd.jupyter.widget-view+json": {
       "model_id": "95936616f5bc4359bf8e772921071b31",
       "version_major": 2,
       "version_minor": 0
      },
      "text/plain": [
       "HBox(children=(HTML(value=''), FloatProgress(value=0.0, layout=Layout(flex='2'), max=1.0), HTML(value='')), la…"
      ]
     },
     "metadata": {},
     "output_type": "display_data"
    },
    {
     "name": "stdout",
     "output_type": "stream",
     "text": [
      "\n",
      "Epoch 327/3000\n"
     ]
    },
    {
     "data": {
      "application/vnd.jupyter.widget-view+json": {
       "model_id": "033b9614d9db46919d541dba4a4ad142",
       "version_major": 2,
       "version_minor": 0
      },
      "text/plain": [
       "HBox(children=(HTML(value=''), FloatProgress(value=0.0, layout=Layout(flex='2'), max=1.0), HTML(value='')), la…"
      ]
     },
     "metadata": {},
     "output_type": "display_data"
    },
    {
     "name": "stdout",
     "output_type": "stream",
     "text": [
      "\n",
      "Epoch 328/3000\n"
     ]
    },
    {
     "data": {
      "application/vnd.jupyter.widget-view+json": {
       "model_id": "3a26645585c5462f9f34a961855a7579",
       "version_major": 2,
       "version_minor": 0
      },
      "text/plain": [
       "HBox(children=(HTML(value=''), FloatProgress(value=0.0, layout=Layout(flex='2'), max=1.0), HTML(value='')), la…"
      ]
     },
     "metadata": {},
     "output_type": "display_data"
    },
    {
     "name": "stdout",
     "output_type": "stream",
     "text": [
      "\n",
      "Epoch 329/3000\n"
     ]
    },
    {
     "data": {
      "application/vnd.jupyter.widget-view+json": {
       "model_id": "fd7e488b5f0c46b083485f83b0ba915d",
       "version_major": 2,
       "version_minor": 0
      },
      "text/plain": [
       "HBox(children=(HTML(value=''), FloatProgress(value=0.0, layout=Layout(flex='2'), max=1.0), HTML(value='')), la…"
      ]
     },
     "metadata": {},
     "output_type": "display_data"
    },
    {
     "name": "stdout",
     "output_type": "stream",
     "text": [
      "\n",
      "Epoch 330/3000\n"
     ]
    },
    {
     "data": {
      "application/vnd.jupyter.widget-view+json": {
       "model_id": "ccbdab9a49d443cb939bd9caf379ff0a",
       "version_major": 2,
       "version_minor": 0
      },
      "text/plain": [
       "HBox(children=(HTML(value=''), FloatProgress(value=0.0, layout=Layout(flex='2'), max=1.0), HTML(value='')), la…"
      ]
     },
     "metadata": {},
     "output_type": "display_data"
    },
    {
     "name": "stdout",
     "output_type": "stream",
     "text": [
      "\n",
      "Epoch 331/3000\n"
     ]
    },
    {
     "data": {
      "application/vnd.jupyter.widget-view+json": {
       "model_id": "65efcdc5a6d043e1bcd686d7075c8edc",
       "version_major": 2,
       "version_minor": 0
      },
      "text/plain": [
       "HBox(children=(HTML(value=''), FloatProgress(value=0.0, layout=Layout(flex='2'), max=1.0), HTML(value='')), la…"
      ]
     },
     "metadata": {},
     "output_type": "display_data"
    },
    {
     "name": "stdout",
     "output_type": "stream",
     "text": [
      "\n",
      "Epoch 332/3000\n"
     ]
    },
    {
     "data": {
      "application/vnd.jupyter.widget-view+json": {
       "model_id": "3f3d265a0e3c4d72845401bcdce80a35",
       "version_major": 2,
       "version_minor": 0
      },
      "text/plain": [
       "HBox(children=(HTML(value=''), FloatProgress(value=0.0, layout=Layout(flex='2'), max=1.0), HTML(value='')), la…"
      ]
     },
     "metadata": {},
     "output_type": "display_data"
    },
    {
     "name": "stdout",
     "output_type": "stream",
     "text": [
      "\n",
      "Epoch 333/3000\n"
     ]
    },
    {
     "data": {
      "application/vnd.jupyter.widget-view+json": {
       "model_id": "09859a05f717494fab580a9a39331ff1",
       "version_major": 2,
       "version_minor": 0
      },
      "text/plain": [
       "HBox(children=(HTML(value=''), FloatProgress(value=0.0, layout=Layout(flex='2'), max=1.0), HTML(value='')), la…"
      ]
     },
     "metadata": {},
     "output_type": "display_data"
    },
    {
     "name": "stdout",
     "output_type": "stream",
     "text": [
      "\n",
      "Epoch 334/3000\n"
     ]
    },
    {
     "data": {
      "application/vnd.jupyter.widget-view+json": {
       "model_id": "fd97297d66594772a4a0691b2b67cc14",
       "version_major": 2,
       "version_minor": 0
      },
      "text/plain": [
       "HBox(children=(HTML(value=''), FloatProgress(value=0.0, layout=Layout(flex='2'), max=1.0), HTML(value='')), la…"
      ]
     },
     "metadata": {},
     "output_type": "display_data"
    },
    {
     "name": "stdout",
     "output_type": "stream",
     "text": [
      "\n",
      "Epoch 335/3000\n"
     ]
    },
    {
     "data": {
      "application/vnd.jupyter.widget-view+json": {
       "model_id": "d9a6a6c4015c49bc9ecbd00df5831337",
       "version_major": 2,
       "version_minor": 0
      },
      "text/plain": [
       "HBox(children=(HTML(value=''), FloatProgress(value=0.0, layout=Layout(flex='2'), max=1.0), HTML(value='')), la…"
      ]
     },
     "metadata": {},
     "output_type": "display_data"
    },
    {
     "name": "stdout",
     "output_type": "stream",
     "text": [
      "\n",
      "Epoch 336/3000\n"
     ]
    },
    {
     "data": {
      "application/vnd.jupyter.widget-view+json": {
       "model_id": "2056751c3b324bfebbc6c9a21c316ca3",
       "version_major": 2,
       "version_minor": 0
      },
      "text/plain": [
       "HBox(children=(HTML(value=''), FloatProgress(value=0.0, layout=Layout(flex='2'), max=1.0), HTML(value='')), la…"
      ]
     },
     "metadata": {},
     "output_type": "display_data"
    },
    {
     "name": "stdout",
     "output_type": "stream",
     "text": [
      "\n",
      "Epoch 337/3000\n"
     ]
    },
    {
     "data": {
      "application/vnd.jupyter.widget-view+json": {
       "model_id": "5b1bad9813cb4464b81167acd12effae",
       "version_major": 2,
       "version_minor": 0
      },
      "text/plain": [
       "HBox(children=(HTML(value=''), FloatProgress(value=0.0, layout=Layout(flex='2'), max=1.0), HTML(value='')), la…"
      ]
     },
     "metadata": {},
     "output_type": "display_data"
    },
    {
     "name": "stdout",
     "output_type": "stream",
     "text": [
      "\n",
      "Epoch 338/3000\n"
     ]
    },
    {
     "data": {
      "application/vnd.jupyter.widget-view+json": {
       "model_id": "cec5808395d64dc4a9f90ccf2bc8f97a",
       "version_major": 2,
       "version_minor": 0
      },
      "text/plain": [
       "HBox(children=(HTML(value=''), FloatProgress(value=0.0, layout=Layout(flex='2'), max=1.0), HTML(value='')), la…"
      ]
     },
     "metadata": {},
     "output_type": "display_data"
    },
    {
     "name": "stdout",
     "output_type": "stream",
     "text": [
      "\n",
      "Epoch 339/3000\n"
     ]
    },
    {
     "data": {
      "application/vnd.jupyter.widget-view+json": {
       "model_id": "340b7b9dc16b495292c42c73517dff05",
       "version_major": 2,
       "version_minor": 0
      },
      "text/plain": [
       "HBox(children=(HTML(value=''), FloatProgress(value=0.0, layout=Layout(flex='2'), max=1.0), HTML(value='')), la…"
      ]
     },
     "metadata": {},
     "output_type": "display_data"
    },
    {
     "name": "stdout",
     "output_type": "stream",
     "text": [
      "\n",
      "Epoch 340/3000\n"
     ]
    },
    {
     "data": {
      "application/vnd.jupyter.widget-view+json": {
       "model_id": "eb529869becb43b18f138e0fe1e6dcee",
       "version_major": 2,
       "version_minor": 0
      },
      "text/plain": [
       "HBox(children=(HTML(value=''), FloatProgress(value=0.0, layout=Layout(flex='2'), max=1.0), HTML(value='')), la…"
      ]
     },
     "metadata": {},
     "output_type": "display_data"
    },
    {
     "name": "stdout",
     "output_type": "stream",
     "text": [
      "\n",
      "Epoch 341/3000\n"
     ]
    },
    {
     "data": {
      "application/vnd.jupyter.widget-view+json": {
       "model_id": "c24a7bd57b9a48159a534dcceb0b67a4",
       "version_major": 2,
       "version_minor": 0
      },
      "text/plain": [
       "HBox(children=(HTML(value=''), FloatProgress(value=0.0, layout=Layout(flex='2'), max=1.0), HTML(value='')), la…"
      ]
     },
     "metadata": {},
     "output_type": "display_data"
    },
    {
     "name": "stdout",
     "output_type": "stream",
     "text": [
      "\n",
      "Epoch 342/3000\n"
     ]
    },
    {
     "data": {
      "application/vnd.jupyter.widget-view+json": {
       "model_id": "f78cac6ce68f40059dc01d21ea040195",
       "version_major": 2,
       "version_minor": 0
      },
      "text/plain": [
       "HBox(children=(HTML(value=''), FloatProgress(value=0.0, layout=Layout(flex='2'), max=1.0), HTML(value='')), la…"
      ]
     },
     "metadata": {},
     "output_type": "display_data"
    },
    {
     "name": "stdout",
     "output_type": "stream",
     "text": [
      "\n",
      "Epoch 343/3000\n"
     ]
    },
    {
     "data": {
      "application/vnd.jupyter.widget-view+json": {
       "model_id": "9c75c207c34242249fbac00ca954e3d6",
       "version_major": 2,
       "version_minor": 0
      },
      "text/plain": [
       "HBox(children=(HTML(value=''), FloatProgress(value=0.0, layout=Layout(flex='2'), max=1.0), HTML(value='')), la…"
      ]
     },
     "metadata": {},
     "output_type": "display_data"
    },
    {
     "name": "stdout",
     "output_type": "stream",
     "text": [
      "\n",
      "Epoch 344/3000\n"
     ]
    },
    {
     "data": {
      "application/vnd.jupyter.widget-view+json": {
       "model_id": "9dc37d683b7c4d3c924468f104c2282d",
       "version_major": 2,
       "version_minor": 0
      },
      "text/plain": [
       "HBox(children=(HTML(value=''), FloatProgress(value=0.0, layout=Layout(flex='2'), max=1.0), HTML(value='')), la…"
      ]
     },
     "metadata": {},
     "output_type": "display_data"
    },
    {
     "name": "stdout",
     "output_type": "stream",
     "text": [
      "\n",
      "Epoch 345/3000\n"
     ]
    },
    {
     "data": {
      "application/vnd.jupyter.widget-view+json": {
       "model_id": "650e35b039634f698e90815bab0a857e",
       "version_major": 2,
       "version_minor": 0
      },
      "text/plain": [
       "HBox(children=(HTML(value=''), FloatProgress(value=0.0, layout=Layout(flex='2'), max=1.0), HTML(value='')), la…"
      ]
     },
     "metadata": {},
     "output_type": "display_data"
    },
    {
     "name": "stdout",
     "output_type": "stream",
     "text": [
      "\n",
      "Epoch 346/3000\n"
     ]
    },
    {
     "data": {
      "application/vnd.jupyter.widget-view+json": {
       "model_id": "425f58842f284fadb028db66c42087d2",
       "version_major": 2,
       "version_minor": 0
      },
      "text/plain": [
       "HBox(children=(HTML(value=''), FloatProgress(value=0.0, layout=Layout(flex='2'), max=1.0), HTML(value='')), la…"
      ]
     },
     "metadata": {},
     "output_type": "display_data"
    },
    {
     "name": "stdout",
     "output_type": "stream",
     "text": [
      "\n",
      "Epoch 347/3000\n"
     ]
    },
    {
     "data": {
      "application/vnd.jupyter.widget-view+json": {
       "model_id": "c55733851f94462cbd42834872c50ba0",
       "version_major": 2,
       "version_minor": 0
      },
      "text/plain": [
       "HBox(children=(HTML(value=''), FloatProgress(value=0.0, layout=Layout(flex='2'), max=1.0), HTML(value='')), la…"
      ]
     },
     "metadata": {},
     "output_type": "display_data"
    },
    {
     "name": "stdout",
     "output_type": "stream",
     "text": [
      "\n",
      "Epoch 348/3000\n"
     ]
    },
    {
     "data": {
      "application/vnd.jupyter.widget-view+json": {
       "model_id": "bb15fe67e0ea4534a11033e9f21cfe77",
       "version_major": 2,
       "version_minor": 0
      },
      "text/plain": [
       "HBox(children=(HTML(value=''), FloatProgress(value=0.0, layout=Layout(flex='2'), max=1.0), HTML(value='')), la…"
      ]
     },
     "metadata": {},
     "output_type": "display_data"
    },
    {
     "name": "stdout",
     "output_type": "stream",
     "text": [
      "\n",
      "Epoch 349/3000\n"
     ]
    },
    {
     "data": {
      "application/vnd.jupyter.widget-view+json": {
       "model_id": "7f009e250bbb4e61ba03149bef1566c1",
       "version_major": 2,
       "version_minor": 0
      },
      "text/plain": [
       "HBox(children=(HTML(value=''), FloatProgress(value=0.0, layout=Layout(flex='2'), max=1.0), HTML(value='')), la…"
      ]
     },
     "metadata": {},
     "output_type": "display_data"
    },
    {
     "name": "stdout",
     "output_type": "stream",
     "text": [
      "\n",
      "Epoch 350/3000\n"
     ]
    },
    {
     "data": {
      "application/vnd.jupyter.widget-view+json": {
       "model_id": "b287108111fc442d90f01049a1f0dfbb",
       "version_major": 2,
       "version_minor": 0
      },
      "text/plain": [
       "HBox(children=(HTML(value=''), FloatProgress(value=0.0, layout=Layout(flex='2'), max=1.0), HTML(value='')), la…"
      ]
     },
     "metadata": {},
     "output_type": "display_data"
    },
    {
     "name": "stdout",
     "output_type": "stream",
     "text": [
      "\n",
      "Epoch 351/3000\n"
     ]
    },
    {
     "data": {
      "application/vnd.jupyter.widget-view+json": {
       "model_id": "956d477cf9ec4c2aa90a756c382c5dea",
       "version_major": 2,
       "version_minor": 0
      },
      "text/plain": [
       "HBox(children=(HTML(value=''), FloatProgress(value=0.0, layout=Layout(flex='2'), max=1.0), HTML(value='')), la…"
      ]
     },
     "metadata": {},
     "output_type": "display_data"
    },
    {
     "name": "stdout",
     "output_type": "stream",
     "text": [
      "\n",
      "Epoch 352/3000\n"
     ]
    },
    {
     "data": {
      "application/vnd.jupyter.widget-view+json": {
       "model_id": "3edee9b305a44c2f84d9727b5c279f9d",
       "version_major": 2,
       "version_minor": 0
      },
      "text/plain": [
       "HBox(children=(HTML(value=''), FloatProgress(value=0.0, layout=Layout(flex='2'), max=1.0), HTML(value='')), la…"
      ]
     },
     "metadata": {},
     "output_type": "display_data"
    },
    {
     "name": "stdout",
     "output_type": "stream",
     "text": [
      "\n",
      "Epoch 353/3000\n"
     ]
    },
    {
     "data": {
      "application/vnd.jupyter.widget-view+json": {
       "model_id": "5e806c48d6ed405a9dd91ecebc5d6878",
       "version_major": 2,
       "version_minor": 0
      },
      "text/plain": [
       "HBox(children=(HTML(value=''), FloatProgress(value=0.0, layout=Layout(flex='2'), max=1.0), HTML(value='')), la…"
      ]
     },
     "metadata": {},
     "output_type": "display_data"
    },
    {
     "name": "stdout",
     "output_type": "stream",
     "text": [
      "\n",
      "Epoch 354/3000\n"
     ]
    },
    {
     "data": {
      "application/vnd.jupyter.widget-view+json": {
       "model_id": "2f50c3f0339241c0b7e1b1727b01c977",
       "version_major": 2,
       "version_minor": 0
      },
      "text/plain": [
       "HBox(children=(HTML(value=''), FloatProgress(value=0.0, layout=Layout(flex='2'), max=1.0), HTML(value='')), la…"
      ]
     },
     "metadata": {},
     "output_type": "display_data"
    },
    {
     "name": "stdout",
     "output_type": "stream",
     "text": [
      "\n",
      "Epoch 355/3000\n"
     ]
    },
    {
     "data": {
      "application/vnd.jupyter.widget-view+json": {
       "model_id": "9d6742a9dd624b098cd4c876a1e6846e",
       "version_major": 2,
       "version_minor": 0
      },
      "text/plain": [
       "HBox(children=(HTML(value=''), FloatProgress(value=0.0, layout=Layout(flex='2'), max=1.0), HTML(value='')), la…"
      ]
     },
     "metadata": {},
     "output_type": "display_data"
    },
    {
     "name": "stdout",
     "output_type": "stream",
     "text": [
      "\n",
      "Epoch 356/3000\n"
     ]
    },
    {
     "data": {
      "application/vnd.jupyter.widget-view+json": {
       "model_id": "848dcfd13ede4371945f9a95a5279a4d",
       "version_major": 2,
       "version_minor": 0
      },
      "text/plain": [
       "HBox(children=(HTML(value=''), FloatProgress(value=0.0, layout=Layout(flex='2'), max=1.0), HTML(value='')), la…"
      ]
     },
     "metadata": {},
     "output_type": "display_data"
    },
    {
     "name": "stdout",
     "output_type": "stream",
     "text": [
      "\n",
      "Epoch 357/3000\n"
     ]
    },
    {
     "data": {
      "application/vnd.jupyter.widget-view+json": {
       "model_id": "51047b03f6ca4c95ac28b1ca6903a167",
       "version_major": 2,
       "version_minor": 0
      },
      "text/plain": [
       "HBox(children=(HTML(value=''), FloatProgress(value=0.0, layout=Layout(flex='2'), max=1.0), HTML(value='')), la…"
      ]
     },
     "metadata": {},
     "output_type": "display_data"
    },
    {
     "name": "stdout",
     "output_type": "stream",
     "text": [
      "\n",
      "Epoch 358/3000\n"
     ]
    },
    {
     "data": {
      "application/vnd.jupyter.widget-view+json": {
       "model_id": "8a076ff55d5f4f16bc5cc93ba4fd72cf",
       "version_major": 2,
       "version_minor": 0
      },
      "text/plain": [
       "HBox(children=(HTML(value=''), FloatProgress(value=0.0, layout=Layout(flex='2'), max=1.0), HTML(value='')), la…"
      ]
     },
     "metadata": {},
     "output_type": "display_data"
    },
    {
     "name": "stdout",
     "output_type": "stream",
     "text": [
      "\n",
      "Epoch 359/3000\n"
     ]
    },
    {
     "data": {
      "application/vnd.jupyter.widget-view+json": {
       "model_id": "383b39f3a18249d59465847600c2f9b1",
       "version_major": 2,
       "version_minor": 0
      },
      "text/plain": [
       "HBox(children=(HTML(value=''), FloatProgress(value=0.0, layout=Layout(flex='2'), max=1.0), HTML(value='')), la…"
      ]
     },
     "metadata": {},
     "output_type": "display_data"
    },
    {
     "name": "stdout",
     "output_type": "stream",
     "text": [
      "\n",
      "Epoch 360/3000\n"
     ]
    },
    {
     "data": {
      "application/vnd.jupyter.widget-view+json": {
       "model_id": "88a260a05f9142afb0cb4197da68aa05",
       "version_major": 2,
       "version_minor": 0
      },
      "text/plain": [
       "HBox(children=(HTML(value=''), FloatProgress(value=0.0, layout=Layout(flex='2'), max=1.0), HTML(value='')), la…"
      ]
     },
     "metadata": {},
     "output_type": "display_data"
    },
    {
     "name": "stdout",
     "output_type": "stream",
     "text": [
      "\n",
      "Epoch 361/3000\n"
     ]
    },
    {
     "data": {
      "application/vnd.jupyter.widget-view+json": {
       "model_id": "851464c53670495c9169ec927cd3d836",
       "version_major": 2,
       "version_minor": 0
      },
      "text/plain": [
       "HBox(children=(HTML(value=''), FloatProgress(value=0.0, layout=Layout(flex='2'), max=1.0), HTML(value='')), la…"
      ]
     },
     "metadata": {},
     "output_type": "display_data"
    },
    {
     "name": "stdout",
     "output_type": "stream",
     "text": [
      "\n",
      "Epoch 362/3000\n"
     ]
    },
    {
     "data": {
      "application/vnd.jupyter.widget-view+json": {
       "model_id": "3faee7c7ed004c158719d30d3a48791f",
       "version_major": 2,
       "version_minor": 0
      },
      "text/plain": [
       "HBox(children=(HTML(value=''), FloatProgress(value=0.0, layout=Layout(flex='2'), max=1.0), HTML(value='')), la…"
      ]
     },
     "metadata": {},
     "output_type": "display_data"
    },
    {
     "name": "stdout",
     "output_type": "stream",
     "text": [
      "\n",
      "Epoch 363/3000\n"
     ]
    },
    {
     "data": {
      "application/vnd.jupyter.widget-view+json": {
       "model_id": "e62db9072abe4822bdfafb79df05f16c",
       "version_major": 2,
       "version_minor": 0
      },
      "text/plain": [
       "HBox(children=(HTML(value=''), FloatProgress(value=0.0, layout=Layout(flex='2'), max=1.0), HTML(value='')), la…"
      ]
     },
     "metadata": {},
     "output_type": "display_data"
    },
    {
     "name": "stdout",
     "output_type": "stream",
     "text": [
      "\n",
      "Epoch 364/3000\n"
     ]
    },
    {
     "data": {
      "application/vnd.jupyter.widget-view+json": {
       "model_id": "b81b6960c2bc45259b47f896b1f1482c",
       "version_major": 2,
       "version_minor": 0
      },
      "text/plain": [
       "HBox(children=(HTML(value=''), FloatProgress(value=0.0, layout=Layout(flex='2'), max=1.0), HTML(value='')), la…"
      ]
     },
     "metadata": {},
     "output_type": "display_data"
    },
    {
     "name": "stdout",
     "output_type": "stream",
     "text": [
      "\n",
      "Epoch 365/3000\n"
     ]
    },
    {
     "data": {
      "application/vnd.jupyter.widget-view+json": {
       "model_id": "51a7962382b34fc092a99adb6c9e4f46",
       "version_major": 2,
       "version_minor": 0
      },
      "text/plain": [
       "HBox(children=(HTML(value=''), FloatProgress(value=0.0, layout=Layout(flex='2'), max=1.0), HTML(value='')), la…"
      ]
     },
     "metadata": {},
     "output_type": "display_data"
    },
    {
     "name": "stdout",
     "output_type": "stream",
     "text": [
      "\n",
      "Epoch 366/3000\n"
     ]
    },
    {
     "data": {
      "application/vnd.jupyter.widget-view+json": {
       "model_id": "37c9abc18bc242c5985faa0a64da386c",
       "version_major": 2,
       "version_minor": 0
      },
      "text/plain": [
       "HBox(children=(HTML(value=''), FloatProgress(value=0.0, layout=Layout(flex='2'), max=1.0), HTML(value='')), la…"
      ]
     },
     "metadata": {},
     "output_type": "display_data"
    },
    {
     "name": "stdout",
     "output_type": "stream",
     "text": [
      "\n",
      "Epoch 367/3000\n"
     ]
    },
    {
     "data": {
      "application/vnd.jupyter.widget-view+json": {
       "model_id": "bd081bae1e8840acaa79d400ce4bd3d2",
       "version_major": 2,
       "version_minor": 0
      },
      "text/plain": [
       "HBox(children=(HTML(value=''), FloatProgress(value=0.0, layout=Layout(flex='2'), max=1.0), HTML(value='')), la…"
      ]
     },
     "metadata": {},
     "output_type": "display_data"
    },
    {
     "name": "stdout",
     "output_type": "stream",
     "text": [
      "\n",
      "Epoch 368/3000\n"
     ]
    },
    {
     "data": {
      "application/vnd.jupyter.widget-view+json": {
       "model_id": "53128931235e4354b0fe0fe8bfd8d62f",
       "version_major": 2,
       "version_minor": 0
      },
      "text/plain": [
       "HBox(children=(HTML(value=''), FloatProgress(value=0.0, layout=Layout(flex='2'), max=1.0), HTML(value='')), la…"
      ]
     },
     "metadata": {},
     "output_type": "display_data"
    },
    {
     "name": "stdout",
     "output_type": "stream",
     "text": [
      "\n",
      "Epoch 369/3000\n"
     ]
    },
    {
     "data": {
      "application/vnd.jupyter.widget-view+json": {
       "model_id": "4a1d62f2b28e42ec83696f52d0d77d17",
       "version_major": 2,
       "version_minor": 0
      },
      "text/plain": [
       "HBox(children=(HTML(value=''), FloatProgress(value=0.0, layout=Layout(flex='2'), max=1.0), HTML(value='')), la…"
      ]
     },
     "metadata": {},
     "output_type": "display_data"
    },
    {
     "name": "stdout",
     "output_type": "stream",
     "text": [
      "\n",
      "Epoch 370/3000\n"
     ]
    },
    {
     "data": {
      "application/vnd.jupyter.widget-view+json": {
       "model_id": "6164695666754fdc8674dcd8577475af",
       "version_major": 2,
       "version_minor": 0
      },
      "text/plain": [
       "HBox(children=(HTML(value=''), FloatProgress(value=0.0, layout=Layout(flex='2'), max=1.0), HTML(value='')), la…"
      ]
     },
     "metadata": {},
     "output_type": "display_data"
    },
    {
     "name": "stdout",
     "output_type": "stream",
     "text": [
      "\n",
      "Epoch 371/3000\n"
     ]
    },
    {
     "data": {
      "application/vnd.jupyter.widget-view+json": {
       "model_id": "238ea70e45cb4dd3b37e976c2f674273",
       "version_major": 2,
       "version_minor": 0
      },
      "text/plain": [
       "HBox(children=(HTML(value=''), FloatProgress(value=0.0, layout=Layout(flex='2'), max=1.0), HTML(value='')), la…"
      ]
     },
     "metadata": {},
     "output_type": "display_data"
    },
    {
     "name": "stdout",
     "output_type": "stream",
     "text": [
      "\n",
      "Epoch 372/3000\n"
     ]
    },
    {
     "data": {
      "application/vnd.jupyter.widget-view+json": {
       "model_id": "55d0959b3adb45d0bf5a0b2e0b85ff96",
       "version_major": 2,
       "version_minor": 0
      },
      "text/plain": [
       "HBox(children=(HTML(value=''), FloatProgress(value=0.0, layout=Layout(flex='2'), max=1.0), HTML(value='')), la…"
      ]
     },
     "metadata": {},
     "output_type": "display_data"
    },
    {
     "name": "stdout",
     "output_type": "stream",
     "text": [
      "\n",
      "Epoch 373/3000\n"
     ]
    },
    {
     "data": {
      "application/vnd.jupyter.widget-view+json": {
       "model_id": "94c3639cb0854c82ae70da5fac3f732a",
       "version_major": 2,
       "version_minor": 0
      },
      "text/plain": [
       "HBox(children=(HTML(value=''), FloatProgress(value=0.0, layout=Layout(flex='2'), max=1.0), HTML(value='')), la…"
      ]
     },
     "metadata": {},
     "output_type": "display_data"
    },
    {
     "name": "stdout",
     "output_type": "stream",
     "text": [
      "\n",
      "Epoch 374/3000\n"
     ]
    },
    {
     "data": {
      "application/vnd.jupyter.widget-view+json": {
       "model_id": "526787ccdc8b4a3c83c686660e64df5c",
       "version_major": 2,
       "version_minor": 0
      },
      "text/plain": [
       "HBox(children=(HTML(value=''), FloatProgress(value=0.0, layout=Layout(flex='2'), max=1.0), HTML(value='')), la…"
      ]
     },
     "metadata": {},
     "output_type": "display_data"
    },
    {
     "name": "stdout",
     "output_type": "stream",
     "text": [
      "\n",
      "Epoch 375/3000\n"
     ]
    },
    {
     "data": {
      "application/vnd.jupyter.widget-view+json": {
       "model_id": "312a096fc91d41d5a9a38b70d69c30df",
       "version_major": 2,
       "version_minor": 0
      },
      "text/plain": [
       "HBox(children=(HTML(value=''), FloatProgress(value=0.0, layout=Layout(flex='2'), max=1.0), HTML(value='')), la…"
      ]
     },
     "metadata": {},
     "output_type": "display_data"
    },
    {
     "name": "stdout",
     "output_type": "stream",
     "text": [
      "\n",
      "Epoch 376/3000\n"
     ]
    },
    {
     "data": {
      "application/vnd.jupyter.widget-view+json": {
       "model_id": "5829d1b48dae472a82cf792b42c55886",
       "version_major": 2,
       "version_minor": 0
      },
      "text/plain": [
       "HBox(children=(HTML(value=''), FloatProgress(value=0.0, layout=Layout(flex='2'), max=1.0), HTML(value='')), la…"
      ]
     },
     "metadata": {},
     "output_type": "display_data"
    },
    {
     "name": "stdout",
     "output_type": "stream",
     "text": [
      "\n",
      "Epoch 377/3000\n"
     ]
    },
    {
     "data": {
      "application/vnd.jupyter.widget-view+json": {
       "model_id": "bc438eaf78f84c769029b77566db2809",
       "version_major": 2,
       "version_minor": 0
      },
      "text/plain": [
       "HBox(children=(HTML(value=''), FloatProgress(value=0.0, layout=Layout(flex='2'), max=1.0), HTML(value='')), la…"
      ]
     },
     "metadata": {},
     "output_type": "display_data"
    },
    {
     "name": "stdout",
     "output_type": "stream",
     "text": [
      "\n",
      "Epoch 378/3000\n"
     ]
    },
    {
     "data": {
      "application/vnd.jupyter.widget-view+json": {
       "model_id": "1e5491731c644fca92711cb959e88693",
       "version_major": 2,
       "version_minor": 0
      },
      "text/plain": [
       "HBox(children=(HTML(value=''), FloatProgress(value=0.0, layout=Layout(flex='2'), max=1.0), HTML(value='')), la…"
      ]
     },
     "metadata": {},
     "output_type": "display_data"
    },
    {
     "name": "stdout",
     "output_type": "stream",
     "text": [
      "\n",
      "Epoch 379/3000\n"
     ]
    },
    {
     "data": {
      "application/vnd.jupyter.widget-view+json": {
       "model_id": "10211371e7534354aa620e190fa14b68",
       "version_major": 2,
       "version_minor": 0
      },
      "text/plain": [
       "HBox(children=(HTML(value=''), FloatProgress(value=0.0, layout=Layout(flex='2'), max=1.0), HTML(value='')), la…"
      ]
     },
     "metadata": {},
     "output_type": "display_data"
    },
    {
     "name": "stdout",
     "output_type": "stream",
     "text": [
      "\n",
      "Epoch 380/3000\n"
     ]
    },
    {
     "data": {
      "application/vnd.jupyter.widget-view+json": {
       "model_id": "0b709d4de24d449ab01125ba4a6825ac",
       "version_major": 2,
       "version_minor": 0
      },
      "text/plain": [
       "HBox(children=(HTML(value=''), FloatProgress(value=0.0, layout=Layout(flex='2'), max=1.0), HTML(value='')), la…"
      ]
     },
     "metadata": {},
     "output_type": "display_data"
    },
    {
     "name": "stdout",
     "output_type": "stream",
     "text": [
      "\n",
      "Epoch 381/3000\n"
     ]
    },
    {
     "data": {
      "application/vnd.jupyter.widget-view+json": {
       "model_id": "6de3e077cd49410d838cceed4cce9ae2",
       "version_major": 2,
       "version_minor": 0
      },
      "text/plain": [
       "HBox(children=(HTML(value=''), FloatProgress(value=0.0, layout=Layout(flex='2'), max=1.0), HTML(value='')), la…"
      ]
     },
     "metadata": {},
     "output_type": "display_data"
    },
    {
     "name": "stdout",
     "output_type": "stream",
     "text": [
      "\n",
      "Epoch 382/3000\n"
     ]
    },
    {
     "data": {
      "application/vnd.jupyter.widget-view+json": {
       "model_id": "38a1a0d61bc843f49753bc953a54004e",
       "version_major": 2,
       "version_minor": 0
      },
      "text/plain": [
       "HBox(children=(HTML(value=''), FloatProgress(value=0.0, layout=Layout(flex='2'), max=1.0), HTML(value='')), la…"
      ]
     },
     "metadata": {},
     "output_type": "display_data"
    },
    {
     "name": "stdout",
     "output_type": "stream",
     "text": [
      "\n",
      "Epoch 383/3000\n"
     ]
    },
    {
     "data": {
      "application/vnd.jupyter.widget-view+json": {
       "model_id": "8bfe39bde0f64931938b302e95fdf9e5",
       "version_major": 2,
       "version_minor": 0
      },
      "text/plain": [
       "HBox(children=(HTML(value=''), FloatProgress(value=0.0, layout=Layout(flex='2'), max=1.0), HTML(value='')), la…"
      ]
     },
     "metadata": {},
     "output_type": "display_data"
    },
    {
     "name": "stdout",
     "output_type": "stream",
     "text": [
      "\n",
      "Epoch 384/3000\n"
     ]
    },
    {
     "data": {
      "application/vnd.jupyter.widget-view+json": {
       "model_id": "6563d9a911eb4093ba3312f2993bad50",
       "version_major": 2,
       "version_minor": 0
      },
      "text/plain": [
       "HBox(children=(HTML(value=''), FloatProgress(value=0.0, layout=Layout(flex='2'), max=1.0), HTML(value='')), la…"
      ]
     },
     "metadata": {},
     "output_type": "display_data"
    },
    {
     "name": "stdout",
     "output_type": "stream",
     "text": [
      "\n",
      "Epoch 385/3000\n"
     ]
    },
    {
     "data": {
      "application/vnd.jupyter.widget-view+json": {
       "model_id": "058b1a0d0ab948b281ad8b7f9765307a",
       "version_major": 2,
       "version_minor": 0
      },
      "text/plain": [
       "HBox(children=(HTML(value=''), FloatProgress(value=0.0, layout=Layout(flex='2'), max=1.0), HTML(value='')), la…"
      ]
     },
     "metadata": {},
     "output_type": "display_data"
    },
    {
     "name": "stdout",
     "output_type": "stream",
     "text": [
      "\n",
      "Epoch 386/3000\n"
     ]
    },
    {
     "data": {
      "application/vnd.jupyter.widget-view+json": {
       "model_id": "c4063a610a90491d91569ad2528d251b",
       "version_major": 2,
       "version_minor": 0
      },
      "text/plain": [
       "HBox(children=(HTML(value=''), FloatProgress(value=0.0, layout=Layout(flex='2'), max=1.0), HTML(value='')), la…"
      ]
     },
     "metadata": {},
     "output_type": "display_data"
    },
    {
     "name": "stdout",
     "output_type": "stream",
     "text": [
      "\n",
      "Epoch 387/3000\n"
     ]
    },
    {
     "data": {
      "application/vnd.jupyter.widget-view+json": {
       "model_id": "520f4813189f4f4da3afd1a5e8d15833",
       "version_major": 2,
       "version_minor": 0
      },
      "text/plain": [
       "HBox(children=(HTML(value=''), FloatProgress(value=0.0, layout=Layout(flex='2'), max=1.0), HTML(value='')), la…"
      ]
     },
     "metadata": {},
     "output_type": "display_data"
    },
    {
     "name": "stdout",
     "output_type": "stream",
     "text": [
      "\n",
      "Epoch 388/3000\n"
     ]
    },
    {
     "data": {
      "application/vnd.jupyter.widget-view+json": {
       "model_id": "c1708017104b4196b75bcb819baa448e",
       "version_major": 2,
       "version_minor": 0
      },
      "text/plain": [
       "HBox(children=(HTML(value=''), FloatProgress(value=0.0, layout=Layout(flex='2'), max=1.0), HTML(value='')), la…"
      ]
     },
     "metadata": {},
     "output_type": "display_data"
    },
    {
     "name": "stdout",
     "output_type": "stream",
     "text": [
      "\n",
      "Epoch 389/3000\n"
     ]
    },
    {
     "data": {
      "application/vnd.jupyter.widget-view+json": {
       "model_id": "876009f151ab4976ac75138f9a8b3a48",
       "version_major": 2,
       "version_minor": 0
      },
      "text/plain": [
       "HBox(children=(HTML(value=''), FloatProgress(value=0.0, layout=Layout(flex='2'), max=1.0), HTML(value='')), la…"
      ]
     },
     "metadata": {},
     "output_type": "display_data"
    },
    {
     "name": "stdout",
     "output_type": "stream",
     "text": [
      "\n",
      "Epoch 390/3000\n"
     ]
    },
    {
     "data": {
      "application/vnd.jupyter.widget-view+json": {
       "model_id": "26dfeea100a84c8eab0e88a588ca4895",
       "version_major": 2,
       "version_minor": 0
      },
      "text/plain": [
       "HBox(children=(HTML(value=''), FloatProgress(value=0.0, layout=Layout(flex='2'), max=1.0), HTML(value='')), la…"
      ]
     },
     "metadata": {},
     "output_type": "display_data"
    },
    {
     "name": "stdout",
     "output_type": "stream",
     "text": [
      "\n",
      "Epoch 391/3000\n"
     ]
    },
    {
     "data": {
      "application/vnd.jupyter.widget-view+json": {
       "model_id": "4d1fbad2c30e4ace9d59661a3380dad7",
       "version_major": 2,
       "version_minor": 0
      },
      "text/plain": [
       "HBox(children=(HTML(value=''), FloatProgress(value=0.0, layout=Layout(flex='2'), max=1.0), HTML(value='')), la…"
      ]
     },
     "metadata": {},
     "output_type": "display_data"
    },
    {
     "name": "stdout",
     "output_type": "stream",
     "text": [
      "\n",
      "Epoch 392/3000\n"
     ]
    },
    {
     "data": {
      "application/vnd.jupyter.widget-view+json": {
       "model_id": "8d0d1d215048466794041d296e61a53e",
       "version_major": 2,
       "version_minor": 0
      },
      "text/plain": [
       "HBox(children=(HTML(value=''), FloatProgress(value=0.0, layout=Layout(flex='2'), max=1.0), HTML(value='')), la…"
      ]
     },
     "metadata": {},
     "output_type": "display_data"
    },
    {
     "name": "stdout",
     "output_type": "stream",
     "text": [
      "\n",
      "Epoch 393/3000\n"
     ]
    },
    {
     "data": {
      "application/vnd.jupyter.widget-view+json": {
       "model_id": "f2ab758c92c24097a5da0b9018d2a115",
       "version_major": 2,
       "version_minor": 0
      },
      "text/plain": [
       "HBox(children=(HTML(value=''), FloatProgress(value=0.0, layout=Layout(flex='2'), max=1.0), HTML(value='')), la…"
      ]
     },
     "metadata": {},
     "output_type": "display_data"
    },
    {
     "name": "stdout",
     "output_type": "stream",
     "text": [
      "\n",
      "Epoch 394/3000\n"
     ]
    },
    {
     "data": {
      "application/vnd.jupyter.widget-view+json": {
       "model_id": "52ebe8dfb4a94c12a5da8ff0a5cacec2",
       "version_major": 2,
       "version_minor": 0
      },
      "text/plain": [
       "HBox(children=(HTML(value=''), FloatProgress(value=0.0, layout=Layout(flex='2'), max=1.0), HTML(value='')), la…"
      ]
     },
     "metadata": {},
     "output_type": "display_data"
    },
    {
     "name": "stdout",
     "output_type": "stream",
     "text": [
      "\n",
      "Epoch 395/3000\n"
     ]
    },
    {
     "data": {
      "application/vnd.jupyter.widget-view+json": {
       "model_id": "8fa623e297be4e6a914e0a2c9eff9d89",
       "version_major": 2,
       "version_minor": 0
      },
      "text/plain": [
       "HBox(children=(HTML(value=''), FloatProgress(value=0.0, layout=Layout(flex='2'), max=1.0), HTML(value='')), la…"
      ]
     },
     "metadata": {},
     "output_type": "display_data"
    },
    {
     "name": "stdout",
     "output_type": "stream",
     "text": [
      "\n",
      "Epoch 396/3000\n"
     ]
    },
    {
     "data": {
      "application/vnd.jupyter.widget-view+json": {
       "model_id": "05f865dc13284d00bf6957172527ade4",
       "version_major": 2,
       "version_minor": 0
      },
      "text/plain": [
       "HBox(children=(HTML(value=''), FloatProgress(value=0.0, layout=Layout(flex='2'), max=1.0), HTML(value='')), la…"
      ]
     },
     "metadata": {},
     "output_type": "display_data"
    },
    {
     "name": "stdout",
     "output_type": "stream",
     "text": [
      "\n",
      "Epoch 397/3000\n"
     ]
    },
    {
     "data": {
      "application/vnd.jupyter.widget-view+json": {
       "model_id": "05e2aea49e634ebd9e55ea44959ebeed",
       "version_major": 2,
       "version_minor": 0
      },
      "text/plain": [
       "HBox(children=(HTML(value=''), FloatProgress(value=0.0, layout=Layout(flex='2'), max=1.0), HTML(value='')), la…"
      ]
     },
     "metadata": {},
     "output_type": "display_data"
    },
    {
     "name": "stdout",
     "output_type": "stream",
     "text": [
      "\n",
      "Epoch 398/3000\n"
     ]
    },
    {
     "data": {
      "application/vnd.jupyter.widget-view+json": {
       "model_id": "6b4cfc3356fc42359a1a1ba749677144",
       "version_major": 2,
       "version_minor": 0
      },
      "text/plain": [
       "HBox(children=(HTML(value=''), FloatProgress(value=0.0, layout=Layout(flex='2'), max=1.0), HTML(value='')), la…"
      ]
     },
     "metadata": {},
     "output_type": "display_data"
    },
    {
     "name": "stdout",
     "output_type": "stream",
     "text": [
      "\n",
      "Epoch 399/3000\n"
     ]
    },
    {
     "data": {
      "application/vnd.jupyter.widget-view+json": {
       "model_id": "8a577db93b6441b7807fa2ad87c2a970",
       "version_major": 2,
       "version_minor": 0
      },
      "text/plain": [
       "HBox(children=(HTML(value=''), FloatProgress(value=0.0, layout=Layout(flex='2'), max=1.0), HTML(value='')), la…"
      ]
     },
     "metadata": {},
     "output_type": "display_data"
    },
    {
     "name": "stdout",
     "output_type": "stream",
     "text": [
      "\n",
      "Epoch 400/3000\n"
     ]
    },
    {
     "data": {
      "application/vnd.jupyter.widget-view+json": {
       "model_id": "f9fdbff133c440bda4a0bdc50c86cf38",
       "version_major": 2,
       "version_minor": 0
      },
      "text/plain": [
       "HBox(children=(HTML(value=''), FloatProgress(value=0.0, layout=Layout(flex='2'), max=1.0), HTML(value='')), la…"
      ]
     },
     "metadata": {},
     "output_type": "display_data"
    },
    {
     "name": "stdout",
     "output_type": "stream",
     "text": [
      "\n",
      "Epoch 401/3000\n"
     ]
    },
    {
     "data": {
      "application/vnd.jupyter.widget-view+json": {
       "model_id": "4568ee9c7428476f84f9cf31b9f60270",
       "version_major": 2,
       "version_minor": 0
      },
      "text/plain": [
       "HBox(children=(HTML(value=''), FloatProgress(value=0.0, layout=Layout(flex='2'), max=1.0), HTML(value='')), la…"
      ]
     },
     "metadata": {},
     "output_type": "display_data"
    },
    {
     "name": "stdout",
     "output_type": "stream",
     "text": [
      "\n",
      "Epoch 402/3000\n"
     ]
    },
    {
     "data": {
      "application/vnd.jupyter.widget-view+json": {
       "model_id": "c603089c8f174553b8ddd451f40dc769",
       "version_major": 2,
       "version_minor": 0
      },
      "text/plain": [
       "HBox(children=(HTML(value=''), FloatProgress(value=0.0, layout=Layout(flex='2'), max=1.0), HTML(value='')), la…"
      ]
     },
     "metadata": {},
     "output_type": "display_data"
    },
    {
     "name": "stdout",
     "output_type": "stream",
     "text": [
      "\n",
      "Epoch 403/3000\n"
     ]
    },
    {
     "data": {
      "application/vnd.jupyter.widget-view+json": {
       "model_id": "a447cfa4137b423888ee7ded64dcaa26",
       "version_major": 2,
       "version_minor": 0
      },
      "text/plain": [
       "HBox(children=(HTML(value=''), FloatProgress(value=0.0, layout=Layout(flex='2'), max=1.0), HTML(value='')), la…"
      ]
     },
     "metadata": {},
     "output_type": "display_data"
    },
    {
     "name": "stdout",
     "output_type": "stream",
     "text": [
      "\n",
      "Epoch 404/3000\n"
     ]
    },
    {
     "data": {
      "application/vnd.jupyter.widget-view+json": {
       "model_id": "6b827d21ec0c4e608bebf3178f4d0cb1",
       "version_major": 2,
       "version_minor": 0
      },
      "text/plain": [
       "HBox(children=(HTML(value=''), FloatProgress(value=0.0, layout=Layout(flex='2'), max=1.0), HTML(value='')), la…"
      ]
     },
     "metadata": {},
     "output_type": "display_data"
    },
    {
     "name": "stdout",
     "output_type": "stream",
     "text": [
      "\n",
      "Epoch 405/3000\n"
     ]
    },
    {
     "data": {
      "application/vnd.jupyter.widget-view+json": {
       "model_id": "c6e8aa20d4a741ad9ad5fcb8667a5837",
       "version_major": 2,
       "version_minor": 0
      },
      "text/plain": [
       "HBox(children=(HTML(value=''), FloatProgress(value=0.0, layout=Layout(flex='2'), max=1.0), HTML(value='')), la…"
      ]
     },
     "metadata": {},
     "output_type": "display_data"
    },
    {
     "name": "stdout",
     "output_type": "stream",
     "text": [
      "\n",
      "Epoch 406/3000\n"
     ]
    },
    {
     "data": {
      "application/vnd.jupyter.widget-view+json": {
       "model_id": "b700af2ddef54002b515bdf21869c5e3",
       "version_major": 2,
       "version_minor": 0
      },
      "text/plain": [
       "HBox(children=(HTML(value=''), FloatProgress(value=0.0, layout=Layout(flex='2'), max=1.0), HTML(value='')), la…"
      ]
     },
     "metadata": {},
     "output_type": "display_data"
    },
    {
     "name": "stdout",
     "output_type": "stream",
     "text": [
      "\n",
      "Epoch 407/3000\n"
     ]
    },
    {
     "data": {
      "application/vnd.jupyter.widget-view+json": {
       "model_id": "65f606f7765a420996e0a3cf90002ff3",
       "version_major": 2,
       "version_minor": 0
      },
      "text/plain": [
       "HBox(children=(HTML(value=''), FloatProgress(value=0.0, layout=Layout(flex='2'), max=1.0), HTML(value='')), la…"
      ]
     },
     "metadata": {},
     "output_type": "display_data"
    },
    {
     "name": "stdout",
     "output_type": "stream",
     "text": [
      "\n",
      "Epoch 408/3000\n"
     ]
    },
    {
     "data": {
      "application/vnd.jupyter.widget-view+json": {
       "model_id": "d3250927bda248e4933695ab2963904f",
       "version_major": 2,
       "version_minor": 0
      },
      "text/plain": [
       "HBox(children=(HTML(value=''), FloatProgress(value=0.0, layout=Layout(flex='2'), max=1.0), HTML(value='')), la…"
      ]
     },
     "metadata": {},
     "output_type": "display_data"
    },
    {
     "name": "stdout",
     "output_type": "stream",
     "text": [
      "\n",
      "Epoch 409/3000\n"
     ]
    },
    {
     "data": {
      "application/vnd.jupyter.widget-view+json": {
       "model_id": "ad629aa2c71e464ea96f255649024556",
       "version_major": 2,
       "version_minor": 0
      },
      "text/plain": [
       "HBox(children=(HTML(value=''), FloatProgress(value=0.0, layout=Layout(flex='2'), max=1.0), HTML(value='')), la…"
      ]
     },
     "metadata": {},
     "output_type": "display_data"
    },
    {
     "name": "stdout",
     "output_type": "stream",
     "text": [
      "\n",
      "Epoch 410/3000\n"
     ]
    },
    {
     "data": {
      "application/vnd.jupyter.widget-view+json": {
       "model_id": "83dc4629394242f1af7b44328be75e09",
       "version_major": 2,
       "version_minor": 0
      },
      "text/plain": [
       "HBox(children=(HTML(value=''), FloatProgress(value=0.0, layout=Layout(flex='2'), max=1.0), HTML(value='')), la…"
      ]
     },
     "metadata": {},
     "output_type": "display_data"
    },
    {
     "name": "stdout",
     "output_type": "stream",
     "text": [
      "\n",
      "Epoch 411/3000\n"
     ]
    },
    {
     "data": {
      "application/vnd.jupyter.widget-view+json": {
       "model_id": "10d51737bad64d07b8759e5753689404",
       "version_major": 2,
       "version_minor": 0
      },
      "text/plain": [
       "HBox(children=(HTML(value=''), FloatProgress(value=0.0, layout=Layout(flex='2'), max=1.0), HTML(value='')), la…"
      ]
     },
     "metadata": {},
     "output_type": "display_data"
    },
    {
     "name": "stdout",
     "output_type": "stream",
     "text": [
      "\n",
      "Epoch 412/3000\n"
     ]
    },
    {
     "data": {
      "application/vnd.jupyter.widget-view+json": {
       "model_id": "c721dd8c57404f9489cbc68cd6068eba",
       "version_major": 2,
       "version_minor": 0
      },
      "text/plain": [
       "HBox(children=(HTML(value=''), FloatProgress(value=0.0, layout=Layout(flex='2'), max=1.0), HTML(value='')), la…"
      ]
     },
     "metadata": {},
     "output_type": "display_data"
    },
    {
     "name": "stdout",
     "output_type": "stream",
     "text": [
      "\n",
      "Epoch 413/3000\n"
     ]
    },
    {
     "data": {
      "application/vnd.jupyter.widget-view+json": {
       "model_id": "75d0ff5bd7cd48a58fbd630ba9dc1c56",
       "version_major": 2,
       "version_minor": 0
      },
      "text/plain": [
       "HBox(children=(HTML(value=''), FloatProgress(value=0.0, layout=Layout(flex='2'), max=1.0), HTML(value='')), la…"
      ]
     },
     "metadata": {},
     "output_type": "display_data"
    },
    {
     "name": "stdout",
     "output_type": "stream",
     "text": [
      "\n",
      "Epoch 414/3000\n"
     ]
    },
    {
     "data": {
      "application/vnd.jupyter.widget-view+json": {
       "model_id": "a136523d2f7d4d0fb09181faa90bc9d2",
       "version_major": 2,
       "version_minor": 0
      },
      "text/plain": [
       "HBox(children=(HTML(value=''), FloatProgress(value=0.0, layout=Layout(flex='2'), max=1.0), HTML(value='')), la…"
      ]
     },
     "metadata": {},
     "output_type": "display_data"
    },
    {
     "name": "stdout",
     "output_type": "stream",
     "text": [
      "\n",
      "Epoch 415/3000\n"
     ]
    },
    {
     "data": {
      "application/vnd.jupyter.widget-view+json": {
       "model_id": "336bd163713645f7ad6aa77ff40a282a",
       "version_major": 2,
       "version_minor": 0
      },
      "text/plain": [
       "HBox(children=(HTML(value=''), FloatProgress(value=0.0, layout=Layout(flex='2'), max=1.0), HTML(value='')), la…"
      ]
     },
     "metadata": {},
     "output_type": "display_data"
    },
    {
     "name": "stdout",
     "output_type": "stream",
     "text": [
      "\n",
      "Epoch 416/3000\n"
     ]
    },
    {
     "data": {
      "application/vnd.jupyter.widget-view+json": {
       "model_id": "ad222325a76f4807930df71dd760ccec",
       "version_major": 2,
       "version_minor": 0
      },
      "text/plain": [
       "HBox(children=(HTML(value=''), FloatProgress(value=0.0, layout=Layout(flex='2'), max=1.0), HTML(value='')), la…"
      ]
     },
     "metadata": {},
     "output_type": "display_data"
    },
    {
     "name": "stdout",
     "output_type": "stream",
     "text": [
      "\n",
      "Epoch 417/3000\n"
     ]
    },
    {
     "data": {
      "application/vnd.jupyter.widget-view+json": {
       "model_id": "e7baddd86e6b45499e3e234011bc24ea",
       "version_major": 2,
       "version_minor": 0
      },
      "text/plain": [
       "HBox(children=(HTML(value=''), FloatProgress(value=0.0, layout=Layout(flex='2'), max=1.0), HTML(value='')), la…"
      ]
     },
     "metadata": {},
     "output_type": "display_data"
    },
    {
     "name": "stdout",
     "output_type": "stream",
     "text": [
      "\n",
      "Epoch 418/3000\n"
     ]
    },
    {
     "data": {
      "application/vnd.jupyter.widget-view+json": {
       "model_id": "362070e75a264adfb1e4b8808c588f46",
       "version_major": 2,
       "version_minor": 0
      },
      "text/plain": [
       "HBox(children=(HTML(value=''), FloatProgress(value=0.0, layout=Layout(flex='2'), max=1.0), HTML(value='')), la…"
      ]
     },
     "metadata": {},
     "output_type": "display_data"
    },
    {
     "name": "stdout",
     "output_type": "stream",
     "text": [
      "\n",
      "Epoch 419/3000\n"
     ]
    },
    {
     "data": {
      "application/vnd.jupyter.widget-view+json": {
       "model_id": "99317aa4f6c54f0cb182bacd46de7026",
       "version_major": 2,
       "version_minor": 0
      },
      "text/plain": [
       "HBox(children=(HTML(value=''), FloatProgress(value=0.0, layout=Layout(flex='2'), max=1.0), HTML(value='')), la…"
      ]
     },
     "metadata": {},
     "output_type": "display_data"
    },
    {
     "name": "stdout",
     "output_type": "stream",
     "text": [
      "\n",
      "Epoch 420/3000\n"
     ]
    },
    {
     "data": {
      "application/vnd.jupyter.widget-view+json": {
       "model_id": "d187cfa7e24b4b8a9e0ba2b21223e334",
       "version_major": 2,
       "version_minor": 0
      },
      "text/plain": [
       "HBox(children=(HTML(value=''), FloatProgress(value=0.0, layout=Layout(flex='2'), max=1.0), HTML(value='')), la…"
      ]
     },
     "metadata": {},
     "output_type": "display_data"
    },
    {
     "name": "stdout",
     "output_type": "stream",
     "text": [
      "\n",
      "Epoch 421/3000\n"
     ]
    },
    {
     "data": {
      "application/vnd.jupyter.widget-view+json": {
       "model_id": "6a21dbed59ce485ab25bfa88fa4744e3",
       "version_major": 2,
       "version_minor": 0
      },
      "text/plain": [
       "HBox(children=(HTML(value=''), FloatProgress(value=0.0, layout=Layout(flex='2'), max=1.0), HTML(value='')), la…"
      ]
     },
     "metadata": {},
     "output_type": "display_data"
    },
    {
     "name": "stdout",
     "output_type": "stream",
     "text": [
      "\n",
      "Epoch 422/3000\n"
     ]
    },
    {
     "data": {
      "application/vnd.jupyter.widget-view+json": {
       "model_id": "9a96a7b60df84685bc2147e7a27f9e2e",
       "version_major": 2,
       "version_minor": 0
      },
      "text/plain": [
       "HBox(children=(HTML(value=''), FloatProgress(value=0.0, layout=Layout(flex='2'), max=1.0), HTML(value='')), la…"
      ]
     },
     "metadata": {},
     "output_type": "display_data"
    },
    {
     "name": "stdout",
     "output_type": "stream",
     "text": [
      "\n",
      "Epoch 423/3000\n"
     ]
    },
    {
     "data": {
      "application/vnd.jupyter.widget-view+json": {
       "model_id": "fc613ec47f3241fda2b787daf9b38202",
       "version_major": 2,
       "version_minor": 0
      },
      "text/plain": [
       "HBox(children=(HTML(value=''), FloatProgress(value=0.0, layout=Layout(flex='2'), max=1.0), HTML(value='')), la…"
      ]
     },
     "metadata": {},
     "output_type": "display_data"
    },
    {
     "name": "stdout",
     "output_type": "stream",
     "text": [
      "\n",
      "Epoch 424/3000\n"
     ]
    },
    {
     "data": {
      "application/vnd.jupyter.widget-view+json": {
       "model_id": "f7db1c41589b4669ace04c0e45c11cbe",
       "version_major": 2,
       "version_minor": 0
      },
      "text/plain": [
       "HBox(children=(HTML(value=''), FloatProgress(value=0.0, layout=Layout(flex='2'), max=1.0), HTML(value='')), la…"
      ]
     },
     "metadata": {},
     "output_type": "display_data"
    },
    {
     "name": "stdout",
     "output_type": "stream",
     "text": [
      "\n",
      "Epoch 425/3000\n"
     ]
    },
    {
     "data": {
      "application/vnd.jupyter.widget-view+json": {
       "model_id": "0c9564d6395e4ff2b1cf3d235d1a830a",
       "version_major": 2,
       "version_minor": 0
      },
      "text/plain": [
       "HBox(children=(HTML(value=''), FloatProgress(value=0.0, layout=Layout(flex='2'), max=1.0), HTML(value='')), la…"
      ]
     },
     "metadata": {},
     "output_type": "display_data"
    },
    {
     "name": "stdout",
     "output_type": "stream",
     "text": [
      "\n",
      "Epoch 426/3000\n"
     ]
    },
    {
     "data": {
      "application/vnd.jupyter.widget-view+json": {
       "model_id": "cbb088b95989463ab44426dbc569ffdb",
       "version_major": 2,
       "version_minor": 0
      },
      "text/plain": [
       "HBox(children=(HTML(value=''), FloatProgress(value=0.0, layout=Layout(flex='2'), max=1.0), HTML(value='')), la…"
      ]
     },
     "metadata": {},
     "output_type": "display_data"
    },
    {
     "name": "stdout",
     "output_type": "stream",
     "text": [
      "\n",
      "Epoch 427/3000\n"
     ]
    },
    {
     "data": {
      "application/vnd.jupyter.widget-view+json": {
       "model_id": "6c9cdefc89d34ef9887da157cf2b8b60",
       "version_major": 2,
       "version_minor": 0
      },
      "text/plain": [
       "HBox(children=(HTML(value=''), FloatProgress(value=0.0, layout=Layout(flex='2'), max=1.0), HTML(value='')), la…"
      ]
     },
     "metadata": {},
     "output_type": "display_data"
    },
    {
     "name": "stdout",
     "output_type": "stream",
     "text": [
      "\n",
      "Epoch 428/3000\n"
     ]
    },
    {
     "data": {
      "application/vnd.jupyter.widget-view+json": {
       "model_id": "7299666f8ef64fbaa56d3d28de11f3f8",
       "version_major": 2,
       "version_minor": 0
      },
      "text/plain": [
       "HBox(children=(HTML(value=''), FloatProgress(value=0.0, layout=Layout(flex='2'), max=1.0), HTML(value='')), la…"
      ]
     },
     "metadata": {},
     "output_type": "display_data"
    },
    {
     "name": "stdout",
     "output_type": "stream",
     "text": [
      "\n",
      "Epoch 429/3000\n"
     ]
    },
    {
     "data": {
      "application/vnd.jupyter.widget-view+json": {
       "model_id": "39290df6da8542a0b13f28636d6892cb",
       "version_major": 2,
       "version_minor": 0
      },
      "text/plain": [
       "HBox(children=(HTML(value=''), FloatProgress(value=0.0, layout=Layout(flex='2'), max=1.0), HTML(value='')), la…"
      ]
     },
     "metadata": {},
     "output_type": "display_data"
    },
    {
     "name": "stdout",
     "output_type": "stream",
     "text": [
      "\n",
      "Epoch 430/3000\n"
     ]
    },
    {
     "data": {
      "application/vnd.jupyter.widget-view+json": {
       "model_id": "900df11482a54860b8feace3eec16e00",
       "version_major": 2,
       "version_minor": 0
      },
      "text/plain": [
       "HBox(children=(HTML(value=''), FloatProgress(value=0.0, layout=Layout(flex='2'), max=1.0), HTML(value='')), la…"
      ]
     },
     "metadata": {},
     "output_type": "display_data"
    },
    {
     "name": "stdout",
     "output_type": "stream",
     "text": [
      "\n",
      "Epoch 431/3000\n"
     ]
    },
    {
     "data": {
      "application/vnd.jupyter.widget-view+json": {
       "model_id": "4dd0795c0ecd44a9994ca8fa7134f79e",
       "version_major": 2,
       "version_minor": 0
      },
      "text/plain": [
       "HBox(children=(HTML(value=''), FloatProgress(value=0.0, layout=Layout(flex='2'), max=1.0), HTML(value='')), la…"
      ]
     },
     "metadata": {},
     "output_type": "display_data"
    },
    {
     "name": "stdout",
     "output_type": "stream",
     "text": [
      "\n",
      "Epoch 432/3000\n"
     ]
    },
    {
     "data": {
      "application/vnd.jupyter.widget-view+json": {
       "model_id": "db39d8acab1e44c78533dad91693ded9",
       "version_major": 2,
       "version_minor": 0
      },
      "text/plain": [
       "HBox(children=(HTML(value=''), FloatProgress(value=0.0, layout=Layout(flex='2'), max=1.0), HTML(value='')), la…"
      ]
     },
     "metadata": {},
     "output_type": "display_data"
    },
    {
     "name": "stdout",
     "output_type": "stream",
     "text": [
      "\n",
      "Epoch 433/3000\n"
     ]
    },
    {
     "data": {
      "application/vnd.jupyter.widget-view+json": {
       "model_id": "cf54fadae8ca4c0e9024b4e3c93c741f",
       "version_major": 2,
       "version_minor": 0
      },
      "text/plain": [
       "HBox(children=(HTML(value=''), FloatProgress(value=0.0, layout=Layout(flex='2'), max=1.0), HTML(value='')), la…"
      ]
     },
     "metadata": {},
     "output_type": "display_data"
    },
    {
     "name": "stdout",
     "output_type": "stream",
     "text": [
      "\n",
      "Epoch 434/3000\n"
     ]
    },
    {
     "data": {
      "application/vnd.jupyter.widget-view+json": {
       "model_id": "920517b034b94eeb973fa35e856ebd3a",
       "version_major": 2,
       "version_minor": 0
      },
      "text/plain": [
       "HBox(children=(HTML(value=''), FloatProgress(value=0.0, layout=Layout(flex='2'), max=1.0), HTML(value='')), la…"
      ]
     },
     "metadata": {},
     "output_type": "display_data"
    },
    {
     "name": "stdout",
     "output_type": "stream",
     "text": [
      "\n",
      "Epoch 435/3000\n"
     ]
    },
    {
     "data": {
      "application/vnd.jupyter.widget-view+json": {
       "model_id": "cdcfb968229a4926b4568d65958afabc",
       "version_major": 2,
       "version_minor": 0
      },
      "text/plain": [
       "HBox(children=(HTML(value=''), FloatProgress(value=0.0, layout=Layout(flex='2'), max=1.0), HTML(value='')), la…"
      ]
     },
     "metadata": {},
     "output_type": "display_data"
    },
    {
     "name": "stdout",
     "output_type": "stream",
     "text": [
      "\n",
      "Epoch 436/3000\n"
     ]
    },
    {
     "data": {
      "application/vnd.jupyter.widget-view+json": {
       "model_id": "4f5ab340fcc64099a12a0c92cea3a082",
       "version_major": 2,
       "version_minor": 0
      },
      "text/plain": [
       "HBox(children=(HTML(value=''), FloatProgress(value=0.0, layout=Layout(flex='2'), max=1.0), HTML(value='')), la…"
      ]
     },
     "metadata": {},
     "output_type": "display_data"
    },
    {
     "name": "stdout",
     "output_type": "stream",
     "text": [
      "\n",
      "Epoch 437/3000\n"
     ]
    },
    {
     "data": {
      "application/vnd.jupyter.widget-view+json": {
       "model_id": "99ad82df13cc4dcab611667782f94f36",
       "version_major": 2,
       "version_minor": 0
      },
      "text/plain": [
       "HBox(children=(HTML(value=''), FloatProgress(value=0.0, layout=Layout(flex='2'), max=1.0), HTML(value='')), la…"
      ]
     },
     "metadata": {},
     "output_type": "display_data"
    },
    {
     "name": "stdout",
     "output_type": "stream",
     "text": [
      "\n",
      "Epoch 438/3000\n"
     ]
    },
    {
     "data": {
      "application/vnd.jupyter.widget-view+json": {
       "model_id": "6d9c3f42de104e31b6b50b3b050140ff",
       "version_major": 2,
       "version_minor": 0
      },
      "text/plain": [
       "HBox(children=(HTML(value=''), FloatProgress(value=0.0, layout=Layout(flex='2'), max=1.0), HTML(value='')), la…"
      ]
     },
     "metadata": {},
     "output_type": "display_data"
    },
    {
     "name": "stdout",
     "output_type": "stream",
     "text": [
      "\n",
      "Epoch 439/3000\n"
     ]
    },
    {
     "data": {
      "application/vnd.jupyter.widget-view+json": {
       "model_id": "25d3de9d2d664d3586e5e7346509c784",
       "version_major": 2,
       "version_minor": 0
      },
      "text/plain": [
       "HBox(children=(HTML(value=''), FloatProgress(value=0.0, layout=Layout(flex='2'), max=1.0), HTML(value='')), la…"
      ]
     },
     "metadata": {},
     "output_type": "display_data"
    },
    {
     "name": "stdout",
     "output_type": "stream",
     "text": [
      "\n",
      "Epoch 440/3000\n"
     ]
    },
    {
     "data": {
      "application/vnd.jupyter.widget-view+json": {
       "model_id": "eb861551189c497db1d76212cc9f9466",
       "version_major": 2,
       "version_minor": 0
      },
      "text/plain": [
       "HBox(children=(HTML(value=''), FloatProgress(value=0.0, layout=Layout(flex='2'), max=1.0), HTML(value='')), la…"
      ]
     },
     "metadata": {},
     "output_type": "display_data"
    },
    {
     "name": "stdout",
     "output_type": "stream",
     "text": [
      "\n",
      "Epoch 441/3000\n"
     ]
    },
    {
     "data": {
      "application/vnd.jupyter.widget-view+json": {
       "model_id": "c7c380fe7e40484cba20b840d5c88ff2",
       "version_major": 2,
       "version_minor": 0
      },
      "text/plain": [
       "HBox(children=(HTML(value=''), FloatProgress(value=0.0, layout=Layout(flex='2'), max=1.0), HTML(value='')), la…"
      ]
     },
     "metadata": {},
     "output_type": "display_data"
    },
    {
     "name": "stdout",
     "output_type": "stream",
     "text": [
      "\n",
      "Epoch 442/3000\n"
     ]
    },
    {
     "data": {
      "application/vnd.jupyter.widget-view+json": {
       "model_id": "94d0d3d0e9574b68a69107b9ab6d2e2a",
       "version_major": 2,
       "version_minor": 0
      },
      "text/plain": [
       "HBox(children=(HTML(value=''), FloatProgress(value=0.0, layout=Layout(flex='2'), max=1.0), HTML(value='')), la…"
      ]
     },
     "metadata": {},
     "output_type": "display_data"
    },
    {
     "name": "stdout",
     "output_type": "stream",
     "text": [
      "\n",
      "Epoch 443/3000\n"
     ]
    },
    {
     "data": {
      "application/vnd.jupyter.widget-view+json": {
       "model_id": "b16577c31b3f4ed5887cec445a3fc795",
       "version_major": 2,
       "version_minor": 0
      },
      "text/plain": [
       "HBox(children=(HTML(value=''), FloatProgress(value=0.0, layout=Layout(flex='2'), max=1.0), HTML(value='')), la…"
      ]
     },
     "metadata": {},
     "output_type": "display_data"
    },
    {
     "name": "stdout",
     "output_type": "stream",
     "text": [
      "\n",
      "Epoch 444/3000\n"
     ]
    },
    {
     "data": {
      "application/vnd.jupyter.widget-view+json": {
       "model_id": "fa63f7784fff4c3da8bcdcf27d2ffcd8",
       "version_major": 2,
       "version_minor": 0
      },
      "text/plain": [
       "HBox(children=(HTML(value=''), FloatProgress(value=0.0, layout=Layout(flex='2'), max=1.0), HTML(value='')), la…"
      ]
     },
     "metadata": {},
     "output_type": "display_data"
    },
    {
     "name": "stdout",
     "output_type": "stream",
     "text": [
      "\n",
      "Epoch 445/3000\n"
     ]
    },
    {
     "data": {
      "application/vnd.jupyter.widget-view+json": {
       "model_id": "3563e9f8483f4494b86820157c121bee",
       "version_major": 2,
       "version_minor": 0
      },
      "text/plain": [
       "HBox(children=(HTML(value=''), FloatProgress(value=0.0, layout=Layout(flex='2'), max=1.0), HTML(value='')), la…"
      ]
     },
     "metadata": {},
     "output_type": "display_data"
    },
    {
     "name": "stdout",
     "output_type": "stream",
     "text": [
      "\n",
      "Epoch 446/3000\n"
     ]
    },
    {
     "data": {
      "application/vnd.jupyter.widget-view+json": {
       "model_id": "89d6fa4ae92b4302827ada29f2df188c",
       "version_major": 2,
       "version_minor": 0
      },
      "text/plain": [
       "HBox(children=(HTML(value=''), FloatProgress(value=0.0, layout=Layout(flex='2'), max=1.0), HTML(value='')), la…"
      ]
     },
     "metadata": {},
     "output_type": "display_data"
    },
    {
     "name": "stdout",
     "output_type": "stream",
     "text": [
      "\n",
      "Epoch 447/3000\n"
     ]
    },
    {
     "data": {
      "application/vnd.jupyter.widget-view+json": {
       "model_id": "1eaacda583714f51bd52802f962dde38",
       "version_major": 2,
       "version_minor": 0
      },
      "text/plain": [
       "HBox(children=(HTML(value=''), FloatProgress(value=0.0, layout=Layout(flex='2'), max=1.0), HTML(value='')), la…"
      ]
     },
     "metadata": {},
     "output_type": "display_data"
    },
    {
     "name": "stdout",
     "output_type": "stream",
     "text": [
      "\n",
      "Epoch 448/3000\n"
     ]
    },
    {
     "data": {
      "application/vnd.jupyter.widget-view+json": {
       "model_id": "eea8d21488434088b1bd67d4a6cd8478",
       "version_major": 2,
       "version_minor": 0
      },
      "text/plain": [
       "HBox(children=(HTML(value=''), FloatProgress(value=0.0, layout=Layout(flex='2'), max=1.0), HTML(value='')), la…"
      ]
     },
     "metadata": {},
     "output_type": "display_data"
    },
    {
     "name": "stdout",
     "output_type": "stream",
     "text": [
      "\n",
      "Epoch 449/3000\n"
     ]
    },
    {
     "data": {
      "application/vnd.jupyter.widget-view+json": {
       "model_id": "fa9232ea84f24b3eb4a58cf080024f1e",
       "version_major": 2,
       "version_minor": 0
      },
      "text/plain": [
       "HBox(children=(HTML(value=''), FloatProgress(value=0.0, layout=Layout(flex='2'), max=1.0), HTML(value='')), la…"
      ]
     },
     "metadata": {},
     "output_type": "display_data"
    },
    {
     "name": "stdout",
     "output_type": "stream",
     "text": [
      "\n",
      "Epoch 450/3000\n"
     ]
    },
    {
     "data": {
      "application/vnd.jupyter.widget-view+json": {
       "model_id": "3699295f0c4c4038bab0c2d59ab4adc4",
       "version_major": 2,
       "version_minor": 0
      },
      "text/plain": [
       "HBox(children=(HTML(value=''), FloatProgress(value=0.0, layout=Layout(flex='2'), max=1.0), HTML(value='')), la…"
      ]
     },
     "metadata": {},
     "output_type": "display_data"
    },
    {
     "name": "stdout",
     "output_type": "stream",
     "text": [
      "\n",
      "Epoch 451/3000\n"
     ]
    },
    {
     "data": {
      "application/vnd.jupyter.widget-view+json": {
       "model_id": "ed6e959430564095a4cb0ff60c3f4df3",
       "version_major": 2,
       "version_minor": 0
      },
      "text/plain": [
       "HBox(children=(HTML(value=''), FloatProgress(value=0.0, layout=Layout(flex='2'), max=1.0), HTML(value='')), la…"
      ]
     },
     "metadata": {},
     "output_type": "display_data"
    },
    {
     "name": "stdout",
     "output_type": "stream",
     "text": [
      "\n",
      "Epoch 452/3000\n"
     ]
    },
    {
     "data": {
      "application/vnd.jupyter.widget-view+json": {
       "model_id": "6a8a8b80c64542489065720e67ac015c",
       "version_major": 2,
       "version_minor": 0
      },
      "text/plain": [
       "HBox(children=(HTML(value=''), FloatProgress(value=0.0, layout=Layout(flex='2'), max=1.0), HTML(value='')), la…"
      ]
     },
     "metadata": {},
     "output_type": "display_data"
    },
    {
     "name": "stdout",
     "output_type": "stream",
     "text": [
      "\n",
      "Epoch 453/3000\n"
     ]
    },
    {
     "data": {
      "application/vnd.jupyter.widget-view+json": {
       "model_id": "86bd2b04824d41cd96b8f2402d21d01e",
       "version_major": 2,
       "version_minor": 0
      },
      "text/plain": [
       "HBox(children=(HTML(value=''), FloatProgress(value=0.0, layout=Layout(flex='2'), max=1.0), HTML(value='')), la…"
      ]
     },
     "metadata": {},
     "output_type": "display_data"
    },
    {
     "name": "stdout",
     "output_type": "stream",
     "text": [
      "\n",
      "Epoch 454/3000\n"
     ]
    },
    {
     "data": {
      "application/vnd.jupyter.widget-view+json": {
       "model_id": "41792fb019a24ab785976346c07fcc2e",
       "version_major": 2,
       "version_minor": 0
      },
      "text/plain": [
       "HBox(children=(HTML(value=''), FloatProgress(value=0.0, layout=Layout(flex='2'), max=1.0), HTML(value='')), la…"
      ]
     },
     "metadata": {},
     "output_type": "display_data"
    },
    {
     "name": "stdout",
     "output_type": "stream",
     "text": [
      "\n",
      "Epoch 455/3000\n"
     ]
    },
    {
     "data": {
      "application/vnd.jupyter.widget-view+json": {
       "model_id": "0ac8c3f8c69746f1b3b2863dac834b78",
       "version_major": 2,
       "version_minor": 0
      },
      "text/plain": [
       "HBox(children=(HTML(value=''), FloatProgress(value=0.0, layout=Layout(flex='2'), max=1.0), HTML(value='')), la…"
      ]
     },
     "metadata": {},
     "output_type": "display_data"
    },
    {
     "name": "stdout",
     "output_type": "stream",
     "text": [
      "\n",
      "Epoch 456/3000\n"
     ]
    },
    {
     "data": {
      "application/vnd.jupyter.widget-view+json": {
       "model_id": "93434655b1814f5ab5e49e220ec21e02",
       "version_major": 2,
       "version_minor": 0
      },
      "text/plain": [
       "HBox(children=(HTML(value=''), FloatProgress(value=0.0, layout=Layout(flex='2'), max=1.0), HTML(value='')), la…"
      ]
     },
     "metadata": {},
     "output_type": "display_data"
    },
    {
     "name": "stdout",
     "output_type": "stream",
     "text": [
      "\n",
      "Epoch 457/3000\n"
     ]
    },
    {
     "data": {
      "application/vnd.jupyter.widget-view+json": {
       "model_id": "9315c00b6db64b7582571c2c3715c7e5",
       "version_major": 2,
       "version_minor": 0
      },
      "text/plain": [
       "HBox(children=(HTML(value=''), FloatProgress(value=0.0, layout=Layout(flex='2'), max=1.0), HTML(value='')), la…"
      ]
     },
     "metadata": {},
     "output_type": "display_data"
    },
    {
     "name": "stdout",
     "output_type": "stream",
     "text": [
      "\n",
      "Epoch 458/3000\n"
     ]
    },
    {
     "data": {
      "application/vnd.jupyter.widget-view+json": {
       "model_id": "bb15186e0f014b35a1cda1c35555d5de",
       "version_major": 2,
       "version_minor": 0
      },
      "text/plain": [
       "HBox(children=(HTML(value=''), FloatProgress(value=0.0, layout=Layout(flex='2'), max=1.0), HTML(value='')), la…"
      ]
     },
     "metadata": {},
     "output_type": "display_data"
    },
    {
     "name": "stdout",
     "output_type": "stream",
     "text": [
      "\n",
      "Epoch 459/3000\n"
     ]
    },
    {
     "data": {
      "application/vnd.jupyter.widget-view+json": {
       "model_id": "a8de8c671b114466be02a19de84d6ae9",
       "version_major": 2,
       "version_minor": 0
      },
      "text/plain": [
       "HBox(children=(HTML(value=''), FloatProgress(value=0.0, layout=Layout(flex='2'), max=1.0), HTML(value='')), la…"
      ]
     },
     "metadata": {},
     "output_type": "display_data"
    },
    {
     "name": "stdout",
     "output_type": "stream",
     "text": [
      "\n",
      "Epoch 460/3000\n"
     ]
    },
    {
     "data": {
      "application/vnd.jupyter.widget-view+json": {
       "model_id": "38cd5044e11b47839e0905d798b9d71b",
       "version_major": 2,
       "version_minor": 0
      },
      "text/plain": [
       "HBox(children=(HTML(value=''), FloatProgress(value=0.0, layout=Layout(flex='2'), max=1.0), HTML(value='')), la…"
      ]
     },
     "metadata": {},
     "output_type": "display_data"
    },
    {
     "name": "stdout",
     "output_type": "stream",
     "text": [
      "\n",
      "Epoch 461/3000\n"
     ]
    },
    {
     "data": {
      "application/vnd.jupyter.widget-view+json": {
       "model_id": "e96d7c31fd2f466897eaecfc589fc237",
       "version_major": 2,
       "version_minor": 0
      },
      "text/plain": [
       "HBox(children=(HTML(value=''), FloatProgress(value=0.0, layout=Layout(flex='2'), max=1.0), HTML(value='')), la…"
      ]
     },
     "metadata": {},
     "output_type": "display_data"
    },
    {
     "name": "stdout",
     "output_type": "stream",
     "text": [
      "\n",
      "Epoch 462/3000\n"
     ]
    },
    {
     "data": {
      "application/vnd.jupyter.widget-view+json": {
       "model_id": "dc328eb40d814dbbbd3feace0ba252f9",
       "version_major": 2,
       "version_minor": 0
      },
      "text/plain": [
       "HBox(children=(HTML(value=''), FloatProgress(value=0.0, layout=Layout(flex='2'), max=1.0), HTML(value='')), la…"
      ]
     },
     "metadata": {},
     "output_type": "display_data"
    },
    {
     "name": "stdout",
     "output_type": "stream",
     "text": [
      "\n",
      "Epoch 463/3000\n"
     ]
    },
    {
     "data": {
      "application/vnd.jupyter.widget-view+json": {
       "model_id": "9100ac6748d94195b360d4a855a73b96",
       "version_major": 2,
       "version_minor": 0
      },
      "text/plain": [
       "HBox(children=(HTML(value=''), FloatProgress(value=0.0, layout=Layout(flex='2'), max=1.0), HTML(value='')), la…"
      ]
     },
     "metadata": {},
     "output_type": "display_data"
    },
    {
     "name": "stdout",
     "output_type": "stream",
     "text": [
      "\n",
      "Epoch 464/3000\n"
     ]
    },
    {
     "data": {
      "application/vnd.jupyter.widget-view+json": {
       "model_id": "0fa977975dad41f286012b0cbb4c00de",
       "version_major": 2,
       "version_minor": 0
      },
      "text/plain": [
       "HBox(children=(HTML(value=''), FloatProgress(value=0.0, layout=Layout(flex='2'), max=1.0), HTML(value='')), la…"
      ]
     },
     "metadata": {},
     "output_type": "display_data"
    },
    {
     "name": "stdout",
     "output_type": "stream",
     "text": [
      "\n",
      "Epoch 465/3000\n"
     ]
    },
    {
     "data": {
      "application/vnd.jupyter.widget-view+json": {
       "model_id": "3878e35ad27c434fa2ee4a85bbcaa8af",
       "version_major": 2,
       "version_minor": 0
      },
      "text/plain": [
       "HBox(children=(HTML(value=''), FloatProgress(value=0.0, layout=Layout(flex='2'), max=1.0), HTML(value='')), la…"
      ]
     },
     "metadata": {},
     "output_type": "display_data"
    },
    {
     "name": "stdout",
     "output_type": "stream",
     "text": [
      "\n",
      "Epoch 466/3000\n"
     ]
    },
    {
     "data": {
      "application/vnd.jupyter.widget-view+json": {
       "model_id": "7b8af0cf85a74f228598daf461194f6b",
       "version_major": 2,
       "version_minor": 0
      },
      "text/plain": [
       "HBox(children=(HTML(value=''), FloatProgress(value=0.0, layout=Layout(flex='2'), max=1.0), HTML(value='')), la…"
      ]
     },
     "metadata": {},
     "output_type": "display_data"
    },
    {
     "name": "stdout",
     "output_type": "stream",
     "text": [
      "\n",
      "Epoch 467/3000\n"
     ]
    },
    {
     "data": {
      "application/vnd.jupyter.widget-view+json": {
       "model_id": "c5c694eebafa42139cb4762f888c1b73",
       "version_major": 2,
       "version_minor": 0
      },
      "text/plain": [
       "HBox(children=(HTML(value=''), FloatProgress(value=0.0, layout=Layout(flex='2'), max=1.0), HTML(value='')), la…"
      ]
     },
     "metadata": {},
     "output_type": "display_data"
    },
    {
     "name": "stdout",
     "output_type": "stream",
     "text": [
      "\n",
      "Epoch 468/3000\n"
     ]
    },
    {
     "data": {
      "application/vnd.jupyter.widget-view+json": {
       "model_id": "c3fd7041bf934298be5c5326b8ce417d",
       "version_major": 2,
       "version_minor": 0
      },
      "text/plain": [
       "HBox(children=(HTML(value=''), FloatProgress(value=0.0, layout=Layout(flex='2'), max=1.0), HTML(value='')), la…"
      ]
     },
     "metadata": {},
     "output_type": "display_data"
    },
    {
     "name": "stdout",
     "output_type": "stream",
     "text": [
      "\n",
      "Epoch 469/3000\n"
     ]
    },
    {
     "data": {
      "application/vnd.jupyter.widget-view+json": {
       "model_id": "3ab45cd18ecc411e9084e4a8c0309580",
       "version_major": 2,
       "version_minor": 0
      },
      "text/plain": [
       "HBox(children=(HTML(value=''), FloatProgress(value=0.0, layout=Layout(flex='2'), max=1.0), HTML(value='')), la…"
      ]
     },
     "metadata": {},
     "output_type": "display_data"
    },
    {
     "name": "stdout",
     "output_type": "stream",
     "text": [
      "\n",
      "Epoch 470/3000\n"
     ]
    },
    {
     "data": {
      "application/vnd.jupyter.widget-view+json": {
       "model_id": "82f347971152492c80ddb73ec4df9ffc",
       "version_major": 2,
       "version_minor": 0
      },
      "text/plain": [
       "HBox(children=(HTML(value=''), FloatProgress(value=0.0, layout=Layout(flex='2'), max=1.0), HTML(value='')), la…"
      ]
     },
     "metadata": {},
     "output_type": "display_data"
    },
    {
     "name": "stdout",
     "output_type": "stream",
     "text": [
      "\n",
      "Epoch 471/3000\n"
     ]
    },
    {
     "data": {
      "application/vnd.jupyter.widget-view+json": {
       "model_id": "93f43953c9a44711bf4847caa175d084",
       "version_major": 2,
       "version_minor": 0
      },
      "text/plain": [
       "HBox(children=(HTML(value=''), FloatProgress(value=0.0, layout=Layout(flex='2'), max=1.0), HTML(value='')), la…"
      ]
     },
     "metadata": {},
     "output_type": "display_data"
    },
    {
     "name": "stdout",
     "output_type": "stream",
     "text": [
      "\n",
      "Epoch 472/3000\n"
     ]
    },
    {
     "data": {
      "application/vnd.jupyter.widget-view+json": {
       "model_id": "06603dcdf67d49c48ccb628d58aa1e7e",
       "version_major": 2,
       "version_minor": 0
      },
      "text/plain": [
       "HBox(children=(HTML(value=''), FloatProgress(value=0.0, layout=Layout(flex='2'), max=1.0), HTML(value='')), la…"
      ]
     },
     "metadata": {},
     "output_type": "display_data"
    },
    {
     "name": "stdout",
     "output_type": "stream",
     "text": [
      "\n",
      "Epoch 473/3000\n"
     ]
    },
    {
     "data": {
      "application/vnd.jupyter.widget-view+json": {
       "model_id": "83a16101b65746d6af838afe4f594ff9",
       "version_major": 2,
       "version_minor": 0
      },
      "text/plain": [
       "HBox(children=(HTML(value=''), FloatProgress(value=0.0, layout=Layout(flex='2'), max=1.0), HTML(value='')), la…"
      ]
     },
     "metadata": {},
     "output_type": "display_data"
    },
    {
     "name": "stdout",
     "output_type": "stream",
     "text": [
      "\n",
      "Epoch 474/3000\n"
     ]
    },
    {
     "data": {
      "application/vnd.jupyter.widget-view+json": {
       "model_id": "5e1b1c2f8f864bffbf9a57562501da8d",
       "version_major": 2,
       "version_minor": 0
      },
      "text/plain": [
       "HBox(children=(HTML(value=''), FloatProgress(value=0.0, layout=Layout(flex='2'), max=1.0), HTML(value='')), la…"
      ]
     },
     "metadata": {},
     "output_type": "display_data"
    },
    {
     "name": "stdout",
     "output_type": "stream",
     "text": [
      "\n",
      "Epoch 475/3000\n"
     ]
    },
    {
     "data": {
      "application/vnd.jupyter.widget-view+json": {
       "model_id": "5c213526144b456198c24d04176412aa",
       "version_major": 2,
       "version_minor": 0
      },
      "text/plain": [
       "HBox(children=(HTML(value=''), FloatProgress(value=0.0, layout=Layout(flex='2'), max=1.0), HTML(value='')), la…"
      ]
     },
     "metadata": {},
     "output_type": "display_data"
    },
    {
     "name": "stdout",
     "output_type": "stream",
     "text": [
      "\n",
      "Epoch 476/3000\n"
     ]
    },
    {
     "data": {
      "application/vnd.jupyter.widget-view+json": {
       "model_id": "b48c4b4a62c8485cbb026185dbb5e916",
       "version_major": 2,
       "version_minor": 0
      },
      "text/plain": [
       "HBox(children=(HTML(value=''), FloatProgress(value=0.0, layout=Layout(flex='2'), max=1.0), HTML(value='')), la…"
      ]
     },
     "metadata": {},
     "output_type": "display_data"
    },
    {
     "name": "stdout",
     "output_type": "stream",
     "text": [
      "\n",
      "Epoch 477/3000\n"
     ]
    },
    {
     "data": {
      "application/vnd.jupyter.widget-view+json": {
       "model_id": "39f09c4444b749deafad851450a6d1c7",
       "version_major": 2,
       "version_minor": 0
      },
      "text/plain": [
       "HBox(children=(HTML(value=''), FloatProgress(value=0.0, layout=Layout(flex='2'), max=1.0), HTML(value='')), la…"
      ]
     },
     "metadata": {},
     "output_type": "display_data"
    },
    {
     "name": "stdout",
     "output_type": "stream",
     "text": [
      "\n",
      "Epoch 478/3000\n"
     ]
    },
    {
     "data": {
      "application/vnd.jupyter.widget-view+json": {
       "model_id": "bbe8ad54fe004315991592347c203770",
       "version_major": 2,
       "version_minor": 0
      },
      "text/plain": [
       "HBox(children=(HTML(value=''), FloatProgress(value=0.0, layout=Layout(flex='2'), max=1.0), HTML(value='')), la…"
      ]
     },
     "metadata": {},
     "output_type": "display_data"
    },
    {
     "name": "stdout",
     "output_type": "stream",
     "text": [
      "\n",
      "Epoch 479/3000\n"
     ]
    },
    {
     "data": {
      "application/vnd.jupyter.widget-view+json": {
       "model_id": "03659a489c284707a75f23b36e96afea",
       "version_major": 2,
       "version_minor": 0
      },
      "text/plain": [
       "HBox(children=(HTML(value=''), FloatProgress(value=0.0, layout=Layout(flex='2'), max=1.0), HTML(value='')), la…"
      ]
     },
     "metadata": {},
     "output_type": "display_data"
    },
    {
     "name": "stdout",
     "output_type": "stream",
     "text": [
      "\n",
      "Epoch 480/3000\n"
     ]
    },
    {
     "data": {
      "application/vnd.jupyter.widget-view+json": {
       "model_id": "6191d1486d2e43cd96c8a5f0464bc865",
       "version_major": 2,
       "version_minor": 0
      },
      "text/plain": [
       "HBox(children=(HTML(value=''), FloatProgress(value=0.0, layout=Layout(flex='2'), max=1.0), HTML(value='')), la…"
      ]
     },
     "metadata": {},
     "output_type": "display_data"
    },
    {
     "name": "stdout",
     "output_type": "stream",
     "text": [
      "\n",
      "Epoch 481/3000\n"
     ]
    },
    {
     "data": {
      "application/vnd.jupyter.widget-view+json": {
       "model_id": "96dc1d88031a4e65b19247b4e6e26169",
       "version_major": 2,
       "version_minor": 0
      },
      "text/plain": [
       "HBox(children=(HTML(value=''), FloatProgress(value=0.0, layout=Layout(flex='2'), max=1.0), HTML(value='')), la…"
      ]
     },
     "metadata": {},
     "output_type": "display_data"
    },
    {
     "name": "stdout",
     "output_type": "stream",
     "text": [
      "\n",
      "Epoch 482/3000\n"
     ]
    },
    {
     "data": {
      "application/vnd.jupyter.widget-view+json": {
       "model_id": "c158f545385e4acb8e61671f3a0fdd29",
       "version_major": 2,
       "version_minor": 0
      },
      "text/plain": [
       "HBox(children=(HTML(value=''), FloatProgress(value=0.0, layout=Layout(flex='2'), max=1.0), HTML(value='')), la…"
      ]
     },
     "metadata": {},
     "output_type": "display_data"
    },
    {
     "name": "stdout",
     "output_type": "stream",
     "text": [
      "\n",
      "Epoch 483/3000\n"
     ]
    },
    {
     "data": {
      "application/vnd.jupyter.widget-view+json": {
       "model_id": "9d3923e20c8f48499147807b689983ad",
       "version_major": 2,
       "version_minor": 0
      },
      "text/plain": [
       "HBox(children=(HTML(value=''), FloatProgress(value=0.0, layout=Layout(flex='2'), max=1.0), HTML(value='')), la…"
      ]
     },
     "metadata": {},
     "output_type": "display_data"
    },
    {
     "name": "stdout",
     "output_type": "stream",
     "text": [
      "\n",
      "Epoch 484/3000\n"
     ]
    },
    {
     "data": {
      "application/vnd.jupyter.widget-view+json": {
       "model_id": "79d147ef58b3423bb979b21ffd15e351",
       "version_major": 2,
       "version_minor": 0
      },
      "text/plain": [
       "HBox(children=(HTML(value=''), FloatProgress(value=0.0, layout=Layout(flex='2'), max=1.0), HTML(value='')), la…"
      ]
     },
     "metadata": {},
     "output_type": "display_data"
    },
    {
     "name": "stdout",
     "output_type": "stream",
     "text": [
      "\n",
      "Epoch 485/3000\n"
     ]
    },
    {
     "data": {
      "application/vnd.jupyter.widget-view+json": {
       "model_id": "dce69d841a6b4532b5dc1d36a57bc0af",
       "version_major": 2,
       "version_minor": 0
      },
      "text/plain": [
       "HBox(children=(HTML(value=''), FloatProgress(value=0.0, layout=Layout(flex='2'), max=1.0), HTML(value='')), la…"
      ]
     },
     "metadata": {},
     "output_type": "display_data"
    },
    {
     "name": "stdout",
     "output_type": "stream",
     "text": [
      "\n",
      "Epoch 486/3000\n"
     ]
    },
    {
     "data": {
      "application/vnd.jupyter.widget-view+json": {
       "model_id": "f2ae2a1a72ba4b419807fb26f5990e4f",
       "version_major": 2,
       "version_minor": 0
      },
      "text/plain": [
       "HBox(children=(HTML(value=''), FloatProgress(value=0.0, layout=Layout(flex='2'), max=1.0), HTML(value='')), la…"
      ]
     },
     "metadata": {},
     "output_type": "display_data"
    },
    {
     "name": "stdout",
     "output_type": "stream",
     "text": [
      "\n",
      "Epoch 487/3000\n"
     ]
    },
    {
     "data": {
      "application/vnd.jupyter.widget-view+json": {
       "model_id": "c6ee0268ba4d4e0984f45a46ee93c1c3",
       "version_major": 2,
       "version_minor": 0
      },
      "text/plain": [
       "HBox(children=(HTML(value=''), FloatProgress(value=0.0, layout=Layout(flex='2'), max=1.0), HTML(value='')), la…"
      ]
     },
     "metadata": {},
     "output_type": "display_data"
    },
    {
     "name": "stdout",
     "output_type": "stream",
     "text": [
      "\n",
      "Epoch 488/3000\n"
     ]
    },
    {
     "data": {
      "application/vnd.jupyter.widget-view+json": {
       "model_id": "027b92a5b48543ecbb0d99d6aa70260f",
       "version_major": 2,
       "version_minor": 0
      },
      "text/plain": [
       "HBox(children=(HTML(value=''), FloatProgress(value=0.0, layout=Layout(flex='2'), max=1.0), HTML(value='')), la…"
      ]
     },
     "metadata": {},
     "output_type": "display_data"
    },
    {
     "name": "stdout",
     "output_type": "stream",
     "text": [
      "\n",
      "Epoch 489/3000\n"
     ]
    },
    {
     "data": {
      "application/vnd.jupyter.widget-view+json": {
       "model_id": "833272f6988b438092290448cf58bbc5",
       "version_major": 2,
       "version_minor": 0
      },
      "text/plain": [
       "HBox(children=(HTML(value=''), FloatProgress(value=0.0, layout=Layout(flex='2'), max=1.0), HTML(value='')), la…"
      ]
     },
     "metadata": {},
     "output_type": "display_data"
    },
    {
     "name": "stdout",
     "output_type": "stream",
     "text": [
      "\n",
      "Epoch 490/3000\n"
     ]
    },
    {
     "data": {
      "application/vnd.jupyter.widget-view+json": {
       "model_id": "7258e5cacbc74f3a83d6f590e83410cd",
       "version_major": 2,
       "version_minor": 0
      },
      "text/plain": [
       "HBox(children=(HTML(value=''), FloatProgress(value=0.0, layout=Layout(flex='2'), max=1.0), HTML(value='')), la…"
      ]
     },
     "metadata": {},
     "output_type": "display_data"
    },
    {
     "name": "stdout",
     "output_type": "stream",
     "text": [
      "\n",
      "Epoch 491/3000\n"
     ]
    },
    {
     "data": {
      "application/vnd.jupyter.widget-view+json": {
       "model_id": "53a1813c2459417b9be47b68143a8c39",
       "version_major": 2,
       "version_minor": 0
      },
      "text/plain": [
       "HBox(children=(HTML(value=''), FloatProgress(value=0.0, layout=Layout(flex='2'), max=1.0), HTML(value='')), la…"
      ]
     },
     "metadata": {},
     "output_type": "display_data"
    },
    {
     "name": "stdout",
     "output_type": "stream",
     "text": [
      "\n",
      "Epoch 492/3000\n"
     ]
    },
    {
     "data": {
      "application/vnd.jupyter.widget-view+json": {
       "model_id": "1fa74c62ae654a8ea87ef182532819db",
       "version_major": 2,
       "version_minor": 0
      },
      "text/plain": [
       "HBox(children=(HTML(value=''), FloatProgress(value=0.0, layout=Layout(flex='2'), max=1.0), HTML(value='')), la…"
      ]
     },
     "metadata": {},
     "output_type": "display_data"
    },
    {
     "name": "stdout",
     "output_type": "stream",
     "text": [
      "\n",
      "Epoch 493/3000\n"
     ]
    },
    {
     "data": {
      "application/vnd.jupyter.widget-view+json": {
       "model_id": "0b1f37f63d864940b3f87f4d1048cf73",
       "version_major": 2,
       "version_minor": 0
      },
      "text/plain": [
       "HBox(children=(HTML(value=''), FloatProgress(value=0.0, layout=Layout(flex='2'), max=1.0), HTML(value='')), la…"
      ]
     },
     "metadata": {},
     "output_type": "display_data"
    },
    {
     "name": "stdout",
     "output_type": "stream",
     "text": [
      "\n",
      "Epoch 494/3000\n"
     ]
    },
    {
     "data": {
      "application/vnd.jupyter.widget-view+json": {
       "model_id": "6b038b2a0e0b4eaa96cb308c44deb067",
       "version_major": 2,
       "version_minor": 0
      },
      "text/plain": [
       "HBox(children=(HTML(value=''), FloatProgress(value=0.0, layout=Layout(flex='2'), max=1.0), HTML(value='')), la…"
      ]
     },
     "metadata": {},
     "output_type": "display_data"
    },
    {
     "name": "stdout",
     "output_type": "stream",
     "text": [
      "\n",
      "Epoch 495/3000\n"
     ]
    },
    {
     "data": {
      "application/vnd.jupyter.widget-view+json": {
       "model_id": "ed55249fecbc4cd5aeb18f9f94919d17",
       "version_major": 2,
       "version_minor": 0
      },
      "text/plain": [
       "HBox(children=(HTML(value=''), FloatProgress(value=0.0, layout=Layout(flex='2'), max=1.0), HTML(value='')), la…"
      ]
     },
     "metadata": {},
     "output_type": "display_data"
    },
    {
     "name": "stdout",
     "output_type": "stream",
     "text": [
      "\n",
      "Epoch 496/3000\n"
     ]
    },
    {
     "data": {
      "application/vnd.jupyter.widget-view+json": {
       "model_id": "4e2e9ca8096344dd9619ed08a9645edc",
       "version_major": 2,
       "version_minor": 0
      },
      "text/plain": [
       "HBox(children=(HTML(value=''), FloatProgress(value=0.0, layout=Layout(flex='2'), max=1.0), HTML(value='')), la…"
      ]
     },
     "metadata": {},
     "output_type": "display_data"
    },
    {
     "name": "stdout",
     "output_type": "stream",
     "text": [
      "\n",
      "Epoch 497/3000\n"
     ]
    },
    {
     "data": {
      "application/vnd.jupyter.widget-view+json": {
       "model_id": "280bfa47d97d4e518e433f520983b60e",
       "version_major": 2,
       "version_minor": 0
      },
      "text/plain": [
       "HBox(children=(HTML(value=''), FloatProgress(value=0.0, layout=Layout(flex='2'), max=1.0), HTML(value='')), la…"
      ]
     },
     "metadata": {},
     "output_type": "display_data"
    },
    {
     "name": "stdout",
     "output_type": "stream",
     "text": [
      "\n",
      "Epoch 498/3000\n"
     ]
    },
    {
     "data": {
      "application/vnd.jupyter.widget-view+json": {
       "model_id": "696c2bfa40424b8cb0dab544ada1adae",
       "version_major": 2,
       "version_minor": 0
      },
      "text/plain": [
       "HBox(children=(HTML(value=''), FloatProgress(value=0.0, layout=Layout(flex='2'), max=1.0), HTML(value='')), la…"
      ]
     },
     "metadata": {},
     "output_type": "display_data"
    },
    {
     "name": "stdout",
     "output_type": "stream",
     "text": [
      "\n",
      "Epoch 499/3000\n"
     ]
    },
    {
     "data": {
      "application/vnd.jupyter.widget-view+json": {
       "model_id": "1c9542a02d674c28bc7c387baf76728f",
       "version_major": 2,
       "version_minor": 0
      },
      "text/plain": [
       "HBox(children=(HTML(value=''), FloatProgress(value=0.0, layout=Layout(flex='2'), max=1.0), HTML(value='')), la…"
      ]
     },
     "metadata": {},
     "output_type": "display_data"
    },
    {
     "name": "stdout",
     "output_type": "stream",
     "text": [
      "\n",
      "Epoch 500/3000\n"
     ]
    },
    {
     "data": {
      "application/vnd.jupyter.widget-view+json": {
       "model_id": "4fd57a6a5dac4c4da70052dd62075284",
       "version_major": 2,
       "version_minor": 0
      },
      "text/plain": [
       "HBox(children=(HTML(value=''), FloatProgress(value=0.0, layout=Layout(flex='2'), max=1.0), HTML(value='')), la…"
      ]
     },
     "metadata": {},
     "output_type": "display_data"
    },
    {
     "name": "stdout",
     "output_type": "stream",
     "text": [
      "\n",
      "Epoch 501/3000\n"
     ]
    },
    {
     "data": {
      "application/vnd.jupyter.widget-view+json": {
       "model_id": "4dfbde949d5a40bf98b760339fc39cc8",
       "version_major": 2,
       "version_minor": 0
      },
      "text/plain": [
       "HBox(children=(HTML(value=''), FloatProgress(value=0.0, layout=Layout(flex='2'), max=1.0), HTML(value='')), la…"
      ]
     },
     "metadata": {},
     "output_type": "display_data"
    },
    {
     "name": "stdout",
     "output_type": "stream",
     "text": [
      "\n",
      "Epoch 502/3000\n"
     ]
    },
    {
     "data": {
      "application/vnd.jupyter.widget-view+json": {
       "model_id": "f2d12c7ac7514e8b9a991a45252f7010",
       "version_major": 2,
       "version_minor": 0
      },
      "text/plain": [
       "HBox(children=(HTML(value=''), FloatProgress(value=0.0, layout=Layout(flex='2'), max=1.0), HTML(value='')), la…"
      ]
     },
     "metadata": {},
     "output_type": "display_data"
    },
    {
     "name": "stdout",
     "output_type": "stream",
     "text": [
      "\n",
      "Epoch 503/3000\n"
     ]
    },
    {
     "data": {
      "application/vnd.jupyter.widget-view+json": {
       "model_id": "468def4bc4ca438ba0c2cf23e981f4d6",
       "version_major": 2,
       "version_minor": 0
      },
      "text/plain": [
       "HBox(children=(HTML(value=''), FloatProgress(value=0.0, layout=Layout(flex='2'), max=1.0), HTML(value='')), la…"
      ]
     },
     "metadata": {},
     "output_type": "display_data"
    },
    {
     "name": "stdout",
     "output_type": "stream",
     "text": [
      "\n",
      "Epoch 504/3000\n"
     ]
    },
    {
     "data": {
      "application/vnd.jupyter.widget-view+json": {
       "model_id": "5eb504e2d13246c58ae12da7cba6632c",
       "version_major": 2,
       "version_minor": 0
      },
      "text/plain": [
       "HBox(children=(HTML(value=''), FloatProgress(value=0.0, layout=Layout(flex='2'), max=1.0), HTML(value='')), la…"
      ]
     },
     "metadata": {},
     "output_type": "display_data"
    },
    {
     "name": "stdout",
     "output_type": "stream",
     "text": [
      "\n",
      "Epoch 505/3000\n"
     ]
    },
    {
     "data": {
      "application/vnd.jupyter.widget-view+json": {
       "model_id": "84a1f5d0d4ab4632b7273568f37648db",
       "version_major": 2,
       "version_minor": 0
      },
      "text/plain": [
       "HBox(children=(HTML(value=''), FloatProgress(value=0.0, layout=Layout(flex='2'), max=1.0), HTML(value='')), la…"
      ]
     },
     "metadata": {},
     "output_type": "display_data"
    },
    {
     "name": "stdout",
     "output_type": "stream",
     "text": [
      "\n",
      "Epoch 506/3000\n"
     ]
    },
    {
     "data": {
      "application/vnd.jupyter.widget-view+json": {
       "model_id": "16adbad964da40288886919daf1d5b1d",
       "version_major": 2,
       "version_minor": 0
      },
      "text/plain": [
       "HBox(children=(HTML(value=''), FloatProgress(value=0.0, layout=Layout(flex='2'), max=1.0), HTML(value='')), la…"
      ]
     },
     "metadata": {},
     "output_type": "display_data"
    },
    {
     "name": "stdout",
     "output_type": "stream",
     "text": [
      "\n",
      "Epoch 507/3000\n"
     ]
    },
    {
     "data": {
      "application/vnd.jupyter.widget-view+json": {
       "model_id": "e7fd2875f9ad43728822b4c9c2e71126",
       "version_major": 2,
       "version_minor": 0
      },
      "text/plain": [
       "HBox(children=(HTML(value=''), FloatProgress(value=0.0, layout=Layout(flex='2'), max=1.0), HTML(value='')), la…"
      ]
     },
     "metadata": {},
     "output_type": "display_data"
    },
    {
     "name": "stdout",
     "output_type": "stream",
     "text": [
      "\n",
      "Epoch 508/3000\n"
     ]
    },
    {
     "data": {
      "application/vnd.jupyter.widget-view+json": {
       "model_id": "261df1db9df243888406e7e6d473e963",
       "version_major": 2,
       "version_minor": 0
      },
      "text/plain": [
       "HBox(children=(HTML(value=''), FloatProgress(value=0.0, layout=Layout(flex='2'), max=1.0), HTML(value='')), la…"
      ]
     },
     "metadata": {},
     "output_type": "display_data"
    },
    {
     "name": "stdout",
     "output_type": "stream",
     "text": [
      "\n",
      "Epoch 509/3000\n"
     ]
    },
    {
     "data": {
      "application/vnd.jupyter.widget-view+json": {
       "model_id": "099273c386874746a1acf5fe75bcd72d",
       "version_major": 2,
       "version_minor": 0
      },
      "text/plain": [
       "HBox(children=(HTML(value=''), FloatProgress(value=0.0, layout=Layout(flex='2'), max=1.0), HTML(value='')), la…"
      ]
     },
     "metadata": {},
     "output_type": "display_data"
    },
    {
     "name": "stdout",
     "output_type": "stream",
     "text": [
      "\n",
      "Epoch 510/3000\n"
     ]
    },
    {
     "data": {
      "application/vnd.jupyter.widget-view+json": {
       "model_id": "142da3d6b30d419285f4bfed27fd3081",
       "version_major": 2,
       "version_minor": 0
      },
      "text/plain": [
       "HBox(children=(HTML(value=''), FloatProgress(value=0.0, layout=Layout(flex='2'), max=1.0), HTML(value='')), la…"
      ]
     },
     "metadata": {},
     "output_type": "display_data"
    },
    {
     "name": "stdout",
     "output_type": "stream",
     "text": [
      "\n",
      "Epoch 511/3000\n"
     ]
    },
    {
     "data": {
      "application/vnd.jupyter.widget-view+json": {
       "model_id": "74b465a9d85246188601f0a01d732ab2",
       "version_major": 2,
       "version_minor": 0
      },
      "text/plain": [
       "HBox(children=(HTML(value=''), FloatProgress(value=0.0, layout=Layout(flex='2'), max=1.0), HTML(value='')), la…"
      ]
     },
     "metadata": {},
     "output_type": "display_data"
    },
    {
     "name": "stdout",
     "output_type": "stream",
     "text": [
      "\n",
      "Epoch 512/3000\n"
     ]
    },
    {
     "data": {
      "application/vnd.jupyter.widget-view+json": {
       "model_id": "a23089dc53fc425b914e3ac8dd05c300",
       "version_major": 2,
       "version_minor": 0
      },
      "text/plain": [
       "HBox(children=(HTML(value=''), FloatProgress(value=0.0, layout=Layout(flex='2'), max=1.0), HTML(value='')), la…"
      ]
     },
     "metadata": {},
     "output_type": "display_data"
    },
    {
     "name": "stdout",
     "output_type": "stream",
     "text": [
      "\n",
      "Epoch 513/3000\n"
     ]
    },
    {
     "data": {
      "application/vnd.jupyter.widget-view+json": {
       "model_id": "95084970640d4632a15f0a4d67a2610b",
       "version_major": 2,
       "version_minor": 0
      },
      "text/plain": [
       "HBox(children=(HTML(value=''), FloatProgress(value=0.0, layout=Layout(flex='2'), max=1.0), HTML(value='')), la…"
      ]
     },
     "metadata": {},
     "output_type": "display_data"
    },
    {
     "name": "stdout",
     "output_type": "stream",
     "text": [
      "\n",
      "Epoch 514/3000\n"
     ]
    },
    {
     "data": {
      "application/vnd.jupyter.widget-view+json": {
       "model_id": "a8819a1dd3874616a593f3ae452a195d",
       "version_major": 2,
       "version_minor": 0
      },
      "text/plain": [
       "HBox(children=(HTML(value=''), FloatProgress(value=0.0, layout=Layout(flex='2'), max=1.0), HTML(value='')), la…"
      ]
     },
     "metadata": {},
     "output_type": "display_data"
    },
    {
     "name": "stdout",
     "output_type": "stream",
     "text": [
      "\n",
      "Epoch 515/3000\n"
     ]
    },
    {
     "data": {
      "application/vnd.jupyter.widget-view+json": {
       "model_id": "492d32825393425580fa876d93e1f3bd",
       "version_major": 2,
       "version_minor": 0
      },
      "text/plain": [
       "HBox(children=(HTML(value=''), FloatProgress(value=0.0, layout=Layout(flex='2'), max=1.0), HTML(value='')), la…"
      ]
     },
     "metadata": {},
     "output_type": "display_data"
    },
    {
     "name": "stdout",
     "output_type": "stream",
     "text": [
      "\n",
      "Epoch 516/3000\n"
     ]
    },
    {
     "data": {
      "application/vnd.jupyter.widget-view+json": {
       "model_id": "82d9d7f566a5470081ade93e7e5c0169",
       "version_major": 2,
       "version_minor": 0
      },
      "text/plain": [
       "HBox(children=(HTML(value=''), FloatProgress(value=0.0, layout=Layout(flex='2'), max=1.0), HTML(value='')), la…"
      ]
     },
     "metadata": {},
     "output_type": "display_data"
    },
    {
     "name": "stdout",
     "output_type": "stream",
     "text": [
      "\n",
      "Epoch 517/3000\n"
     ]
    },
    {
     "data": {
      "application/vnd.jupyter.widget-view+json": {
       "model_id": "4d5514d80fa2499e9ccf51f30c9c29b7",
       "version_major": 2,
       "version_minor": 0
      },
      "text/plain": [
       "HBox(children=(HTML(value=''), FloatProgress(value=0.0, layout=Layout(flex='2'), max=1.0), HTML(value='')), la…"
      ]
     },
     "metadata": {},
     "output_type": "display_data"
    },
    {
     "name": "stdout",
     "output_type": "stream",
     "text": [
      "\n",
      "Epoch 518/3000\n"
     ]
    },
    {
     "data": {
      "application/vnd.jupyter.widget-view+json": {
       "model_id": "f8aa5c84870440628895a0abce60c142",
       "version_major": 2,
       "version_minor": 0
      },
      "text/plain": [
       "HBox(children=(HTML(value=''), FloatProgress(value=0.0, layout=Layout(flex='2'), max=1.0), HTML(value='')), la…"
      ]
     },
     "metadata": {},
     "output_type": "display_data"
    },
    {
     "name": "stdout",
     "output_type": "stream",
     "text": [
      "\n",
      "Epoch 519/3000\n"
     ]
    },
    {
     "data": {
      "application/vnd.jupyter.widget-view+json": {
       "model_id": "99b63cf98f044ac8a3ce850b934a4dfc",
       "version_major": 2,
       "version_minor": 0
      },
      "text/plain": [
       "HBox(children=(HTML(value=''), FloatProgress(value=0.0, layout=Layout(flex='2'), max=1.0), HTML(value='')), la…"
      ]
     },
     "metadata": {},
     "output_type": "display_data"
    },
    {
     "name": "stdout",
     "output_type": "stream",
     "text": [
      "\n",
      "Epoch 520/3000\n"
     ]
    },
    {
     "data": {
      "application/vnd.jupyter.widget-view+json": {
       "model_id": "cbd6df5d57b64d02b1de98e32dc7795d",
       "version_major": 2,
       "version_minor": 0
      },
      "text/plain": [
       "HBox(children=(HTML(value=''), FloatProgress(value=0.0, layout=Layout(flex='2'), max=1.0), HTML(value='')), la…"
      ]
     },
     "metadata": {},
     "output_type": "display_data"
    },
    {
     "name": "stdout",
     "output_type": "stream",
     "text": [
      "\n",
      "Epoch 521/3000\n"
     ]
    },
    {
     "data": {
      "application/vnd.jupyter.widget-view+json": {
       "model_id": "21ac9f0b1c8e45c9b0fe4f158f921bd3",
       "version_major": 2,
       "version_minor": 0
      },
      "text/plain": [
       "HBox(children=(HTML(value=''), FloatProgress(value=0.0, layout=Layout(flex='2'), max=1.0), HTML(value='')), la…"
      ]
     },
     "metadata": {},
     "output_type": "display_data"
    },
    {
     "name": "stdout",
     "output_type": "stream",
     "text": [
      "\n",
      "Epoch 522/3000\n"
     ]
    },
    {
     "data": {
      "application/vnd.jupyter.widget-view+json": {
       "model_id": "a4cae93d06964b53b016bb3667a1284f",
       "version_major": 2,
       "version_minor": 0
      },
      "text/plain": [
       "HBox(children=(HTML(value=''), FloatProgress(value=0.0, layout=Layout(flex='2'), max=1.0), HTML(value='')), la…"
      ]
     },
     "metadata": {},
     "output_type": "display_data"
    },
    {
     "name": "stdout",
     "output_type": "stream",
     "text": [
      "\n",
      "Epoch 523/3000\n"
     ]
    },
    {
     "data": {
      "application/vnd.jupyter.widget-view+json": {
       "model_id": "b3220095ee334ca3801fefc2c9b8cc36",
       "version_major": 2,
       "version_minor": 0
      },
      "text/plain": [
       "HBox(children=(HTML(value=''), FloatProgress(value=0.0, layout=Layout(flex='2'), max=1.0), HTML(value='')), la…"
      ]
     },
     "metadata": {},
     "output_type": "display_data"
    },
    {
     "name": "stdout",
     "output_type": "stream",
     "text": [
      "\n",
      "Epoch 524/3000\n"
     ]
    },
    {
     "data": {
      "application/vnd.jupyter.widget-view+json": {
       "model_id": "32e7895d5fde4e7f84831c7bf31e9893",
       "version_major": 2,
       "version_minor": 0
      },
      "text/plain": [
       "HBox(children=(HTML(value=''), FloatProgress(value=0.0, layout=Layout(flex='2'), max=1.0), HTML(value='')), la…"
      ]
     },
     "metadata": {},
     "output_type": "display_data"
    },
    {
     "name": "stdout",
     "output_type": "stream",
     "text": [
      "\n",
      "Epoch 525/3000\n"
     ]
    },
    {
     "data": {
      "application/vnd.jupyter.widget-view+json": {
       "model_id": "331db637f32f4e9697f3e032ab4e877f",
       "version_major": 2,
       "version_minor": 0
      },
      "text/plain": [
       "HBox(children=(HTML(value=''), FloatProgress(value=0.0, layout=Layout(flex='2'), max=1.0), HTML(value='')), la…"
      ]
     },
     "metadata": {},
     "output_type": "display_data"
    },
    {
     "name": "stdout",
     "output_type": "stream",
     "text": [
      "\n",
      "Epoch 526/3000\n"
     ]
    },
    {
     "data": {
      "application/vnd.jupyter.widget-view+json": {
       "model_id": "74b48b36cb314b138f99d182ce686ec0",
       "version_major": 2,
       "version_minor": 0
      },
      "text/plain": [
       "HBox(children=(HTML(value=''), FloatProgress(value=0.0, layout=Layout(flex='2'), max=1.0), HTML(value='')), la…"
      ]
     },
     "metadata": {},
     "output_type": "display_data"
    },
    {
     "name": "stdout",
     "output_type": "stream",
     "text": [
      "\n",
      "Epoch 527/3000\n"
     ]
    },
    {
     "data": {
      "application/vnd.jupyter.widget-view+json": {
       "model_id": "84a8315a1fd84c7680cabc57d6c17d1f",
       "version_major": 2,
       "version_minor": 0
      },
      "text/plain": [
       "HBox(children=(HTML(value=''), FloatProgress(value=0.0, layout=Layout(flex='2'), max=1.0), HTML(value='')), la…"
      ]
     },
     "metadata": {},
     "output_type": "display_data"
    },
    {
     "name": "stdout",
     "output_type": "stream",
     "text": [
      "\n",
      "Epoch 528/3000\n"
     ]
    },
    {
     "data": {
      "application/vnd.jupyter.widget-view+json": {
       "model_id": "19477bd5aed54c3fbeb4974f34179c45",
       "version_major": 2,
       "version_minor": 0
      },
      "text/plain": [
       "HBox(children=(HTML(value=''), FloatProgress(value=0.0, layout=Layout(flex='2'), max=1.0), HTML(value='')), la…"
      ]
     },
     "metadata": {},
     "output_type": "display_data"
    },
    {
     "name": "stdout",
     "output_type": "stream",
     "text": [
      "\n",
      "Epoch 529/3000\n"
     ]
    },
    {
     "data": {
      "application/vnd.jupyter.widget-view+json": {
       "model_id": "3e38db020de14567a5507a1470069804",
       "version_major": 2,
       "version_minor": 0
      },
      "text/plain": [
       "HBox(children=(HTML(value=''), FloatProgress(value=0.0, layout=Layout(flex='2'), max=1.0), HTML(value='')), la…"
      ]
     },
     "metadata": {},
     "output_type": "display_data"
    },
    {
     "name": "stdout",
     "output_type": "stream",
     "text": [
      "\n",
      "Epoch 530/3000\n"
     ]
    },
    {
     "data": {
      "application/vnd.jupyter.widget-view+json": {
       "model_id": "5af782d90ef14bf08e50b36cdc906e99",
       "version_major": 2,
       "version_minor": 0
      },
      "text/plain": [
       "HBox(children=(HTML(value=''), FloatProgress(value=0.0, layout=Layout(flex='2'), max=1.0), HTML(value='')), la…"
      ]
     },
     "metadata": {},
     "output_type": "display_data"
    },
    {
     "name": "stdout",
     "output_type": "stream",
     "text": [
      "\n",
      "Epoch 531/3000\n"
     ]
    },
    {
     "data": {
      "application/vnd.jupyter.widget-view+json": {
       "model_id": "94d9687241674ce8bc5866071c39b811",
       "version_major": 2,
       "version_minor": 0
      },
      "text/plain": [
       "HBox(children=(HTML(value=''), FloatProgress(value=0.0, layout=Layout(flex='2'), max=1.0), HTML(value='')), la…"
      ]
     },
     "metadata": {},
     "output_type": "display_data"
    },
    {
     "name": "stdout",
     "output_type": "stream",
     "text": [
      "\n",
      "Epoch 532/3000\n"
     ]
    },
    {
     "data": {
      "application/vnd.jupyter.widget-view+json": {
       "model_id": "2118a0b3e9ff4a7cb81a8da1dc42a83d",
       "version_major": 2,
       "version_minor": 0
      },
      "text/plain": [
       "HBox(children=(HTML(value=''), FloatProgress(value=0.0, layout=Layout(flex='2'), max=1.0), HTML(value='')), la…"
      ]
     },
     "metadata": {},
     "output_type": "display_data"
    },
    {
     "name": "stdout",
     "output_type": "stream",
     "text": [
      "\n",
      "Epoch 533/3000\n"
     ]
    },
    {
     "data": {
      "application/vnd.jupyter.widget-view+json": {
       "model_id": "3418af72863240b68812b8718c6822c2",
       "version_major": 2,
       "version_minor": 0
      },
      "text/plain": [
       "HBox(children=(HTML(value=''), FloatProgress(value=0.0, layout=Layout(flex='2'), max=1.0), HTML(value='')), la…"
      ]
     },
     "metadata": {},
     "output_type": "display_data"
    },
    {
     "name": "stdout",
     "output_type": "stream",
     "text": [
      "\n",
      "Epoch 534/3000\n"
     ]
    },
    {
     "data": {
      "application/vnd.jupyter.widget-view+json": {
       "model_id": "e93d7a649ea745af836b4cd119ce2dc4",
       "version_major": 2,
       "version_minor": 0
      },
      "text/plain": [
       "HBox(children=(HTML(value=''), FloatProgress(value=0.0, layout=Layout(flex='2'), max=1.0), HTML(value='')), la…"
      ]
     },
     "metadata": {},
     "output_type": "display_data"
    },
    {
     "name": "stdout",
     "output_type": "stream",
     "text": [
      "\n",
      "Epoch 535/3000\n"
     ]
    },
    {
     "data": {
      "application/vnd.jupyter.widget-view+json": {
       "model_id": "c74d7e29e9d44ee89ae6695c12bcdef8",
       "version_major": 2,
       "version_minor": 0
      },
      "text/plain": [
       "HBox(children=(HTML(value=''), FloatProgress(value=0.0, layout=Layout(flex='2'), max=1.0), HTML(value='')), la…"
      ]
     },
     "metadata": {},
     "output_type": "display_data"
    },
    {
     "name": "stdout",
     "output_type": "stream",
     "text": [
      "\n",
      "Epoch 536/3000\n"
     ]
    },
    {
     "data": {
      "application/vnd.jupyter.widget-view+json": {
       "model_id": "b0185766ba2641b7a75f84ff6d1feb92",
       "version_major": 2,
       "version_minor": 0
      },
      "text/plain": [
       "HBox(children=(HTML(value=''), FloatProgress(value=0.0, layout=Layout(flex='2'), max=1.0), HTML(value='')), la…"
      ]
     },
     "metadata": {},
     "output_type": "display_data"
    },
    {
     "name": "stdout",
     "output_type": "stream",
     "text": [
      "\n",
      "Epoch 537/3000\n"
     ]
    },
    {
     "data": {
      "application/vnd.jupyter.widget-view+json": {
       "model_id": "f3a56088cc4845498ca148fa88f59dd5",
       "version_major": 2,
       "version_minor": 0
      },
      "text/plain": [
       "HBox(children=(HTML(value=''), FloatProgress(value=0.0, layout=Layout(flex='2'), max=1.0), HTML(value='')), la…"
      ]
     },
     "metadata": {},
     "output_type": "display_data"
    },
    {
     "name": "stdout",
     "output_type": "stream",
     "text": [
      "\n",
      "Epoch 538/3000\n"
     ]
    },
    {
     "data": {
      "application/vnd.jupyter.widget-view+json": {
       "model_id": "6095c05e924e4eb6ab10ac87bb837c43",
       "version_major": 2,
       "version_minor": 0
      },
      "text/plain": [
       "HBox(children=(HTML(value=''), FloatProgress(value=0.0, layout=Layout(flex='2'), max=1.0), HTML(value='')), la…"
      ]
     },
     "metadata": {},
     "output_type": "display_data"
    },
    {
     "name": "stdout",
     "output_type": "stream",
     "text": [
      "\n",
      "Epoch 539/3000\n"
     ]
    },
    {
     "data": {
      "application/vnd.jupyter.widget-view+json": {
       "model_id": "cc0583f1519a4e60938b5401854126b8",
       "version_major": 2,
       "version_minor": 0
      },
      "text/plain": [
       "HBox(children=(HTML(value=''), FloatProgress(value=0.0, layout=Layout(flex='2'), max=1.0), HTML(value='')), la…"
      ]
     },
     "metadata": {},
     "output_type": "display_data"
    },
    {
     "name": "stdout",
     "output_type": "stream",
     "text": [
      "\n",
      "Epoch 540/3000\n"
     ]
    },
    {
     "data": {
      "application/vnd.jupyter.widget-view+json": {
       "model_id": "ea98ebff60a94b32961df8fed490d8bf",
       "version_major": 2,
       "version_minor": 0
      },
      "text/plain": [
       "HBox(children=(HTML(value=''), FloatProgress(value=0.0, layout=Layout(flex='2'), max=1.0), HTML(value='')), la…"
      ]
     },
     "metadata": {},
     "output_type": "display_data"
    },
    {
     "name": "stdout",
     "output_type": "stream",
     "text": [
      "\n",
      "Epoch 541/3000\n"
     ]
    },
    {
     "data": {
      "application/vnd.jupyter.widget-view+json": {
       "model_id": "fb1da596ba984540a1784b9896276b6d",
       "version_major": 2,
       "version_minor": 0
      },
      "text/plain": [
       "HBox(children=(HTML(value=''), FloatProgress(value=0.0, layout=Layout(flex='2'), max=1.0), HTML(value='')), la…"
      ]
     },
     "metadata": {},
     "output_type": "display_data"
    },
    {
     "name": "stdout",
     "output_type": "stream",
     "text": [
      "\n",
      "Epoch 542/3000\n"
     ]
    },
    {
     "data": {
      "application/vnd.jupyter.widget-view+json": {
       "model_id": "a1eefa26611c4acdb7b93a83de86c678",
       "version_major": 2,
       "version_minor": 0
      },
      "text/plain": [
       "HBox(children=(HTML(value=''), FloatProgress(value=0.0, layout=Layout(flex='2'), max=1.0), HTML(value='')), la…"
      ]
     },
     "metadata": {},
     "output_type": "display_data"
    },
    {
     "name": "stdout",
     "output_type": "stream",
     "text": [
      "\n",
      "Epoch 543/3000\n"
     ]
    },
    {
     "data": {
      "application/vnd.jupyter.widget-view+json": {
       "model_id": "4c818dce154b4484b1ecaf66a0534fe7",
       "version_major": 2,
       "version_minor": 0
      },
      "text/plain": [
       "HBox(children=(HTML(value=''), FloatProgress(value=0.0, layout=Layout(flex='2'), max=1.0), HTML(value='')), la…"
      ]
     },
     "metadata": {},
     "output_type": "display_data"
    },
    {
     "name": "stdout",
     "output_type": "stream",
     "text": [
      "\n",
      "Epoch 544/3000\n"
     ]
    },
    {
     "data": {
      "application/vnd.jupyter.widget-view+json": {
       "model_id": "b359c2eaab5b4710b574162606f5f965",
       "version_major": 2,
       "version_minor": 0
      },
      "text/plain": [
       "HBox(children=(HTML(value=''), FloatProgress(value=0.0, layout=Layout(flex='2'), max=1.0), HTML(value='')), la…"
      ]
     },
     "metadata": {},
     "output_type": "display_data"
    },
    {
     "name": "stdout",
     "output_type": "stream",
     "text": [
      "\n",
      "Epoch 545/3000\n"
     ]
    },
    {
     "data": {
      "application/vnd.jupyter.widget-view+json": {
       "model_id": "008aa8e885f34849979fdb3ac08470da",
       "version_major": 2,
       "version_minor": 0
      },
      "text/plain": [
       "HBox(children=(HTML(value=''), FloatProgress(value=0.0, layout=Layout(flex='2'), max=1.0), HTML(value='')), la…"
      ]
     },
     "metadata": {},
     "output_type": "display_data"
    },
    {
     "name": "stdout",
     "output_type": "stream",
     "text": [
      "\n",
      "Epoch 546/3000\n"
     ]
    },
    {
     "data": {
      "application/vnd.jupyter.widget-view+json": {
       "model_id": "270fdc985de24d5fb8c82eff472d4567",
       "version_major": 2,
       "version_minor": 0
      },
      "text/plain": [
       "HBox(children=(HTML(value=''), FloatProgress(value=0.0, layout=Layout(flex='2'), max=1.0), HTML(value='')), la…"
      ]
     },
     "metadata": {},
     "output_type": "display_data"
    },
    {
     "name": "stdout",
     "output_type": "stream",
     "text": [
      "\n",
      "Epoch 547/3000\n"
     ]
    },
    {
     "data": {
      "application/vnd.jupyter.widget-view+json": {
       "model_id": "9c070388280c4977b948547d0d65fbbf",
       "version_major": 2,
       "version_minor": 0
      },
      "text/plain": [
       "HBox(children=(HTML(value=''), FloatProgress(value=0.0, layout=Layout(flex='2'), max=1.0), HTML(value='')), la…"
      ]
     },
     "metadata": {},
     "output_type": "display_data"
    },
    {
     "name": "stdout",
     "output_type": "stream",
     "text": [
      "\n",
      "Epoch 548/3000\n"
     ]
    },
    {
     "data": {
      "application/vnd.jupyter.widget-view+json": {
       "model_id": "3b13060251664f1d9cf5a1f2ebc376aa",
       "version_major": 2,
       "version_minor": 0
      },
      "text/plain": [
       "HBox(children=(HTML(value=''), FloatProgress(value=0.0, layout=Layout(flex='2'), max=1.0), HTML(value='')), la…"
      ]
     },
     "metadata": {},
     "output_type": "display_data"
    },
    {
     "name": "stdout",
     "output_type": "stream",
     "text": [
      "\n",
      "Epoch 549/3000\n"
     ]
    },
    {
     "data": {
      "application/vnd.jupyter.widget-view+json": {
       "model_id": "a3c5837f1c084ac0867d1afb0f0bd0e7",
       "version_major": 2,
       "version_minor": 0
      },
      "text/plain": [
       "HBox(children=(HTML(value=''), FloatProgress(value=0.0, layout=Layout(flex='2'), max=1.0), HTML(value='')), la…"
      ]
     },
     "metadata": {},
     "output_type": "display_data"
    },
    {
     "name": "stdout",
     "output_type": "stream",
     "text": [
      "\n",
      "Epoch 550/3000\n"
     ]
    },
    {
     "data": {
      "application/vnd.jupyter.widget-view+json": {
       "model_id": "7b068b9e262e4f31bfef928ccd3d2fac",
       "version_major": 2,
       "version_minor": 0
      },
      "text/plain": [
       "HBox(children=(HTML(value=''), FloatProgress(value=0.0, layout=Layout(flex='2'), max=1.0), HTML(value='')), la…"
      ]
     },
     "metadata": {},
     "output_type": "display_data"
    },
    {
     "name": "stdout",
     "output_type": "stream",
     "text": [
      "\n",
      "Epoch 551/3000\n"
     ]
    },
    {
     "data": {
      "application/vnd.jupyter.widget-view+json": {
       "model_id": "eee39c1722ca4bb5b2616499d0c96a66",
       "version_major": 2,
       "version_minor": 0
      },
      "text/plain": [
       "HBox(children=(HTML(value=''), FloatProgress(value=0.0, layout=Layout(flex='2'), max=1.0), HTML(value='')), la…"
      ]
     },
     "metadata": {},
     "output_type": "display_data"
    },
    {
     "name": "stdout",
     "output_type": "stream",
     "text": [
      "\n",
      "Epoch 552/3000\n"
     ]
    },
    {
     "data": {
      "application/vnd.jupyter.widget-view+json": {
       "model_id": "21e1ff5b3ab6432485a504457f7d3552",
       "version_major": 2,
       "version_minor": 0
      },
      "text/plain": [
       "HBox(children=(HTML(value=''), FloatProgress(value=0.0, layout=Layout(flex='2'), max=1.0), HTML(value='')), la…"
      ]
     },
     "metadata": {},
     "output_type": "display_data"
    },
    {
     "name": "stdout",
     "output_type": "stream",
     "text": [
      "\n",
      "Epoch 553/3000\n"
     ]
    },
    {
     "data": {
      "application/vnd.jupyter.widget-view+json": {
       "model_id": "5f6c693c727b40eb95b25ffb7362f310",
       "version_major": 2,
       "version_minor": 0
      },
      "text/plain": [
       "HBox(children=(HTML(value=''), FloatProgress(value=0.0, layout=Layout(flex='2'), max=1.0), HTML(value='')), la…"
      ]
     },
     "metadata": {},
     "output_type": "display_data"
    },
    {
     "name": "stdout",
     "output_type": "stream",
     "text": [
      "\n",
      "Epoch 554/3000\n"
     ]
    },
    {
     "data": {
      "application/vnd.jupyter.widget-view+json": {
       "model_id": "ab606de0adef47d48e4892779226707b",
       "version_major": 2,
       "version_minor": 0
      },
      "text/plain": [
       "HBox(children=(HTML(value=''), FloatProgress(value=0.0, layout=Layout(flex='2'), max=1.0), HTML(value='')), la…"
      ]
     },
     "metadata": {},
     "output_type": "display_data"
    },
    {
     "name": "stdout",
     "output_type": "stream",
     "text": [
      "\n",
      "Epoch 555/3000\n"
     ]
    },
    {
     "data": {
      "application/vnd.jupyter.widget-view+json": {
       "model_id": "cd96ba2c74a24fd88a8dfd8c21083a35",
       "version_major": 2,
       "version_minor": 0
      },
      "text/plain": [
       "HBox(children=(HTML(value=''), FloatProgress(value=0.0, layout=Layout(flex='2'), max=1.0), HTML(value='')), la…"
      ]
     },
     "metadata": {},
     "output_type": "display_data"
    },
    {
     "name": "stdout",
     "output_type": "stream",
     "text": [
      "\n",
      "Epoch 556/3000\n"
     ]
    },
    {
     "data": {
      "application/vnd.jupyter.widget-view+json": {
       "model_id": "9d602dc79bd44a339de7a777b3310888",
       "version_major": 2,
       "version_minor": 0
      },
      "text/plain": [
       "HBox(children=(HTML(value=''), FloatProgress(value=0.0, layout=Layout(flex='2'), max=1.0), HTML(value='')), la…"
      ]
     },
     "metadata": {},
     "output_type": "display_data"
    },
    {
     "name": "stdout",
     "output_type": "stream",
     "text": [
      "\n",
      "Epoch 557/3000\n"
     ]
    },
    {
     "data": {
      "application/vnd.jupyter.widget-view+json": {
       "model_id": "28073f304829409fab4ddb346189080b",
       "version_major": 2,
       "version_minor": 0
      },
      "text/plain": [
       "HBox(children=(HTML(value=''), FloatProgress(value=0.0, layout=Layout(flex='2'), max=1.0), HTML(value='')), la…"
      ]
     },
     "metadata": {},
     "output_type": "display_data"
    },
    {
     "name": "stdout",
     "output_type": "stream",
     "text": [
      "\n",
      "Epoch 558/3000\n"
     ]
    },
    {
     "data": {
      "application/vnd.jupyter.widget-view+json": {
       "model_id": "88c33301c8294b77893ba2bb909bc10f",
       "version_major": 2,
       "version_minor": 0
      },
      "text/plain": [
       "HBox(children=(HTML(value=''), FloatProgress(value=0.0, layout=Layout(flex='2'), max=1.0), HTML(value='')), la…"
      ]
     },
     "metadata": {},
     "output_type": "display_data"
    },
    {
     "name": "stdout",
     "output_type": "stream",
     "text": [
      "\n",
      "Epoch 559/3000\n"
     ]
    },
    {
     "data": {
      "application/vnd.jupyter.widget-view+json": {
       "model_id": "bbadb9ebe3c346b1b6e4b88ba7781e74",
       "version_major": 2,
       "version_minor": 0
      },
      "text/plain": [
       "HBox(children=(HTML(value=''), FloatProgress(value=0.0, layout=Layout(flex='2'), max=1.0), HTML(value='')), la…"
      ]
     },
     "metadata": {},
     "output_type": "display_data"
    },
    {
     "name": "stdout",
     "output_type": "stream",
     "text": [
      "\n",
      "Epoch 560/3000\n"
     ]
    },
    {
     "data": {
      "application/vnd.jupyter.widget-view+json": {
       "model_id": "34aadab5fda541c980296f91c4840194",
       "version_major": 2,
       "version_minor": 0
      },
      "text/plain": [
       "HBox(children=(HTML(value=''), FloatProgress(value=0.0, layout=Layout(flex='2'), max=1.0), HTML(value='')), la…"
      ]
     },
     "metadata": {},
     "output_type": "display_data"
    },
    {
     "name": "stdout",
     "output_type": "stream",
     "text": [
      "\n",
      "Epoch 561/3000\n"
     ]
    },
    {
     "data": {
      "application/vnd.jupyter.widget-view+json": {
       "model_id": "1effdde142a1494fa1b5ac90a1186c64",
       "version_major": 2,
       "version_minor": 0
      },
      "text/plain": [
       "HBox(children=(HTML(value=''), FloatProgress(value=0.0, layout=Layout(flex='2'), max=1.0), HTML(value='')), la…"
      ]
     },
     "metadata": {},
     "output_type": "display_data"
    },
    {
     "name": "stdout",
     "output_type": "stream",
     "text": [
      "\n",
      "Epoch 562/3000\n"
     ]
    },
    {
     "data": {
      "application/vnd.jupyter.widget-view+json": {
       "model_id": "b7030b465ccb48a1b09450c7475562ee",
       "version_major": 2,
       "version_minor": 0
      },
      "text/plain": [
       "HBox(children=(HTML(value=''), FloatProgress(value=0.0, layout=Layout(flex='2'), max=1.0), HTML(value='')), la…"
      ]
     },
     "metadata": {},
     "output_type": "display_data"
    },
    {
     "name": "stdout",
     "output_type": "stream",
     "text": [
      "\n",
      "Epoch 563/3000\n"
     ]
    },
    {
     "data": {
      "application/vnd.jupyter.widget-view+json": {
       "model_id": "e425ab7db26f4b3ca33ddccaa92c513d",
       "version_major": 2,
       "version_minor": 0
      },
      "text/plain": [
       "HBox(children=(HTML(value=''), FloatProgress(value=0.0, layout=Layout(flex='2'), max=1.0), HTML(value='')), la…"
      ]
     },
     "metadata": {},
     "output_type": "display_data"
    },
    {
     "name": "stdout",
     "output_type": "stream",
     "text": [
      "\n",
      "Epoch 564/3000\n"
     ]
    },
    {
     "data": {
      "application/vnd.jupyter.widget-view+json": {
       "model_id": "8c7e0e15a3e44c45a341d0fa665fc128",
       "version_major": 2,
       "version_minor": 0
      },
      "text/plain": [
       "HBox(children=(HTML(value=''), FloatProgress(value=0.0, layout=Layout(flex='2'), max=1.0), HTML(value='')), la…"
      ]
     },
     "metadata": {},
     "output_type": "display_data"
    },
    {
     "name": "stdout",
     "output_type": "stream",
     "text": [
      "\n",
      "Epoch 565/3000\n"
     ]
    },
    {
     "data": {
      "application/vnd.jupyter.widget-view+json": {
       "model_id": "3e3dc785f82649868582fcc48b4e2c68",
       "version_major": 2,
       "version_minor": 0
      },
      "text/plain": [
       "HBox(children=(HTML(value=''), FloatProgress(value=0.0, layout=Layout(flex='2'), max=1.0), HTML(value='')), la…"
      ]
     },
     "metadata": {},
     "output_type": "display_data"
    },
    {
     "name": "stdout",
     "output_type": "stream",
     "text": [
      "\n",
      "Epoch 566/3000\n"
     ]
    },
    {
     "data": {
      "application/vnd.jupyter.widget-view+json": {
       "model_id": "7ee0429eb2274d58924a6af7781c9f24",
       "version_major": 2,
       "version_minor": 0
      },
      "text/plain": [
       "HBox(children=(HTML(value=''), FloatProgress(value=0.0, layout=Layout(flex='2'), max=1.0), HTML(value='')), la…"
      ]
     },
     "metadata": {},
     "output_type": "display_data"
    },
    {
     "name": "stdout",
     "output_type": "stream",
     "text": [
      "\n",
      "Epoch 567/3000\n"
     ]
    },
    {
     "data": {
      "application/vnd.jupyter.widget-view+json": {
       "model_id": "401edf35e46d4954a97c19ea40393ce0",
       "version_major": 2,
       "version_minor": 0
      },
      "text/plain": [
       "HBox(children=(HTML(value=''), FloatProgress(value=0.0, layout=Layout(flex='2'), max=1.0), HTML(value='')), la…"
      ]
     },
     "metadata": {},
     "output_type": "display_data"
    },
    {
     "name": "stdout",
     "output_type": "stream",
     "text": [
      "\n",
      "Epoch 568/3000\n"
     ]
    },
    {
     "data": {
      "application/vnd.jupyter.widget-view+json": {
       "model_id": "18db296ba44b43d7bd854b28db296e9c",
       "version_major": 2,
       "version_minor": 0
      },
      "text/plain": [
       "HBox(children=(HTML(value=''), FloatProgress(value=0.0, layout=Layout(flex='2'), max=1.0), HTML(value='')), la…"
      ]
     },
     "metadata": {},
     "output_type": "display_data"
    },
    {
     "name": "stdout",
     "output_type": "stream",
     "text": [
      "\n",
      "Epoch 569/3000\n"
     ]
    },
    {
     "data": {
      "application/vnd.jupyter.widget-view+json": {
       "model_id": "b20bd43aa047435fb96e5ba760e80178",
       "version_major": 2,
       "version_minor": 0
      },
      "text/plain": [
       "HBox(children=(HTML(value=''), FloatProgress(value=0.0, layout=Layout(flex='2'), max=1.0), HTML(value='')), la…"
      ]
     },
     "metadata": {},
     "output_type": "display_data"
    },
    {
     "name": "stdout",
     "output_type": "stream",
     "text": [
      "\n",
      "Epoch 570/3000\n"
     ]
    },
    {
     "data": {
      "application/vnd.jupyter.widget-view+json": {
       "model_id": "dda9767ca5144ba387b1bfc7f4088945",
       "version_major": 2,
       "version_minor": 0
      },
      "text/plain": [
       "HBox(children=(HTML(value=''), FloatProgress(value=0.0, layout=Layout(flex='2'), max=1.0), HTML(value='')), la…"
      ]
     },
     "metadata": {},
     "output_type": "display_data"
    },
    {
     "name": "stdout",
     "output_type": "stream",
     "text": [
      "\n",
      "Epoch 571/3000\n"
     ]
    },
    {
     "data": {
      "application/vnd.jupyter.widget-view+json": {
       "model_id": "8efafc7a83ec4eeeaec4fe77610e9100",
       "version_major": 2,
       "version_minor": 0
      },
      "text/plain": [
       "HBox(children=(HTML(value=''), FloatProgress(value=0.0, layout=Layout(flex='2'), max=1.0), HTML(value='')), la…"
      ]
     },
     "metadata": {},
     "output_type": "display_data"
    },
    {
     "name": "stdout",
     "output_type": "stream",
     "text": [
      "\n",
      "Epoch 572/3000\n"
     ]
    },
    {
     "data": {
      "application/vnd.jupyter.widget-view+json": {
       "model_id": "c54ec821928947829de7d6a9db14c829",
       "version_major": 2,
       "version_minor": 0
      },
      "text/plain": [
       "HBox(children=(HTML(value=''), FloatProgress(value=0.0, layout=Layout(flex='2'), max=1.0), HTML(value='')), la…"
      ]
     },
     "metadata": {},
     "output_type": "display_data"
    },
    {
     "name": "stdout",
     "output_type": "stream",
     "text": [
      "\n",
      "Epoch 573/3000\n"
     ]
    },
    {
     "data": {
      "application/vnd.jupyter.widget-view+json": {
       "model_id": "17ce2c1f295b44d89e0be90e48ad9c14",
       "version_major": 2,
       "version_minor": 0
      },
      "text/plain": [
       "HBox(children=(HTML(value=''), FloatProgress(value=0.0, layout=Layout(flex='2'), max=1.0), HTML(value='')), la…"
      ]
     },
     "metadata": {},
     "output_type": "display_data"
    },
    {
     "name": "stdout",
     "output_type": "stream",
     "text": [
      "\n",
      "Epoch 574/3000\n"
     ]
    },
    {
     "data": {
      "application/vnd.jupyter.widget-view+json": {
       "model_id": "10c8eb940fd14200936b25f3a226304c",
       "version_major": 2,
       "version_minor": 0
      },
      "text/plain": [
       "HBox(children=(HTML(value=''), FloatProgress(value=0.0, layout=Layout(flex='2'), max=1.0), HTML(value='')), la…"
      ]
     },
     "metadata": {},
     "output_type": "display_data"
    },
    {
     "name": "stdout",
     "output_type": "stream",
     "text": [
      "\n",
      "Epoch 575/3000\n"
     ]
    },
    {
     "data": {
      "application/vnd.jupyter.widget-view+json": {
       "model_id": "ba99a320649d4aa68ead945a510deab0",
       "version_major": 2,
       "version_minor": 0
      },
      "text/plain": [
       "HBox(children=(HTML(value=''), FloatProgress(value=0.0, layout=Layout(flex='2'), max=1.0), HTML(value='')), la…"
      ]
     },
     "metadata": {},
     "output_type": "display_data"
    },
    {
     "name": "stdout",
     "output_type": "stream",
     "text": [
      "\n",
      "Epoch 576/3000\n"
     ]
    },
    {
     "data": {
      "application/vnd.jupyter.widget-view+json": {
       "model_id": "076d16bb8395416fba2e665f5d172daa",
       "version_major": 2,
       "version_minor": 0
      },
      "text/plain": [
       "HBox(children=(HTML(value=''), FloatProgress(value=0.0, layout=Layout(flex='2'), max=1.0), HTML(value='')), la…"
      ]
     },
     "metadata": {},
     "output_type": "display_data"
    },
    {
     "name": "stdout",
     "output_type": "stream",
     "text": [
      "\n",
      "Epoch 577/3000\n"
     ]
    },
    {
     "data": {
      "application/vnd.jupyter.widget-view+json": {
       "model_id": "8f7a64eadc6d4ad39fba58c2efc0391b",
       "version_major": 2,
       "version_minor": 0
      },
      "text/plain": [
       "HBox(children=(HTML(value=''), FloatProgress(value=0.0, layout=Layout(flex='2'), max=1.0), HTML(value='')), la…"
      ]
     },
     "metadata": {},
     "output_type": "display_data"
    },
    {
     "name": "stdout",
     "output_type": "stream",
     "text": [
      "\n",
      "Epoch 578/3000\n"
     ]
    },
    {
     "data": {
      "application/vnd.jupyter.widget-view+json": {
       "model_id": "b237079509db49feaf36b415ae446d94",
       "version_major": 2,
       "version_minor": 0
      },
      "text/plain": [
       "HBox(children=(HTML(value=''), FloatProgress(value=0.0, layout=Layout(flex='2'), max=1.0), HTML(value='')), la…"
      ]
     },
     "metadata": {},
     "output_type": "display_data"
    },
    {
     "name": "stdout",
     "output_type": "stream",
     "text": [
      "\n",
      "Epoch 579/3000\n"
     ]
    },
    {
     "data": {
      "application/vnd.jupyter.widget-view+json": {
       "model_id": "ae2930f0f3a04b40a6d25171821ca0bb",
       "version_major": 2,
       "version_minor": 0
      },
      "text/plain": [
       "HBox(children=(HTML(value=''), FloatProgress(value=0.0, layout=Layout(flex='2'), max=1.0), HTML(value='')), la…"
      ]
     },
     "metadata": {},
     "output_type": "display_data"
    },
    {
     "name": "stdout",
     "output_type": "stream",
     "text": [
      "\n",
      "Epoch 580/3000\n"
     ]
    },
    {
     "data": {
      "application/vnd.jupyter.widget-view+json": {
       "model_id": "7a713c6ded1c411a908b595d75db2041",
       "version_major": 2,
       "version_minor": 0
      },
      "text/plain": [
       "HBox(children=(HTML(value=''), FloatProgress(value=0.0, layout=Layout(flex='2'), max=1.0), HTML(value='')), la…"
      ]
     },
     "metadata": {},
     "output_type": "display_data"
    },
    {
     "name": "stdout",
     "output_type": "stream",
     "text": [
      "\n",
      "Epoch 581/3000\n"
     ]
    },
    {
     "data": {
      "application/vnd.jupyter.widget-view+json": {
       "model_id": "fd66655110f8479eaa0a7d8a8380e12f",
       "version_major": 2,
       "version_minor": 0
      },
      "text/plain": [
       "HBox(children=(HTML(value=''), FloatProgress(value=0.0, layout=Layout(flex='2'), max=1.0), HTML(value='')), la…"
      ]
     },
     "metadata": {},
     "output_type": "display_data"
    },
    {
     "ename": "KeyboardInterrupt",
     "evalue": "",
     "output_type": "error",
     "traceback": [
      "\u001b[0;31m---------------------------------------------------------------------------\u001b[0m",
      "\u001b[0;31mKeyboardInterrupt\u001b[0m                         Traceback (most recent call last)",
      "\u001b[0;32m<ipython-input-18-8be92596280d>\u001b[0m in \u001b[0;36m<module>\u001b[0;34m\u001b[0m\n\u001b[1;32m      1\u001b[0m \u001b[0;31m## overfitting\u001b[0m\u001b[0;34m\u001b[0m\u001b[0;34m\u001b[0m\u001b[0;34m\u001b[0m\u001b[0m\n\u001b[0;32m----> 2\u001b[0;31m \u001b[0mmodel\u001b[0m\u001b[0;34m.\u001b[0m\u001b[0mfit\u001b[0m\u001b[0;34m(\u001b[0m\u001b[0mx\u001b[0m\u001b[0;34m=\u001b[0m\u001b[0mdata\u001b[0m\u001b[0;34m[\u001b[0m\u001b[0;36m0\u001b[0m\u001b[0;34m]\u001b[0m\u001b[0;34m[\u001b[0m\u001b[0;36m0\u001b[0m\u001b[0;34m:\u001b[0m\u001b[0;36m1\u001b[0m\u001b[0;34m]\u001b[0m\u001b[0;34m,\u001b[0m \u001b[0my\u001b[0m\u001b[0;34m=\u001b[0m\u001b[0mdata\u001b[0m\u001b[0;34m[\u001b[0m\u001b[0;36m1\u001b[0m\u001b[0;34m]\u001b[0m\u001b[0;34m[\u001b[0m\u001b[0;36m0\u001b[0m\u001b[0;34m:\u001b[0m\u001b[0;36m1\u001b[0m\u001b[0;34m]\u001b[0m\u001b[0;34m,\u001b[0m \u001b[0mepochs\u001b[0m\u001b[0;34m=\u001b[0m\u001b[0;36m3000\u001b[0m\u001b[0;34m,\u001b[0m \u001b[0mbatch_size\u001b[0m\u001b[0;34m=\u001b[0m\u001b[0;36m1\u001b[0m\u001b[0;34m,\u001b[0m \u001b[0mcallbacks\u001b[0m\u001b[0;34m=\u001b[0m\u001b[0;34m[\u001b[0m\u001b[0mTQDMProgressBar\u001b[0m\u001b[0;34m(\u001b[0m\u001b[0;34m)\u001b[0m\u001b[0;34m]\u001b[0m\u001b[0;34m,\u001b[0m \u001b[0mverbose\u001b[0m\u001b[0;34m=\u001b[0m\u001b[0;36m0\u001b[0m\u001b[0;34m)\u001b[0m\u001b[0;34m\u001b[0m\u001b[0;34m\u001b[0m\u001b[0m\n\u001b[0m",
      "\u001b[0;32m~/workspace/tf-tdv/venv/lib/python3.6/site-packages/tensorflow/python/keras/engine/training.py\u001b[0m in \u001b[0;36m_method_wrapper\u001b[0;34m(self, *args, **kwargs)\u001b[0m\n\u001b[1;32m    106\u001b[0m   \u001b[0;32mdef\u001b[0m \u001b[0m_method_wrapper\u001b[0m\u001b[0;34m(\u001b[0m\u001b[0mself\u001b[0m\u001b[0;34m,\u001b[0m \u001b[0;34m*\u001b[0m\u001b[0margs\u001b[0m\u001b[0;34m,\u001b[0m \u001b[0;34m**\u001b[0m\u001b[0mkwargs\u001b[0m\u001b[0;34m)\u001b[0m\u001b[0;34m:\u001b[0m\u001b[0;34m\u001b[0m\u001b[0;34m\u001b[0m\u001b[0m\n\u001b[1;32m    107\u001b[0m     \u001b[0;32mif\u001b[0m \u001b[0;32mnot\u001b[0m \u001b[0mself\u001b[0m\u001b[0;34m.\u001b[0m\u001b[0m_in_multi_worker_mode\u001b[0m\u001b[0;34m(\u001b[0m\u001b[0;34m)\u001b[0m\u001b[0;34m:\u001b[0m  \u001b[0;31m# pylint: disable=protected-access\u001b[0m\u001b[0;34m\u001b[0m\u001b[0;34m\u001b[0m\u001b[0m\n\u001b[0;32m--> 108\u001b[0;31m       \u001b[0;32mreturn\u001b[0m \u001b[0mmethod\u001b[0m\u001b[0;34m(\u001b[0m\u001b[0mself\u001b[0m\u001b[0;34m,\u001b[0m \u001b[0;34m*\u001b[0m\u001b[0margs\u001b[0m\u001b[0;34m,\u001b[0m \u001b[0;34m**\u001b[0m\u001b[0mkwargs\u001b[0m\u001b[0;34m)\u001b[0m\u001b[0;34m\u001b[0m\u001b[0;34m\u001b[0m\u001b[0m\n\u001b[0m\u001b[1;32m    109\u001b[0m \u001b[0;34m\u001b[0m\u001b[0m\n\u001b[1;32m    110\u001b[0m     \u001b[0;31m# Running inside `run_distribute_coordinator` already.\u001b[0m\u001b[0;34m\u001b[0m\u001b[0;34m\u001b[0m\u001b[0;34m\u001b[0m\u001b[0m\n",
      "\u001b[0;32m~/workspace/tf-tdv/venv/lib/python3.6/site-packages/tensorflow/python/keras/engine/training.py\u001b[0m in \u001b[0;36mfit\u001b[0;34m(self, x, y, batch_size, epochs, verbose, callbacks, validation_split, validation_data, shuffle, class_weight, sample_weight, initial_epoch, steps_per_epoch, validation_steps, validation_batch_size, validation_freq, max_queue_size, workers, use_multiprocessing)\u001b[0m\n\u001b[1;32m   1096\u001b[0m                 batch_size=batch_size):\n\u001b[1;32m   1097\u001b[0m               \u001b[0mcallbacks\u001b[0m\u001b[0;34m.\u001b[0m\u001b[0mon_train_batch_begin\u001b[0m\u001b[0;34m(\u001b[0m\u001b[0mstep\u001b[0m\u001b[0;34m)\u001b[0m\u001b[0;34m\u001b[0m\u001b[0;34m\u001b[0m\u001b[0m\n\u001b[0;32m-> 1098\u001b[0;31m               \u001b[0mtmp_logs\u001b[0m \u001b[0;34m=\u001b[0m \u001b[0mtrain_function\u001b[0m\u001b[0;34m(\u001b[0m\u001b[0miterator\u001b[0m\u001b[0;34m)\u001b[0m\u001b[0;34m\u001b[0m\u001b[0;34m\u001b[0m\u001b[0m\n\u001b[0m\u001b[1;32m   1099\u001b[0m               \u001b[0;32mif\u001b[0m \u001b[0mdata_handler\u001b[0m\u001b[0;34m.\u001b[0m\u001b[0mshould_sync\u001b[0m\u001b[0;34m:\u001b[0m\u001b[0;34m\u001b[0m\u001b[0;34m\u001b[0m\u001b[0m\n\u001b[1;32m   1100\u001b[0m                 \u001b[0mcontext\u001b[0m\u001b[0;34m.\u001b[0m\u001b[0masync_wait\u001b[0m\u001b[0;34m(\u001b[0m\u001b[0;34m)\u001b[0m\u001b[0;34m\u001b[0m\u001b[0;34m\u001b[0m\u001b[0m\n",
      "\u001b[0;32m~/workspace/tf-tdv/venv/lib/python3.6/site-packages/tensorflow/python/eager/def_function.py\u001b[0m in \u001b[0;36m__call__\u001b[0;34m(self, *args, **kwds)\u001b[0m\n\u001b[1;32m    778\u001b[0m       \u001b[0;32melse\u001b[0m\u001b[0;34m:\u001b[0m\u001b[0;34m\u001b[0m\u001b[0;34m\u001b[0m\u001b[0m\n\u001b[1;32m    779\u001b[0m         \u001b[0mcompiler\u001b[0m \u001b[0;34m=\u001b[0m \u001b[0;34m\"nonXla\"\u001b[0m\u001b[0;34m\u001b[0m\u001b[0;34m\u001b[0m\u001b[0m\n\u001b[0;32m--> 780\u001b[0;31m         \u001b[0mresult\u001b[0m \u001b[0;34m=\u001b[0m \u001b[0mself\u001b[0m\u001b[0;34m.\u001b[0m\u001b[0m_call\u001b[0m\u001b[0;34m(\u001b[0m\u001b[0;34m*\u001b[0m\u001b[0margs\u001b[0m\u001b[0;34m,\u001b[0m \u001b[0;34m**\u001b[0m\u001b[0mkwds\u001b[0m\u001b[0;34m)\u001b[0m\u001b[0;34m\u001b[0m\u001b[0;34m\u001b[0m\u001b[0m\n\u001b[0m\u001b[1;32m    781\u001b[0m \u001b[0;34m\u001b[0m\u001b[0m\n\u001b[1;32m    782\u001b[0m       \u001b[0mnew_tracing_count\u001b[0m \u001b[0;34m=\u001b[0m \u001b[0mself\u001b[0m\u001b[0;34m.\u001b[0m\u001b[0m_get_tracing_count\u001b[0m\u001b[0;34m(\u001b[0m\u001b[0;34m)\u001b[0m\u001b[0;34m\u001b[0m\u001b[0;34m\u001b[0m\u001b[0m\n",
      "\u001b[0;32m~/workspace/tf-tdv/venv/lib/python3.6/site-packages/tensorflow/python/eager/def_function.py\u001b[0m in \u001b[0;36m_call\u001b[0;34m(self, *args, **kwds)\u001b[0m\n\u001b[1;32m    805\u001b[0m       \u001b[0;31m# In this case we have created variables on the first call, so we run the\u001b[0m\u001b[0;34m\u001b[0m\u001b[0;34m\u001b[0m\u001b[0;34m\u001b[0m\u001b[0m\n\u001b[1;32m    806\u001b[0m       \u001b[0;31m# defunned version which is guaranteed to never create variables.\u001b[0m\u001b[0;34m\u001b[0m\u001b[0;34m\u001b[0m\u001b[0;34m\u001b[0m\u001b[0m\n\u001b[0;32m--> 807\u001b[0;31m       \u001b[0;32mreturn\u001b[0m \u001b[0mself\u001b[0m\u001b[0;34m.\u001b[0m\u001b[0m_stateless_fn\u001b[0m\u001b[0;34m(\u001b[0m\u001b[0;34m*\u001b[0m\u001b[0margs\u001b[0m\u001b[0;34m,\u001b[0m \u001b[0;34m**\u001b[0m\u001b[0mkwds\u001b[0m\u001b[0;34m)\u001b[0m  \u001b[0;31m# pylint: disable=not-callable\u001b[0m\u001b[0;34m\u001b[0m\u001b[0;34m\u001b[0m\u001b[0m\n\u001b[0m\u001b[1;32m    808\u001b[0m     \u001b[0;32melif\u001b[0m \u001b[0mself\u001b[0m\u001b[0;34m.\u001b[0m\u001b[0m_stateful_fn\u001b[0m \u001b[0;32mis\u001b[0m \u001b[0;32mnot\u001b[0m \u001b[0;32mNone\u001b[0m\u001b[0;34m:\u001b[0m\u001b[0;34m\u001b[0m\u001b[0;34m\u001b[0m\u001b[0m\n\u001b[1;32m    809\u001b[0m       \u001b[0;31m# Release the lock early so that multiple threads can perform the call\u001b[0m\u001b[0;34m\u001b[0m\u001b[0;34m\u001b[0m\u001b[0;34m\u001b[0m\u001b[0m\n",
      "\u001b[0;32m~/workspace/tf-tdv/venv/lib/python3.6/site-packages/tensorflow/python/eager/function.py\u001b[0m in \u001b[0;36m__call__\u001b[0;34m(self, *args, **kwargs)\u001b[0m\n\u001b[1;32m   2827\u001b[0m     \u001b[0;32mwith\u001b[0m \u001b[0mself\u001b[0m\u001b[0;34m.\u001b[0m\u001b[0m_lock\u001b[0m\u001b[0;34m:\u001b[0m\u001b[0;34m\u001b[0m\u001b[0;34m\u001b[0m\u001b[0m\n\u001b[1;32m   2828\u001b[0m       \u001b[0mgraph_function\u001b[0m\u001b[0;34m,\u001b[0m \u001b[0margs\u001b[0m\u001b[0;34m,\u001b[0m \u001b[0mkwargs\u001b[0m \u001b[0;34m=\u001b[0m \u001b[0mself\u001b[0m\u001b[0;34m.\u001b[0m\u001b[0m_maybe_define_function\u001b[0m\u001b[0;34m(\u001b[0m\u001b[0margs\u001b[0m\u001b[0;34m,\u001b[0m \u001b[0mkwargs\u001b[0m\u001b[0;34m)\u001b[0m\u001b[0;34m\u001b[0m\u001b[0;34m\u001b[0m\u001b[0m\n\u001b[0;32m-> 2829\u001b[0;31m     \u001b[0;32mreturn\u001b[0m \u001b[0mgraph_function\u001b[0m\u001b[0;34m.\u001b[0m\u001b[0m_filtered_call\u001b[0m\u001b[0;34m(\u001b[0m\u001b[0margs\u001b[0m\u001b[0;34m,\u001b[0m \u001b[0mkwargs\u001b[0m\u001b[0;34m)\u001b[0m  \u001b[0;31m# pylint: disable=protected-access\u001b[0m\u001b[0;34m\u001b[0m\u001b[0;34m\u001b[0m\u001b[0m\n\u001b[0m\u001b[1;32m   2830\u001b[0m \u001b[0;34m\u001b[0m\u001b[0m\n\u001b[1;32m   2831\u001b[0m   \u001b[0;34m@\u001b[0m\u001b[0mproperty\u001b[0m\u001b[0;34m\u001b[0m\u001b[0;34m\u001b[0m\u001b[0m\n",
      "\u001b[0;32m~/workspace/tf-tdv/venv/lib/python3.6/site-packages/tensorflow/python/eager/function.py\u001b[0m in \u001b[0;36m_filtered_call\u001b[0;34m(self, args, kwargs, cancellation_manager)\u001b[0m\n\u001b[1;32m   1846\u001b[0m                            resource_variable_ops.BaseResourceVariable))],\n\u001b[1;32m   1847\u001b[0m         \u001b[0mcaptured_inputs\u001b[0m\u001b[0;34m=\u001b[0m\u001b[0mself\u001b[0m\u001b[0;34m.\u001b[0m\u001b[0mcaptured_inputs\u001b[0m\u001b[0;34m,\u001b[0m\u001b[0;34m\u001b[0m\u001b[0;34m\u001b[0m\u001b[0m\n\u001b[0;32m-> 1848\u001b[0;31m         cancellation_manager=cancellation_manager)\n\u001b[0m\u001b[1;32m   1849\u001b[0m \u001b[0;34m\u001b[0m\u001b[0m\n\u001b[1;32m   1850\u001b[0m   \u001b[0;32mdef\u001b[0m \u001b[0m_call_flat\u001b[0m\u001b[0;34m(\u001b[0m\u001b[0mself\u001b[0m\u001b[0;34m,\u001b[0m \u001b[0margs\u001b[0m\u001b[0;34m,\u001b[0m \u001b[0mcaptured_inputs\u001b[0m\u001b[0;34m,\u001b[0m \u001b[0mcancellation_manager\u001b[0m\u001b[0;34m=\u001b[0m\u001b[0;32mNone\u001b[0m\u001b[0;34m)\u001b[0m\u001b[0;34m:\u001b[0m\u001b[0;34m\u001b[0m\u001b[0;34m\u001b[0m\u001b[0m\n",
      "\u001b[0;32m~/workspace/tf-tdv/venv/lib/python3.6/site-packages/tensorflow/python/eager/function.py\u001b[0m in \u001b[0;36m_call_flat\u001b[0;34m(self, args, captured_inputs, cancellation_manager)\u001b[0m\n\u001b[1;32m   1922\u001b[0m       \u001b[0;31m# No tape is watching; skip to running the function.\u001b[0m\u001b[0;34m\u001b[0m\u001b[0;34m\u001b[0m\u001b[0;34m\u001b[0m\u001b[0m\n\u001b[1;32m   1923\u001b[0m       return self._build_call_outputs(self._inference_function.call(\n\u001b[0;32m-> 1924\u001b[0;31m           ctx, args, cancellation_manager=cancellation_manager))\n\u001b[0m\u001b[1;32m   1925\u001b[0m     forward_backward = self._select_forward_and_backward_functions(\n\u001b[1;32m   1926\u001b[0m         \u001b[0margs\u001b[0m\u001b[0;34m,\u001b[0m\u001b[0;34m\u001b[0m\u001b[0;34m\u001b[0m\u001b[0m\n",
      "\u001b[0;32m~/workspace/tf-tdv/venv/lib/python3.6/site-packages/tensorflow/python/eager/function.py\u001b[0m in \u001b[0;36mcall\u001b[0;34m(self, ctx, args, cancellation_manager)\u001b[0m\n\u001b[1;32m    548\u001b[0m               \u001b[0minputs\u001b[0m\u001b[0;34m=\u001b[0m\u001b[0margs\u001b[0m\u001b[0;34m,\u001b[0m\u001b[0;34m\u001b[0m\u001b[0;34m\u001b[0m\u001b[0m\n\u001b[1;32m    549\u001b[0m               \u001b[0mattrs\u001b[0m\u001b[0;34m=\u001b[0m\u001b[0mattrs\u001b[0m\u001b[0;34m,\u001b[0m\u001b[0;34m\u001b[0m\u001b[0;34m\u001b[0m\u001b[0m\n\u001b[0;32m--> 550\u001b[0;31m               ctx=ctx)\n\u001b[0m\u001b[1;32m    551\u001b[0m         \u001b[0;32melse\u001b[0m\u001b[0;34m:\u001b[0m\u001b[0;34m\u001b[0m\u001b[0;34m\u001b[0m\u001b[0m\n\u001b[1;32m    552\u001b[0m           outputs = execute.execute_with_cancellation(\n",
      "\u001b[0;32m~/workspace/tf-tdv/venv/lib/python3.6/site-packages/tensorflow/python/eager/execute.py\u001b[0m in \u001b[0;36mquick_execute\u001b[0;34m(op_name, num_outputs, inputs, attrs, ctx, name)\u001b[0m\n\u001b[1;32m     58\u001b[0m     \u001b[0mctx\u001b[0m\u001b[0;34m.\u001b[0m\u001b[0mensure_initialized\u001b[0m\u001b[0;34m(\u001b[0m\u001b[0;34m)\u001b[0m\u001b[0;34m\u001b[0m\u001b[0;34m\u001b[0m\u001b[0m\n\u001b[1;32m     59\u001b[0m     tensors = pywrap_tfe.TFE_Py_Execute(ctx._handle, device_name, op_name,\n\u001b[0;32m---> 60\u001b[0;31m                                         inputs, attrs, num_outputs)\n\u001b[0m\u001b[1;32m     61\u001b[0m   \u001b[0;32mexcept\u001b[0m \u001b[0mcore\u001b[0m\u001b[0;34m.\u001b[0m\u001b[0m_NotOkStatusException\u001b[0m \u001b[0;32mas\u001b[0m \u001b[0me\u001b[0m\u001b[0;34m:\u001b[0m\u001b[0;34m\u001b[0m\u001b[0;34m\u001b[0m\u001b[0m\n\u001b[1;32m     62\u001b[0m     \u001b[0;32mif\u001b[0m \u001b[0mname\u001b[0m \u001b[0;32mis\u001b[0m \u001b[0;32mnot\u001b[0m \u001b[0;32mNone\u001b[0m\u001b[0;34m:\u001b[0m\u001b[0;34m\u001b[0m\u001b[0;34m\u001b[0m\u001b[0m\n",
      "\u001b[0;31mKeyboardInterrupt\u001b[0m: "
     ]
    }
   ],
   "source": [
    "## overfitting\n",
    "model.fit(x=data[0][0:1], y=data[1][0:1], epochs=3000, batch_size=1, callbacks=[TQDMProgressBar()], verbose=0)"
   ]
  },
  {
   "cell_type": "code",
   "execution_count": null,
   "metadata": {},
   "outputs": [],
   "source": [
    "# Use a checkpoint cback in the future\n",
    "# model.save_weights('denoising_unrolled_fb_tdv.h5')"
   ]
  },
  {
   "cell_type": "code",
   "execution_count": 19,
   "metadata": {},
   "outputs": [
    {
     "data": {
      "text/plain": [
       "(<tf.Variable 'alpha:0' shape=(1,) dtype=float32, numpy=array([0.01033522], dtype=float32)>,\n",
       " <tf.Variable 'lambda:0' shape=(1,) dtype=float32, numpy=array([-0.], dtype=float32)>)"
      ]
     },
     "execution_count": 19,
     "metadata": {},
     "output_type": "execute_result"
    }
   ],
   "source": [
    "model.alpha, model.lamda"
   ]
  },
  {
   "cell_type": "code",
   "execution_count": 20,
   "metadata": {},
   "outputs": [],
   "source": [
    "res = model(data[0])\n",
    "res_gt = model(data[1])"
   ]
  },
  {
   "cell_type": "code",
   "execution_count": 21,
   "metadata": {},
   "outputs": [
    {
     "data": {
      "application/javascript": [
       "/* Put everything inside the global mpl namespace */\n",
       "/* global mpl */\n",
       "window.mpl = {};\n",
       "\n",
       "mpl.get_websocket_type = function () {\n",
       "    if (typeof WebSocket !== 'undefined') {\n",
       "        return WebSocket;\n",
       "    } else if (typeof MozWebSocket !== 'undefined') {\n",
       "        return MozWebSocket;\n",
       "    } else {\n",
       "        alert(\n",
       "            'Your browser does not have WebSocket support. ' +\n",
       "                'Please try Chrome, Safari or Firefox ≥ 6. ' +\n",
       "                'Firefox 4 and 5 are also supported but you ' +\n",
       "                'have to enable WebSockets in about:config.'\n",
       "        );\n",
       "    }\n",
       "};\n",
       "\n",
       "mpl.figure = function (figure_id, websocket, ondownload, parent_element) {\n",
       "    this.id = figure_id;\n",
       "\n",
       "    this.ws = websocket;\n",
       "\n",
       "    this.supports_binary = this.ws.binaryType !== undefined;\n",
       "\n",
       "    if (!this.supports_binary) {\n",
       "        var warnings = document.getElementById('mpl-warnings');\n",
       "        if (warnings) {\n",
       "            warnings.style.display = 'block';\n",
       "            warnings.textContent =\n",
       "                'This browser does not support binary websocket messages. ' +\n",
       "                'Performance may be slow.';\n",
       "        }\n",
       "    }\n",
       "\n",
       "    this.imageObj = new Image();\n",
       "\n",
       "    this.context = undefined;\n",
       "    this.message = undefined;\n",
       "    this.canvas = undefined;\n",
       "    this.rubberband_canvas = undefined;\n",
       "    this.rubberband_context = undefined;\n",
       "    this.format_dropdown = undefined;\n",
       "\n",
       "    this.image_mode = 'full';\n",
       "\n",
       "    this.root = document.createElement('div');\n",
       "    this.root.setAttribute('style', 'display: inline-block');\n",
       "    this._root_extra_style(this.root);\n",
       "\n",
       "    parent_element.appendChild(this.root);\n",
       "\n",
       "    this._init_header(this);\n",
       "    this._init_canvas(this);\n",
       "    this._init_toolbar(this);\n",
       "\n",
       "    var fig = this;\n",
       "\n",
       "    this.waiting = false;\n",
       "\n",
       "    this.ws.onopen = function () {\n",
       "        fig.send_message('supports_binary', { value: fig.supports_binary });\n",
       "        fig.send_message('send_image_mode', {});\n",
       "        if (fig.ratio !== 1) {\n",
       "            fig.send_message('set_dpi_ratio', { dpi_ratio: fig.ratio });\n",
       "        }\n",
       "        fig.send_message('refresh', {});\n",
       "    };\n",
       "\n",
       "    this.imageObj.onload = function () {\n",
       "        if (fig.image_mode === 'full') {\n",
       "            // Full images could contain transparency (where diff images\n",
       "            // almost always do), so we need to clear the canvas so that\n",
       "            // there is no ghosting.\n",
       "            fig.context.clearRect(0, 0, fig.canvas.width, fig.canvas.height);\n",
       "        }\n",
       "        fig.context.drawImage(fig.imageObj, 0, 0);\n",
       "    };\n",
       "\n",
       "    this.imageObj.onunload = function () {\n",
       "        fig.ws.close();\n",
       "    };\n",
       "\n",
       "    this.ws.onmessage = this._make_on_message_function(this);\n",
       "\n",
       "    this.ondownload = ondownload;\n",
       "};\n",
       "\n",
       "mpl.figure.prototype._init_header = function () {\n",
       "    var titlebar = document.createElement('div');\n",
       "    titlebar.classList =\n",
       "        'ui-dialog-titlebar ui-widget-header ui-corner-all ui-helper-clearfix';\n",
       "    var titletext = document.createElement('div');\n",
       "    titletext.classList = 'ui-dialog-title';\n",
       "    titletext.setAttribute(\n",
       "        'style',\n",
       "        'width: 100%; text-align: center; padding: 3px;'\n",
       "    );\n",
       "    titlebar.appendChild(titletext);\n",
       "    this.root.appendChild(titlebar);\n",
       "    this.header = titletext;\n",
       "};\n",
       "\n",
       "mpl.figure.prototype._canvas_extra_style = function (_canvas_div) {};\n",
       "\n",
       "mpl.figure.prototype._root_extra_style = function (_canvas_div) {};\n",
       "\n",
       "mpl.figure.prototype._init_canvas = function () {\n",
       "    var fig = this;\n",
       "\n",
       "    var canvas_div = (this.canvas_div = document.createElement('div'));\n",
       "    canvas_div.setAttribute(\n",
       "        'style',\n",
       "        'border: 1px solid #ddd;' +\n",
       "            'box-sizing: content-box;' +\n",
       "            'clear: both;' +\n",
       "            'min-height: 1px;' +\n",
       "            'min-width: 1px;' +\n",
       "            'outline: 0;' +\n",
       "            'overflow: hidden;' +\n",
       "            'position: relative;' +\n",
       "            'resize: both;'\n",
       "    );\n",
       "\n",
       "    function on_keyboard_event_closure(name) {\n",
       "        return function (event) {\n",
       "            return fig.key_event(event, name);\n",
       "        };\n",
       "    }\n",
       "\n",
       "    canvas_div.addEventListener(\n",
       "        'keydown',\n",
       "        on_keyboard_event_closure('key_press')\n",
       "    );\n",
       "    canvas_div.addEventListener(\n",
       "        'keyup',\n",
       "        on_keyboard_event_closure('key_release')\n",
       "    );\n",
       "\n",
       "    this._canvas_extra_style(canvas_div);\n",
       "    this.root.appendChild(canvas_div);\n",
       "\n",
       "    var canvas = (this.canvas = document.createElement('canvas'));\n",
       "    canvas.classList.add('mpl-canvas');\n",
       "    canvas.setAttribute('style', 'box-sizing: content-box;');\n",
       "\n",
       "    this.context = canvas.getContext('2d');\n",
       "\n",
       "    var backingStore =\n",
       "        this.context.backingStorePixelRatio ||\n",
       "        this.context.webkitBackingStorePixelRatio ||\n",
       "        this.context.mozBackingStorePixelRatio ||\n",
       "        this.context.msBackingStorePixelRatio ||\n",
       "        this.context.oBackingStorePixelRatio ||\n",
       "        this.context.backingStorePixelRatio ||\n",
       "        1;\n",
       "\n",
       "    this.ratio = (window.devicePixelRatio || 1) / backingStore;\n",
       "    if (this.ratio !== 1) {\n",
       "        fig.send_message('set_dpi_ratio', { dpi_ratio: this.ratio });\n",
       "    }\n",
       "\n",
       "    var rubberband_canvas = (this.rubberband_canvas = document.createElement(\n",
       "        'canvas'\n",
       "    ));\n",
       "    rubberband_canvas.setAttribute(\n",
       "        'style',\n",
       "        'box-sizing: content-box; position: absolute; left: 0; top: 0; z-index: 1;'\n",
       "    );\n",
       "\n",
       "    // Apply a ponyfill if ResizeObserver is not implemented by browser.\n",
       "    if (this.ResizeObserver === undefined) {\n",
       "        if (window.ResizeObserver !== undefined) {\n",
       "            this.ResizeObserver = window.ResizeObserver;\n",
       "        } else {\n",
       "            var obs = _JSXTOOLS_RESIZE_OBSERVER({});\n",
       "            this.ResizeObserver = obs.ResizeObserver;\n",
       "        }\n",
       "    }\n",
       "\n",
       "    this.resizeObserverInstance = new this.ResizeObserver(function (entries) {\n",
       "        var nentries = entries.length;\n",
       "        for (var i = 0; i < nentries; i++) {\n",
       "            var entry = entries[i];\n",
       "            var width, height;\n",
       "            if (entry.contentBoxSize) {\n",
       "                if (entry.contentBoxSize instanceof Array) {\n",
       "                    // Chrome 84 implements new version of spec.\n",
       "                    width = entry.contentBoxSize[0].inlineSize;\n",
       "                    height = entry.contentBoxSize[0].blockSize;\n",
       "                } else {\n",
       "                    // Firefox implements old version of spec.\n",
       "                    width = entry.contentBoxSize.inlineSize;\n",
       "                    height = entry.contentBoxSize.blockSize;\n",
       "                }\n",
       "            } else {\n",
       "                // Chrome <84 implements even older version of spec.\n",
       "                width = entry.contentRect.width;\n",
       "                height = entry.contentRect.height;\n",
       "            }\n",
       "\n",
       "            // Keep the size of the canvas and rubber band canvas in sync with\n",
       "            // the canvas container.\n",
       "            if (entry.devicePixelContentBoxSize) {\n",
       "                // Chrome 84 implements new version of spec.\n",
       "                canvas.setAttribute(\n",
       "                    'width',\n",
       "                    entry.devicePixelContentBoxSize[0].inlineSize\n",
       "                );\n",
       "                canvas.setAttribute(\n",
       "                    'height',\n",
       "                    entry.devicePixelContentBoxSize[0].blockSize\n",
       "                );\n",
       "            } else {\n",
       "                canvas.setAttribute('width', width * fig.ratio);\n",
       "                canvas.setAttribute('height', height * fig.ratio);\n",
       "            }\n",
       "            canvas.setAttribute(\n",
       "                'style',\n",
       "                'width: ' + width + 'px; height: ' + height + 'px;'\n",
       "            );\n",
       "\n",
       "            rubberband_canvas.setAttribute('width', width);\n",
       "            rubberband_canvas.setAttribute('height', height);\n",
       "\n",
       "            // And update the size in Python. We ignore the initial 0/0 size\n",
       "            // that occurs as the element is placed into the DOM, which should\n",
       "            // otherwise not happen due to the minimum size styling.\n",
       "            if (width != 0 && height != 0) {\n",
       "                fig.request_resize(width, height);\n",
       "            }\n",
       "        }\n",
       "    });\n",
       "    this.resizeObserverInstance.observe(canvas_div);\n",
       "\n",
       "    function on_mouse_event_closure(name) {\n",
       "        return function (event) {\n",
       "            return fig.mouse_event(event, name);\n",
       "        };\n",
       "    }\n",
       "\n",
       "    rubberband_canvas.addEventListener(\n",
       "        'mousedown',\n",
       "        on_mouse_event_closure('button_press')\n",
       "    );\n",
       "    rubberband_canvas.addEventListener(\n",
       "        'mouseup',\n",
       "        on_mouse_event_closure('button_release')\n",
       "    );\n",
       "    // Throttle sequential mouse events to 1 every 20ms.\n",
       "    rubberband_canvas.addEventListener(\n",
       "        'mousemove',\n",
       "        on_mouse_event_closure('motion_notify')\n",
       "    );\n",
       "\n",
       "    rubberband_canvas.addEventListener(\n",
       "        'mouseenter',\n",
       "        on_mouse_event_closure('figure_enter')\n",
       "    );\n",
       "    rubberband_canvas.addEventListener(\n",
       "        'mouseleave',\n",
       "        on_mouse_event_closure('figure_leave')\n",
       "    );\n",
       "\n",
       "    canvas_div.addEventListener('wheel', function (event) {\n",
       "        if (event.deltaY < 0) {\n",
       "            event.step = 1;\n",
       "        } else {\n",
       "            event.step = -1;\n",
       "        }\n",
       "        on_mouse_event_closure('scroll')(event);\n",
       "    });\n",
       "\n",
       "    canvas_div.appendChild(canvas);\n",
       "    canvas_div.appendChild(rubberband_canvas);\n",
       "\n",
       "    this.rubberband_context = rubberband_canvas.getContext('2d');\n",
       "    this.rubberband_context.strokeStyle = '#000000';\n",
       "\n",
       "    this._resize_canvas = function (width, height, forward) {\n",
       "        if (forward) {\n",
       "            canvas_div.style.width = width + 'px';\n",
       "            canvas_div.style.height = height + 'px';\n",
       "        }\n",
       "    };\n",
       "\n",
       "    // Disable right mouse context menu.\n",
       "    this.rubberband_canvas.addEventListener('contextmenu', function (_e) {\n",
       "        event.preventDefault();\n",
       "        return false;\n",
       "    });\n",
       "\n",
       "    function set_focus() {\n",
       "        canvas.focus();\n",
       "        canvas_div.focus();\n",
       "    }\n",
       "\n",
       "    window.setTimeout(set_focus, 100);\n",
       "};\n",
       "\n",
       "mpl.figure.prototype._init_toolbar = function () {\n",
       "    var fig = this;\n",
       "\n",
       "    var toolbar = document.createElement('div');\n",
       "    toolbar.classList = 'mpl-toolbar';\n",
       "    this.root.appendChild(toolbar);\n",
       "\n",
       "    function on_click_closure(name) {\n",
       "        return function (_event) {\n",
       "            return fig.toolbar_button_onclick(name);\n",
       "        };\n",
       "    }\n",
       "\n",
       "    function on_mouseover_closure(tooltip) {\n",
       "        return function (event) {\n",
       "            if (!event.currentTarget.disabled) {\n",
       "                return fig.toolbar_button_onmouseover(tooltip);\n",
       "            }\n",
       "        };\n",
       "    }\n",
       "\n",
       "    fig.buttons = {};\n",
       "    var buttonGroup = document.createElement('div');\n",
       "    buttonGroup.classList = 'mpl-button-group';\n",
       "    for (var toolbar_ind in mpl.toolbar_items) {\n",
       "        var name = mpl.toolbar_items[toolbar_ind][0];\n",
       "        var tooltip = mpl.toolbar_items[toolbar_ind][1];\n",
       "        var image = mpl.toolbar_items[toolbar_ind][2];\n",
       "        var method_name = mpl.toolbar_items[toolbar_ind][3];\n",
       "\n",
       "        if (!name) {\n",
       "            /* Instead of a spacer, we start a new button group. */\n",
       "            if (buttonGroup.hasChildNodes()) {\n",
       "                toolbar.appendChild(buttonGroup);\n",
       "            }\n",
       "            buttonGroup = document.createElement('div');\n",
       "            buttonGroup.classList = 'mpl-button-group';\n",
       "            continue;\n",
       "        }\n",
       "\n",
       "        var button = (fig.buttons[name] = document.createElement('button'));\n",
       "        button.classList = 'mpl-widget';\n",
       "        button.setAttribute('role', 'button');\n",
       "        button.setAttribute('aria-disabled', 'false');\n",
       "        button.addEventListener('click', on_click_closure(method_name));\n",
       "        button.addEventListener('mouseover', on_mouseover_closure(tooltip));\n",
       "\n",
       "        var icon_img = document.createElement('img');\n",
       "        icon_img.src = '_images/' + image + '.png';\n",
       "        icon_img.srcset = '_images/' + image + '_large.png 2x';\n",
       "        icon_img.alt = tooltip;\n",
       "        button.appendChild(icon_img);\n",
       "\n",
       "        buttonGroup.appendChild(button);\n",
       "    }\n",
       "\n",
       "    if (buttonGroup.hasChildNodes()) {\n",
       "        toolbar.appendChild(buttonGroup);\n",
       "    }\n",
       "\n",
       "    var fmt_picker = document.createElement('select');\n",
       "    fmt_picker.classList = 'mpl-widget';\n",
       "    toolbar.appendChild(fmt_picker);\n",
       "    this.format_dropdown = fmt_picker;\n",
       "\n",
       "    for (var ind in mpl.extensions) {\n",
       "        var fmt = mpl.extensions[ind];\n",
       "        var option = document.createElement('option');\n",
       "        option.selected = fmt === mpl.default_extension;\n",
       "        option.innerHTML = fmt;\n",
       "        fmt_picker.appendChild(option);\n",
       "    }\n",
       "\n",
       "    var status_bar = document.createElement('span');\n",
       "    status_bar.classList = 'mpl-message';\n",
       "    toolbar.appendChild(status_bar);\n",
       "    this.message = status_bar;\n",
       "};\n",
       "\n",
       "mpl.figure.prototype.request_resize = function (x_pixels, y_pixels) {\n",
       "    // Request matplotlib to resize the figure. Matplotlib will then trigger a resize in the client,\n",
       "    // which will in turn request a refresh of the image.\n",
       "    this.send_message('resize', { width: x_pixels, height: y_pixels });\n",
       "};\n",
       "\n",
       "mpl.figure.prototype.send_message = function (type, properties) {\n",
       "    properties['type'] = type;\n",
       "    properties['figure_id'] = this.id;\n",
       "    this.ws.send(JSON.stringify(properties));\n",
       "};\n",
       "\n",
       "mpl.figure.prototype.send_draw_message = function () {\n",
       "    if (!this.waiting) {\n",
       "        this.waiting = true;\n",
       "        this.ws.send(JSON.stringify({ type: 'draw', figure_id: this.id }));\n",
       "    }\n",
       "};\n",
       "\n",
       "mpl.figure.prototype.handle_save = function (fig, _msg) {\n",
       "    var format_dropdown = fig.format_dropdown;\n",
       "    var format = format_dropdown.options[format_dropdown.selectedIndex].value;\n",
       "    fig.ondownload(fig, format);\n",
       "};\n",
       "\n",
       "mpl.figure.prototype.handle_resize = function (fig, msg) {\n",
       "    var size = msg['size'];\n",
       "    if (size[0] !== fig.canvas.width || size[1] !== fig.canvas.height) {\n",
       "        fig._resize_canvas(size[0], size[1], msg['forward']);\n",
       "        fig.send_message('refresh', {});\n",
       "    }\n",
       "};\n",
       "\n",
       "mpl.figure.prototype.handle_rubberband = function (fig, msg) {\n",
       "    var x0 = msg['x0'] / fig.ratio;\n",
       "    var y0 = (fig.canvas.height - msg['y0']) / fig.ratio;\n",
       "    var x1 = msg['x1'] / fig.ratio;\n",
       "    var y1 = (fig.canvas.height - msg['y1']) / fig.ratio;\n",
       "    x0 = Math.floor(x0) + 0.5;\n",
       "    y0 = Math.floor(y0) + 0.5;\n",
       "    x1 = Math.floor(x1) + 0.5;\n",
       "    y1 = Math.floor(y1) + 0.5;\n",
       "    var min_x = Math.min(x0, x1);\n",
       "    var min_y = Math.min(y0, y1);\n",
       "    var width = Math.abs(x1 - x0);\n",
       "    var height = Math.abs(y1 - y0);\n",
       "\n",
       "    fig.rubberband_context.clearRect(\n",
       "        0,\n",
       "        0,\n",
       "        fig.canvas.width / fig.ratio,\n",
       "        fig.canvas.height / fig.ratio\n",
       "    );\n",
       "\n",
       "    fig.rubberband_context.strokeRect(min_x, min_y, width, height);\n",
       "};\n",
       "\n",
       "mpl.figure.prototype.handle_figure_label = function (fig, msg) {\n",
       "    // Updates the figure title.\n",
       "    fig.header.textContent = msg['label'];\n",
       "};\n",
       "\n",
       "mpl.figure.prototype.handle_cursor = function (fig, msg) {\n",
       "    var cursor = msg['cursor'];\n",
       "    switch (cursor) {\n",
       "        case 0:\n",
       "            cursor = 'pointer';\n",
       "            break;\n",
       "        case 1:\n",
       "            cursor = 'default';\n",
       "            break;\n",
       "        case 2:\n",
       "            cursor = 'crosshair';\n",
       "            break;\n",
       "        case 3:\n",
       "            cursor = 'move';\n",
       "            break;\n",
       "    }\n",
       "    fig.rubberband_canvas.style.cursor = cursor;\n",
       "};\n",
       "\n",
       "mpl.figure.prototype.handle_message = function (fig, msg) {\n",
       "    fig.message.textContent = msg['message'];\n",
       "};\n",
       "\n",
       "mpl.figure.prototype.handle_draw = function (fig, _msg) {\n",
       "    // Request the server to send over a new figure.\n",
       "    fig.send_draw_message();\n",
       "};\n",
       "\n",
       "mpl.figure.prototype.handle_image_mode = function (fig, msg) {\n",
       "    fig.image_mode = msg['mode'];\n",
       "};\n",
       "\n",
       "mpl.figure.prototype.handle_history_buttons = function (fig, msg) {\n",
       "    for (var key in msg) {\n",
       "        if (!(key in fig.buttons)) {\n",
       "            continue;\n",
       "        }\n",
       "        fig.buttons[key].disabled = !msg[key];\n",
       "        fig.buttons[key].setAttribute('aria-disabled', !msg[key]);\n",
       "    }\n",
       "};\n",
       "\n",
       "mpl.figure.prototype.handle_navigate_mode = function (fig, msg) {\n",
       "    if (msg['mode'] === 'PAN') {\n",
       "        fig.buttons['Pan'].classList.add('active');\n",
       "        fig.buttons['Zoom'].classList.remove('active');\n",
       "    } else if (msg['mode'] === 'ZOOM') {\n",
       "        fig.buttons['Pan'].classList.remove('active');\n",
       "        fig.buttons['Zoom'].classList.add('active');\n",
       "    } else {\n",
       "        fig.buttons['Pan'].classList.remove('active');\n",
       "        fig.buttons['Zoom'].classList.remove('active');\n",
       "    }\n",
       "};\n",
       "\n",
       "mpl.figure.prototype.updated_canvas_event = function () {\n",
       "    // Called whenever the canvas gets updated.\n",
       "    this.send_message('ack', {});\n",
       "};\n",
       "\n",
       "// A function to construct a web socket function for onmessage handling.\n",
       "// Called in the figure constructor.\n",
       "mpl.figure.prototype._make_on_message_function = function (fig) {\n",
       "    return function socket_on_message(evt) {\n",
       "        if (evt.data instanceof Blob) {\n",
       "            /* FIXME: We get \"Resource interpreted as Image but\n",
       "             * transferred with MIME type text/plain:\" errors on\n",
       "             * Chrome.  But how to set the MIME type?  It doesn't seem\n",
       "             * to be part of the websocket stream */\n",
       "            evt.data.type = 'image/png';\n",
       "\n",
       "            /* Free the memory for the previous frames */\n",
       "            if (fig.imageObj.src) {\n",
       "                (window.URL || window.webkitURL).revokeObjectURL(\n",
       "                    fig.imageObj.src\n",
       "                );\n",
       "            }\n",
       "\n",
       "            fig.imageObj.src = (window.URL || window.webkitURL).createObjectURL(\n",
       "                evt.data\n",
       "            );\n",
       "            fig.updated_canvas_event();\n",
       "            fig.waiting = false;\n",
       "            return;\n",
       "        } else if (\n",
       "            typeof evt.data === 'string' &&\n",
       "            evt.data.slice(0, 21) === 'data:image/png;base64'\n",
       "        ) {\n",
       "            fig.imageObj.src = evt.data;\n",
       "            fig.updated_canvas_event();\n",
       "            fig.waiting = false;\n",
       "            return;\n",
       "        }\n",
       "\n",
       "        var msg = JSON.parse(evt.data);\n",
       "        var msg_type = msg['type'];\n",
       "\n",
       "        // Call the  \"handle_{type}\" callback, which takes\n",
       "        // the figure and JSON message as its only arguments.\n",
       "        try {\n",
       "            var callback = fig['handle_' + msg_type];\n",
       "        } catch (e) {\n",
       "            console.log(\n",
       "                \"No handler for the '\" + msg_type + \"' message type: \",\n",
       "                msg\n",
       "            );\n",
       "            return;\n",
       "        }\n",
       "\n",
       "        if (callback) {\n",
       "            try {\n",
       "                // console.log(\"Handling '\" + msg_type + \"' message: \", msg);\n",
       "                callback(fig, msg);\n",
       "            } catch (e) {\n",
       "                console.log(\n",
       "                    \"Exception inside the 'handler_\" + msg_type + \"' callback:\",\n",
       "                    e,\n",
       "                    e.stack,\n",
       "                    msg\n",
       "                );\n",
       "            }\n",
       "        }\n",
       "    };\n",
       "};\n",
       "\n",
       "// from http://stackoverflow.com/questions/1114465/getting-mouse-location-in-canvas\n",
       "mpl.findpos = function (e) {\n",
       "    //this section is from http://www.quirksmode.org/js/events_properties.html\n",
       "    var targ;\n",
       "    if (!e) {\n",
       "        e = window.event;\n",
       "    }\n",
       "    if (e.target) {\n",
       "        targ = e.target;\n",
       "    } else if (e.srcElement) {\n",
       "        targ = e.srcElement;\n",
       "    }\n",
       "    if (targ.nodeType === 3) {\n",
       "        // defeat Safari bug\n",
       "        targ = targ.parentNode;\n",
       "    }\n",
       "\n",
       "    // pageX,Y are the mouse positions relative to the document\n",
       "    var boundingRect = targ.getBoundingClientRect();\n",
       "    var x = e.pageX - (boundingRect.left + document.body.scrollLeft);\n",
       "    var y = e.pageY - (boundingRect.top + document.body.scrollTop);\n",
       "\n",
       "    return { x: x, y: y };\n",
       "};\n",
       "\n",
       "/*\n",
       " * return a copy of an object with only non-object keys\n",
       " * we need this to avoid circular references\n",
       " * http://stackoverflow.com/a/24161582/3208463\n",
       " */\n",
       "function simpleKeys(original) {\n",
       "    return Object.keys(original).reduce(function (obj, key) {\n",
       "        if (typeof original[key] !== 'object') {\n",
       "            obj[key] = original[key];\n",
       "        }\n",
       "        return obj;\n",
       "    }, {});\n",
       "}\n",
       "\n",
       "mpl.figure.prototype.mouse_event = function (event, name) {\n",
       "    var canvas_pos = mpl.findpos(event);\n",
       "\n",
       "    if (name === 'button_press') {\n",
       "        this.canvas.focus();\n",
       "        this.canvas_div.focus();\n",
       "    }\n",
       "\n",
       "    var x = canvas_pos.x * this.ratio;\n",
       "    var y = canvas_pos.y * this.ratio;\n",
       "\n",
       "    this.send_message(name, {\n",
       "        x: x,\n",
       "        y: y,\n",
       "        button: event.button,\n",
       "        step: event.step,\n",
       "        guiEvent: simpleKeys(event),\n",
       "    });\n",
       "\n",
       "    /* This prevents the web browser from automatically changing to\n",
       "     * the text insertion cursor when the button is pressed.  We want\n",
       "     * to control all of the cursor setting manually through the\n",
       "     * 'cursor' event from matplotlib */\n",
       "    event.preventDefault();\n",
       "    return false;\n",
       "};\n",
       "\n",
       "mpl.figure.prototype._key_event_extra = function (_event, _name) {\n",
       "    // Handle any extra behaviour associated with a key event\n",
       "};\n",
       "\n",
       "mpl.figure.prototype.key_event = function (event, name) {\n",
       "    // Prevent repeat events\n",
       "    if (name === 'key_press') {\n",
       "        if (event.which === this._key) {\n",
       "            return;\n",
       "        } else {\n",
       "            this._key = event.which;\n",
       "        }\n",
       "    }\n",
       "    if (name === 'key_release') {\n",
       "        this._key = null;\n",
       "    }\n",
       "\n",
       "    var value = '';\n",
       "    if (event.ctrlKey && event.which !== 17) {\n",
       "        value += 'ctrl+';\n",
       "    }\n",
       "    if (event.altKey && event.which !== 18) {\n",
       "        value += 'alt+';\n",
       "    }\n",
       "    if (event.shiftKey && event.which !== 16) {\n",
       "        value += 'shift+';\n",
       "    }\n",
       "\n",
       "    value += 'k';\n",
       "    value += event.which.toString();\n",
       "\n",
       "    this._key_event_extra(event, name);\n",
       "\n",
       "    this.send_message(name, { key: value, guiEvent: simpleKeys(event) });\n",
       "    return false;\n",
       "};\n",
       "\n",
       "mpl.figure.prototype.toolbar_button_onclick = function (name) {\n",
       "    if (name === 'download') {\n",
       "        this.handle_save(this, null);\n",
       "    } else {\n",
       "        this.send_message('toolbar_button', { name: name });\n",
       "    }\n",
       "};\n",
       "\n",
       "mpl.figure.prototype.toolbar_button_onmouseover = function (tooltip) {\n",
       "    this.message.textContent = tooltip;\n",
       "};\n",
       "\n",
       "///////////////// REMAINING CONTENT GENERATED BY embed_js.py /////////////////\n",
       "// prettier-ignore\n",
       "var _JSXTOOLS_RESIZE_OBSERVER=function(A){var t,i=new WeakMap,n=new WeakMap,a=new WeakMap,r=new WeakMap,o=new Set;function s(e){if(!(this instanceof s))throw new TypeError(\"Constructor requires 'new' operator\");i.set(this,e)}function h(){throw new TypeError(\"Function is not a constructor\")}function c(e,t,i,n){e=0 in arguments?Number(arguments[0]):0,t=1 in arguments?Number(arguments[1]):0,i=2 in arguments?Number(arguments[2]):0,n=3 in arguments?Number(arguments[3]):0,this.right=(this.x=this.left=e)+(this.width=i),this.bottom=(this.y=this.top=t)+(this.height=n),Object.freeze(this)}function d(){t=requestAnimationFrame(d);var s=new WeakMap,p=new Set;o.forEach((function(t){r.get(t).forEach((function(i){var r=t instanceof window.SVGElement,o=a.get(t),d=r?0:parseFloat(o.paddingTop),f=r?0:parseFloat(o.paddingRight),l=r?0:parseFloat(o.paddingBottom),u=r?0:parseFloat(o.paddingLeft),g=r?0:parseFloat(o.borderTopWidth),m=r?0:parseFloat(o.borderRightWidth),w=r?0:parseFloat(o.borderBottomWidth),b=u+f,F=d+l,v=(r?0:parseFloat(o.borderLeftWidth))+m,W=g+w,y=r?0:t.offsetHeight-W-t.clientHeight,E=r?0:t.offsetWidth-v-t.clientWidth,R=b+v,z=F+W,M=r?t.width:parseFloat(o.width)-R-E,O=r?t.height:parseFloat(o.height)-z-y;if(n.has(t)){var k=n.get(t);if(k[0]===M&&k[1]===O)return}n.set(t,[M,O]);var S=Object.create(h.prototype);S.target=t,S.contentRect=new c(u,d,M,O),s.has(i)||(s.set(i,[]),p.add(i)),s.get(i).push(S)}))})),p.forEach((function(e){i.get(e).call(e,s.get(e),e)}))}return s.prototype.observe=function(i){if(i instanceof window.Element){r.has(i)||(r.set(i,new Set),o.add(i),a.set(i,window.getComputedStyle(i)));var n=r.get(i);n.has(this)||n.add(this),cancelAnimationFrame(t),t=requestAnimationFrame(d)}},s.prototype.unobserve=function(i){if(i instanceof window.Element&&r.has(i)){var n=r.get(i);n.has(this)&&(n.delete(this),n.size||(r.delete(i),o.delete(i))),n.size||r.delete(i),o.size||cancelAnimationFrame(t)}},A.DOMRectReadOnly=c,A.ResizeObserver=s,A.ResizeObserverEntry=h,A}; // eslint-disable-line\n",
       "mpl.toolbar_items = [[\"Home\", \"Reset original view\", \"fa fa-home icon-home\", \"home\"], [\"Back\", \"Back to previous view\", \"fa fa-arrow-left icon-arrow-left\", \"back\"], [\"Forward\", \"Forward to next view\", \"fa fa-arrow-right icon-arrow-right\", \"forward\"], [\"\", \"\", \"\", \"\"], [\"Pan\", \"Left button pans, Right button zooms\\nx/y fixes axis, CTRL fixes aspect\", \"fa fa-arrows icon-move\", \"pan\"], [\"Zoom\", \"Zoom to rectangle\\nx/y fixes axis, CTRL fixes aspect\", \"fa fa-square-o icon-check-empty\", \"zoom\"], [\"\", \"\", \"\", \"\"], [\"Download\", \"Download plot\", \"fa fa-floppy-o icon-save\", \"download\"]];\n",
       "\n",
       "mpl.extensions = [\"eps\", \"jpeg\", \"pdf\", \"png\", \"ps\", \"raw\", \"svg\", \"tif\"];\n",
       "\n",
       "mpl.default_extension = \"png\";/* global mpl */\n",
       "\n",
       "var comm_websocket_adapter = function (comm) {\n",
       "    // Create a \"websocket\"-like object which calls the given IPython comm\n",
       "    // object with the appropriate methods. Currently this is a non binary\n",
       "    // socket, so there is still some room for performance tuning.\n",
       "    var ws = {};\n",
       "\n",
       "    ws.close = function () {\n",
       "        comm.close();\n",
       "    };\n",
       "    ws.send = function (m) {\n",
       "        //console.log('sending', m);\n",
       "        comm.send(m);\n",
       "    };\n",
       "    // Register the callback with on_msg.\n",
       "    comm.on_msg(function (msg) {\n",
       "        //console.log('receiving', msg['content']['data'], msg);\n",
       "        // Pass the mpl event to the overridden (by mpl) onmessage function.\n",
       "        ws.onmessage(msg['content']['data']);\n",
       "    });\n",
       "    return ws;\n",
       "};\n",
       "\n",
       "mpl.mpl_figure_comm = function (comm, msg) {\n",
       "    // This is the function which gets called when the mpl process\n",
       "    // starts-up an IPython Comm through the \"matplotlib\" channel.\n",
       "\n",
       "    var id = msg.content.data.id;\n",
       "    // Get hold of the div created by the display call when the Comm\n",
       "    // socket was opened in Python.\n",
       "    var element = document.getElementById(id);\n",
       "    var ws_proxy = comm_websocket_adapter(comm);\n",
       "\n",
       "    function ondownload(figure, _format) {\n",
       "        window.open(figure.canvas.toDataURL());\n",
       "    }\n",
       "\n",
       "    var fig = new mpl.figure(id, ws_proxy, ondownload, element);\n",
       "\n",
       "    // Call onopen now - mpl needs it, as it is assuming we've passed it a real\n",
       "    // web socket which is closed, not our websocket->open comm proxy.\n",
       "    ws_proxy.onopen();\n",
       "\n",
       "    fig.parent_element = element;\n",
       "    fig.cell_info = mpl.find_output_cell(\"<div id='\" + id + \"'></div>\");\n",
       "    if (!fig.cell_info) {\n",
       "        console.error('Failed to find cell for figure', id, fig);\n",
       "        return;\n",
       "    }\n",
       "    fig.cell_info[0].output_area.element.on(\n",
       "        'cleared',\n",
       "        { fig: fig },\n",
       "        fig._remove_fig_handler\n",
       "    );\n",
       "};\n",
       "\n",
       "mpl.figure.prototype.handle_close = function (fig, msg) {\n",
       "    var width = fig.canvas.width / fig.ratio;\n",
       "    fig.cell_info[0].output_area.element.off(\n",
       "        'cleared',\n",
       "        fig._remove_fig_handler\n",
       "    );\n",
       "    fig.resizeObserverInstance.unobserve(fig.canvas_div);\n",
       "\n",
       "    // Update the output cell to use the data from the current canvas.\n",
       "    fig.push_to_output();\n",
       "    var dataURL = fig.canvas.toDataURL();\n",
       "    // Re-enable the keyboard manager in IPython - without this line, in FF,\n",
       "    // the notebook keyboard shortcuts fail.\n",
       "    IPython.keyboard_manager.enable();\n",
       "    fig.parent_element.innerHTML =\n",
       "        '<img src=\"' + dataURL + '\" width=\"' + width + '\">';\n",
       "    fig.close_ws(fig, msg);\n",
       "};\n",
       "\n",
       "mpl.figure.prototype.close_ws = function (fig, msg) {\n",
       "    fig.send_message('closing', msg);\n",
       "    // fig.ws.close()\n",
       "};\n",
       "\n",
       "mpl.figure.prototype.push_to_output = function (_remove_interactive) {\n",
       "    // Turn the data on the canvas into data in the output cell.\n",
       "    var width = this.canvas.width / this.ratio;\n",
       "    var dataURL = this.canvas.toDataURL();\n",
       "    this.cell_info[1]['text/html'] =\n",
       "        '<img src=\"' + dataURL + '\" width=\"' + width + '\">';\n",
       "};\n",
       "\n",
       "mpl.figure.prototype.updated_canvas_event = function () {\n",
       "    // Tell IPython that the notebook contents must change.\n",
       "    IPython.notebook.set_dirty(true);\n",
       "    this.send_message('ack', {});\n",
       "    var fig = this;\n",
       "    // Wait a second, then push the new image to the DOM so\n",
       "    // that it is saved nicely (might be nice to debounce this).\n",
       "    setTimeout(function () {\n",
       "        fig.push_to_output();\n",
       "    }, 1000);\n",
       "};\n",
       "\n",
       "mpl.figure.prototype._init_toolbar = function () {\n",
       "    var fig = this;\n",
       "\n",
       "    var toolbar = document.createElement('div');\n",
       "    toolbar.classList = 'btn-toolbar';\n",
       "    this.root.appendChild(toolbar);\n",
       "\n",
       "    function on_click_closure(name) {\n",
       "        return function (_event) {\n",
       "            return fig.toolbar_button_onclick(name);\n",
       "        };\n",
       "    }\n",
       "\n",
       "    function on_mouseover_closure(tooltip) {\n",
       "        return function (event) {\n",
       "            if (!event.currentTarget.disabled) {\n",
       "                return fig.toolbar_button_onmouseover(tooltip);\n",
       "            }\n",
       "        };\n",
       "    }\n",
       "\n",
       "    fig.buttons = {};\n",
       "    var buttonGroup = document.createElement('div');\n",
       "    buttonGroup.classList = 'btn-group';\n",
       "    var button;\n",
       "    for (var toolbar_ind in mpl.toolbar_items) {\n",
       "        var name = mpl.toolbar_items[toolbar_ind][0];\n",
       "        var tooltip = mpl.toolbar_items[toolbar_ind][1];\n",
       "        var image = mpl.toolbar_items[toolbar_ind][2];\n",
       "        var method_name = mpl.toolbar_items[toolbar_ind][3];\n",
       "\n",
       "        if (!name) {\n",
       "            /* Instead of a spacer, we start a new button group. */\n",
       "            if (buttonGroup.hasChildNodes()) {\n",
       "                toolbar.appendChild(buttonGroup);\n",
       "            }\n",
       "            buttonGroup = document.createElement('div');\n",
       "            buttonGroup.classList = 'btn-group';\n",
       "            continue;\n",
       "        }\n",
       "\n",
       "        button = fig.buttons[name] = document.createElement('button');\n",
       "        button.classList = 'btn btn-default';\n",
       "        button.href = '#';\n",
       "        button.title = name;\n",
       "        button.innerHTML = '<i class=\"fa ' + image + ' fa-lg\"></i>';\n",
       "        button.addEventListener('click', on_click_closure(method_name));\n",
       "        button.addEventListener('mouseover', on_mouseover_closure(tooltip));\n",
       "        buttonGroup.appendChild(button);\n",
       "    }\n",
       "\n",
       "    if (buttonGroup.hasChildNodes()) {\n",
       "        toolbar.appendChild(buttonGroup);\n",
       "    }\n",
       "\n",
       "    // Add the status bar.\n",
       "    var status_bar = document.createElement('span');\n",
       "    status_bar.classList = 'mpl-message pull-right';\n",
       "    toolbar.appendChild(status_bar);\n",
       "    this.message = status_bar;\n",
       "\n",
       "    // Add the close button to the window.\n",
       "    var buttongrp = document.createElement('div');\n",
       "    buttongrp.classList = 'btn-group inline pull-right';\n",
       "    button = document.createElement('button');\n",
       "    button.classList = 'btn btn-mini btn-primary';\n",
       "    button.href = '#';\n",
       "    button.title = 'Stop Interaction';\n",
       "    button.innerHTML = '<i class=\"fa fa-power-off icon-remove icon-large\"></i>';\n",
       "    button.addEventListener('click', function (_evt) {\n",
       "        fig.handle_close(fig, {});\n",
       "    });\n",
       "    button.addEventListener(\n",
       "        'mouseover',\n",
       "        on_mouseover_closure('Stop Interaction')\n",
       "    );\n",
       "    buttongrp.appendChild(button);\n",
       "    var titlebar = this.root.querySelector('.ui-dialog-titlebar');\n",
       "    titlebar.insertBefore(buttongrp, titlebar.firstChild);\n",
       "};\n",
       "\n",
       "mpl.figure.prototype._remove_fig_handler = function (event) {\n",
       "    var fig = event.data.fig;\n",
       "    if (event.target !== this) {\n",
       "        // Ignore bubbled events from children.\n",
       "        return;\n",
       "    }\n",
       "    fig.close_ws(fig, {});\n",
       "};\n",
       "\n",
       "mpl.figure.prototype._root_extra_style = function (el) {\n",
       "    el.style.boxSizing = 'content-box'; // override notebook setting of border-box.\n",
       "};\n",
       "\n",
       "mpl.figure.prototype._canvas_extra_style = function (el) {\n",
       "    // this is important to make the div 'focusable\n",
       "    el.setAttribute('tabindex', 0);\n",
       "    // reach out to IPython and tell the keyboard manager to turn it's self\n",
       "    // off when our div gets focus\n",
       "\n",
       "    // location in version 3\n",
       "    if (IPython.notebook.keyboard_manager) {\n",
       "        IPython.notebook.keyboard_manager.register_events(el);\n",
       "    } else {\n",
       "        // location in version 2\n",
       "        IPython.keyboard_manager.register_events(el);\n",
       "    }\n",
       "};\n",
       "\n",
       "mpl.figure.prototype._key_event_extra = function (event, _name) {\n",
       "    var manager = IPython.notebook.keyboard_manager;\n",
       "    if (!manager) {\n",
       "        manager = IPython.keyboard_manager;\n",
       "    }\n",
       "\n",
       "    // Check for shift+enter\n",
       "    if (event.shiftKey && event.which === 13) {\n",
       "        this.canvas_div.blur();\n",
       "        // select the cell after this one\n",
       "        var index = IPython.notebook.find_cell_index(this.cell_info[0]);\n",
       "        IPython.notebook.select(index + 1);\n",
       "    }\n",
       "};\n",
       "\n",
       "mpl.figure.prototype.handle_save = function (fig, _msg) {\n",
       "    fig.ondownload(fig, null);\n",
       "};\n",
       "\n",
       "mpl.find_output_cell = function (html_output) {\n",
       "    // Return the cell and output element which can be found *uniquely* in the notebook.\n",
       "    // Note - this is a bit hacky, but it is done because the \"notebook_saving.Notebook\"\n",
       "    // IPython event is triggered only after the cells have been serialised, which for\n",
       "    // our purposes (turning an active figure into a static one), is too late.\n",
       "    var cells = IPython.notebook.get_cells();\n",
       "    var ncells = cells.length;\n",
       "    for (var i = 0; i < ncells; i++) {\n",
       "        var cell = cells[i];\n",
       "        if (cell.cell_type === 'code') {\n",
       "            for (var j = 0; j < cell.output_area.outputs.length; j++) {\n",
       "                var data = cell.output_area.outputs[j];\n",
       "                if (data.data) {\n",
       "                    // IPython >= 3 moved mimebundle to data attribute of output\n",
       "                    data = data.data;\n",
       "                }\n",
       "                if (data['text/html'] === html_output) {\n",
       "                    return [cell, data, j];\n",
       "                }\n",
       "            }\n",
       "        }\n",
       "    }\n",
       "};\n",
       "\n",
       "// Register the function which deals with the matplotlib target/channel.\n",
       "// The kernel may be null if the page has been refreshed.\n",
       "if (IPython.notebook.kernel !== null) {\n",
       "    IPython.notebook.kernel.comm_manager.register_target(\n",
       "        'matplotlib',\n",
       "        mpl.mpl_figure_comm\n",
       "    );\n",
       "}\n"
      ],
      "text/plain": [
       "<IPython.core.display.Javascript object>"
      ]
     },
     "metadata": {},
     "output_type": "display_data"
    },
    {
     "data": {
      "text/html": [
       "<img src=\"data:image/png;base64,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\" width=\"640\">"
      ],
      "text/plain": [
       "<IPython.core.display.HTML object>"
      ]
     },
     "metadata": {},
     "output_type": "display_data"
    },
    {
     "data": {
      "text/plain": [
       "<matplotlib.image.AxesImage at 0x7f87c0411710>"
      ]
     },
     "execution_count": 21,
     "metadata": {},
     "output_type": "execute_result"
    }
   ],
   "source": [
    "fig, axs = plt.subplots(1, 4, sharex=True, sharey=True)\n",
    "axs[0].imshow(np.squeeze(data[0][0]))\n",
    "axs[1].imshow(np.squeeze(data[1][0]))\n",
    "axs[2].imshow(np.squeeze(res[0]))\n",
    "axs[3].imshow(np.squeeze(res_gt[0]))"
   ]
  },
  {
   "cell_type": "code",
   "execution_count": 14,
   "metadata": {},
   "outputs": [],
   "source": [
    "# model.fit(train_ds, epochs=int(1e3//400), steps_per_epoch=400)"
   ]
  },
  {
   "cell_type": "code",
   "execution_count": null,
   "metadata": {},
   "outputs": [],
   "source": []
  }
 ],
 "metadata": {
  "kernelspec": {
   "display_name": "Python 3",
   "language": "python",
   "name": "python3"
  },
  "language_info": {
   "codemirror_mode": {
    "name": "ipython",
    "version": 3
   },
   "file_extension": ".py",
   "mimetype": "text/x-python",
   "name": "python",
   "nbconvert_exporter": "python",
   "pygments_lexer": "ipython3",
   "version": "3.6.8"
  }
 },
 "nbformat": 4,
 "nbformat_minor": 4
}
